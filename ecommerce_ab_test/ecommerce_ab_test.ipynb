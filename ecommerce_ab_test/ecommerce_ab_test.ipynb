{
 "cells": [
  {
   "cell_type": "markdown",
   "metadata": {},
   "source": [
    "## **Оглавление:**\n",
    "- [Шаг 1. Откроем файлы с данными и изучим общую информацию](#id-section1)<a class='anchor' id='id-section40'/>\n",
    "- [Вывод](#id-section2)<a class='anchor' id='id-section41'/>\n",
    "\n",
    "\n",
    "- [Шаг 2. Подготовим данные к анализу](#id-section3)<a class='anchor' id='id-section42'/>\n",
    "- [Переименуем столбцы](#id-section4)<a class='anchor' id='id-section43'/>\n",
    "- [Приведем данные к нужному типу](#id-section5)<a class='anchor' id='id-section44'/>\n",
    "- [Обработаем дубликаты](#id-section6)<a class='anchor' id='id-section45'/>\n",
    "- [Вывод](#id-section7)<a class='anchor' id='id-section46'/>\n",
    "\n",
    "\n",
    "- [Шаг 3. Приоритизируем гипотезы](#id-section8)<a class='anchor' id='id-section47'/>\n",
    "- [Применим фреймворк ICE](#id-section9)<a class='anchor' id='id-section48'/>\n",
    "- [Применим фреймворк RICE](#id-section10)<a class='anchor' id='id-section49'/>\n",
    "- [Вывод](#id-section11)<a class='anchor' id='id-section50'/>\n",
    "\n",
    "\n",
    "- [Шаг 4. Проанализируем A/B-тест](#id-section12)<a class='anchor' id='id-section51'/>\n",
    "- [Построим график кумулятивной выручки по группам](#id-section13)<a class='anchor' id='id-section52'/>\n",
    "- [Вывод](#id-section14)<a class='anchor' id='id-section53'/>\n",
    "- [Построим график кумулятивного среднего чека по группам](#id-section15)<a class='anchor' id='id-section54'/>\n",
    "- [Вывод](#id-section16)<a class='anchor' id='id-section55'/>\n",
    "- [Построим график относительного изменения кумулятивного среднего чека группы B к группе A](#id-section17)<a class='anchor' id='id-section56'/>\n",
    "- [Вывод](#id-section18)<a class='anchor' id='id-section57'/>\n",
    "- [Построим график кумулятивной конверсии по группам](#id-section19)<a class='anchor' id='id-section58'/>\n",
    "- [Вывод](#id-section20)<a class='anchor' id='id-section59'/>\n",
    "- [Построим график относительного изменения кумулятивной конверсии группы B к группе A](#id-section21)<a class='anchor' id='id-section60'/>\n",
    "- [Вывод](#id-section22)<a class='anchor' id='id-section61'/>\n",
    "- [Построим точечный график количества заказов по пользователям](#id-section23)<a class='anchor' id='id-section62'/>\n",
    "- [Вывод](#id-section24)<a class='anchor' id='id-section63'/>\n",
    "- [Посчитаем 95-й и 99-й перцентили количества заказов на пользователя и выберем границу для определения аномальных пользователей](#id-section25)<a class='anchor' id='id-section64'/>\n",
    "- [Вывод](#id-section26)<a class='anchor' id='id-section65'/>\n",
    "- [Построим точечный график стоимостей заказов](#id-section27)<a class='anchor' id='id-section66'/>\n",
    "- [Вывод](#id-section28)<a class='anchor' id='id-section67'/>\n",
    "- [Посчитаем 95-й и 99-й перцентили стоимости заказов и выберем границу для определения аномальных заказов](#id-section29)<a class='anchor' id='id-section68'/>\n",
    "- [Вывод](#id-section30)<a class='anchor' id='id-section69'/>\n",
    "- [Посчитаем статистическую значимость различий в конверсии между группами по «сырым» данным](#id-section31)<a class='anchor' id='id-section70'/>\n",
    "- [Вывод](#id-section32)<a class='anchor' id='id-section71'/>\n",
    "- [Посчитаем статистическую значимость различий в среднем чеке заказа между группами по «сырым» данным](#id-section33)<a class='anchor' id='id-section72'/>\n",
    "- [Вывод](#id-section34)<a class='anchor' id='id-section73'/>\n",
    "- [Посчитаем статистическую значимость различий в конверсии между группами по «очищенным» данным](#id-section35)<a class='anchor' id='id-section74'/>\n",
    "- [Вывод](#id-section36)<a class='anchor' id='id-section75'/>\n",
    "- [Посчитаем статистическую значимость различий в среднем чеке заказа между группами по «очищенным» данным](#id-section37)<a class='anchor' id='id-section76'/>\n",
    "- [Вывод](#id-section38)<a class='anchor' id='id-section77'/>\n",
    "\n",
    "\n",
    "- [Шаг 5. Общий вывод](#id-section39)<a class='anchor' id='id-section78'/>"
   ]
  },
  {
   "cell_type": "markdown",
   "metadata": {},
   "source": [
    "<a class='anchor' id='id-section1'/>\n",
    "\n",
    "## [Шаг 1. Откроем файлы с данными и изучим общую информацию](#id-section40)\n",
    "\n",
    "Импортируем необходимые библиотеки.\n",
    "\n",
    "Для вывода данных методы `head()` и `tail()` применять не будем, потому что Jupyter и так выведет на экран первые и последние 5 строк из длинных таблиц.\n",
    "\n",
    "Также сразу посмотрим, какие типы данных хранятся в таблицах, воспользуемся методом `info()`."
   ]
  },
  {
   "cell_type": "code",
   "execution_count": 191,
   "metadata": {},
   "outputs": [
    {
     "data": {
      "text/html": [
       "<div>\n",
       "<style scoped>\n",
       "    .dataframe tbody tr th:only-of-type {\n",
       "        vertical-align: middle;\n",
       "    }\n",
       "\n",
       "    .dataframe tbody tr th {\n",
       "        vertical-align: top;\n",
       "    }\n",
       "\n",
       "    .dataframe thead th {\n",
       "        text-align: right;\n",
       "    }\n",
       "</style>\n",
       "<table border=\"1\" class=\"dataframe\">\n",
       "  <thead>\n",
       "    <tr style=\"text-align: right;\">\n",
       "      <th></th>\n",
       "      <th>Hypothesis</th>\n",
       "      <th>Reach</th>\n",
       "      <th>Impact</th>\n",
       "      <th>Confidence</th>\n",
       "      <th>Efforts</th>\n",
       "    </tr>\n",
       "  </thead>\n",
       "  <tbody>\n",
       "    <tr>\n",
       "      <th>0</th>\n",
       "      <td>Добавить два новых канала привлечения трафика,...</td>\n",
       "      <td>3</td>\n",
       "      <td>10</td>\n",
       "      <td>8</td>\n",
       "      <td>6</td>\n",
       "    </tr>\n",
       "    <tr>\n",
       "      <th>1</th>\n",
       "      <td>Запустить собственную службу доставки, что сок...</td>\n",
       "      <td>2</td>\n",
       "      <td>5</td>\n",
       "      <td>4</td>\n",
       "      <td>10</td>\n",
       "    </tr>\n",
       "    <tr>\n",
       "      <th>2</th>\n",
       "      <td>Добавить блоки рекомендаций товаров на сайт ин...</td>\n",
       "      <td>8</td>\n",
       "      <td>3</td>\n",
       "      <td>7</td>\n",
       "      <td>3</td>\n",
       "    </tr>\n",
       "    <tr>\n",
       "      <th>3</th>\n",
       "      <td>Изменить структура категорий, что увеличит кон...</td>\n",
       "      <td>8</td>\n",
       "      <td>3</td>\n",
       "      <td>3</td>\n",
       "      <td>8</td>\n",
       "    </tr>\n",
       "    <tr>\n",
       "      <th>4</th>\n",
       "      <td>Изменить цвет фона главной страницы, чтобы уве...</td>\n",
       "      <td>3</td>\n",
       "      <td>1</td>\n",
       "      <td>1</td>\n",
       "      <td>1</td>\n",
       "    </tr>\n",
       "    <tr>\n",
       "      <th>5</th>\n",
       "      <td>Добавить страницу отзывов клиентов о магазине,...</td>\n",
       "      <td>3</td>\n",
       "      <td>2</td>\n",
       "      <td>2</td>\n",
       "      <td>3</td>\n",
       "    </tr>\n",
       "    <tr>\n",
       "      <th>6</th>\n",
       "      <td>Показать на главной странице баннеры с актуаль...</td>\n",
       "      <td>5</td>\n",
       "      <td>3</td>\n",
       "      <td>8</td>\n",
       "      <td>3</td>\n",
       "    </tr>\n",
       "    <tr>\n",
       "      <th>7</th>\n",
       "      <td>Добавить форму подписки на все основные страни...</td>\n",
       "      <td>10</td>\n",
       "      <td>7</td>\n",
       "      <td>8</td>\n",
       "      <td>5</td>\n",
       "    </tr>\n",
       "    <tr>\n",
       "      <th>8</th>\n",
       "      <td>Запустить акцию, дающую скидку на товар в день...</td>\n",
       "      <td>1</td>\n",
       "      <td>9</td>\n",
       "      <td>9</td>\n",
       "      <td>5</td>\n",
       "    </tr>\n",
       "  </tbody>\n",
       "</table>\n",
       "</div>"
      ],
      "text/plain": [
       "                                          Hypothesis  Reach  Impact  \\\n",
       "0  Добавить два новых канала привлечения трафика,...      3      10   \n",
       "1  Запустить собственную службу доставки, что сок...      2       5   \n",
       "2  Добавить блоки рекомендаций товаров на сайт ин...      8       3   \n",
       "3  Изменить структура категорий, что увеличит кон...      8       3   \n",
       "4  Изменить цвет фона главной страницы, чтобы уве...      3       1   \n",
       "5  Добавить страницу отзывов клиентов о магазине,...      3       2   \n",
       "6  Показать на главной странице баннеры с актуаль...      5       3   \n",
       "7  Добавить форму подписки на все основные страни...     10       7   \n",
       "8  Запустить акцию, дающую скидку на товар в день...      1       9   \n",
       "\n",
       "   Confidence  Efforts  \n",
       "0           8        6  \n",
       "1           4       10  \n",
       "2           7        3  \n",
       "3           3        8  \n",
       "4           1        1  \n",
       "5           2        3  \n",
       "6           8        3  \n",
       "7           8        5  \n",
       "8           9        5  "
      ]
     },
     "metadata": {},
     "output_type": "display_data"
    },
    {
     "name": "stdout",
     "output_type": "stream",
     "text": [
      "<class 'pandas.core.frame.DataFrame'>\n",
      "RangeIndex: 9 entries, 0 to 8\n",
      "Data columns (total 5 columns):\n",
      " #   Column      Non-Null Count  Dtype \n",
      "---  ------      --------------  ----- \n",
      " 0   Hypothesis  9 non-null      object\n",
      " 1   Reach       9 non-null      int64 \n",
      " 2   Impact      9 non-null      int64 \n",
      " 3   Confidence  9 non-null      int64 \n",
      " 4   Efforts     9 non-null      int64 \n",
      "dtypes: int64(4), object(1)\n",
      "memory usage: 488.0+ bytes\n"
     ]
    },
    {
     "data": {
      "text/html": [
       "<div>\n",
       "<style scoped>\n",
       "    .dataframe tbody tr th:only-of-type {\n",
       "        vertical-align: middle;\n",
       "    }\n",
       "\n",
       "    .dataframe tbody tr th {\n",
       "        vertical-align: top;\n",
       "    }\n",
       "\n",
       "    .dataframe thead th {\n",
       "        text-align: right;\n",
       "    }\n",
       "</style>\n",
       "<table border=\"1\" class=\"dataframe\">\n",
       "  <thead>\n",
       "    <tr style=\"text-align: right;\">\n",
       "      <th></th>\n",
       "      <th>transactionId</th>\n",
       "      <th>visitorId</th>\n",
       "      <th>date</th>\n",
       "      <th>revenue</th>\n",
       "      <th>group</th>\n",
       "    </tr>\n",
       "  </thead>\n",
       "  <tbody>\n",
       "    <tr>\n",
       "      <th>0</th>\n",
       "      <td>3667963787</td>\n",
       "      <td>3312258926</td>\n",
       "      <td>2019-08-15</td>\n",
       "      <td>1650</td>\n",
       "      <td>B</td>\n",
       "    </tr>\n",
       "    <tr>\n",
       "      <th>1</th>\n",
       "      <td>2804400009</td>\n",
       "      <td>3642806036</td>\n",
       "      <td>2019-08-15</td>\n",
       "      <td>730</td>\n",
       "      <td>B</td>\n",
       "    </tr>\n",
       "    <tr>\n",
       "      <th>2</th>\n",
       "      <td>2961555356</td>\n",
       "      <td>4069496402</td>\n",
       "      <td>2019-08-15</td>\n",
       "      <td>400</td>\n",
       "      <td>A</td>\n",
       "    </tr>\n",
       "    <tr>\n",
       "      <th>3</th>\n",
       "      <td>3797467345</td>\n",
       "      <td>1196621759</td>\n",
       "      <td>2019-08-15</td>\n",
       "      <td>9759</td>\n",
       "      <td>B</td>\n",
       "    </tr>\n",
       "    <tr>\n",
       "      <th>4</th>\n",
       "      <td>2282983706</td>\n",
       "      <td>2322279887</td>\n",
       "      <td>2019-08-15</td>\n",
       "      <td>2308</td>\n",
       "      <td>B</td>\n",
       "    </tr>\n",
       "    <tr>\n",
       "      <th>...</th>\n",
       "      <td>...</td>\n",
       "      <td>...</td>\n",
       "      <td>...</td>\n",
       "      <td>...</td>\n",
       "      <td>...</td>\n",
       "    </tr>\n",
       "    <tr>\n",
       "      <th>1192</th>\n",
       "      <td>2662137336</td>\n",
       "      <td>3733762160</td>\n",
       "      <td>2019-08-14</td>\n",
       "      <td>6490</td>\n",
       "      <td>B</td>\n",
       "    </tr>\n",
       "    <tr>\n",
       "      <th>1193</th>\n",
       "      <td>2203539145</td>\n",
       "      <td>370388673</td>\n",
       "      <td>2019-08-14</td>\n",
       "      <td>3190</td>\n",
       "      <td>A</td>\n",
       "    </tr>\n",
       "    <tr>\n",
       "      <th>1194</th>\n",
       "      <td>1807773912</td>\n",
       "      <td>573423106</td>\n",
       "      <td>2019-08-14</td>\n",
       "      <td>10550</td>\n",
       "      <td>A</td>\n",
       "    </tr>\n",
       "    <tr>\n",
       "      <th>1195</th>\n",
       "      <td>1947021204</td>\n",
       "      <td>1614305549</td>\n",
       "      <td>2019-08-14</td>\n",
       "      <td>100</td>\n",
       "      <td>A</td>\n",
       "    </tr>\n",
       "    <tr>\n",
       "      <th>1196</th>\n",
       "      <td>3936777065</td>\n",
       "      <td>2108080724</td>\n",
       "      <td>2019-08-15</td>\n",
       "      <td>202740</td>\n",
       "      <td>B</td>\n",
       "    </tr>\n",
       "  </tbody>\n",
       "</table>\n",
       "<p>1197 rows × 5 columns</p>\n",
       "</div>"
      ],
      "text/plain": [
       "      transactionId   visitorId        date  revenue group\n",
       "0        3667963787  3312258926  2019-08-15     1650     B\n",
       "1        2804400009  3642806036  2019-08-15      730     B\n",
       "2        2961555356  4069496402  2019-08-15      400     A\n",
       "3        3797467345  1196621759  2019-08-15     9759     B\n",
       "4        2282983706  2322279887  2019-08-15     2308     B\n",
       "...             ...         ...         ...      ...   ...\n",
       "1192     2662137336  3733762160  2019-08-14     6490     B\n",
       "1193     2203539145   370388673  2019-08-14     3190     A\n",
       "1194     1807773912   573423106  2019-08-14    10550     A\n",
       "1195     1947021204  1614305549  2019-08-14      100     A\n",
       "1196     3936777065  2108080724  2019-08-15   202740     B\n",
       "\n",
       "[1197 rows x 5 columns]"
      ]
     },
     "metadata": {},
     "output_type": "display_data"
    },
    {
     "name": "stdout",
     "output_type": "stream",
     "text": [
      "<class 'pandas.core.frame.DataFrame'>\n",
      "RangeIndex: 1197 entries, 0 to 1196\n",
      "Data columns (total 5 columns):\n",
      " #   Column         Non-Null Count  Dtype \n",
      "---  ------         --------------  ----- \n",
      " 0   transactionId  1197 non-null   int64 \n",
      " 1   visitorId      1197 non-null   int64 \n",
      " 2   date           1197 non-null   object\n",
      " 3   revenue        1197 non-null   int64 \n",
      " 4   group          1197 non-null   object\n",
      "dtypes: int64(3), object(2)\n",
      "memory usage: 46.9+ KB\n"
     ]
    },
    {
     "data": {
      "text/html": [
       "<div>\n",
       "<style scoped>\n",
       "    .dataframe tbody tr th:only-of-type {\n",
       "        vertical-align: middle;\n",
       "    }\n",
       "\n",
       "    .dataframe tbody tr th {\n",
       "        vertical-align: top;\n",
       "    }\n",
       "\n",
       "    .dataframe thead th {\n",
       "        text-align: right;\n",
       "    }\n",
       "</style>\n",
       "<table border=\"1\" class=\"dataframe\">\n",
       "  <thead>\n",
       "    <tr style=\"text-align: right;\">\n",
       "      <th></th>\n",
       "      <th>date</th>\n",
       "      <th>group</th>\n",
       "      <th>visitors</th>\n",
       "    </tr>\n",
       "  </thead>\n",
       "  <tbody>\n",
       "    <tr>\n",
       "      <th>0</th>\n",
       "      <td>2019-08-01</td>\n",
       "      <td>A</td>\n",
       "      <td>719</td>\n",
       "    </tr>\n",
       "    <tr>\n",
       "      <th>1</th>\n",
       "      <td>2019-08-02</td>\n",
       "      <td>A</td>\n",
       "      <td>619</td>\n",
       "    </tr>\n",
       "    <tr>\n",
       "      <th>2</th>\n",
       "      <td>2019-08-03</td>\n",
       "      <td>A</td>\n",
       "      <td>507</td>\n",
       "    </tr>\n",
       "    <tr>\n",
       "      <th>3</th>\n",
       "      <td>2019-08-04</td>\n",
       "      <td>A</td>\n",
       "      <td>717</td>\n",
       "    </tr>\n",
       "    <tr>\n",
       "      <th>4</th>\n",
       "      <td>2019-08-05</td>\n",
       "      <td>A</td>\n",
       "      <td>756</td>\n",
       "    </tr>\n",
       "    <tr>\n",
       "      <th>...</th>\n",
       "      <td>...</td>\n",
       "      <td>...</td>\n",
       "      <td>...</td>\n",
       "    </tr>\n",
       "    <tr>\n",
       "      <th>57</th>\n",
       "      <td>2019-08-27</td>\n",
       "      <td>B</td>\n",
       "      <td>720</td>\n",
       "    </tr>\n",
       "    <tr>\n",
       "      <th>58</th>\n",
       "      <td>2019-08-28</td>\n",
       "      <td>B</td>\n",
       "      <td>654</td>\n",
       "    </tr>\n",
       "    <tr>\n",
       "      <th>59</th>\n",
       "      <td>2019-08-29</td>\n",
       "      <td>B</td>\n",
       "      <td>531</td>\n",
       "    </tr>\n",
       "    <tr>\n",
       "      <th>60</th>\n",
       "      <td>2019-08-30</td>\n",
       "      <td>B</td>\n",
       "      <td>490</td>\n",
       "    </tr>\n",
       "    <tr>\n",
       "      <th>61</th>\n",
       "      <td>2019-08-31</td>\n",
       "      <td>B</td>\n",
       "      <td>718</td>\n",
       "    </tr>\n",
       "  </tbody>\n",
       "</table>\n",
       "<p>62 rows × 3 columns</p>\n",
       "</div>"
      ],
      "text/plain": [
       "          date group  visitors\n",
       "0   2019-08-01     A       719\n",
       "1   2019-08-02     A       619\n",
       "2   2019-08-03     A       507\n",
       "3   2019-08-04     A       717\n",
       "4   2019-08-05     A       756\n",
       "..         ...   ...       ...\n",
       "57  2019-08-27     B       720\n",
       "58  2019-08-28     B       654\n",
       "59  2019-08-29     B       531\n",
       "60  2019-08-30     B       490\n",
       "61  2019-08-31     B       718\n",
       "\n",
       "[62 rows x 3 columns]"
      ]
     },
     "metadata": {},
     "output_type": "display_data"
    },
    {
     "name": "stdout",
     "output_type": "stream",
     "text": [
      "<class 'pandas.core.frame.DataFrame'>\n",
      "RangeIndex: 62 entries, 0 to 61\n",
      "Data columns (total 3 columns):\n",
      " #   Column    Non-Null Count  Dtype \n",
      "---  ------    --------------  ----- \n",
      " 0   date      62 non-null     object\n",
      " 1   group     62 non-null     object\n",
      " 2   visitors  62 non-null     int64 \n",
      "dtypes: int64(1), object(2)\n",
      "memory usage: 1.6+ KB\n"
     ]
    }
   ],
   "source": [
    "from IPython.display import display\n",
    "import pandas as pd\n",
    "import matplotlib.pyplot as plt\n",
    "import datetime as dt\n",
    "import numpy as np\n",
    "import scipy.stats as stats\n",
    "\n",
    "hypothesis = pd.read_csv('/datasets/hypothesis.csv')\n",
    "orders = pd.read_csv('/datasets/orders.csv')\n",
    "visitors = pd.read_csv('/datasets/visitors.csv')\n",
    "\n",
    "tables = [hypothesis, orders, visitors]\n",
    "for table in tables:\n",
    "    display(table)\n",
    "    table.info()"
   ]
  },
  {
   "cell_type": "markdown",
   "metadata": {},
   "source": [
    "<a class='anchor' id='id-section2'/>\n",
    "\n",
    "### [Вывод](#id-section41)\n",
    "\n",
    "Таблица `orders` - это самый большой массив данных, в нем хранится 1197 строк. Пропущенных значений в таблице нет. Категориальные переменные `transactionId`, `visitorId`, `group` имеют типы данных `int64` и `object`, а количественная переменная `revenue` с типом данных `int64` - это корректно. Переменная `date` должна иметь тип данных `datetime`, а не `object`.\n",
    "\n",
    "В таблице `visitors` хранится 62 строки. Пропущенных значений нет. Количественная переменная `visitors` с типом данных `int64`, категориальная переменная `group` с типом данных `object` - корректно. Переменная `date` должна иметь тип данных `datetime`, а не `object`.\n",
    "\n",
    "В таблице `hypothesis` 9 строк. Пропущенных значений нет. Все переменные имеют корретные типы данных. Однако мы заметили, что названия столбцов у этой таблицы начинаются с заглавных букв, обращаться к таким переменным будет не очень удобно. Имеет смысл сделать все названия со строчными буквами. "
   ]
  },
  {
   "cell_type": "markdown",
   "metadata": {},
   "source": [
    "<a class='anchor' id='id-section3'/>\n",
    "\n",
    "## [Шаг 2. Подготовим данные к анализу](#id-section42)"
   ]
  },
  {
   "cell_type": "markdown",
   "metadata": {},
   "source": [
    "<a class='anchor' id='id-section4'/>\n",
    "\n",
    "### [Переименуем столбцы](#id-section43)\n",
    "\n",
    "Методом `lower()` преобразуем заглавные буквы в названиях на строчные. + Выполним проверку."
   ]
  },
  {
   "cell_type": "code",
   "execution_count": 192,
   "metadata": {},
   "outputs": [
    {
     "data": {
      "text/plain": [
       "Index(['hypothesis', 'reach', 'impact', 'confidence', 'efforts'], dtype='object')"
      ]
     },
     "metadata": {},
     "output_type": "display_data"
    }
   ],
   "source": [
    "hypothesis.columns = [col.lower() for col in hypothesis.columns]\n",
    "\n",
    "display(hypothesis.columns)"
   ]
  },
  {
   "cell_type": "markdown",
   "metadata": {},
   "source": [
    "<a class='anchor' id='id-section5'/>\n",
    "\n",
    "### [Приведем данные к нужному типу](#id-section44)\n",
    "\n",
    "В двух таблицах есть переменные, обозначающие дату. У них должен быть тип данных `datetime`. Напишем функцию, которая методом `map()` переведет столбец в нужный формат через `lambda`. Затем выпишем отдельно таблицы и столбцы, которые надо обработать, и для каждого элемента из списка применим функцию. + Выполним проверку. "
   ]
  },
  {
   "cell_type": "code",
   "execution_count": 193,
   "metadata": {},
   "outputs": [
    {
     "name": "stdout",
     "output_type": "stream",
     "text": [
      "<class 'pandas.core.frame.DataFrame'>\n",
      "RangeIndex: 1197 entries, 0 to 1196\n",
      "Data columns (total 5 columns):\n",
      " #   Column         Non-Null Count  Dtype         \n",
      "---  ------         --------------  -----         \n",
      " 0   transactionId  1197 non-null   int64         \n",
      " 1   visitorId      1197 non-null   int64         \n",
      " 2   date           1197 non-null   datetime64[ns]\n",
      " 3   revenue        1197 non-null   int64         \n",
      " 4   group          1197 non-null   object        \n",
      "dtypes: datetime64[ns](1), int64(3), object(1)\n",
      "memory usage: 46.9+ KB\n",
      "<class 'pandas.core.frame.DataFrame'>\n",
      "RangeIndex: 62 entries, 0 to 61\n",
      "Data columns (total 3 columns):\n",
      " #   Column    Non-Null Count  Dtype         \n",
      "---  ------    --------------  -----         \n",
      " 0   date      62 non-null     datetime64[ns]\n",
      " 1   group     62 non-null     object        \n",
      " 2   visitors  62 non-null     int64         \n",
      "dtypes: datetime64[ns](1), int64(1), object(1)\n",
      "memory usage: 1.6+ KB\n"
     ]
    }
   ],
   "source": [
    "def datetime(df, column):\n",
    "    df[column] = df[column].map(lambda x: dt.datetime.strptime(x, '%Y-%m-%d'))\n",
    "    \n",
    "tables_columns = [[orders, 'date'], [visitors, 'date']]    \n",
    "\n",
    "for table in tables_columns:\n",
    "    datetime(table[0], table[1])\n",
    "    table[0].info()    "
   ]
  },
  {
   "cell_type": "markdown",
   "metadata": {},
   "source": [
    "<a class='anchor' id='id-section6'/>\n",
    "\n",
    "### [Обработаем дубликаты](#id-section45)\n",
    "\n",
    "На всякий случай поищем дубликаты в таблицах методом `duplicated().sum()`, что позволит нам посчитать общее количество дубликатов. Таблицы переберем в цикле из переменной `tables`, которую мы объявили на **Шаге 1**."
   ]
  },
  {
   "cell_type": "code",
   "execution_count": 194,
   "metadata": {},
   "outputs": [
    {
     "data": {
      "text/plain": [
       "0"
      ]
     },
     "metadata": {},
     "output_type": "display_data"
    },
    {
     "data": {
      "text/plain": [
       "0"
      ]
     },
     "metadata": {},
     "output_type": "display_data"
    },
    {
     "data": {
      "text/plain": [
       "0"
      ]
     },
     "metadata": {},
     "output_type": "display_data"
    }
   ],
   "source": [
    "for table in tables:\n",
    "    display(table.duplicated().sum())"
   ]
  },
  {
   "cell_type": "markdown",
   "metadata": {},
   "source": [
    "<a class='anchor' id='id-section7'/>\n",
    "\n",
    "### [Вывод](#id-section46)\n",
    "\n",
    "На данном этапе мы:\n",
    "- убрали из названий столбцов в таблице с гипотезами заглавные буквы;\n",
    "- перевели переменные, обозначающие дату, к типу `datetime`;\n",
    "- убедились, что дубликаты в таблицах отсутствуют."
   ]
  },
  {
   "cell_type": "markdown",
   "metadata": {},
   "source": [
    "<a class='anchor' id='id-section8'/>\n",
    "\n",
    "## [Шаг 3. Приоритизируем гипотезы](#id-section47)"
   ]
  },
  {
   "cell_type": "markdown",
   "metadata": {},
   "source": [
    "<a class='anchor' id='id-section9'/>\n",
    "\n",
    "### [Применим фреймворк ICE](#id-section48)\n",
    "\n",
    "Создадим в таблице `hypothesis` столбец `ice`, в котором для каждой гипотезы мы найдем произведение параметров `impact` и `confidence` и поделим его на `efforts`. \n",
    "\n",
    "Отсортируем гипотезы по столбцу `ice` по убыванию приоритета и выведем на график."
   ]
  },
  {
   "cell_type": "markdown",
   "metadata": {},
   "source": [
    "<a class='anchor' id='id-section10'/>\n",
    "\n",
    "### [Применим фреймворк RICE](#id-section49)\n",
    "\n",
    "Создадим в таблице `hypothesis` столбец `rice`, в котором для каждой гипотезы мы найдем произведение параметров `reach`, `impact` и `confidence` и поделим его на `efforts`. \n",
    "\n",
    "Отсортируем гипотезы по столбцу `rice` по убыванию приоритета и выведем на график.\n",
    "\n",
    "Автоматизируем построение графиков и вывод таблиц."
   ]
  },
  {
   "cell_type": "code",
   "execution_count": 195,
   "metadata": {},
   "outputs": [
    {
     "data": {
      "image/png": "[encoded data removed]",
      "text/plain": [
       "<Figure size 720x648 with 1 Axes>"
      ]
     },
     "metadata": {
      "needs_background": "light"
     },
     "output_type": "display_data"
    },
    {
     "data": {
      "image/png": "[encoded data removed]",
      "text/plain": [
       "<Figure size 720x648 with 1 Axes>"
      ]
     },
     "metadata": {
      "needs_background": "light"
     },
     "output_type": "display_data"
    }
   ],
   "source": [
    "parameters = [\n",
    "    {\n",
    "     'column': 'ice',\n",
    "     'title': 'Приоритизация гипотез по фреймворку ICE',\n",
    "     'xlabel': 'рейтинг ICE',\n",
    "     'ylabel': 'гипотеза'\n",
    "    },\n",
    "    {\n",
    "     'column': 'rice',\n",
    "     'title': 'Приоритизация гипотез по фреймворку RICE',\n",
    "     'xlabel': 'рейтинг RICE',\n",
    "     'ylabel': 'гипотеза'         \n",
    "    }\n",
    "]\n",
    "\n",
    "def ice_rice(parameter):\n",
    "    hypothesis['ice'] = (hypothesis['impact'] * hypothesis['confidence']) / hypothesis['efforts']\n",
    "    hypothesis['rice'] = (hypothesis['reach'] * hypothesis['impact'] * hypothesis['confidence']) / hypothesis['efforts']\n",
    "    \n",
    "    ax = hypothesis.groupby('hypothesis')[parameter.get('column')].sum().sort_values().plot(kind = 'barh', title = \\\n",
    "    parameter.get('title'), grid = True, figsize = (10, 9))\n",
    "    ax.set_xlabel(parameter.get('xlabel'))\n",
    "    ax.set_ylabel(parameter.get('ylabel'))\n",
    "    plt.show()\n",
    "    \n",
    "for parameter in parameters:\n",
    "    ice_rice(parameter)"
   ]
  },
  {
   "cell_type": "markdown",
   "metadata": {},
   "source": [
    "<a class='anchor' id='id-section11'/>\n",
    "\n",
    "### [Вывод](#id-section50)\n",
    "\n",
    "Мы можем сказать, что параметры для формул были оценены точно, так как разные методики показали похожий рейтинг для гипотез (если разделить их на 2 общие группы: самых высоко и низко оцененных). \n",
    "\n",
    "Но если всматриваться на место каждой отдельной гипотезы в рейтинге, то всплывают **различия в оценках по ICE и RICE**.\n",
    "\n",
    "**Согласно фреймворку ICE, самыми приоритетными гипотезами являются**:\n",
    "1. запуск акции на скидку на товар в день рождения,\n",
    "2. добавление 2 новых каналов привлечения трафика,\n",
    "3. добавление формы подписки на все основные страницы,\n",
    "4. показ на главной странице баннеров с акциями.\n",
    "\n",
    "**Согласно фреймворку RICE, самые приоритетные гипотезы**:\n",
    "1. добавление формы подписки на все основные страницы (по ICE на 3 месте),\n",
    "2. добавление блоков рекомендаций товаров на сайт (по ICE на 5 месте), \n",
    "3. показ на главной странице баннеров с акциями (по ICE на 4 месте),\n",
    "4. добавление 2 новых каналов привлечения трафика (по ICE на 2 месте).\n",
    "\n",
    "Отдельно отметим, что гипотеза о запуске акции на скидку на товар в день рождения опустилась с 1 места (по ICE) на 5 место (по RICE). \n",
    "\n",
    "**Самые низкооцененные гипотезы и по ICE, и по RICE** одни и те же:\n",
    "- изменение цвета фона главной страницы,\n",
    "- добавление страницы отзывов от клиентов,\n",
    "- запуск службы доставки,\n",
    "- изменение структуры категорий товаров.\n",
    "\n",
    "Таким образом, при расчете RICE оказалось, что гипотезы, у которых параметр **reach больше**, чем у остальных (то есть изменение, которое мы хотим внести, затронет большое количество пользователей), обгоняют остальные гипотезы. По этой причине гипотеза о запуске акции на скидку на товар в день рождения опустилась в рейтинге.\n",
    "\n",
    "Следовательно, при оценке по фреймворку RICE кроме силы гипотезы (impact) наибольшее влияние имеет то, сколько пользователей затронет изменение (reach)."
   ]
  },
  {
   "cell_type": "markdown",
   "metadata": {},
   "source": [
    "<a class='anchor' id='id-section12'/>\n",
    "\n",
    "## [Шаг 4. Проанализируем A/B-тест](#id-section51)"
   ]
  },
  {
   "cell_type": "markdown",
   "metadata": {},
   "source": [
    "<a class='anchor' id='id-section13'/>\n",
    "\n",
    "### [Построим график кумулятивной выручки по группам](#id-section52)\n",
    "\n",
    "Чтобы построить график, соберем кумулятивные данные в датафрейме `cumulativeData` со столбцами:\n",
    "- `date` — дата;\n",
    "- `group` — группа A/B-теста (A или B);\n",
    "- `orders` — кумулятивное количество заказов на указанную дату в указанной группе;\n",
    "- `buyers` — кумулятивное количество пользователей, совершивших хотя бы один заказ, на указанную дату в указанной группе;\n",
    "- `revenue` — кумулятивная выручка на указанную дату в указанной группе (средний чек);\n",
    "- `visitors` — кумулятивное количество посетителей интернет-магазина на указанную дату в определенной группе.\n",
    "\n",
    "Создадим массив уникальных пар значений дат и групп теста методом `drop_duplicates()`."
   ]
  },
  {
   "cell_type": "code",
   "execution_count": 196,
   "metadata": {},
   "outputs": [],
   "source": [
    "datesGroups = orders[['date','group']].drop_duplicates()"
   ]
  },
  {
   "cell_type": "markdown",
   "metadata": {},
   "source": [
    "Соберем агрегированные кумулятивные по дням данные о заказах в таблицу `ordersAggregated`. \n",
    "\n",
    "Методом `np.logical_and()` получим строки таблицы `orders`, дата которых меньше или равна дате элемента из `datesGroups`, а группа теста равна группе из `datesGroups`. \n",
    "\n",
    "Затем агрегируем значения методом `agg()`. Вычислим максимальную дату. Для группы тоже рассчитаем максимум (чтобы столбец `group` не пропал из итогового вывода). Найдем число уникальных ID заказов и пользователей методом `pd.Series.nunique`. Подсчитаем сумму средних чеков.\n",
    " \n",
    "Применим методы к каждой строке датафрейма методом `apply(axis=1)` и отсортируем результаты по столбцам `date` и `group`."
   ]
  },
  {
   "cell_type": "code",
   "execution_count": 197,
   "metadata": {},
   "outputs": [],
   "source": [
    "ordersAggregated = datesGroups.apply(lambda x: orders[np.logical_and(orders['date'] <= x['date'], \\\n",
    "                                                                     orders['group'] == x['group'])]\\\n",
    ".agg({'date' : 'max', 'group' : 'max', 'transactionId' : pd.Series.nunique, 'visitorId' : pd.Series.nunique, \\\n",
    "      'revenue' : 'sum'}), axis=1).sort_values(by=['date','group'])\n"
   ]
  },
  {
   "cell_type": "markdown",
   "metadata": {},
   "source": [
    "Аналогично получим агрегированные кумулятивные по дням данные о посетителях интернет-магазина из таблицы `visitors`."
   ]
  },
  {
   "cell_type": "code",
   "execution_count": 198,
   "metadata": {
    "scrolled": false
   },
   "outputs": [],
   "source": [
    "visitorsAggregated = datesGroups.apply(lambda x: visitors[np.logical_and(visitors['date'] <= x['date'], \\\n",
    "                            visitors['group'] == x['group'])]\\\n",
    "                .agg({'date' : 'max', 'group' : 'max', 'visitors' : 'sum'}), \\\n",
    "                                       axis=1).sort_values(by=['date','group'])"
   ]
  },
  {
   "cell_type": "markdown",
   "metadata": {},
   "source": [
    "Объединим обе таблицы в одну методом `merge()` с понятными названиями столбцов."
   ]
  },
  {
   "cell_type": "code",
   "execution_count": 199,
   "metadata": {},
   "outputs": [
    {
     "data": {
      "text/html": [
       "<div>\n",
       "<style scoped>\n",
       "    .dataframe tbody tr th:only-of-type {\n",
       "        vertical-align: middle;\n",
       "    }\n",
       "\n",
       "    .dataframe tbody tr th {\n",
       "        vertical-align: top;\n",
       "    }\n",
       "\n",
       "    .dataframe thead th {\n",
       "        text-align: right;\n",
       "    }\n",
       "</style>\n",
       "<table border=\"1\" class=\"dataframe\">\n",
       "  <thead>\n",
       "    <tr style=\"text-align: right;\">\n",
       "      <th></th>\n",
       "      <th>date</th>\n",
       "      <th>group</th>\n",
       "      <th>orders</th>\n",
       "      <th>buyers</th>\n",
       "      <th>revenue</th>\n",
       "      <th>visitors</th>\n",
       "    </tr>\n",
       "  </thead>\n",
       "  <tbody>\n",
       "    <tr>\n",
       "      <th>0</th>\n",
       "      <td>2019-08-01</td>\n",
       "      <td>A</td>\n",
       "      <td>24</td>\n",
       "      <td>20</td>\n",
       "      <td>148579</td>\n",
       "      <td>719</td>\n",
       "    </tr>\n",
       "    <tr>\n",
       "      <th>1</th>\n",
       "      <td>2019-08-01</td>\n",
       "      <td>B</td>\n",
       "      <td>21</td>\n",
       "      <td>20</td>\n",
       "      <td>101217</td>\n",
       "      <td>713</td>\n",
       "    </tr>\n",
       "    <tr>\n",
       "      <th>2</th>\n",
       "      <td>2019-08-02</td>\n",
       "      <td>A</td>\n",
       "      <td>44</td>\n",
       "      <td>38</td>\n",
       "      <td>242401</td>\n",
       "      <td>1338</td>\n",
       "    </tr>\n",
       "    <tr>\n",
       "      <th>3</th>\n",
       "      <td>2019-08-02</td>\n",
       "      <td>B</td>\n",
       "      <td>45</td>\n",
       "      <td>43</td>\n",
       "      <td>266748</td>\n",
       "      <td>1294</td>\n",
       "    </tr>\n",
       "    <tr>\n",
       "      <th>4</th>\n",
       "      <td>2019-08-03</td>\n",
       "      <td>A</td>\n",
       "      <td>68</td>\n",
       "      <td>62</td>\n",
       "      <td>354874</td>\n",
       "      <td>1845</td>\n",
       "    </tr>\n",
       "  </tbody>\n",
       "</table>\n",
       "</div>"
      ],
      "text/plain": [
       "        date group  orders  buyers  revenue  visitors\n",
       "0 2019-08-01     A      24      20   148579       719\n",
       "1 2019-08-01     B      21      20   101217       713\n",
       "2 2019-08-02     A      44      38   242401      1338\n",
       "3 2019-08-02     B      45      43   266748      1294\n",
       "4 2019-08-03     A      68      62   354874      1845"
      ]
     },
     "metadata": {},
     "output_type": "display_data"
    }
   ],
   "source": [
    "cumulativeData = ordersAggregated.merge(visitorsAggregated, left_on=['date', 'group'], right_on=['date', 'group'])\n",
    "cumulativeData.columns = ['date', 'group', 'orders', 'buyers', 'revenue', 'visitors']\n",
    "\n",
    "display(cumulativeData.head())"
   ]
  },
  {
   "cell_type": "markdown",
   "metadata": {},
   "source": [
    "Построим график кумулятивной выручки по дням и группам A/B-тестирования методом `plot()`."
   ]
  },
  {
   "cell_type": "code",
   "execution_count": 200,
   "metadata": {},
   "outputs": [
    {
     "data": {
      "image/png": "[encoded data removed]",
      "text/plain": [
       "<Figure size 1152x648 with 1 Axes>"
      ]
     },
     "metadata": {
      "needs_background": "light"
     },
     "output_type": "display_data"
    }
   ],
   "source": [
    "# датафрейм с кумулятивным количеством заказов и кумулятивной выручкой по дням в группе А\n",
    "\n",
    "cumulativeRevenueA = cumulativeData[cumulativeData['group']=='A'][['date','revenue', 'orders']]\n",
    "\n",
    "# датафрейм с кумулятивным количеством заказов и кумулятивной выручкой по дням в группе B\n",
    "\n",
    "cumulativeRevenueB = cumulativeData[cumulativeData['group']=='B'][['date','revenue', 'orders']]\n",
    "\n",
    "# Строим график выручки группы А\n",
    "\n",
    "plt.plot(cumulativeRevenueA['date'], cumulativeRevenueA['revenue'], label='A')\n",
    "\n",
    "# Строим график выручки группы B\n",
    "\n",
    "plt.plot(cumulativeRevenueB['date'], cumulativeRevenueB['revenue'], label='B')\n",
    "\n",
    "plt.rcParams[\"figure.figsize\"] = (10,5)\n",
    "plt.suptitle('График кумулятивной выручки по дням и группам A/B-тестирования')\n",
    "plt.legend() \n",
    "plt.grid()\n",
    "plt.xlabel('день')\n",
    "plt.ylabel('кумулятивная выручка')\n",
    "plt.show()"
   ]
  },
  {
   "cell_type": "markdown",
   "metadata": {},
   "source": [
    "<a class='anchor' id='id-section14'/>\n",
    "\n",
    "### [Вывод](#id-section53)\n",
    "\n",
    "В начале теста выручка увеличивалась почти равномерно. \n",
    "\n",
    "Однако график выручки группы В в точке за 18 августа резко вырос. Это может сигнализировать о всплесках числа заказов, либо о появлении очень дорогих заказов в выборке."
   ]
  },
  {
   "cell_type": "markdown",
   "metadata": {},
   "source": [
    "<a class='anchor' id='id-section15'/>\n",
    "\n",
    "### [Построим график кумулятивного среднего чека по группам](#id-section54)\n",
    "\n",
    "Разделим кумулятивную выручку на кумулятивное число заказов."
   ]
  },
  {
   "cell_type": "code",
   "execution_count": 201,
   "metadata": {},
   "outputs": [
    {
     "data": {
      "image/png": "[encoded data removed]",
      "text/plain": [
       "<Figure size 720x360 with 1 Axes>"
      ]
     },
     "metadata": {
      "needs_background": "light"
     },
     "output_type": "display_data"
    }
   ],
   "source": [
    "plt.plot(cumulativeRevenueA['date'], cumulativeRevenueA['revenue'] / cumulativeRevenueA['orders'], label = 'A')\n",
    "\n",
    "plt.plot(cumulativeRevenueB['date'], cumulativeRevenueB['revenue'] / cumulativeRevenueB['orders'], label = 'B')\n",
    "\n",
    "plt.rcParams[\"figure.figsize\"] = (10,5)\n",
    "plt.suptitle('График кумулятивного среднего чека по группам A/B-тестирования')\n",
    "plt.legend() \n",
    "plt.grid()\n",
    "plt.xlabel('день')\n",
    "plt.ylabel('кумулятивный средний чек')\n",
    "plt.show()"
   ]
  },
  {
   "cell_type": "markdown",
   "metadata": {},
   "source": [
    "<a class='anchor' id='id-section16'/>\n",
    "\n",
    "### [Вывод](#id-section55)\n",
    "\n",
    "Ближе к концу теста средний чек немного увеличивается для группы A и падает для группы B. \n",
    "\n",
    "Вероятно, в группу А в первой половине теста и в группу В во сторой половине теста попали крупные заказы (резкие всплески на графике). Таким образом, этим двум группам нужно больше данных, чтобы прийти к реальному среднему чеку и установиться на его уровне."
   ]
  },
  {
   "cell_type": "markdown",
   "metadata": {},
   "source": [
    "<a class='anchor' id='id-section17'/>\n",
    "\n",
    "### [Построим график относительного изменения кумулятивного среднего чека группы B к группе A](#id-section56)\n",
    "\n",
    "Сначала объединим данные из таблиц `cumulativeRevenueA` и `cumulativeRevenueB` в один датафрейм `mergedCumulativeRevenue` методом `merge()`. Затем посчитаем соотношение средних чеков для групп А и В. \n",
    "\n",
    "Для наглядности добавим на график горизонтальную ось методом `axhline()`, чтобы она соответствовала нулю по оси Х."
   ]
  },
  {
   "cell_type": "code",
   "execution_count": 202,
   "metadata": {},
   "outputs": [
    {
     "data": {
      "image/png": "[encoded data removed]",
      "text/plain": [
       "<Figure size 720x360 with 1 Axes>"
      ]
     },
     "metadata": {
      "needs_background": "light"
     },
     "output_type": "display_data"
    }
   ],
   "source": [
    "mergedCumulativeRevenue = cumulativeRevenueA.merge(cumulativeRevenueB, left_on = 'date', right_on = 'date', \\\n",
    "                                                   how='left', suffixes=['A', 'B'])\n",
    "\n",
    "plt.plot(mergedCumulativeRevenue['date'], (mergedCumulativeRevenue['revenueB']/mergedCumulativeRevenue['ordersB'])\\\n",
    "         /(mergedCumulativeRevenue['revenueA']/mergedCumulativeRevenue['ordersA'])-1)\n",
    "\n",
    "plt.axhline(y=0, color='red', linestyle='--')\n",
    "\n",
    "plt.rcParams[\"figure.figsize\"] = (10,5)\n",
    "plt.suptitle('График относительного изменения (прироста) кумулятивного \\n среднего чека группы B к группе A') \n",
    "plt.grid()\n",
    "plt.xlabel('день')\n",
    "plt.ylabel('относительное изменение кумулятивного \\n среднего чека группы B к группе A')\n",
    "plt.show()"
   ]
  },
  {
   "cell_type": "markdown",
   "metadata": {},
   "source": [
    "<a class='anchor' id='id-section18'/>\n",
    "\n",
    "### [Вывод](#id-section57)\n",
    "\n",
    "В нескольких точках график различия между сегментами резко скачет. \n",
    "\n",
    "Следовательно, в данных присутствуют крупные заказы и выбросы."
   ]
  },
  {
   "cell_type": "markdown",
   "metadata": {},
   "source": [
    "<a class='anchor' id='id-section19'/>\n",
    "\n",
    "### [Построим график кумулятивной конверсии по группам](#id-section58)\n",
    "\n",
    "Сначала посчитаем кумулятивную конверсию в таблице `cumulativeData`. Затем отделим данные по группам А и В и построим график."
   ]
  },
  {
   "cell_type": "code",
   "execution_count": 203,
   "metadata": {
    "scrolled": false
   },
   "outputs": [
    {
     "data": {
      "image/png": "[encoded data removed]",
      "text/plain": [
       "<Figure size 720x360 with 1 Axes>"
      ]
     },
     "metadata": {
      "needs_background": "light"
     },
     "output_type": "display_data"
    }
   ],
   "source": [
    "cumulativeData['conversion'] = cumulativeData['orders']/cumulativeData['visitors']\n",
    "\n",
    "cumulativeDataA = cumulativeData[cumulativeData['group']=='A']\n",
    "\n",
    "cumulativeDataB = cumulativeData[cumulativeData['group']=='B']\n",
    "\n",
    "plt.plot(cumulativeDataA['date'], cumulativeDataA['conversion'], label = 'A')\n",
    "plt.plot(cumulativeDataB['date'], cumulativeDataB['conversion'], label = 'B')\n",
    "\n",
    "plt.rcParams[\"figure.figsize\"] = (10,5)\n",
    "plt.suptitle('График кумулятивной конверсии по группам') \n",
    "plt.grid()\n",
    "plt.legend()\n",
    "plt.xlabel('день')\n",
    "plt.ylabel('кумулятивная конверсия')\n",
    "plt.show()"
   ]
  },
  {
   "cell_type": "markdown",
   "metadata": {},
   "source": [
    "<a class='anchor' id='id-section20'/>\n",
    "\n",
    "### [Вывод](#id-section59)\n",
    "\n",
    "У обеих групп наблюдались всплески, после которых каждая из них изменила свою тенденцию. \n",
    "\n",
    "Конверсия группы В вырвалась вперед и зафиксировалась, а конверсия группы А просела и также зафиксировалась."
   ]
  },
  {
   "cell_type": "markdown",
   "metadata": {},
   "source": [
    "<a class='anchor' id='id-section21'/>\n",
    "\n",
    "### [Построим график относительного изменения кумулятивной конверсии группы B к группе A](#id-section60)\n",
    "\n",
    "Сначала объединим данные из таблиц `cumulativeDataA` и `cumulativeDataB` в один датафрейм `mergedCumulativeConversions` методом `merge()`. Затем посчитаем соотношение кумулятивной конверсии группы B к группе A. \n",
    "\n",
    "Для наглядности добавим на график горизонтальную ось методом `axhline()`, чтобы она соответствовала нулю по оси Х."
   ]
  },
  {
   "cell_type": "code",
   "execution_count": 204,
   "metadata": {
    "scrolled": false
   },
   "outputs": [
    {
     "data": {
      "image/png": "[encoded data removed]",
      "text/plain": [
       "<Figure size 720x360 with 1 Axes>"
      ]
     },
     "metadata": {
      "needs_background": "light"
     },
     "output_type": "display_data"
    }
   ],
   "source": [
    "mergedCumulativeConversions = cumulativeDataA[['date','conversion']].merge(cumulativeDataB[['date','conversion']], \\\n",
    "                                                left_on='date', right_on='date', how='left', suffixes=['A', 'B'])\n",
    "\n",
    "plt.plot(mergedCumulativeConversions['date'], mergedCumulativeConversions['conversionB']/ \\\n",
    "         mergedCumulativeConversions['conversionA']-1)\n",
    "\n",
    "plt.axhline(y=0, color='red', linestyle='--')\n",
    "\n",
    "plt.rcParams[\"figure.figsize\"] = (10,5)\n",
    "plt.suptitle('График относительного изменения (прироста) кумулятивной \\n конверсии группы B относительно группы A') \n",
    "plt.grid()\n",
    "plt.xlabel('день')\n",
    "plt.ylabel('относительное изменение кумулятивной \\n конверсии группы B относительно группы A')\n",
    "plt.show()"
   ]
  },
  {
   "cell_type": "markdown",
   "metadata": {},
   "source": [
    "<a class='anchor' id='id-section22'/>\n",
    "\n",
    "### [Вывод](#id-section61)\n",
    "\n",
    "В начале теста группа B проигрывала группе A, затем вырвалась вперед. Потом ее конверсия опять немного снижалась, но теперь постепенно растет.\n",
    "\n",
    "Мы полагаем, что отношение конверсии еще не установилось окончательно."
   ]
  },
  {
   "cell_type": "markdown",
   "metadata": {},
   "source": [
    "<a class='anchor' id='id-section23'/>\n",
    "\n",
    "### [Построим точечный график количества заказов по пользователям](#id-section62)\n",
    "\n",
    "Подсчитаем количество заказов для каждого пользователя из таблицы `orders` методом `groupby()` и `agg()` и сохраним результат в новую таблицу `ordersByUsers`. \n",
    "\n",
    "Лишние столбцы удалим методом `drop()` и оставшиеся переименуем."
   ]
  },
  {
   "cell_type": "code",
   "execution_count": 205,
   "metadata": {},
   "outputs": [
    {
     "data": {
      "text/html": [
       "<div>\n",
       "<style scoped>\n",
       "    .dataframe tbody tr th:only-of-type {\n",
       "        vertical-align: middle;\n",
       "    }\n",
       "\n",
       "    .dataframe tbody tr th {\n",
       "        vertical-align: top;\n",
       "    }\n",
       "\n",
       "    .dataframe thead th {\n",
       "        text-align: right;\n",
       "    }\n",
       "</style>\n",
       "<table border=\"1\" class=\"dataframe\">\n",
       "  <thead>\n",
       "    <tr style=\"text-align: right;\">\n",
       "      <th></th>\n",
       "      <th>userId</th>\n",
       "      <th>orders</th>\n",
       "    </tr>\n",
       "  </thead>\n",
       "  <tbody>\n",
       "    <tr>\n",
       "      <th>1023</th>\n",
       "      <td>4256040402</td>\n",
       "      <td>11</td>\n",
       "    </tr>\n",
       "    <tr>\n",
       "      <th>591</th>\n",
       "      <td>2458001652</td>\n",
       "      <td>11</td>\n",
       "    </tr>\n",
       "    <tr>\n",
       "      <th>569</th>\n",
       "      <td>2378935119</td>\n",
       "      <td>9</td>\n",
       "    </tr>\n",
       "    <tr>\n",
       "      <th>487</th>\n",
       "      <td>2038680547</td>\n",
       "      <td>8</td>\n",
       "    </tr>\n",
       "    <tr>\n",
       "      <th>44</th>\n",
       "      <td>199603092</td>\n",
       "      <td>5</td>\n",
       "    </tr>\n",
       "    <tr>\n",
       "      <th>744</th>\n",
       "      <td>3062433592</td>\n",
       "      <td>5</td>\n",
       "    </tr>\n",
       "    <tr>\n",
       "      <th>55</th>\n",
       "      <td>237748145</td>\n",
       "      <td>5</td>\n",
       "    </tr>\n",
       "    <tr>\n",
       "      <th>917</th>\n",
       "      <td>3803269165</td>\n",
       "      <td>5</td>\n",
       "    </tr>\n",
       "    <tr>\n",
       "      <th>299</th>\n",
       "      <td>1230306981</td>\n",
       "      <td>5</td>\n",
       "    </tr>\n",
       "    <tr>\n",
       "      <th>897</th>\n",
       "      <td>3717692402</td>\n",
       "      <td>5</td>\n",
       "    </tr>\n",
       "  </tbody>\n",
       "</table>\n",
       "</div>"
      ],
      "text/plain": [
       "          userId  orders\n",
       "1023  4256040402      11\n",
       "591   2458001652      11\n",
       "569   2378935119       9\n",
       "487   2038680547       8\n",
       "44     199603092       5\n",
       "744   3062433592       5\n",
       "55     237748145       5\n",
       "917   3803269165       5\n",
       "299   1230306981       5\n",
       "897   3717692402       5"
      ]
     },
     "metadata": {},
     "output_type": "display_data"
    }
   ],
   "source": [
    "ordersByUsers = orders.drop(['group', 'revenue', 'date'], axis = 1).groupby('visitorId', as_index = False)\\\n",
    ".agg({'transactionId' : pd.Series.nunique})\n",
    "\n",
    "ordersByUsers.columns = ['userId','orders']\n",
    "\n",
    "display(ordersByUsers.sort_values(by = 'orders', ascending=False).head(10))"
   ]
  },
  {
   "cell_type": "markdown",
   "metadata": {},
   "source": [
    "- Есть пользователи, которые совершали 5, 8, 9 и 11 заказов. Значительно больше, чем способен сделать обычный пользователь."
   ]
  },
  {
   "cell_type": "markdown",
   "metadata": {},
   "source": [
    "Построим точечную диаграмму числа заказов на одного пользователя методом `plt.scatter()`.\n",
    "\n",
    "Значения по горизонтальной оси запишем в переменную `x_values` — это сгенерированные номера наблюдений (серия из чисел от 0 до количества наблюдений в `ordersByUsers`). \n",
    "\n",
    "Значения для вертикальной оси возьмем из столбца `orders` датафрейма `ordersByUsers`."
   ]
  },
  {
   "cell_type": "code",
   "execution_count": 206,
   "metadata": {},
   "outputs": [
    {
     "data": {
      "image/png": "[encoded data removed]",
      "text/plain": [
       "<Figure size 720x360 with 1 Axes>"
      ]
     },
     "metadata": {
      "needs_background": "light"
     },
     "output_type": "display_data"
    }
   ],
   "source": [
    "x_values = pd.Series(range(0, len(ordersByUsers)))\n",
    "\n",
    "plt.scatter(x_values, ordersByUsers['orders'])\n",
    "\n",
    "plt.rcParams[\"figure.figsize\"] = (10,5)\n",
    "plt.suptitle('График числа заказов на одного пользователя') \n",
    "plt.grid()\n",
    "plt.xlabel('пользователи')\n",
    "plt.ylabel('число заказов')\n",
    "plt.show()"
   ]
  },
  {
   "cell_type": "markdown",
   "metadata": {},
   "source": [
    "<a class='anchor' id='id-section24'/>\n",
    "\n",
    "### [Вывод](#id-section63)\n",
    "\n",
    "Максимальное число заказов, которые совершали пользователи, от 5 до 11. Значительно больше, чем способен сделать обычный пользователь.\n",
    "\n",
    "На графике мы видим много пользователей с 2-4 заказами."
   ]
  },
  {
   "cell_type": "markdown",
   "metadata": {},
   "source": [
    "<a class='anchor' id='id-section25'/>\n",
    "\n",
    "### [Посчитаем 95-й и 99-й перцентили количества заказов на пользователя и выберем границу для определения аномальных пользователей](#id-section64)\n",
    "\n",
    "Посчитаем выборочные перцентили количества заказов на одного пользователя методом `np.percentile()`."
   ]
  },
  {
   "cell_type": "code",
   "execution_count": 207,
   "metadata": {},
   "outputs": [
    {
     "data": {
      "text/plain": [
       "array([2., 4.])"
      ]
     },
     "metadata": {},
     "output_type": "display_data"
    }
   ],
   "source": [
    "display(np.percentile(ordersByUsers['orders'], [95, 99]))"
   ]
  },
  {
   "cell_type": "markdown",
   "metadata": {},
   "source": [
    "<a class='anchor' id='id-section26'/>\n",
    "\n",
    "### [Вывод](#id-section65)\n",
    "\n",
    "- Не более 5% пользователей оформляли больше 2 заказов. \n",
    "- И 1% пользователей заказывали более 4 раз.\n",
    "\n",
    "Мы выберем 3 заказа на одного пользователя за нижнюю границу числа заказов, и потом отсеим от 1 до 5% аномальных пользователей по ней."
   ]
  },
  {
   "cell_type": "markdown",
   "metadata": {},
   "source": [
    "<a class='anchor' id='id-section27'/>\n",
    "\n",
    "### [Построим точечный график стоимостей заказов](#id-section66)\n",
    "\n",
    "Используем метод `plt.scatter()`.\n",
    "\n",
    "Значения по горизонтальной оси запишем в переменную `x_values` — это сгенерированные номера наблюдений (серия из чисел от 0 до количества наблюдений в `orders`). \n",
    "\n",
    "Значения для вертикальной оси возьмем из столбца `revenue` датафрейма `orders`."
   ]
  },
  {
   "cell_type": "code",
   "execution_count": 208,
   "metadata": {},
   "outputs": [
    {
     "data": {
      "image/png": "[encoded data removed]",
      "text/plain": [
       "<Figure size 720x360 with 1 Axes>"
      ]
     },
     "metadata": {
      "needs_background": "light"
     },
     "output_type": "display_data"
    }
   ],
   "source": [
    "x_values = pd.Series(range(0, len(orders)))\n",
    "\n",
    "plt.scatter(x_values, orders['revenue'])\n",
    "\n",
    "plt.rcParams[\"figure.figsize\"] = (16,9)\n",
    "plt.suptitle('График стоимости заказов для пользователей') \n",
    "plt.grid()\n",
    "plt.xlabel('пользователи')\n",
    "plt.ylabel('стоимость заказов')\n",
    "plt.show()"
   ]
  },
  {
   "cell_type": "markdown",
   "metadata": {},
   "source": [
    "<a class='anchor' id='id-section28'/>\n",
    "\n",
    "### [Вывод](#id-section67)\n",
    "\n",
    "График имеет шаг в 200 000 рублей.\n",
    "\n",
    "Большинство заказов не превышают отметку в 50 000.\n",
    "\n",
    "Есть немного очень дорогих заказов. По графику можно выбрать границу аномальных заказов между 20 000 и 50 000 рублей."
   ]
  },
  {
   "cell_type": "markdown",
   "metadata": {},
   "source": [
    "<a class='anchor' id='id-section29'/>\n",
    "\n",
    "### [Посчитаем 95-й и 99-й перцентили стоимости заказов и выберем границу для определения аномальных заказов](#id-section68)\n",
    "\n",
    "Посчитаем выборочные перцентили стоимости заказов методом `np.percentile()`."
   ]
  },
  {
   "cell_type": "code",
   "execution_count": 209,
   "metadata": {},
   "outputs": [
    {
     "data": {
      "text/plain": [
       "array([28000. , 58233.2])"
      ]
     },
     "metadata": {},
     "output_type": "display_data"
    }
   ],
   "source": [
    "display(np.percentile(orders['revenue'], [95, 99]))"
   ]
  },
  {
   "cell_type": "markdown",
   "metadata": {},
   "source": [
    "<a class='anchor' id='id-section30'/>\n",
    "\n",
    "### [Вывод](#id-section69)\n",
    "\n",
    "- Не более 5% пользователей оформляли заказ дороже 28 000 рублей. \n",
    "- И 1% пользователей делали заказ на сумму более 58 000 рублей.\n",
    "\n",
    "Мы выберем заказы на сумму более 28 000 рублей за нижнюю границу стоимости заказов, и потом отсеим 5% аномальных пользователей по ней."
   ]
  },
  {
   "cell_type": "markdown",
   "metadata": {},
   "source": [
    "<a class='anchor' id='id-section31'/>\n",
    "\n",
    "### [Посчитаем статистическую значимость различий в конверсии между группами по «сырым» данным](#id-section70)\n",
    "\n",
    "По таблице с пользователями `visitors` посчитаем количество пользователей по датам по группам A и В (`visitorsADaily`, `visitorsBDaily`) и накопительное суммарное количество пользователей до каждой даты включительно в группах A и В (`visitorsACummulative`, `visitorsBCummulative`)."
   ]
  },
  {
   "cell_type": "code",
   "execution_count": 210,
   "metadata": {},
   "outputs": [],
   "source": [
    "visitorsADaily = visitors[visitors['group'] == 'A'][['date', 'visitors']]\n",
    "visitorsADaily.columns = ['date', 'visitorsPerDateA']\n",
    "\n",
    "visitorsACummulative = visitorsADaily.apply(lambda x: visitorsADaily[visitorsADaily['date'] <= x['date']]\\\n",
    "                                            .agg({'date' : 'max', 'visitorsPerDateA' : 'sum'}), axis = 1)\n",
    "visitorsACummulative.columns = ['date', 'visitorsCummulativeA']\n",
    "\n",
    "visitorsBDaily = visitors[visitors['group'] == 'B'][['date', 'visitors']]\n",
    "visitorsBDaily.columns = ['date', 'visitorsPerDateB']\n",
    "\n",
    "visitorsBCummulative = visitorsBDaily.apply(lambda x: visitorsBDaily[visitorsBDaily['date'] <= x['date']]\\\n",
    "                                            .agg({'date' : 'max', 'visitorsPerDateB' : 'sum'}), axis=1)\n",
    "visitorsBCummulative.columns = ['date', 'visitorsCummulativeB']"
   ]
  },
  {
   "cell_type": "markdown",
   "metadata": {},
   "source": [
    "По таблице с заказами `orders` посчитаем количество заказов и выручку по датам по группам A и В (`ordersADaily`, `ordersBDaily`) и накопительное суммарное количество заказов и выручку до каждой даты включительно в группах A и В (`ordersACummulative`, `ordersBCummulative`)."
   ]
  },
  {
   "cell_type": "code",
   "execution_count": 211,
   "metadata": {},
   "outputs": [],
   "source": [
    "ordersADaily = orders[orders['group'] == 'A'][['date', 'transactionId', 'visitorId', 'revenue']]\\\n",
    "    .groupby('date', as_index = False)\\\n",
    "    .agg({'transactionId' : pd.Series.nunique, 'revenue' : 'sum'})\n",
    "ordersADaily.columns = ['date', 'ordersPerDateA', 'revenuePerDateA']\n",
    "\n",
    "ordersACummulative = ordersADaily.apply(\n",
    "    lambda x: \\\n",
    "        ordersADaily[ordersADaily['date'] <= x['date']]\\\n",
    "            .agg({\n",
    "                'date' : 'max',\n",
    "                'ordersPerDateA' : 'sum',\n",
    "                'revenuePerDateA' : 'sum'}), axis = 1).sort_values(by = ['date'])\n",
    "ordersACummulative.columns = ['date', 'ordersCummulativeA', 'revenueCummulativeA']\n",
    "\n",
    "\n",
    "\n",
    "ordersBDaily = orders[orders['group'] == 'B'][['date', 'transactionId', 'visitorId', 'revenue']]\\\n",
    "    .groupby('date', as_index = False)\\\n",
    "    .agg({'transactionId' : pd.Series.nunique, 'revenue' : 'sum'})\n",
    "ordersBDaily.columns = ['date', 'ordersPerDateB', 'revenuePerDateB']\n",
    "\n",
    "ordersBCummulative = ordersBDaily.apply(\n",
    "    lambda x: \\\n",
    "        ordersBDaily[ordersBDaily['date'] <= x['date']]\\\n",
    "            .agg({\n",
    "                'date' : 'max',\n",
    "                'ordersPerDateB' : 'sum',\n",
    "                'revenuePerDateB' : 'sum'}), axis = 1).sort_values(by = ['date'])\n",
    "ordersBCummulative.columns = ['date', 'ordersCummulativeB', 'revenueCummulativeB']"
   ]
  },
  {
   "cell_type": "markdown",
   "metadata": {},
   "source": [
    "Объединим все полученные выше таблицы в одну с названием `data` методом `merge()`.\n",
    "\n",
    "В результате в таблице `data` будут содержаться следующие переменные:\n",
    "- `date` — дата;\n",
    "- `ordersPerDateA` — количество заказов в выбранную дату в группе A;\n",
    "- `revenuePerDateA` — суммарная выручка в выбранную дату в группе A;\n",
    "- `ordersPerDateB` — количество заказов в выбранную дату в группе B;\n",
    "- `revenuePerDateB` — суммарная выручка в выбранную дату в группе B;\n",
    "- `ordersCummulativeA` — суммарное число заказов до выбранной даты включительно в группе A;\n",
    "- `revenueCummulativeA` — суммарная выручка до выбранной даты включительно в группе A;\n",
    "- `ordersCummulativeB` — суммарное количество заказов до выбранной даты включительно в группе B;\n",
    "- `revenueCummulativeB` — суммарная выручка до выбранной даты включительно в группе B;\n",
    "- `visitorsPerDateA` — количество пользователей в выбранную дату в группе A;\n",
    "- `visitorsPerDateB` — количество пользователей в выбранную дату в группе B;\n",
    "- `visitorsCummulativeA` — количество пользователей до выбранной даты включительно в группе A;\n",
    "- `visitorsCummulativeB` — количество пользователей до выбранной даты включительно в группе B."
   ]
  },
  {
   "cell_type": "code",
   "execution_count": 212,
   "metadata": {},
   "outputs": [
    {
     "data": {
      "text/html": [
       "<div>\n",
       "<style scoped>\n",
       "    .dataframe tbody tr th:only-of-type {\n",
       "        vertical-align: middle;\n",
       "    }\n",
       "\n",
       "    .dataframe tbody tr th {\n",
       "        vertical-align: top;\n",
       "    }\n",
       "\n",
       "    .dataframe thead th {\n",
       "        text-align: right;\n",
       "    }\n",
       "</style>\n",
       "<table border=\"1\" class=\"dataframe\">\n",
       "  <thead>\n",
       "    <tr style=\"text-align: right;\">\n",
       "      <th></th>\n",
       "      <th>date</th>\n",
       "      <th>ordersPerDateA</th>\n",
       "      <th>revenuePerDateA</th>\n",
       "      <th>ordersPerDateB</th>\n",
       "      <th>revenuePerDateB</th>\n",
       "      <th>ordersCummulativeA</th>\n",
       "      <th>revenueCummulativeA</th>\n",
       "      <th>ordersCummulativeB</th>\n",
       "      <th>revenueCummulativeB</th>\n",
       "      <th>visitorsPerDateA</th>\n",
       "      <th>visitorsPerDateB</th>\n",
       "      <th>visitorsCummulativeA</th>\n",
       "      <th>visitorsCummulativeB</th>\n",
       "    </tr>\n",
       "  </thead>\n",
       "  <tbody>\n",
       "    <tr>\n",
       "      <th>0</th>\n",
       "      <td>2019-08-01</td>\n",
       "      <td>24</td>\n",
       "      <td>148579</td>\n",
       "      <td>21</td>\n",
       "      <td>101217</td>\n",
       "      <td>24</td>\n",
       "      <td>148579</td>\n",
       "      <td>21</td>\n",
       "      <td>101217</td>\n",
       "      <td>719</td>\n",
       "      <td>713</td>\n",
       "      <td>719</td>\n",
       "      <td>713</td>\n",
       "    </tr>\n",
       "    <tr>\n",
       "      <th>1</th>\n",
       "      <td>2019-08-02</td>\n",
       "      <td>20</td>\n",
       "      <td>93822</td>\n",
       "      <td>24</td>\n",
       "      <td>165531</td>\n",
       "      <td>44</td>\n",
       "      <td>242401</td>\n",
       "      <td>45</td>\n",
       "      <td>266748</td>\n",
       "      <td>619</td>\n",
       "      <td>581</td>\n",
       "      <td>1338</td>\n",
       "      <td>1294</td>\n",
       "    </tr>\n",
       "    <tr>\n",
       "      <th>2</th>\n",
       "      <td>2019-08-03</td>\n",
       "      <td>24</td>\n",
       "      <td>112473</td>\n",
       "      <td>16</td>\n",
       "      <td>114248</td>\n",
       "      <td>68</td>\n",
       "      <td>354874</td>\n",
       "      <td>61</td>\n",
       "      <td>380996</td>\n",
       "      <td>507</td>\n",
       "      <td>509</td>\n",
       "      <td>1845</td>\n",
       "      <td>1803</td>\n",
       "    </tr>\n",
       "    <tr>\n",
       "      <th>3</th>\n",
       "      <td>2019-08-04</td>\n",
       "      <td>16</td>\n",
       "      <td>70825</td>\n",
       "      <td>17</td>\n",
       "      <td>108571</td>\n",
       "      <td>84</td>\n",
       "      <td>425699</td>\n",
       "      <td>78</td>\n",
       "      <td>489567</td>\n",
       "      <td>717</td>\n",
       "      <td>770</td>\n",
       "      <td>2562</td>\n",
       "      <td>2573</td>\n",
       "    </tr>\n",
       "    <tr>\n",
       "      <th>4</th>\n",
       "      <td>2019-08-05</td>\n",
       "      <td>25</td>\n",
       "      <td>124218</td>\n",
       "      <td>23</td>\n",
       "      <td>92428</td>\n",
       "      <td>109</td>\n",
       "      <td>549917</td>\n",
       "      <td>101</td>\n",
       "      <td>581995</td>\n",
       "      <td>756</td>\n",
       "      <td>707</td>\n",
       "      <td>3318</td>\n",
       "      <td>3280</td>\n",
       "    </tr>\n",
       "  </tbody>\n",
       "</table>\n",
       "</div>"
      ],
      "text/plain": [
       "        date  ordersPerDateA  revenuePerDateA  ordersPerDateB  \\\n",
       "0 2019-08-01              24           148579              21   \n",
       "1 2019-08-02              20            93822              24   \n",
       "2 2019-08-03              24           112473              16   \n",
       "3 2019-08-04              16            70825              17   \n",
       "4 2019-08-05              25           124218              23   \n",
       "\n",
       "   revenuePerDateB  ordersCummulativeA  revenueCummulativeA  \\\n",
       "0           101217                  24               148579   \n",
       "1           165531                  44               242401   \n",
       "2           114248                  68               354874   \n",
       "3           108571                  84               425699   \n",
       "4            92428                 109               549917   \n",
       "\n",
       "   ordersCummulativeB  revenueCummulativeB  visitorsPerDateA  \\\n",
       "0                  21               101217               719   \n",
       "1                  45               266748               619   \n",
       "2                  61               380996               507   \n",
       "3                  78               489567               717   \n",
       "4                 101               581995               756   \n",
       "\n",
       "   visitorsPerDateB  visitorsCummulativeA  visitorsCummulativeB  \n",
       "0               713                   719                   713  \n",
       "1               581                  1338                  1294  \n",
       "2               509                  1845                  1803  \n",
       "3               770                  2562                  2573  \n",
       "4               707                  3318                  3280  "
      ]
     },
     "metadata": {},
     "output_type": "display_data"
    }
   ],
   "source": [
    "data = ordersADaily.merge(ordersBDaily, left_on = 'date', right_on = 'date', how = 'left')\\\n",
    "    .merge(ordersACummulative, left_on = 'date', right_on = 'date', how = 'left')\\\n",
    "    .merge(ordersBCummulative, left_on = 'date', right_on = 'date', how = 'left')\\\n",
    "    .merge(visitorsADaily, left_on = 'date', right_on = 'date', how = 'left')\\\n",
    "    .merge(visitorsBDaily, left_on = 'date', right_on = 'date', how = 'left')\\\n",
    "    .merge(visitorsACummulative, left_on = 'date', right_on = 'date', how = 'left')\\\n",
    "    .merge(visitorsBCummulative, left_on = 'date', right_on = 'date', how = 'left')\n",
    "\n",
    "display(data.head())"
   ]
  },
  {
   "cell_type": "markdown",
   "metadata": {},
   "source": [
    "Создадим переменные `ordersByUsersA` и `ordersByUsersB` со столбцами `userId` и `orders`. В них для пользователей, которые заказывали хотя бы 1 раз, укажем число совершенных заказов."
   ]
  },
  {
   "cell_type": "code",
   "execution_count": 213,
   "metadata": {},
   "outputs": [],
   "source": [
    "ordersByUsersA = orders[orders['group'] == 'A'].groupby('visitorId', as_index = False)\\\n",
    ".agg({'transactionId' : pd.Series.nunique})\n",
    "ordersByUsersA.columns = ['userId', 'orders']\n",
    "\n",
    "ordersByUsersB = orders[orders['group'] == 'B'].groupby('visitorId', as_index = False)\\\n",
    ".agg({'transactionId' : pd.Series.nunique})\n",
    "ordersByUsersB.columns = ['userId', 'orders']"
   ]
  },
  {
   "cell_type": "markdown",
   "metadata": {},
   "source": [
    "Для подготовки выборки к проверке критерием Манна-Уитни объявим переменные `sampleA` и `sampleB`, в которых пользователям из разных групп будет соответствовать количество заказов. Тем, кто ничего не заказал, будут соответствовать нули. \n",
    "\n",
    "Переменные `sampleA` и `sampleB` должны состоять из двух частей:\n",
    "1. Список с количеством заказов для каждого из пользователей: `ordersByUsersA['orders']`. \n",
    "2. Нули для пользователей, которые ничего не заказывали. Их количество равно разнице между суммой посетителей и количеством записей о заказах: `data['visitorsPerDateA'].sum() - len(ordersByUsersA['orders'])`. Создадим объект `pd.Series` нужной длины методом `np.arange()`.\n",
    "\n",
    "Две последовательности объединим в 1 список методом `pd.concat()` с аргументом `axis = 0` для построчного объединения."
   ]
  },
  {
   "cell_type": "code",
   "execution_count": 214,
   "metadata": {},
   "outputs": [],
   "source": [
    "sampleA = pd.concat([ordersByUsersA['orders'], pd.Series(0, index = np.arange(data['visitorsPerDateA'].sum()\\\n",
    "                                            - len(ordersByUsersA['orders'])), name = 'orders')], axis = 0)\n",
    "\n",
    "sampleB = pd.concat([ordersByUsersB['orders'], pd.Series(0, index = np.arange(data['visitorsPerDateB'].sum()\\\n",
    "                                            - len(ordersByUsersB['orders'])), name = 'orders')], axis = 0) "
   ]
  },
  {
   "cell_type": "markdown",
   "metadata": {},
   "source": [
    "Для поиска статистической значимости различий в конверсии между группами применим **критерий Манна-Уитни**.\n",
    "\n",
    "**Гипотезу H₀ сформулируем так:** конверсия группы A не отличается от конверсии группы B (различий нет).\n",
    "**Гипотеза H₁:** конверсия группы A отличается от конверсии группы B (различия есть).\n",
    "\n",
    "В качестве **уровня статистической значимости** примем общепринятое значение 0.05.\n",
    "\n",
    "Применим критерий Манна-Уитни методом `stats.mannwhitneyu()` и отформатируем полученное `p-value`, округлив его до 3 знаков после запятой. Сравним его с уровнем статистической значимости 0.05 и примем решение, какую гипотезу принять.\n",
    "\n",
    "В переменных `sampleA` и `sampleВ` сохранены выборки, где каждый элемент — число заказов определенного пользователя, в том числе 0. Значит, число элементов `sampleA` и `sampleВ` — это количество пользователей, а сумма всех элементов — количество заказов. Чтобы получить конверсию в группах, поделим сумму заказов на число пользователей — применим метод `mean()`. \n",
    "\n",
    "Выведем относительный прирост конверсии группы B: конверсия группы B / конверсия группы A - 1. Округлим до 3 знаков после запятой."
   ]
  },
  {
   "cell_type": "code",
   "execution_count": 215,
   "metadata": {},
   "outputs": [
    {
     "data": {
      "text/plain": [
       "'0.008'"
      ]
     },
     "metadata": {},
     "output_type": "display_data"
    },
    {
     "data": {
      "text/plain": [
       "'0.138'"
      ]
     },
     "metadata": {},
     "output_type": "display_data"
    }
   ],
   "source": [
    "display(\"{:.3f}\".format(stats.mannwhitneyu(sampleA, sampleB)[1]))\n",
    "\n",
    "display(\"{:.3f}\".format(sampleB.mean() / sampleA.mean() - 1))"
   ]
  },
  {
   "cell_type": "markdown",
   "metadata": {},
   "source": [
    "<a class='anchor' id='id-section32'/>\n",
    "\n",
    "### [Вывод](#id-section71)\n",
    "\n",
    "По «сырым» данным различия в конверсии групп A и B есть.\n",
    "\n",
    "Первое число — `p-value = 0.008` меньше 0.05. Значит, нулевую гипотезу о том, что статистически значимых различий в конверсии между группами нет, отвергаем. **Принимаем альтернативную гипотезу** - конверсия группы A отличается от конверсии группы B.\n",
    "\n",
    "Относительный прирост группы B по сравнению с группой А равен 13.8% — второе число в выводе."
   ]
  },
  {
   "cell_type": "markdown",
   "metadata": {},
   "source": [
    "<a class='anchor' id='id-section33'/>\n",
    "\n",
    "### [Посчитаем статистическую значимость различий в среднем чеке заказа между группами по «сырым» данным](#id-section72)\n",
    "\n",
    "Для поиска статистической значимости различий в среднем чеке заказа между группами применим **критерий Манна-Уитни**.\n",
    "\n",
    "**Гипотезу H₀ сформулируем так:** средний чек заказа группы A не отличается от среднего чека заказа группы B (различий нет).\n",
    "**Гипотеза H₁:** средний чек заказа группы A отличается от среднего чека заказа группы B (различия есть).\n",
    "\n",
    "В качестве **уровня статистической значимости** примем общепринятое значение 0.05.\n",
    "\n",
    "Применим критерий Манна-Уитни методом `stats.mannwhitneyu()` и отформатируем полученное `p-value`, округлив его до 3 знаков после запятой. Сравним его с уровнем статистической значимости 0.05 и примем решение, какую гипотезу принять.\n",
    "\n",
    "Передадим критерию `mannwhitneyu()` данные о выручке с заказов (столбец `revenue` таблицы `orders`) по каждой группе.\n",
    "\n",
    "Также найдем относительные различия в среднем чеке между группами (для нахождения среднего применим метод `mean()`). Округлим до 3 знаков после запятой."
   ]
  },
  {
   "cell_type": "code",
   "execution_count": 216,
   "metadata": {},
   "outputs": [
    {
     "data": {
      "text/plain": [
       "'0.365'"
      ]
     },
     "metadata": {},
     "output_type": "display_data"
    },
    {
     "data": {
      "text/plain": [
       "'0.259'"
      ]
     },
     "metadata": {},
     "output_type": "display_data"
    }
   ],
   "source": [
    "display(\"{:.3f}\".format(stats.mannwhitneyu(orders[orders['group'] == 'A']['revenue'], \\\n",
    "                                            orders[orders['group'] == 'B']['revenue'])[1]))\n",
    "\n",
    "display(\"{:.3f}\".format(orders[orders['group'] == 'B']['revenue'].mean() / \\\n",
    "                         orders[orders['group'] == 'A']['revenue'].mean() - 1)) "
   ]
  },
  {
   "cell_type": "markdown",
   "metadata": {},
   "source": [
    "<a class='anchor' id='id-section34'/>\n",
    "\n",
    "### [Вывод](#id-section73)\n",
    "\n",
    "По «сырым» данным различий в среднем чеке заказа между группами A и B нет.\n",
    "\n",
    "Первое число — `p-value = 0.365` значительно больше 0.05. Значит, причин отвергать нулевую гипотезу и считать, что в среднем чеке есть различия, нет.\n",
    "\n",
    "При этом, средний чек группы B значительно выше среднего чека группы A (26%)."
   ]
  },
  {
   "cell_type": "markdown",
   "metadata": {},
   "source": [
    "<a class='anchor' id='id-section35'/>\n",
    "\n",
    "### [Посчитаем статистическую значимость различий в конверсии между группами по «очищенным» данным](#id-section74)\n",
    "\n",
    "На предыдущих этапах исследования мы приняли за аномальных пользователей тех, кто совершил от 3 заказов или совершил заказ дороже 28 000 рублей. Так мы убираем от 1 до 5% пользователей с наибольшим числом заказов и 5% пользователей с дорогими заказами. \n",
    "\n",
    "Сделаем срезы пользователей с числом заказов больше 3 — `usersWithManyOrders` и пользователей, совершивших заказы дороже 28 000 — `usersWithExpensiveOrders`. Объединим их в таблице `abnormalUsers`.\n",
    "\n",
    "Узнаем, сколько всего аномальных пользователей, методом `shape`."
   ]
  },
  {
   "cell_type": "code",
   "execution_count": 217,
   "metadata": {},
   "outputs": [
    {
     "data": {
      "text/plain": [
       "1099    148427295\n",
       "18      199603092\n",
       "928     204675465\n",
       "23      237748145\n",
       "684     358944393\n",
       "dtype: int64"
      ]
     },
     "metadata": {},
     "output_type": "display_data"
    },
    {
     "data": {
      "text/plain": [
       "(63,)"
      ]
     },
     "metadata": {},
     "output_type": "display_data"
    }
   ],
   "source": [
    "usersWithManyOrders = pd.concat([ordersByUsersA[ordersByUsersA['orders'] > 3]['userId'], \\\n",
    "                                 ordersByUsersB[ordersByUsersB['orders'] > 3]['userId']], axis = 0)\n",
    "\n",
    "usersWithExpensiveOrders = orders[orders['revenue'] > 28000]['visitorId']\n",
    "\n",
    "abnormalUsers = pd.concat([usersWithManyOrders, usersWithExpensiveOrders], axis = 0).drop_duplicates()\\\n",
    ".sort_values()\n",
    "\n",
    "display(abnormalUsers.head())\n",
    "display(abnormalUsers.shape)"
   ]
  },
  {
   "cell_type": "markdown",
   "metadata": {},
   "source": [
    "Узнаем, как действия 63 аномальных пользователей повлияли на результаты теста.\n",
    "\n",
    "Сначала подготовим очищенные выборки количества заказов по пользователям по группам теста (метод `np.logical_not()`)."
   ]
  },
  {
   "cell_type": "code",
   "execution_count": 218,
   "metadata": {},
   "outputs": [],
   "source": [
    "sampleAFiltered = pd.concat([ordersByUsersA[np.logical_not(ordersByUsersA['userId']\\\n",
    "                                                           .isin(abnormalUsers))]['orders'],\\\n",
    "                pd.Series(0, index = np.arange(data['visitorsPerDateA'].sum() - len(ordersByUsersA['orders'])),\\\n",
    "                name = 'orders')], axis = 0)\n",
    "\n",
    "sampleBFiltered = pd.concat([ordersByUsersB[np.logical_not(ordersByUsersB['userId']\\\n",
    "                                                           .isin(abnormalUsers))]['orders'],\\\n",
    "                pd.Series(0, index = np.arange(data['visitorsPerDateB'].sum() - len(ordersByUsersB['orders'])),\\\n",
    "                name = 'orders')], axis = 0) "
   ]
  },
  {
   "cell_type": "markdown",
   "metadata": {},
   "source": [
    "Посчитаем статистическую значимость различий в конверсии между группами теста по очищенным данным, применим **критерий Манна-Уитни**.\n",
    "\n",
    "**Гипотезу H₀ сформулируем так:** конверсия группы A не отличается от конверсии группы B (различий нет).\n",
    "**Гипотеза H₁:** конверсия группы A отличается от конверсии группы B (различия есть).\n",
    "\n",
    "В качестве **уровня статистической значимости** примем значение 0.05.\n",
    "\n",
    "Применим критерий Манна-Уитни методом `stats.mannwhitneyu()` к полученным выборкам и отформатируем полученное `p-value`, округлив его до 3 знаков после запятой. Сравним его с уровнем статистической значимости 0.05 и примем решение, какую гипотезу принять.\n",
    "\n",
    "Чтобы получить конверсию в группах, поделим сумму заказов на число пользователей — применим метод `mean()` к полученным выборкам. \n",
    "\n",
    "Выведем относительный прирост конверсии группы B: конверсия группы B / конверсия группы A - 1. Округлим до 3 знаков после запятой."
   ]
  },
  {
   "cell_type": "code",
   "execution_count": 219,
   "metadata": {},
   "outputs": [
    {
     "data": {
      "text/plain": [
       "'0.009'"
      ]
     },
     "metadata": {},
     "output_type": "display_data"
    },
    {
     "data": {
      "text/plain": [
       "'0.148'"
      ]
     },
     "metadata": {},
     "output_type": "display_data"
    }
   ],
   "source": [
    "display(\"{:.3f}\".format(stats.mannwhitneyu(sampleAFiltered, sampleBFiltered)[1]))\n",
    "\n",
    "display(\"{:.3f}\".format(sampleBFiltered.mean() / sampleAFiltered.mean() - 1)) "
   ]
  },
  {
   "cell_type": "markdown",
   "metadata": {},
   "source": [
    "<a class='anchor' id='id-section36'/>\n",
    "\n",
    "### [Вывод](#id-section75)\n",
    "\n",
    "По «очищенным» данным различия в конверсии групп A и B есть.\n",
    "\n",
    "Первое число — `p-value = 0.009` меньше 0.05. Значит, нулевую гипотезу о том, что статистически значимых различий в конверсии между группами нет, отвергаем. **Принимаем альтернативную гипотезу** - конверсия группы A отличается от конверсии группы B.\n",
    "\n",
    "Относительный прирост группы B по сравнению с группой А равен 14.8%.\n",
    "\n",
    "\n",
    "Таким образом, результаты по конверсии по «сырым» и «очищенным» данным практически не изменились."
   ]
  },
  {
   "cell_type": "markdown",
   "metadata": {},
   "source": [
    "<a class='anchor' id='id-section37'/>\n",
    "\n",
    "### [Посчитаем статистическую значимость различий в среднем чеке заказа между группами по «очищенным» данным](#id-section76)\n",
    "\n",
    "**Гипотезу H₀ сформулируем так:** средний чек заказа группы A не отличается от среднего чека заказа группы B (различий нет).\n",
    "**Гипотеза H₁:** средний чек заказа группы A отличается от среднего чека заказа группы B (различия есть).\n",
    "\n",
    "В качестве **уровня статистической значимости** примем значение 0.05.\n",
    "\n",
    "Применим критерий Манна-Уитни методом `stats.mannwhitneyu()` и отформатируем полученное `p-value`, округлив его до 3 знаков после запятой. Сравним его с уровнем статистической значимости 0.05 и примем решение, какую гипотезу принять.\n",
    "\n",
    "Передадим критерию `mannwhitneyu()` данные о выручке с заказов (столбец `revenue` таблицы `orders`) по каждой группе.\n",
    "\n",
    "Также найдем относительные различия в среднем чеке между группами (для нахождения среднего применим метод `mean()`). Округлим до 3 знаков после запятой."
   ]
  },
  {
   "cell_type": "code",
   "execution_count": 220,
   "metadata": {},
   "outputs": [
    {
     "data": {
      "text/plain": [
       "'0.488'"
      ]
     },
     "metadata": {},
     "output_type": "display_data"
    },
    {
     "data": {
      "text/plain": [
       "'-0.017'"
      ]
     },
     "metadata": {},
     "output_type": "display_data"
    }
   ],
   "source": [
    "display(\"{:.3f}\".format(stats.mannwhitneyu(\n",
    "    orders[np.logical_and(\n",
    "        orders['group'] == 'A',\n",
    "        np.logical_not(orders['visitorId'].isin(abnormalUsers)))]['revenue'],\n",
    "    orders[np.logical_and(\n",
    "        orders['group'] == 'B',\n",
    "        np.logical_not(orders['visitorId'].isin(abnormalUsers)))]['revenue'])[1]))\n",
    "\n",
    "display(\"{:.3f}\".format(\n",
    "    orders[np.logical_and(\n",
    "        orders['group'] == 'B', np.logical_not(orders['visitorId'].isin(abnormalUsers)))]['revenue'].mean() /\n",
    "    orders[np.logical_and(\n",
    "        orders['group'] == 'A',\n",
    "        np.logical_not(orders['visitorId'].isin(abnormalUsers)))]['revenue'].mean() - 1)) \n"
   ]
  },
  {
   "cell_type": "markdown",
   "metadata": {},
   "source": [
    "<a class='anchor' id='id-section38'/>\n",
    "\n",
    "### [Вывод](#id-section77)\n",
    "\n",
    "По «очищенным» данным различий в среднем чеке заказа между группами A и B нет.\n",
    "\n",
    "`p-value = 0.488` значительно больше 0.05. Значит, причин отвергать нулевую гипотезу и считать, что в среднем чеке есть различия, нет.\n",
    "\n",
    "При этом, средний чек группы B практически равен среднему чеку группы A (разница составляет лишь -0.01%).\n",
    "\n",
    "Таким образом, по сравнению с «сырыми» данными, p-value увеличился, но разница между сегментами сократилась с 26% практически до 0%."
   ]
  },
  {
   "cell_type": "markdown",
   "metadata": {},
   "source": [
    "<a class='anchor' id='id-section39'/>\n",
    "\n",
    "## [Шаг 5. Общий вывод](#id-section78)\n",
    "\n",
    "На этапе приоритизации гипотез мы пришли к выводу о том, что параметры для формул ICE и RICE были оценены точно, так как разные методики показали похожий рейтинг для гипотез (если разделить их на 2 общие группы: самых высоко и низко оцененных). \n",
    "\n",
    "Но если всматриваться на место каждой отдельной гипотезы в рейтинге, то всплывают **различия в оценках по ICE и RICE**.\n",
    "\n",
    "**Согласно фреймворку ICE, самыми приоритетными гипотезами являются**:\n",
    "1. запуск акции на скидку на товар в день рождения,\n",
    "2. добавление 2 новых каналов привлечения трафика,\n",
    "3. добавление формы подписки на все основные страницы,\n",
    "4. показ на главной странице баннеров с акциями.\n",
    "\n",
    "**Согласно фреймворку RICE, самые приоритетные гипотезы**:\n",
    "1. добавление формы подписки на все основные страницы (по ICE на 3 месте),\n",
    "2. добавление блоков рекомендаций товаров на сайт (по ICE на 5 месте), \n",
    "3. показ на главной странице баннеров с акциями (по ICE на 4 месте),\n",
    "4. добавление 2 новых каналов привлечения трафика (по ICE на 2 месте).\n",
    "\n",
    "Отдельно отметим, что гипотеза о запуске акции на скидку на товар в день рождения опустилась с 1 места (по ICE) на 5 место (по RICE). \n",
    "\n",
    "**Самые низкооцененные гипотезы и по ICE, и по RICE** одни и те же:\n",
    "- изменение цвета фона главной страницы,\n",
    "- добавление страницы отзывов от клиентов,\n",
    "- запуск службы доставки,\n",
    "- изменение структуры категорий товаров.\n",
    "\n",
    "Таким образом, при расчете RICE оказалось, что гипотезы, у которых параметр **reach больше**, чем у остальных (то есть изменение, которое мы хотим внести, затронет большое количество пользователей), обгоняют остальные гипотезы. По этой причине гипотеза о запуске акции на скидку на товар в день рождения опустилась в рейтинге.\n",
    "\n",
    "Следовательно, при оценке по фреймворку RICE кроме силы гипотезы (impact) **наибольшее влияние** имеет то, сколько пользователей затронет изменение (**reach**).\n",
    "\n",
    "---\n",
    "По итогам **исследования результатов А/В-теста** нам удалось установить следующее:\n",
    "\n",
    "- Есть статистически значимое различие по конверсии между группами как по «сырым» данным, так и после фильтрации аномалий.\n",
    "\n",
    "- Нет статистически значимого различия по среднему чеку между группами ни по «сырым», ни по данным после фильтрации аномалий. Однако после удаления аномалий разница между сегментами сократилась с 26% практически до 0%.\n",
    "\n",
    "- График различия конверсии между группами показывает, что результаты группы B лучше группы A: имеют тенденцию к росту, либо зафиксировались около среднего значения.\n",
    "\n",
    "- График различия среднего чека колеблется: это указало нам на то, что в данных присутствуют аномалии и выбросы. Сделать из этого графика определенный вывод нельзя.\n",
    "\n",
    "Мы предлагаем остановить тест, зафиксировать победу группы В - по конверсии в покупки она статистически значимо лучше группы А (хотя по среднему чеку не отличилась от группы А), а график конверсии говорит о фиксации результата. "
   ]
  }
 ],
 "metadata": {
  "kernelspec": {
   "display_name": "Python 3",
   "language": "python",
   "name": "python3"
  },
  "language_info": {
   "codemirror_mode": {
    "name": "ipython",
    "version": 3
   },
   "file_extension": ".py",
   "mimetype": "text/x-python",
   "name": "python",
   "nbconvert_exporter": "python",
   "pygments_lexer": "ipython3",
   "version": "3.8.3"
  }
 },
 "nbformat": 4,
 "nbformat_minor": 2
}
