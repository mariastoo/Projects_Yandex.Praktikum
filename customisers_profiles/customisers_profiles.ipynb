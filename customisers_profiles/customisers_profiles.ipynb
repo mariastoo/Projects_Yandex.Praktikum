{
 "cells": [
  {
   "cell_type": "markdown",
   "metadata": {},
   "source": [
    "## **Оглавление:**\n",
    "- [Шаг 1. Откроем файл с данными и изучим общую информацию](#id-section1) <a class='anchor' id='id-section28'/>\n",
    "- [Вывод](#id-section2) <a class='anchor' id='id-section29'/>\n",
    "\n",
    "\n",
    "\n",
    "- [Шаг 2. Подготовим данные к анализу](#id-section3) <a class='anchor' id='id-section30'/>\n",
    "- [Изменим тип данных](#id-section4) <a class='anchor' id='id-section31'/>\n",
    "- [Обработаем дубликаты](#id-section5) <a class='anchor' id='id-section32'/>\n",
    "- [Добавим столбец с выручкой](#id-section6) <a class='anchor' id='id-section33'/>\n",
    "- [Вывод](#id-section7) <a class='anchor' id='id-section34'/>\n",
    "\n",
    "\n",
    "- [Шаг 3. Проведем исследовательский анализ данных (EDA)](#id-section8) <a class='anchor' id='id-section35'/>\n",
    "- [Изучим средние значения и стандартные отклонения по признакам](#id-section9) <a class='anchor' id='id-section36'/>\n",
    "- [Построим гистограммы распределения признаков](#id-section10) <a class='anchor' id='id-section37'/>\n",
    "- [Удалим выбросы из данных](#id-section11) <a class='anchor' id='id-section38'/>\n",
    "- [Построим матрицу корреляций](#id-section12) <a class='anchor' id='id-section39'/>\n",
    "- [Вывод](#id-section13) <a class='anchor' id='id-section40'/>\n",
    "\n",
    "\n",
    "- [Шаг 4. Проведем сегментацию покупателей](#id-section14) <a class='anchor' id='id-section41'/>\n",
    "- [Выделим категории товаров для сегментации покупателей](#id-section15) <a class='anchor' id='id-section42'/>\n",
    "- [Выделим сегменты покупателей по дням недели совершения покупок](#id-section16) <a class='anchor' id='id-section43'/>\n",
    "- [Выделим сегменты покупателей с помощью машинного обучения (алгоритм кластеризации)](#id-section101) <a class='anchor' id='id-section102'/>\n",
    "- [Посмотрим на средние значения признаков для сегментов](#id-section17) <a class='anchor' id='id-section44'/>\n",
    "- [Построим распределения признаков для сегментов](#id-section18) <a class='anchor' id='id-section45'/>\n",
    "- [Вывод](#id-section19) <a class='anchor' id='id-section46'/>\n",
    "\n",
    "\n",
    "- [Шаг 5. Проверим статистические гипотезы](#id-section20) <a class='anchor' id='id-section47'/>\n",
    "- [Гипотеза о равенстве среднего чека у покупателей товаров \"Для дома и сада\" в зимний и летний сезоны](#id-section21) <a class='anchor' id='id-section48'/>\n",
    "- [Вывод](#id-section22) <a class='anchor' id='id-section49'/>\n",
    "- [Гипотеза о равенстве среднего чека у покупателей по будним и выходным дням](#id-section23) <a class='anchor' id='id-section50'/>\n",
    "- [Вывод](#id-section24) <a class='anchor' id='id-section51'/>\n",
    "- [Гипотеза о равенстве среднего чека у покупателей в каждой паре из трех кластеров](#id-section103) <a class='anchor' id='id-section104'/>\n",
    "- [Вывод](#id-section105) <a class='anchor' id='id-section106'/>\n",
    "\n",
    "\n",
    "\n",
    "- [Шаг 6. Сформулируем общие выводы и рекомендации по разработке персонализированных предложений для покупателей](#id-section25) <a class='anchor' id='id-section52'/>\n",
    "\n",
    "\n",
    "- [Шаг 7. Презентация](#id-section26) <a class='anchor' id='id-section53'/>\n",
    "\n",
    "\n",
    "- [Шаг 8. Дашборд](#id-section27) <a class='anchor' id='id-section54'/>\n",
    "\n",
    "\n"
   ]
  },
  {
   "cell_type": "markdown",
   "metadata": {},
   "source": [
    "<a class='anchor' id='id-section1'/>\n",
    "\n",
    "## [Шаг 1. Откроем файл с данными и изучим общую информацию](#id-section28)\n",
    "\n",
    "Импортируем необходимые библиотеки.\n",
    "\n",
    "Применим метод `head(10)`, чтобы вывести на экран 10 строк из таблицы.\n",
    "\n",
    "Также сразу посмотрим, какие типы данных хранятся в таблице, воспользуемся методом `info()`."
   ]
  },
  {
   "cell_type": "code",
   "execution_count": 234,
   "metadata": {},
   "outputs": [
    {
     "name": "stderr",
     "output_type": "stream",
     "text": [
      "[nltk_data] Downloading package stopwords to\n",
      "[nltk_data]     /Users/mariasto/nltk_data...\n",
      "[nltk_data]   Package stopwords is already up-to-date!\n"
     ]
    }
   ],
   "source": [
    "from IPython.display import display\n",
    "import pandas as pd\n",
    "import warnings\n",
    "warnings.filterwarnings(\"ignore\")\n",
    "\n",
    "import matplotlib.pyplot as plt\n",
    "plt.rcParams.update({'figure.max_open_warning': 0})\n",
    "import seaborn as sns\n",
    "from datetime import datetime\n",
    "from pandas.plotting import register_matplotlib_converters\n",
    "register_matplotlib_converters()\n",
    "\n",
    "import nltk\n",
    "from nltk.corpus import stopwords\n",
    "from pymystem3 import Mystem\n",
    "from string import punctuation\n",
    "nltk.download('stopwords')\n",
    "\n",
    "from sklearn.model_selection import train_test_split\n",
    "from sklearn.feature_extraction.text import CountVectorizer\n",
    "from sklearn.feature_extraction.text import TfidfTransformer\n",
    "from sklearn.naive_bayes import MultinomialNB\n",
    "! pip install imblearn\n",
    "! pip install delayed\n",
    "from imblearn.pipeline import Pipeline\n",
    "\n",
    "import numpy as np\n",
    "from scipy import stats as st\n",
    "\n",
    "from sklearn.preprocessing import StandardScaler\n",
    "from sklearn.cluster import KMeans\n",
    "from scipy.cluster.hierarchy import dendrogram, linkage \n",
    "from sklearn.metrics import silhouette_score"
   ]
  },
  {
   "cell_type": "code",
   "execution_count": 235,
   "metadata": {},
   "outputs": [
    {
     "data": {
      "text/html": [
       "<div>\n",
       "<style scoped>\n",
       "    .dataframe tbody tr th:only-of-type {\n",
       "        vertical-align: middle;\n",
       "    }\n",
       "\n",
       "    .dataframe tbody tr th {\n",
       "        vertical-align: top;\n",
       "    }\n",
       "\n",
       "    .dataframe thead th {\n",
       "        text-align: right;\n",
       "    }\n",
       "</style>\n",
       "<table border=\"1\" class=\"dataframe\">\n",
       "  <thead>\n",
       "    <tr style=\"text-align: right;\">\n",
       "      <th></th>\n",
       "      <th>date</th>\n",
       "      <th>customer_id</th>\n",
       "      <th>order_id</th>\n",
       "      <th>product</th>\n",
       "      <th>quantity</th>\n",
       "      <th>price</th>\n",
       "    </tr>\n",
       "  </thead>\n",
       "  <tbody>\n",
       "    <tr>\n",
       "      <th>0</th>\n",
       "      <td>2018100100</td>\n",
       "      <td>ee47d746-6d2f-4d3c-9622-c31412542920</td>\n",
       "      <td>68477</td>\n",
       "      <td>Комнатное растение в горшке Алое Вера, d12, h30</td>\n",
       "      <td>1</td>\n",
       "      <td>142.0</td>\n",
       "    </tr>\n",
       "    <tr>\n",
       "      <th>1</th>\n",
       "      <td>2018100100</td>\n",
       "      <td>ee47d746-6d2f-4d3c-9622-c31412542920</td>\n",
       "      <td>68477</td>\n",
       "      <td>Комнатное растение в горшке Кофе Арабика, d12,...</td>\n",
       "      <td>1</td>\n",
       "      <td>194.0</td>\n",
       "    </tr>\n",
       "    <tr>\n",
       "      <th>2</th>\n",
       "      <td>2018100100</td>\n",
       "      <td>ee47d746-6d2f-4d3c-9622-c31412542920</td>\n",
       "      <td>68477</td>\n",
       "      <td>Радермахера d-12 см h-20 см</td>\n",
       "      <td>1</td>\n",
       "      <td>112.0</td>\n",
       "    </tr>\n",
       "    <tr>\n",
       "      <th>3</th>\n",
       "      <td>2018100100</td>\n",
       "      <td>ee47d746-6d2f-4d3c-9622-c31412542920</td>\n",
       "      <td>68477</td>\n",
       "      <td>Хризолидокарпус Лутесценс d-9 см</td>\n",
       "      <td>1</td>\n",
       "      <td>179.0</td>\n",
       "    </tr>\n",
       "    <tr>\n",
       "      <th>4</th>\n",
       "      <td>2018100100</td>\n",
       "      <td>ee47d746-6d2f-4d3c-9622-c31412542920</td>\n",
       "      <td>68477</td>\n",
       "      <td>Циперус Зумула d-12 см h-25 см</td>\n",
       "      <td>1</td>\n",
       "      <td>112.0</td>\n",
       "    </tr>\n",
       "    <tr>\n",
       "      <th>5</th>\n",
       "      <td>2018100100</td>\n",
       "      <td>ee47d746-6d2f-4d3c-9622-c31412542920</td>\n",
       "      <td>68477</td>\n",
       "      <td>Шеффлера Лузеана d-9 см</td>\n",
       "      <td>1</td>\n",
       "      <td>164.0</td>\n",
       "    </tr>\n",
       "    <tr>\n",
       "      <th>6</th>\n",
       "      <td>2018100100</td>\n",
       "      <td>ee47d746-6d2f-4d3c-9622-c31412542920</td>\n",
       "      <td>68477</td>\n",
       "      <td>Юкка нитчатая d-12 см h-25-35 см</td>\n",
       "      <td>1</td>\n",
       "      <td>134.0</td>\n",
       "    </tr>\n",
       "    <tr>\n",
       "      <th>7</th>\n",
       "      <td>2018100108</td>\n",
       "      <td>375e0724-f033-4c76-b579-84969cf38ee2</td>\n",
       "      <td>68479</td>\n",
       "      <td>Настенная сушилка для белья Gimi Brio Super 100</td>\n",
       "      <td>1</td>\n",
       "      <td>824.0</td>\n",
       "    </tr>\n",
       "    <tr>\n",
       "      <th>8</th>\n",
       "      <td>2018100108</td>\n",
       "      <td>6644e5b4-9934-4863-9778-aaa125207701</td>\n",
       "      <td>68478</td>\n",
       "      <td>Таз пластмассовый 21,0 л круглый \"Водолей\" С61...</td>\n",
       "      <td>1</td>\n",
       "      <td>269.0</td>\n",
       "    </tr>\n",
       "    <tr>\n",
       "      <th>9</th>\n",
       "      <td>2018100109</td>\n",
       "      <td>c971fb21-d54c-4134-938f-16b62ee86d3b</td>\n",
       "      <td>68480</td>\n",
       "      <td>Чехол для гладильной доски Colombo Persia Beig...</td>\n",
       "      <td>1</td>\n",
       "      <td>674.0</td>\n",
       "    </tr>\n",
       "  </tbody>\n",
       "</table>\n",
       "</div>"
      ],
      "text/plain": [
       "         date                           customer_id  order_id  \\\n",
       "0  2018100100  ee47d746-6d2f-4d3c-9622-c31412542920     68477   \n",
       "1  2018100100  ee47d746-6d2f-4d3c-9622-c31412542920     68477   \n",
       "2  2018100100  ee47d746-6d2f-4d3c-9622-c31412542920     68477   \n",
       "3  2018100100  ee47d746-6d2f-4d3c-9622-c31412542920     68477   \n",
       "4  2018100100  ee47d746-6d2f-4d3c-9622-c31412542920     68477   \n",
       "5  2018100100  ee47d746-6d2f-4d3c-9622-c31412542920     68477   \n",
       "6  2018100100  ee47d746-6d2f-4d3c-9622-c31412542920     68477   \n",
       "7  2018100108  375e0724-f033-4c76-b579-84969cf38ee2     68479   \n",
       "8  2018100108  6644e5b4-9934-4863-9778-aaa125207701     68478   \n",
       "9  2018100109  c971fb21-d54c-4134-938f-16b62ee86d3b     68480   \n",
       "\n",
       "                                             product  quantity  price  \n",
       "0    Комнатное растение в горшке Алое Вера, d12, h30         1  142.0  \n",
       "1  Комнатное растение в горшке Кофе Арабика, d12,...         1  194.0  \n",
       "2                        Радермахера d-12 см h-20 см         1  112.0  \n",
       "3                   Хризолидокарпус Лутесценс d-9 см         1  179.0  \n",
       "4                     Циперус Зумула d-12 см h-25 см         1  112.0  \n",
       "5                            Шеффлера Лузеана d-9 см         1  164.0  \n",
       "6                   Юкка нитчатая d-12 см h-25-35 см         1  134.0  \n",
       "7    Настенная сушилка для белья Gimi Brio Super 100         1  824.0  \n",
       "8  Таз пластмассовый 21,0 л круглый \"Водолей\" С61...         1  269.0  \n",
       "9  Чехол для гладильной доски Colombo Persia Beig...         1  674.0  "
      ]
     },
     "metadata": {},
     "output_type": "display_data"
    },
    {
     "name": "stdout",
     "output_type": "stream",
     "text": [
      "<class 'pandas.core.frame.DataFrame'>\n",
      "RangeIndex: 6737 entries, 0 to 6736\n",
      "Data columns (total 6 columns):\n",
      " #   Column       Non-Null Count  Dtype  \n",
      "---  ------       --------------  -----  \n",
      " 0   date         6737 non-null   int64  \n",
      " 1   customer_id  6737 non-null   object \n",
      " 2   order_id     6737 non-null   int64  \n",
      " 3   product      6737 non-null   object \n",
      " 4   quantity     6737 non-null   int64  \n",
      " 5   price        6737 non-null   float64\n",
      "dtypes: float64(1), int64(3), object(2)\n",
      "memory usage: 315.9+ KB\n"
     ]
    }
   ],
   "source": [
    "try:\n",
    "    df = pd.read_csv('/datasets/ecommerce_dataset.csv')\n",
    "except:\n",
    "    df = pd.read_csv('ecommerce_dataset.csv')\n",
    "\n",
    "display(df.head(10))\n",
    "df.info()"
   ]
  },
  {
   "cell_type": "markdown",
   "metadata": {},
   "source": [
    "<a class='anchor' id='id-section2'/>\n",
    "\n",
    "### [Вывод](#id-section29)\n",
    "\n",
    "Таблица `df` - массив данных, в котором хранится 6.7 тыс. строк. \n",
    "\n",
    "Пропущенных значений в таблице нет. \n",
    "\n",
    "Названия переменных удобны для работы.\n",
    "\n",
    "- Категориальные переменные `customer_id` и `product` имеют тип данных `object` - это корректно (так как идентификатор покупателя содержит числа и буквы, а наименование товара представлено через словесное описание и размерную характеристику).\n",
    "- Категориальная переменная `order_id` с типом данных `int64` - корретно (так как в идентификаторе заказа используются только числа).\n",
    "- Количественные переменные `quantity` (количество товара) и `price` (цена товара) с типами данных `int64` и `float64` - корректно.\n",
    "- Переменная `date` (дата заказа) явно должна иметь тип `datetime` вместо `int64`. \n",
    "\n",
    "Мы можем сделать заключение, что для дальнейшей работы менять тип данных требуется только в переменной `date`. "
   ]
  },
  {
   "cell_type": "markdown",
   "metadata": {},
   "source": [
    "<a class='anchor' id='id-section3'/>\n",
    "\n",
    "## [Шаг 2. Подготовим данные к анализу](#id-section30)"
   ]
  },
  {
   "cell_type": "markdown",
   "metadata": {},
   "source": [
    "<a class='anchor' id='id-section4'/>\n",
    "\n",
    "### [Изменим тип данных](#id-section31)\n",
    "\n",
    "Воспользуемся методом `datetime.strptime()`, который применим к каждому строковому значению в столбце `date`. + Выполним проверку. "
   ]
  },
  {
   "cell_type": "code",
   "execution_count": 236,
   "metadata": {},
   "outputs": [
    {
     "name": "stdout",
     "output_type": "stream",
     "text": [
      "<class 'pandas.core.frame.DataFrame'>\n",
      "RangeIndex: 6737 entries, 0 to 6736\n",
      "Data columns (total 6 columns):\n",
      " #   Column       Non-Null Count  Dtype         \n",
      "---  ------       --------------  -----         \n",
      " 0   date         6737 non-null   datetime64[ns]\n",
      " 1   customer_id  6737 non-null   object        \n",
      " 2   order_id     6737 non-null   int64         \n",
      " 3   product      6737 non-null   object        \n",
      " 4   quantity     6737 non-null   int64         \n",
      " 5   price        6737 non-null   float64       \n",
      "dtypes: datetime64[ns](1), float64(1), int64(2), object(2)\n",
      "memory usage: 315.9+ KB\n"
     ]
    },
    {
     "data": {
      "text/html": [
       "<div>\n",
       "<style scoped>\n",
       "    .dataframe tbody tr th:only-of-type {\n",
       "        vertical-align: middle;\n",
       "    }\n",
       "\n",
       "    .dataframe tbody tr th {\n",
       "        vertical-align: top;\n",
       "    }\n",
       "\n",
       "    .dataframe thead th {\n",
       "        text-align: right;\n",
       "    }\n",
       "</style>\n",
       "<table border=\"1\" class=\"dataframe\">\n",
       "  <thead>\n",
       "    <tr style=\"text-align: right;\">\n",
       "      <th></th>\n",
       "      <th>date</th>\n",
       "      <th>customer_id</th>\n",
       "      <th>order_id</th>\n",
       "      <th>product</th>\n",
       "      <th>quantity</th>\n",
       "      <th>price</th>\n",
       "    </tr>\n",
       "  </thead>\n",
       "  <tbody>\n",
       "    <tr>\n",
       "      <th>3302</th>\n",
       "      <td>2019-04-29 13:00:00</td>\n",
       "      <td>603e92a4-fc7f-4203-9ca5-103da5b008ac</td>\n",
       "      <td>14705</td>\n",
       "      <td>Рассада Остеоспермум крупноцветковый Purple ма...</td>\n",
       "      <td>1</td>\n",
       "      <td>127.0</td>\n",
       "    </tr>\n",
       "    <tr>\n",
       "      <th>4315</th>\n",
       "      <td>2019-06-02 16:00:00</td>\n",
       "      <td>1d6c8c1f-a799-4418-9af2-1ded47d7a85c</td>\n",
       "      <td>14833</td>\n",
       "      <td>Рассада Кабачка сорт Аэронавт, кассета по 6шт</td>\n",
       "      <td>1</td>\n",
       "      <td>120.0</td>\n",
       "    </tr>\n",
       "    <tr>\n",
       "      <th>1580</th>\n",
       "      <td>2019-01-23 14:00:00</td>\n",
       "      <td>8fa1ee5d-7955-4ad6-8ce0-fd27033e991a</td>\n",
       "      <td>69944</td>\n",
       "      <td>Емкость для соуса с ложкой PASABAHCE 200 мл OT...</td>\n",
       "      <td>15</td>\n",
       "      <td>101.0</td>\n",
       "    </tr>\n",
       "    <tr>\n",
       "      <th>4086</th>\n",
       "      <td>2019-05-28 18:00:00</td>\n",
       "      <td>63d48b37-11ca-46ec-b858-26cc165f7629</td>\n",
       "      <td>14825</td>\n",
       "      <td>Петуния простая рассада однолетних цветов в ка...</td>\n",
       "      <td>2</td>\n",
       "      <td>128.0</td>\n",
       "    </tr>\n",
       "    <tr>\n",
       "      <th>3896</th>\n",
       "      <td>2019-05-17 18:00:00</td>\n",
       "      <td>b6095dc9-1580-4d1f-8ba3-a554a8dab3bd</td>\n",
       "      <td>14789</td>\n",
       "      <td>Рассада Дыни сорт Колхозница горшок 9х9 см P-9</td>\n",
       "      <td>4</td>\n",
       "      <td>38.0</td>\n",
       "    </tr>\n",
       "  </tbody>\n",
       "</table>\n",
       "</div>"
      ],
      "text/plain": [
       "                    date                           customer_id  order_id  \\\n",
       "3302 2019-04-29 13:00:00  603e92a4-fc7f-4203-9ca5-103da5b008ac     14705   \n",
       "4315 2019-06-02 16:00:00  1d6c8c1f-a799-4418-9af2-1ded47d7a85c     14833   \n",
       "1580 2019-01-23 14:00:00  8fa1ee5d-7955-4ad6-8ce0-fd27033e991a     69944   \n",
       "4086 2019-05-28 18:00:00  63d48b37-11ca-46ec-b858-26cc165f7629     14825   \n",
       "3896 2019-05-17 18:00:00  b6095dc9-1580-4d1f-8ba3-a554a8dab3bd     14789   \n",
       "\n",
       "                                                product  quantity  price  \n",
       "3302  Рассада Остеоспермум крупноцветковый Purple ма...         1  127.0  \n",
       "4315      Рассада Кабачка сорт Аэронавт, кассета по 6шт         1  120.0  \n",
       "1580  Емкость для соуса с ложкой PASABAHCE 200 мл OT...        15  101.0  \n",
       "4086  Петуния простая рассада однолетних цветов в ка...         2  128.0  \n",
       "3896     Рассада Дыни сорт Колхозница горшок 9х9 см P-9         4   38.0  "
      ]
     },
     "metadata": {},
     "output_type": "display_data"
    }
   ],
   "source": [
    "df['date'] = df['date'].apply(lambda x: datetime.strptime(str(x), '%Y%m%d%H'))\n",
    "\n",
    "df.info()\n",
    "\n",
    "display(df.sample(5, random_state = 0))"
   ]
  },
  {
   "cell_type": "markdown",
   "metadata": {},
   "source": [
    "<a class='anchor' id='id-section5'/>\n",
    "\n",
    "### [Обработаем дубликаты](#id-section32)\n",
    "\n",
    "Поищем **полные** дубликаты в таблице методом `duplicated().sum()`, что позволит нам посчитать общее количество дубликатов. "
   ]
  },
  {
   "cell_type": "code",
   "execution_count": 237,
   "metadata": {},
   "outputs": [
    {
     "data": {
      "text/plain": [
       "0"
      ]
     },
     "metadata": {},
     "output_type": "display_data"
    }
   ],
   "source": [
    "display(df.duplicated().sum())"
   ]
  },
  {
   "cell_type": "markdown",
   "metadata": {},
   "source": [
    "Удалим из таблицы столбец с датой и временем и посмотрим, встречаются ли **дубликаты в таком случае**. Также посчитаем, сколько % от общего числа данных составляют такие дубликаты."
   ]
  },
  {
   "cell_type": "code",
   "execution_count": 238,
   "metadata": {},
   "outputs": [
    {
     "data": {
      "text/plain": [
       "1864"
      ]
     },
     "metadata": {},
     "output_type": "display_data"
    },
    {
     "data": {
      "text/plain": [
       "0.27668101528870415"
      ]
     },
     "metadata": {},
     "output_type": "display_data"
    }
   ],
   "source": [
    "df1 = df.drop('date', axis = 1)\n",
    "\n",
    "display(df1.duplicated().sum())\n",
    "\n",
    "display(df1.duplicated().sum() / df.shape[0])"
   ]
  },
  {
   "cell_type": "markdown",
   "metadata": {},
   "source": [
    "- Дубликатов нашлось очень много (27% от общего числа данных).\n",
    "---\n",
    "\n",
    "Посмотрим, как распределены найденные дубликаты на основых данных (с учетом даты и времени), используем метод `loc`."
   ]
  },
  {
   "cell_type": "code",
   "execution_count": 239,
   "metadata": {},
   "outputs": [
    {
     "data": {
      "text/html": [
       "<div>\n",
       "<style scoped>\n",
       "    .dataframe tbody tr th:only-of-type {\n",
       "        vertical-align: middle;\n",
       "    }\n",
       "\n",
       "    .dataframe tbody tr th {\n",
       "        vertical-align: top;\n",
       "    }\n",
       "\n",
       "    .dataframe thead th {\n",
       "        text-align: right;\n",
       "    }\n",
       "</style>\n",
       "<table border=\"1\" class=\"dataframe\">\n",
       "  <thead>\n",
       "    <tr style=\"text-align: right;\">\n",
       "      <th></th>\n",
       "      <th>date</th>\n",
       "      <th>customer_id</th>\n",
       "      <th>order_id</th>\n",
       "      <th>product</th>\n",
       "      <th>quantity</th>\n",
       "      <th>price</th>\n",
       "    </tr>\n",
       "  </thead>\n",
       "  <tbody>\n",
       "    <tr>\n",
       "      <th>58</th>\n",
       "      <td>2018-10-02 18:00:00</td>\n",
       "      <td>b731df05-98fa-4610-8496-716ec530a02c</td>\n",
       "      <td>68474</td>\n",
       "      <td>Доска гладильная Eurogold Professional 130х48 ...</td>\n",
       "      <td>1</td>\n",
       "      <td>3299.0</td>\n",
       "    </tr>\n",
       "    <tr>\n",
       "      <th>59</th>\n",
       "      <td>2018-10-02 19:00:00</td>\n",
       "      <td>b731df05-98fa-4610-8496-716ec530a02c</td>\n",
       "      <td>68474</td>\n",
       "      <td>Доска гладильная Eurogold Professional 130х48 ...</td>\n",
       "      <td>1</td>\n",
       "      <td>3299.0</td>\n",
       "    </tr>\n",
       "    <tr>\n",
       "      <th>60</th>\n",
       "      <td>2018-10-02 20:00:00</td>\n",
       "      <td>b731df05-98fa-4610-8496-716ec530a02c</td>\n",
       "      <td>68474</td>\n",
       "      <td>Доска гладильная Eurogold Professional 130х48 ...</td>\n",
       "      <td>1</td>\n",
       "      <td>3299.0</td>\n",
       "    </tr>\n",
       "    <tr>\n",
       "      <th>63</th>\n",
       "      <td>2018-10-03 04:00:00</td>\n",
       "      <td>b731df05-98fa-4610-8496-716ec530a02c</td>\n",
       "      <td>68474</td>\n",
       "      <td>Доска гладильная Eurogold Professional 130х48 ...</td>\n",
       "      <td>1</td>\n",
       "      <td>3299.0</td>\n",
       "    </tr>\n",
       "    <tr>\n",
       "      <th>94</th>\n",
       "      <td>2018-10-04 13:00:00</td>\n",
       "      <td>32de7df8-8d4f-4c84-a7b9-c41d00dd83ba</td>\n",
       "      <td>68522</td>\n",
       "      <td>Эвкалипт Гунни d-17 см h-60 см</td>\n",
       "      <td>1</td>\n",
       "      <td>1409.0</td>\n",
       "    </tr>\n",
       "    <tr>\n",
       "      <th>...</th>\n",
       "      <td>...</td>\n",
       "      <td>...</td>\n",
       "      <td>...</td>\n",
       "      <td>...</td>\n",
       "      <td>...</td>\n",
       "      <td>...</td>\n",
       "    </tr>\n",
       "    <tr>\n",
       "      <th>6706</th>\n",
       "      <td>2019-10-28 10:00:00</td>\n",
       "      <td>57cc80a2-2610-4eef-9457-e7c3bf0c72f0</td>\n",
       "      <td>70960</td>\n",
       "      <td>Сумка-тележка 2-х колесная Gimi Argo красная</td>\n",
       "      <td>1</td>\n",
       "      <td>1087.0</td>\n",
       "    </tr>\n",
       "    <tr>\n",
       "      <th>6711</th>\n",
       "      <td>2019-10-28 21:00:00</td>\n",
       "      <td>cb65d08a-dae7-4890-aef0-bb9f79055e02</td>\n",
       "      <td>73108</td>\n",
       "      <td>Мирт d-9 см h-15 см</td>\n",
       "      <td>1</td>\n",
       "      <td>134.0</td>\n",
       "    </tr>\n",
       "    <tr>\n",
       "      <th>6728</th>\n",
       "      <td>2019-10-31 00:00:00</td>\n",
       "      <td>ffaeab76-3a8d-49ee-860f-17273b2fc8a2</td>\n",
       "      <td>73136</td>\n",
       "      <td>Таз пластмассовый со стиральной доской (Иж), 1...</td>\n",
       "      <td>1</td>\n",
       "      <td>397.0</td>\n",
       "    </tr>\n",
       "    <tr>\n",
       "      <th>6729</th>\n",
       "      <td>2019-10-31 02:00:00</td>\n",
       "      <td>ffaeab76-3a8d-49ee-860f-17273b2fc8a2</td>\n",
       "      <td>73136</td>\n",
       "      <td>Таз пластмассовый со стиральной доской (Иж), 1...</td>\n",
       "      <td>1</td>\n",
       "      <td>397.0</td>\n",
       "    </tr>\n",
       "    <tr>\n",
       "      <th>6736</th>\n",
       "      <td>2019-10-31 16:00:00</td>\n",
       "      <td>344aa778-e436-419e-a9c6-9b8f37b7c1df</td>\n",
       "      <td>73137</td>\n",
       "      <td>Сумка-тележка 2-х колесная Gimi Argo синяя</td>\n",
       "      <td>1</td>\n",
       "      <td>1087.0</td>\n",
       "    </tr>\n",
       "  </tbody>\n",
       "</table>\n",
       "<p>1864 rows × 6 columns</p>\n",
       "</div>"
      ],
      "text/plain": [
       "                    date                           customer_id  order_id  \\\n",
       "58   2018-10-02 18:00:00  b731df05-98fa-4610-8496-716ec530a02c     68474   \n",
       "59   2018-10-02 19:00:00  b731df05-98fa-4610-8496-716ec530a02c     68474   \n",
       "60   2018-10-02 20:00:00  b731df05-98fa-4610-8496-716ec530a02c     68474   \n",
       "63   2018-10-03 04:00:00  b731df05-98fa-4610-8496-716ec530a02c     68474   \n",
       "94   2018-10-04 13:00:00  32de7df8-8d4f-4c84-a7b9-c41d00dd83ba     68522   \n",
       "...                  ...                                   ...       ...   \n",
       "6706 2019-10-28 10:00:00  57cc80a2-2610-4eef-9457-e7c3bf0c72f0     70960   \n",
       "6711 2019-10-28 21:00:00  cb65d08a-dae7-4890-aef0-bb9f79055e02     73108   \n",
       "6728 2019-10-31 00:00:00  ffaeab76-3a8d-49ee-860f-17273b2fc8a2     73136   \n",
       "6729 2019-10-31 02:00:00  ffaeab76-3a8d-49ee-860f-17273b2fc8a2     73136   \n",
       "6736 2019-10-31 16:00:00  344aa778-e436-419e-a9c6-9b8f37b7c1df     73137   \n",
       "\n",
       "                                                product  quantity   price  \n",
       "58    Доска гладильная Eurogold Professional 130х48 ...         1  3299.0  \n",
       "59    Доска гладильная Eurogold Professional 130х48 ...         1  3299.0  \n",
       "60    Доска гладильная Eurogold Professional 130х48 ...         1  3299.0  \n",
       "63    Доска гладильная Eurogold Professional 130х48 ...         1  3299.0  \n",
       "94                       Эвкалипт Гунни d-17 см h-60 см         1  1409.0  \n",
       "...                                                 ...       ...     ...  \n",
       "6706       Сумка-тележка 2-х колесная Gimi Argo красная         1  1087.0  \n",
       "6711                                Мирт d-9 см h-15 см         1   134.0  \n",
       "6728  Таз пластмассовый со стиральной доской (Иж), 1...         1   397.0  \n",
       "6729  Таз пластмассовый со стиральной доской (Иж), 1...         1   397.0  \n",
       "6736         Сумка-тележка 2-х колесная Gimi Argo синяя         1  1087.0  \n",
       "\n",
       "[1864 rows x 6 columns]"
      ]
     },
     "metadata": {},
     "output_type": "display_data"
    }
   ],
   "source": [
    "display(df.loc[df1.duplicated()])"
   ]
  },
  {
   "cell_type": "markdown",
   "metadata": {},
   "source": [
    "- Мы видим, что покупатель делает заказ, и далее этот заказ еще несколько раз отображается в системе в разное время. \n",
    "- Можно предположить, что изначально данные были выгружены с учетом того, чтобы дать нам всю историю движения каждого заказа во времени (например, не только запись о том, когда покупатель оформил заказ, но и о том, когда банком был подтвержден платеж по заказу, когда заказ был передан в службу доставки, движение заказа в центре обработки доставок и т.д. - то есть вся информация по заказу, которая хранится в системе). \n",
    "- Мы считаем, что несмотря на то, что такие дублированные данные составляют 27% от общего числа данных, для дальнейшей работы нам лучше **удалить их.**"
   ]
  },
  {
   "cell_type": "code",
   "execution_count": 240,
   "metadata": {},
   "outputs": [
    {
     "data": {
      "text/html": [
       "<div>\n",
       "<style scoped>\n",
       "    .dataframe tbody tr th:only-of-type {\n",
       "        vertical-align: middle;\n",
       "    }\n",
       "\n",
       "    .dataframe tbody tr th {\n",
       "        vertical-align: top;\n",
       "    }\n",
       "\n",
       "    .dataframe thead th {\n",
       "        text-align: right;\n",
       "    }\n",
       "</style>\n",
       "<table border=\"1\" class=\"dataframe\">\n",
       "  <thead>\n",
       "    <tr style=\"text-align: right;\">\n",
       "      <th></th>\n",
       "      <th>date</th>\n",
       "      <th>customer_id</th>\n",
       "      <th>order_id</th>\n",
       "      <th>product</th>\n",
       "      <th>quantity</th>\n",
       "      <th>price</th>\n",
       "    </tr>\n",
       "  </thead>\n",
       "  <tbody>\n",
       "    <tr>\n",
       "      <th>0</th>\n",
       "      <td>2018-10-01 00:00:00</td>\n",
       "      <td>ee47d746-6d2f-4d3c-9622-c31412542920</td>\n",
       "      <td>68477</td>\n",
       "      <td>Комнатное растение в горшке Алое Вера, d12, h30</td>\n",
       "      <td>1</td>\n",
       "      <td>142.0</td>\n",
       "    </tr>\n",
       "    <tr>\n",
       "      <th>1</th>\n",
       "      <td>2018-10-01 00:00:00</td>\n",
       "      <td>ee47d746-6d2f-4d3c-9622-c31412542920</td>\n",
       "      <td>68477</td>\n",
       "      <td>Комнатное растение в горшке Кофе Арабика, d12,...</td>\n",
       "      <td>1</td>\n",
       "      <td>194.0</td>\n",
       "    </tr>\n",
       "    <tr>\n",
       "      <th>2</th>\n",
       "      <td>2018-10-01 00:00:00</td>\n",
       "      <td>ee47d746-6d2f-4d3c-9622-c31412542920</td>\n",
       "      <td>68477</td>\n",
       "      <td>Радермахера d-12 см h-20 см</td>\n",
       "      <td>1</td>\n",
       "      <td>112.0</td>\n",
       "    </tr>\n",
       "    <tr>\n",
       "      <th>3</th>\n",
       "      <td>2018-10-01 00:00:00</td>\n",
       "      <td>ee47d746-6d2f-4d3c-9622-c31412542920</td>\n",
       "      <td>68477</td>\n",
       "      <td>Хризолидокарпус Лутесценс d-9 см</td>\n",
       "      <td>1</td>\n",
       "      <td>179.0</td>\n",
       "    </tr>\n",
       "    <tr>\n",
       "      <th>4</th>\n",
       "      <td>2018-10-01 00:00:00</td>\n",
       "      <td>ee47d746-6d2f-4d3c-9622-c31412542920</td>\n",
       "      <td>68477</td>\n",
       "      <td>Циперус Зумула d-12 см h-25 см</td>\n",
       "      <td>1</td>\n",
       "      <td>112.0</td>\n",
       "    </tr>\n",
       "    <tr>\n",
       "      <th>...</th>\n",
       "      <td>...</td>\n",
       "      <td>...</td>\n",
       "      <td>...</td>\n",
       "      <td>...</td>\n",
       "      <td>...</td>\n",
       "      <td>...</td>\n",
       "    </tr>\n",
       "    <tr>\n",
       "      <th>6731</th>\n",
       "      <td>2019-10-31 11:00:00</td>\n",
       "      <td>f17ed857-178e-45e1-a662-0a9dd3b58c5f</td>\n",
       "      <td>73155</td>\n",
       "      <td>Мимоза стыдливая d-9 см</td>\n",
       "      <td>1</td>\n",
       "      <td>329.0</td>\n",
       "    </tr>\n",
       "    <tr>\n",
       "      <th>6732</th>\n",
       "      <td>2019-10-31 11:00:00</td>\n",
       "      <td>73d1cd35-5e5f-4629-8cf2-3fda829d4e58</td>\n",
       "      <td>73156</td>\n",
       "      <td>Таз пластмассовый 40,0 л пищевой овальный (Иж)...</td>\n",
       "      <td>1</td>\n",
       "      <td>404.0</td>\n",
       "    </tr>\n",
       "    <tr>\n",
       "      <th>6733</th>\n",
       "      <td>2019-10-31 12:00:00</td>\n",
       "      <td>1f0a7f35-7459-4f23-b468-5e45bf481dd1</td>\n",
       "      <td>73158</td>\n",
       "      <td>Сумка-тележка 2-х колесная Gimi Argo синяя</td>\n",
       "      <td>1</td>\n",
       "      <td>1087.0</td>\n",
       "    </tr>\n",
       "    <tr>\n",
       "      <th>6734</th>\n",
       "      <td>2019-10-31 13:00:00</td>\n",
       "      <td>25df96a7-c453-4708-9cea-a3dfc7c342ea</td>\n",
       "      <td>73162</td>\n",
       "      <td>Герань домашняя (пеларгония зональная) цветуща...</td>\n",
       "      <td>1</td>\n",
       "      <td>157.0</td>\n",
       "    </tr>\n",
       "    <tr>\n",
       "      <th>6735</th>\n",
       "      <td>2019-10-31 14:00:00</td>\n",
       "      <td>73d1cd35-5e5f-4629-8cf2-3fda829d4e58</td>\n",
       "      <td>73164</td>\n",
       "      <td>Таз пластмассовый со стиральной доской (Иж), 1...</td>\n",
       "      <td>1</td>\n",
       "      <td>397.0</td>\n",
       "    </tr>\n",
       "  </tbody>\n",
       "</table>\n",
       "<p>4873 rows × 6 columns</p>\n",
       "</div>"
      ],
      "text/plain": [
       "                    date                           customer_id  order_id  \\\n",
       "0    2018-10-01 00:00:00  ee47d746-6d2f-4d3c-9622-c31412542920     68477   \n",
       "1    2018-10-01 00:00:00  ee47d746-6d2f-4d3c-9622-c31412542920     68477   \n",
       "2    2018-10-01 00:00:00  ee47d746-6d2f-4d3c-9622-c31412542920     68477   \n",
       "3    2018-10-01 00:00:00  ee47d746-6d2f-4d3c-9622-c31412542920     68477   \n",
       "4    2018-10-01 00:00:00  ee47d746-6d2f-4d3c-9622-c31412542920     68477   \n",
       "...                  ...                                   ...       ...   \n",
       "6731 2019-10-31 11:00:00  f17ed857-178e-45e1-a662-0a9dd3b58c5f     73155   \n",
       "6732 2019-10-31 11:00:00  73d1cd35-5e5f-4629-8cf2-3fda829d4e58     73156   \n",
       "6733 2019-10-31 12:00:00  1f0a7f35-7459-4f23-b468-5e45bf481dd1     73158   \n",
       "6734 2019-10-31 13:00:00  25df96a7-c453-4708-9cea-a3dfc7c342ea     73162   \n",
       "6735 2019-10-31 14:00:00  73d1cd35-5e5f-4629-8cf2-3fda829d4e58     73164   \n",
       "\n",
       "                                                product  quantity   price  \n",
       "0       Комнатное растение в горшке Алое Вера, d12, h30         1   142.0  \n",
       "1     Комнатное растение в горшке Кофе Арабика, d12,...         1   194.0  \n",
       "2                           Радермахера d-12 см h-20 см         1   112.0  \n",
       "3                      Хризолидокарпус Лутесценс d-9 см         1   179.0  \n",
       "4                        Циперус Зумула d-12 см h-25 см         1   112.0  \n",
       "...                                                 ...       ...     ...  \n",
       "6731                            Мимоза стыдливая d-9 см         1   329.0  \n",
       "6732  Таз пластмассовый 40,0 л пищевой овальный (Иж)...         1   404.0  \n",
       "6733         Сумка-тележка 2-х колесная Gimi Argo синяя         1  1087.0  \n",
       "6734  Герань домашняя (пеларгония зональная) цветуща...         1   157.0  \n",
       "6735  Таз пластмассовый со стиральной доской (Иж), 1...         1   397.0  \n",
       "\n",
       "[4873 rows x 6 columns]"
      ]
     },
     "metadata": {},
     "output_type": "display_data"
    }
   ],
   "source": [
    "# меняем для дубликатов условие True на False. Теперь True только там, где дубликатов нет\n",
    "not_duplicates = df1.duplicated().apply(lambda x: not x)\n",
    "\n",
    "# оставляем в исходном датасете только те строки, которые попали под условие True \n",
    "# (накладываем Series not_duplicates без дубликатов)\n",
    "df = df.loc[not_duplicates]\n",
    "\n",
    "display(df)"
   ]
  },
  {
   "cell_type": "markdown",
   "metadata": {},
   "source": [
    "<a class='anchor' id='id-section6'/>\n",
    "\n",
    "### [Добавим столбец с выручкой](#id-section33)\n",
    "\n",
    "Добавим в датафрейм столбец с выручкой, умножив количество товара на цену."
   ]
  },
  {
   "cell_type": "code",
   "execution_count": 241,
   "metadata": {},
   "outputs": [],
   "source": [
    "df['revenue'] = df['quantity'] * df['price']"
   ]
  },
  {
   "cell_type": "markdown",
   "metadata": {},
   "source": [
    "<a class='anchor' id='id-section7'/>\n",
    "\n",
    "### [Вывод](#id-section34)\n",
    "\n",
    "На данном этапе мы:\n",
    "- изменили тип данных в столбце `date` на `datetime`;\n",
    "- проверили, что полные дубликаты в таблице отсутствуют;\n",
    "- убрали из таблицы неполные дубликаты (27% от общего числа данных - но это одни и те же заказанные товары, которые  несколько раз отображаются в системе в разное время, то есть история движения каждого заказа во времени);\n",
    "- добавили в датафрейм столбец `revenue` с выручкой."
   ]
  },
  {
   "cell_type": "markdown",
   "metadata": {},
   "source": [
    "<a class='anchor' id='id-section8'/>\n",
    "\n",
    "## [Шаг 3. Проведем исследовательский анализ данных (EDA)](#id-section35)"
   ]
  },
  {
   "cell_type": "markdown",
   "metadata": {},
   "source": [
    "<a class='anchor' id='id-section9'/>\n",
    "\n",
    "### [Изучим средние значения и стандартные отклонения по признакам](#id-section36)\n",
    "\n",
    "На ***Шаге 1.*** мы уже убедились, что в датасете нет пропущенных значений.\n",
    "\n",
    "Вызовем метод `describe()` и изучим средние значения и стандартные отклонения по всем количественным переменным, а также по переменной с датой и временем."
   ]
  },
  {
   "cell_type": "code",
   "execution_count": 242,
   "metadata": {},
   "outputs": [
    {
     "data": {
      "text/html": [
       "<div>\n",
       "<style scoped>\n",
       "    .dataframe tbody tr th:only-of-type {\n",
       "        vertical-align: middle;\n",
       "    }\n",
       "\n",
       "    .dataframe tbody tr th {\n",
       "        vertical-align: top;\n",
       "    }\n",
       "\n",
       "    .dataframe thead th {\n",
       "        text-align: right;\n",
       "    }\n",
       "</style>\n",
       "<table border=\"1\" class=\"dataframe\">\n",
       "  <thead>\n",
       "    <tr style=\"text-align: right;\">\n",
       "      <th></th>\n",
       "      <th>quantity</th>\n",
       "      <th>price</th>\n",
       "      <th>revenue</th>\n",
       "    </tr>\n",
       "  </thead>\n",
       "  <tbody>\n",
       "    <tr>\n",
       "      <th>count</th>\n",
       "      <td>4873.000000</td>\n",
       "      <td>4873.000000</td>\n",
       "      <td>4873.000000</td>\n",
       "    </tr>\n",
       "    <tr>\n",
       "      <th>mean</th>\n",
       "      <td>2.837472</td>\n",
       "      <td>514.749846</td>\n",
       "      <td>850.021342</td>\n",
       "    </tr>\n",
       "    <tr>\n",
       "      <th>std</th>\n",
       "      <td>17.606813</td>\n",
       "      <td>944.455480</td>\n",
       "      <td>9807.308006</td>\n",
       "    </tr>\n",
       "    <tr>\n",
       "      <th>min</th>\n",
       "      <td>1.000000</td>\n",
       "      <td>9.000000</td>\n",
       "      <td>9.000000</td>\n",
       "    </tr>\n",
       "    <tr>\n",
       "      <th>25%</th>\n",
       "      <td>1.000000</td>\n",
       "      <td>90.000000</td>\n",
       "      <td>120.000000</td>\n",
       "    </tr>\n",
       "    <tr>\n",
       "      <th>50%</th>\n",
       "      <td>1.000000</td>\n",
       "      <td>150.000000</td>\n",
       "      <td>194.000000</td>\n",
       "    </tr>\n",
       "    <tr>\n",
       "      <th>75%</th>\n",
       "      <td>1.000000</td>\n",
       "      <td>488.000000</td>\n",
       "      <td>734.000000</td>\n",
       "    </tr>\n",
       "    <tr>\n",
       "      <th>max</th>\n",
       "      <td>1000.000000</td>\n",
       "      <td>14917.000000</td>\n",
       "      <td>675000.000000</td>\n",
       "    </tr>\n",
       "  </tbody>\n",
       "</table>\n",
       "</div>"
      ],
      "text/plain": [
       "          quantity         price        revenue\n",
       "count  4873.000000   4873.000000    4873.000000\n",
       "mean      2.837472    514.749846     850.021342\n",
       "std      17.606813    944.455480    9807.308006\n",
       "min       1.000000      9.000000       9.000000\n",
       "25%       1.000000     90.000000     120.000000\n",
       "50%       1.000000    150.000000     194.000000\n",
       "75%       1.000000    488.000000     734.000000\n",
       "max    1000.000000  14917.000000  675000.000000"
      ]
     },
     "metadata": {},
     "output_type": "display_data"
    },
    {
     "data": {
      "text/plain": [
       "count                    4873\n",
       "unique                   2230\n",
       "top       2019-04-27 16:00:00\n",
       "freq                       51\n",
       "first     2018-10-01 00:00:00\n",
       "last      2019-10-31 14:00:00\n",
       "Name: date, dtype: object"
      ]
     },
     "metadata": {},
     "output_type": "display_data"
    }
   ],
   "source": [
    "display(df.drop(['date', 'customer_id', 'order_id', 'product'], axis = 1).describe(),\\\n",
    "       df['date'].describe())"
   ]
  },
  {
   "cell_type": "code",
   "execution_count": 243,
   "metadata": {},
   "outputs": [
    {
     "data": {
      "text/html": [
       "<div>\n",
       "<style scoped>\n",
       "    .dataframe tbody tr th:only-of-type {\n",
       "        vertical-align: middle;\n",
       "    }\n",
       "\n",
       "    .dataframe tbody tr th {\n",
       "        vertical-align: top;\n",
       "    }\n",
       "\n",
       "    .dataframe thead th {\n",
       "        text-align: right;\n",
       "    }\n",
       "</style>\n",
       "<table border=\"1\" class=\"dataframe\">\n",
       "  <thead>\n",
       "    <tr style=\"text-align: right;\">\n",
       "      <th></th>\n",
       "      <th>date</th>\n",
       "      <th>customer_id</th>\n",
       "      <th>order_id</th>\n",
       "      <th>product</th>\n",
       "      <th>quantity</th>\n",
       "      <th>price</th>\n",
       "      <th>revenue</th>\n",
       "    </tr>\n",
       "  </thead>\n",
       "  <tbody>\n",
       "    <tr>\n",
       "      <th>5992</th>\n",
       "      <td>2019-07-29 17:00:00</td>\n",
       "      <td>0d87f4ae-465a-4fac-81e6-5d629761783e</td>\n",
       "      <td>72139</td>\n",
       "      <td>Сушилка уличная Leifheit 85210 LINOMATIC V 400...</td>\n",
       "      <td>1</td>\n",
       "      <td>14917.0</td>\n",
       "      <td>14917.0</td>\n",
       "    </tr>\n",
       "  </tbody>\n",
       "</table>\n",
       "</div>"
      ],
      "text/plain": [
       "                    date                           customer_id  order_id  \\\n",
       "5992 2019-07-29 17:00:00  0d87f4ae-465a-4fac-81e6-5d629761783e     72139   \n",
       "\n",
       "                                                product  quantity    price  \\\n",
       "5992  Сушилка уличная Leifheit 85210 LINOMATIC V 400...         1  14917.0   \n",
       "\n",
       "      revenue  \n",
       "5992  14917.0  "
      ]
     },
     "metadata": {},
     "output_type": "display_data"
    }
   ],
   "source": [
    "# посмотрим на строку в данных, где цена (price) = максимальной (14917 руб.)\n",
    "display(df.query('price == 14917'))"
   ]
  },
  {
   "cell_type": "markdown",
   "metadata": {},
   "source": [
    "- Судя по тому, что 75-й перцентиль в переменной **`quantity`** равен 1, в подавляющем большинстве случаев покупатели приобретают товары поштучно.\n",
    "\n",
    "- При этом максимальное значение переменной `quantity`, встречающееся в данных, равно 1000. Это похоже на выброс, так как крайне маловероятно, что какой-то товар вдруг купили в количестве 1000 штук.\n",
    "\n",
    "- Из-за наличия выбросов среднее значение (`mean`) для переменной `quantity` может быть искусственно смещено в бОльшую сторону, и мы сейчас не видим реальной картины.\n",
    "- - - \n",
    "\n",
    "- О **цене** товаров (`price`) мы можем сказать, что в большинстве случаев цена товара укладывается в 500 р. (75-й перцентиль в переменной price равен 488 р.). \n",
    "\n",
    "- Средняя цена товара (`mean`) тоже равна примерно 500 р. \n",
    "\n",
    "- Максимальная цена товара равна 14 917 р., что довольно много по сравнению с другими ценами. Но мы проверили, что это точно не выброс: методом `query()` мы нашли строку в данных с этой ценой, там оказалась \"Сушилка уличная Leifheit 85210 LINOMATIC V 400\". На одном сайте (https://sewtime.ru/catalog/ironing_equipment_and_cleaning_the_house/leifheit_clothes_dryers_the_bathroom/clothes_dryer_leifheit_linomatic_v_400_85210/) такая сушилка стоит 24 860 р., а на другом (https://www.cezon.ru/item/sushka-ulichnaya-leifheit-linomatic-v-400-art-85210.html) - 10 100 р. Так что нашу цену 14 917 р. можно считать реальной.\n",
    "- - - \n",
    "\n",
    "- Покупатели в основном приносят нам до 734 р. **прибыли** (75-й перцентиль в переменной `revenue`).\n",
    "\n",
    "- Максимальная прибыль равна 675 000 р., что явно похоже на выброс. Его возникновение связано с выбросом в переменной `quantity`. \n",
    "\n",
    "- Если очистить переменную `quantity` от выбросов, то данные по `revenue` станут более естественными (так как `revenue` - это производная переменная от цены и количества товара). \n",
    "- - - \n",
    "\n",
    "- По переменной **`date`** можно сказать, что мы располагаем данными за год: с 1 октября 2018 г. по 31 октября 2019 г."
   ]
  },
  {
   "cell_type": "markdown",
   "metadata": {},
   "source": [
    "<a class='anchor' id='id-section10'/>\n",
    "\n",
    "### [Построим гистограммы распределения признаков](#id-section37)\n",
    "\n",
    "Используем метод `hist()`. "
   ]
  },
  {
   "cell_type": "code",
   "execution_count": 244,
   "metadata": {
    "scrolled": false
   },
   "outputs": [
    {
     "data": {
      "image/png": "[encoded data removed]",
      "text/plain": [
       "<Figure size 1440x720 with 1 Axes>"
      ]
     },
     "metadata": {
      "needs_background": "light"
     },
     "output_type": "display_data"
    },
    {
     "data": {
      "image/png": "[encoded data removed]",
      "text/plain": [
       "<Figure size 1440x720 with 1 Axes>"
      ]
     },
     "metadata": {
      "needs_background": "light"
     },
     "output_type": "display_data"
    },
    {
     "data": {
      "image/png": "[encoded data removed]",
      "text/plain": [
       "<Figure size 1440x720 with 1 Axes>"
      ]
     },
     "metadata": {
      "needs_background": "light"
     },
     "output_type": "display_data"
    },
    {
     "data": {
      "image/png": "[encoded data removed]",
      "text/plain": [
       "<Figure size 1440x720 with 1 Axes>"
      ]
     },
     "metadata": {
      "needs_background": "light"
     },
     "output_type": "display_data"
    }
   ],
   "source": [
    "for col in df.drop(['customer_id', 'order_id', 'product'], axis = 1).columns:\n",
    "    df[col].hist(bins = 100, figsize = (20, 10))\n",
    "    plt.suptitle(f'Распределение для переменной {col} в датафрейме')\n",
    "    plt.xlabel('значения признака')\n",
    "    plt.ylabel('частота')\n",
    "    plt.show()"
   ]
  },
  {
   "cell_type": "markdown",
   "metadata": {},
   "source": [
    "- Гистограмма распределения переменной **`date`** имеет ярко выраженное пороговое строение - это говорит нам о том, что количество заказов днем и ночью различается. \n",
    "\n",
    "- Также мы видим тенденцию к сезонности. В частности, самое большое количество заказов наблюдается весной - в начале лета, также есть небольшой всплеск по заказам в июне. \n",
    "\n",
    "- Количество заказов достаточно высокое перед новогодними праздниками, но резко обрушается в январе (вероятно, покупатели приобретают товары в качестве подарков, а также украшения, искусственные елки. Естественно, в январе спрос на эти товары падает).\n",
    "\n",
    "- Оживление наступает сразу после новогодних праздников, и с середины января появляется рост.\n",
    "\n",
    "---\n",
    "- Распределение переменной **`quantity`** подтверждает ту тенденцию, которая была обнаружена нами ранее: в подавляющем большинстве случаев покупатели приобретают товары поштучно. \n",
    "\n",
    "- При этом в данных присутствуют аномально большие значения. Мы полагаем, что все значения, которые больше 50, можно считать выбросами. \n",
    " \n",
    "---\n",
    "- Гистограмма для переменной **`price`** дает нам возможность внимательнее рассмотреть диапазон цен. Как мы уже выяснили ранее, чаще всего цена товара укладывается в 500 р. Однако много и товаров с ценой до 1 500 р. \n",
    "\n",
    "- Есть и дорогие товары (максимальная цена товара равна 14 917 р.) - но мы уже доказали, что эти данные похожи на реальные, и у нас нет оснований считать их аномальными.\n",
    "\n",
    "---\n",
    "- Выручка (**`revenue`**) практически всегда укладывается в 10 000 р."
   ]
  },
  {
   "cell_type": "markdown",
   "metadata": {},
   "source": [
    "<a class='anchor' id='id-section11'/>\n",
    "\n",
    "### [Удалим выбросы из данных](#id-section38)\n",
    "\n",
    "Посмотрев на распределение переменной `quantity`, мы решили, что все значения, которые больше 50, можно считать выбросами. \n",
    "\n",
    "Но сначала узнаем, сколько данных мы потеряем, если избавимся от выбросов. Разделим количество \"нормальных\" строк (без выбросов) на общее количество строк в \"грязном\" датафрейме. "
   ]
  },
  {
   "cell_type": "code",
   "execution_count": 245,
   "metadata": {},
   "outputs": [
    {
     "data": {
      "text/plain": [
       "0.993638415760312"
      ]
     },
     "metadata": {},
     "output_type": "display_data"
    }
   ],
   "source": [
    "display(df.query('quantity < 50').shape[0] / df.shape[0])"
   ]
  },
  {
   "cell_type": "markdown",
   "metadata": {},
   "source": [
    "- Мы потеряем всего лишь 1% данных, если избавимся от выбросов, так что можно это сделать.\n",
    "---\n",
    "\n",
    "Переопределим датафрейм методом `loc` с условием, чтобы `quantity` было меньше 50."
   ]
  },
  {
   "cell_type": "code",
   "execution_count": 246,
   "metadata": {},
   "outputs": [],
   "source": [
    "df = df.loc[df.loc[:, 'quantity'] < 50]"
   ]
  },
  {
   "cell_type": "markdown",
   "metadata": {},
   "source": [
    "<a class='anchor' id='id-section12'/>\n",
    "\n",
    "### [Построим матрицу корреляций](#id-section39)\n",
    "\n",
    "Для построения матрицы воспользуемся методом `corr()`, а для отображения сделаем тепловую карту методом `heatmap()`. Для корректного построения категориальные переменные и дату включать в расчеты не будем.  "
   ]
  },
  {
   "cell_type": "code",
   "execution_count": 247,
   "metadata": {},
   "outputs": [
    {
     "data": {
      "image/png": "[encoded data removed]",
      "text/plain": [
       "<Figure size 360x360 with 2 Axes>"
      ]
     },
     "metadata": {
      "needs_background": "light"
     },
     "output_type": "display_data"
    }
   ],
   "source": [
    "plt.figure(figsize = (5, 5))\n",
    "ax = sns.heatmap(df.drop(['date', 'customer_id', 'order_id', 'product'], axis = 1).corr(), annot = True, \\\n",
    "                 square = True)\n",
    "ax.set_xlabel('признаки')\n",
    "ax.set_ylabel('признаки')\n",
    "ax.set_title('Матрица корреляций для признаков')\n",
    "plt.show()"
   ]
  },
  {
   "cell_type": "markdown",
   "metadata": {},
   "source": [
    "- После удаления выбросов **наиболее сильная корреляция** (0.71) наблюдается между **выручкой** и **ценой** товара (связь прямая положительная - чем дороже стоит товар, тем больше выручка). \n",
    "- Получается, что **количество** (`quantity`) товаров после удаления выбросов практически **не оказывает влияния** на **выручку** (коэффициент = 0.23). \n",
    "- **Цена также не влияет на количество** покупаемого товара (коэффициент = -0.11). Видимо, из-за того, что в основном ассортименте магазина только недорогие товары. "
   ]
  },
  {
   "cell_type": "markdown",
   "metadata": {},
   "source": [
    "<a class='anchor' id='id-section13'/>\n",
    "\n",
    "### [Вывод](#id-section40)\n",
    "\n",
    "**Исследовательский анализ данных** позволил нам прийти к таким **выводам**:\n",
    "\n",
    "- Мы располагаем данными **за год**: с 1 октября 2018 г. по 31 октября 2019 г.\n",
    "- Распределение переменной `date` имеет ярко выраженное пороговое строение - это говорит нам о том, что количество заказов днем и ночью различается.\n",
    "- Также мы видим тенденцию к **сезонности**. В частности, самое большое количество заказов наблюдается весной - в начале лета, также есть небольшой всплеск по заказам в июне.\n",
    "- Количество заказов достаточно высокое **перед новогодними праздниками**, но резко падает в январе (вероятно, покупатели приобретают товары в качестве подарков, а также украшения, искусственные елки. Естественно, в январе спрос на эти товары падает).\n",
    "- Оживление наступает сразу после новогодних праздников, и с середины января появляется **рост**.\n",
    "---\n",
    "- В подавляющем большинстве случаев покупатели приобретают товары **поштучно** (распределение переменной `quantity` подтверждает эту тенденцию).\n",
    "- При этом в данных присутствовали аномально большие значения. Мы предположили, что все значения, которые больше 50, можно считать выбросами.\n",
    "---\n",
    "- О цене товаров (`price`) мы можем сказать, что в большинстве случаев цена товара укладывается в **500 р.** Однако много и товаров с ценой до 1 500 р.\n",
    "- Есть и **дорогие товары** (максимальная цена товара \"Сушилка уличная Leifheit 85210 LINOMATIC V 400\" равна 14 917 р.) - но мы доказали, что эти данные похожи на реальные, и у нас нет оснований считать их аномальными.\n",
    "---\n",
    "- Покупатели в основном приносят нам до **734 р. выручки** (75-й перцентиль в переменной `revenue`).\n",
    "- Распределение выручки практически всегда укладывается в 10 000 р.\n",
    "- Максимальная прибыль была равна 675 000 р., что явно похоже на выброс. Его возникновение мы связали с выбросами в переменной `quantity` (так как `revenue` - это производная переменная от цены и количества товара).\n",
    "---\n",
    "\n",
    "Посмотрев на распределение переменной `quantity`, мы решили, что все значения, которые больше 50, можно считать **выбросами**.\n",
    "- Удалив выбросы, мы потеряли 1% данных.\n",
    "---\n",
    "\n",
    "Построение **матрицы корреляций** показало следующий результат:\n",
    "\n",
    "- После удаления выбросов **наиболее сильная корреляция** (0.71) наблюдается между **выручкой** и **ценой** товара (связь прямая положительная - чем дороже стоит товар, тем больше выручка). \n",
    "- Получается, что **количество** (`quantity`) товаров после удаления выбросов практически **не оказывает влияния** на **выручку** (коэффициент = 0.23). \n",
    "- **Цена также не влияет на количество** покупаемого товара (коэффициент = -0.11). Видимо, из-за того, что в основном ассортименте магазина только недорогие товары. \n",
    "\n"
   ]
  },
  {
   "cell_type": "markdown",
   "metadata": {},
   "source": [
    "<a class='anchor' id='id-section14'/>\n",
    "\n",
    "## [Шаг 4. Проведем сегментацию покупателей](#id-section41)\n",
    "\n"
   ]
  },
  {
   "cell_type": "markdown",
   "metadata": {},
   "source": [
    "<a class='anchor' id='id-section15'/>\n",
    "\n",
    "### [Выделим категории товаров для сегментации покупателей](#id-section42)\n",
    "\n",
    "В связи с тем, что у нас нет принятой категоризации товаров, мы решили опереться на опыт других интернет-магазинов и посмотреть, какие категории товаров есть у них.\n",
    "\n",
    "Мы создали 2 функции для парсинга, которые скачивают каталог товаров для дома с сайта: https://igooods.ru/catalog и формируют датафрейм с каталогом товаров и их категориями. Мы опирались на эту статью: https://leftjoin.ru/all/parsim-dannye-kataloga-sayta-ispolzuya-beautiful-soup-chast-1/. \n",
    "\n",
    "Мы запустили эти функции 1 раз на PyCharm, а потом сохранили их результат в промежуточный файл в формате csv на гугл-диске, и уже для дальнейшего анализа использовали только его. \n",
    "\n",
    "Закомментированный код для парсинга и сохранения каталога идет ниже. "
   ]
  },
  {
   "cell_type": "code",
   "execution_count": 248,
   "metadata": {},
   "outputs": [],
   "source": [
    "# from bs4 import BeautifulSoup\n",
    "# import requests\n",
    "# import re\n",
    "\n",
    "# import time\n",
    "# from selenium import webdriver\n",
    "# from bs4 import BeautifulSoup as bs\n",
    "\n",
    "# from selenium.webdriver.common.keys import Keys\n",
    "# from selenium.webdriver.common.by import By\n",
    "# from selenium.webdriver.support.wait import WebDriverWait\n",
    "# from selenium.webdriver.support import expected_conditions as EC\n"
   ]
  },
  {
   "cell_type": "code",
   "execution_count": 249,
   "metadata": {},
   "outputs": [],
   "source": [
    "# # в этом кусочке кода мы получаем все категории и подкатегории с сайта igooods.ru с ссылками.\n",
    "# # для этого мы передадим в метод get() cookies, которые мы взяли из браузера (инстр. разработчика).\n",
    "# # без cookies сайт не дает посмотреть категории \n",
    "\n",
    "# session = requests.Session()\n",
    "# request = session.get('https://igooods.ru/catalog',\n",
    "#                       cookies={ \n",
    "#                           }\n",
    "#                       )\n",
    "# soup = BeautifulSoup(request.text)\n",
    " \n",
    "\n",
    "\n",
    "# # метод, который проверяет, есть ли в списке строк строка, удовл. регулярному выражению \n",
    "# def check(lst, reg):\n",
    "#     for w in lst:\n",
    "#         m = re.search(reg, w)\n",
    "#         if (m != None):\n",
    "#             return True\n",
    " \n",
    "#     return False\n",
    " \n",
    "\n",
    "# dict = {}\n",
    "\n",
    "# # получаем все теги типа div и ищем там те, которые удовлетворяют найденному нами регуляр. выражению - \n",
    "# # они соответствуют категориям товаров. \n",
    "# # из них мы получим название категории и ссылку на нее, а внутри этого тега содержатся названия подкатегорий и \n",
    "# # ссылки на них - вытащим их тоже \n",
    "\n",
    "# cat = soup.find_all('div') \n",
    "\n",
    "\n",
    "# for c in cat:\n",
    "#     lst = c.get('class')\n",
    "#     if (lst != None and len(lst) > 0):\n",
    "#         cr = check(lst, 'MenuItem__Container.*')\n",
    "#         if cr:\n",
    "#             link = c.find('a').get('href')\n",
    "#             text = c.find('a').find_all('div')[1].get_text()\n",
    "#             tmp = {}\n",
    "#             tmp['name'] = text\n",
    "#             tmp['link'] = link\n",
    "#             subcats = {}\n",
    "#             sbc = c.find_all('div')[3].find_all('a')\n",
    "#             for subc in sbc:\n",
    "#                 subcategoryLink = subc.get('href')\n",
    "#                 subcategoryText = subc.find('div').get_text()\n",
    "#                 subcats[subcategoryLink] = subcategoryText\n",
    "#             tmp['subcats'] = subcats\n",
    "#             dict[link] = tmp\n",
    "\n",
    "# # так мы получили dict - словарь c категориями\n",
    "# # ниже пример его структуры для одной категории \n",
    "# # из данного словаря мы руками удалили все категории, нерелевантные нашему исследованию (еду)\n",
    "# dict = {\n",
    "#     \"/catalog/categories/16\": {\n",
    "#         \"name\": \"Бытовая химия и уборка\",\n",
    "#         \"link\": \"/catalog/categories/16\",\n",
    "#         \"subcats\": {\n",
    "#             \"/catalog/categories/16/145\": \"Аксессуары для уборки\",\n",
    "#             \"/catalog/categories/16/142\": \"Для мытья посуды\",\n",
    "#             \"/catalog/categories/16/141\": \"Для стирки\",\n",
    "#             \"/catalog/categories/16/147\": \"Освежители воздуха\",\n",
    "#             \"/catalog/categories/16/144\": \"Чистящие средства\"\n",
    "#         }\n",
    "#     }\n",
    "# }\n",
    " "
   ]
  },
  {
   "cell_type": "code",
   "execution_count": 250,
   "metadata": {},
   "outputs": [],
   "source": [
    "# # в статье, которой мы пользовались, было рекомендовано исп. selenium - одного BeautifulSoup будет \n",
    "# # недостаточно, так как сайт использует динамическую подгрузку при скроллинге\n",
    "# # тут мы также будем исп. cookies, которые мы взяли из браузера (инстр. разработчика).\n",
    " \n",
    "# browser = webdriver.Chrome(\"/paths/to/chromedriver\")\n",
    "\n",
    "\n",
    "# cookies_1 = [\n",
    "#     {\n",
    "\n",
    "#     }\n",
    "# ]\n",
    "# browser.get(\"https://igooods.ru/catalog/categories/222/224\")\n",
    "# for cookie in cookies_1:\n",
    "#     browser.add_cookie(cookie)\n",
    "\n",
    "\n",
    "# # метод для получения всех товаров по ссылке на подкатегорию. \n",
    "# # открываем с помощью selenium страницу по ссылке, ждем ее загрузки, затем 100 раз имитируем нажатие кнопки\n",
    "# # PAGE_DOWN, чтобы страница проскроллилась до самого низа, и все товары подгрузились. \n",
    "# # далее, используя BeautifulSoup, достаем названия всех товаров, возвращаем их как массив\n",
    "# def parse(link):\n",
    "#     try:\n",
    "#         browser.get(link)\n",
    "#         time.sleep(1)\n",
    "#         WebDriverWait(browser, 10000).until(EC.visibility_of_element_located((By.TAG_NAME, 'body')))\n",
    "#         input = browser.find_element_by_tag_name('input')\n",
    "#         if (input != None):\n",
    "#             for i in range(0, 100):\n",
    "#                 input.send_keys(Keys.PAGE_DOWN)\n",
    "#                 time.sleep(0.02)\n",
    "#         source_data = browser.page_source\n",
    "#         soup = bs(source_data)\n",
    "#         goods = soup.find_all('div', {'data-testid': 'PRODUCT_NAME_TEST_ID'})\n",
    "#         arr = []\n",
    "#         for x in goods:\n",
    "#             arr.append(x.get('title'))\n",
    "#         return arr\n",
    "#     except:\n",
    "#         print(\"An exception occurred for\" + link )\n",
    "#         return []\n",
    "\n",
    " \n",
    "\n",
    "# lst = []\n",
    " \n",
    "# # обходим все категории в полученном ранее словаре.\n",
    "# # для каждой категории перебираем все подкатегории и для каждой из них загружаем товары\n",
    "# for element in dict:\n",
    "#     category = dict[element]\n",
    "#     catName = category['name']\n",
    "#     for subCategory in category['subcats']:\n",
    "#         subCatName = category['subcats'][subCategory]\n",
    "#         link = str(\"https://igooods.ru\") + subCategory\n",
    "#         arr = parse(link)\n",
    "#         for item in arr:\n",
    "#             lst.append([item, catName, subCatName])\n",
    "            \n",
    "# # создаем DataFrame из полученного результата и сохраняем его в файл-каталог, который загрузим на гугл-диск \n",
    "# # и будем исп. в дальнейшей работе\n",
    "\n",
    "# df = pd.DataFrame(lst, columns=['name', 'category', 'subcategory'])\n",
    " \n",
    "# df.to_csv('./result.csv')"
   ]
  },
  {
   "cell_type": "markdown",
   "metadata": {},
   "source": [
    "Прочитаем готовый файл с каталогом и посмотрим на него.\n",
    "\n",
    "Также посмотрим, сколько товаров содержится в каждой категории."
   ]
  },
  {
   "cell_type": "code",
   "execution_count": 251,
   "metadata": {
    "scrolled": false
   },
   "outputs": [
    {
     "data": {
      "text/html": [
       "<div>\n",
       "<style scoped>\n",
       "    .dataframe tbody tr th:only-of-type {\n",
       "        vertical-align: middle;\n",
       "    }\n",
       "\n",
       "    .dataframe tbody tr th {\n",
       "        vertical-align: top;\n",
       "    }\n",
       "\n",
       "    .dataframe thead th {\n",
       "        text-align: right;\n",
       "    }\n",
       "</style>\n",
       "<table border=\"1\" class=\"dataframe\">\n",
       "  <thead>\n",
       "    <tr style=\"text-align: right;\">\n",
       "      <th></th>\n",
       "      <th>Unnamed: 0</th>\n",
       "      <th>name</th>\n",
       "      <th>category</th>\n",
       "      <th>subcategory</th>\n",
       "    </tr>\n",
       "  </thead>\n",
       "  <tbody>\n",
       "    <tr>\n",
       "      <th>0</th>\n",
       "      <td>0</td>\n",
       "      <td>Мешки для мусора ТМ Aro (Аро) 48*58см, 30*30л</td>\n",
       "      <td>Бытовая химия и уборка</td>\n",
       "      <td>Аксессуары для уборки</td>\n",
       "    </tr>\n",
       "    <tr>\n",
       "      <th>1</th>\n",
       "      <td>1</td>\n",
       "      <td>Тряпки в рулонах многоразового использования, ...</td>\n",
       "      <td>Бытовая химия и уборка</td>\n",
       "      <td>Аксессуары для уборки</td>\n",
       "    </tr>\n",
       "    <tr>\n",
       "      <th>2</th>\n",
       "      <td>2</td>\n",
       "      <td>Мешки для мусора ТМ Aro (Аро) 58*68см, 20*60л</td>\n",
       "      <td>Бытовая химия и уборка</td>\n",
       "      <td>Аксессуары для уборки</td>\n",
       "    </tr>\n",
       "    <tr>\n",
       "      <th>3</th>\n",
       "      <td>3</td>\n",
       "      <td>Салфетки губчатые 15*18см Fine Life (Файн Лайф...</td>\n",
       "      <td>Бытовая химия и уборка</td>\n",
       "      <td>Аксессуары для уборки</td>\n",
       "    </tr>\n",
       "    <tr>\n",
       "      <th>4</th>\n",
       "      <td>4</td>\n",
       "      <td>Мешки для мусора ТМ Paclan multitop (Паклан му...</td>\n",
       "      <td>Бытовая химия и уборка</td>\n",
       "      <td>Аксессуары для уборки</td>\n",
       "    </tr>\n",
       "  </tbody>\n",
       "</table>\n",
       "</div>"
      ],
      "text/plain": [
       "   Unnamed: 0                                               name  \\\n",
       "0           0      Мешки для мусора ТМ Aro (Аро) 48*58см, 30*30л   \n",
       "1           1  Тряпки в рулонах многоразового использования, ...   \n",
       "2           2      Мешки для мусора ТМ Aro (Аро) 58*68см, 20*60л   \n",
       "3           3  Салфетки губчатые 15*18см Fine Life (Файн Лайф...   \n",
       "4           4  Мешки для мусора ТМ Paclan multitop (Паклан му...   \n",
       "\n",
       "                 category            subcategory  \n",
       "0  Бытовая химия и уборка  Аксессуары для уборки  \n",
       "1  Бытовая химия и уборка  Аксессуары для уборки  \n",
       "2  Бытовая химия и уборка  Аксессуары для уборки  \n",
       "3  Бытовая химия и уборка  Аксессуары для уборки  \n",
       "4  Бытовая химия и уборка  Аксессуары для уборки  "
      ]
     },
     "metadata": {},
     "output_type": "display_data"
    },
    {
     "data": {
      "text/html": [
       "<div>\n",
       "<style scoped>\n",
       "    .dataframe tbody tr th:only-of-type {\n",
       "        vertical-align: middle;\n",
       "    }\n",
       "\n",
       "    .dataframe tbody tr th {\n",
       "        vertical-align: top;\n",
       "    }\n",
       "\n",
       "    .dataframe thead th {\n",
       "        text-align: right;\n",
       "    }\n",
       "</style>\n",
       "<table border=\"1\" class=\"dataframe\">\n",
       "  <thead>\n",
       "    <tr style=\"text-align: right;\">\n",
       "      <th></th>\n",
       "      <th>Unnamed: 0</th>\n",
       "      <th>name</th>\n",
       "      <th>subcategory</th>\n",
       "    </tr>\n",
       "    <tr>\n",
       "      <th>category</th>\n",
       "      <th></th>\n",
       "      <th></th>\n",
       "      <th></th>\n",
       "    </tr>\n",
       "  </thead>\n",
       "  <tbody>\n",
       "    <tr>\n",
       "      <th>Бытовая химия и уборка</th>\n",
       "      <td>1256</td>\n",
       "      <td>1256</td>\n",
       "      <td>1256</td>\n",
       "    </tr>\n",
       "    <tr>\n",
       "      <th>Все для кухни</th>\n",
       "      <td>814</td>\n",
       "      <td>814</td>\n",
       "      <td>814</td>\n",
       "    </tr>\n",
       "    <tr>\n",
       "      <th>Для дома и сада</th>\n",
       "      <td>592</td>\n",
       "      <td>592</td>\n",
       "      <td>592</td>\n",
       "    </tr>\n",
       "    <tr>\n",
       "      <th>Косметика и гигиена</th>\n",
       "      <td>2379</td>\n",
       "      <td>2379</td>\n",
       "      <td>2379</td>\n",
       "    </tr>\n",
       "    <tr>\n",
       "      <th>Спорт, хобби и отдых</th>\n",
       "      <td>559</td>\n",
       "      <td>559</td>\n",
       "      <td>559</td>\n",
       "    </tr>\n",
       "    <tr>\n",
       "      <th>Текстиль и гардероб</th>\n",
       "      <td>646</td>\n",
       "      <td>646</td>\n",
       "      <td>646</td>\n",
       "    </tr>\n",
       "    <tr>\n",
       "      <th>Техника и электроника</th>\n",
       "      <td>145</td>\n",
       "      <td>145</td>\n",
       "      <td>145</td>\n",
       "    </tr>\n",
       "  </tbody>\n",
       "</table>\n",
       "</div>"
      ],
      "text/plain": [
       "                        Unnamed: 0  name  subcategory\n",
       "category                                             \n",
       "Бытовая химия и уборка        1256  1256         1256\n",
       "Все для кухни                  814   814          814\n",
       "Для дома и сада                592   592          592\n",
       "Косметика и гигиена           2379  2379         2379\n",
       "Спорт, хобби и отдых           559   559          559\n",
       "Текстиль и гардероб            646   646          646\n",
       "Техника и электроника          145   145          145"
      ]
     },
     "metadata": {},
     "output_type": "display_data"
    }
   ],
   "source": [
    "result1 = pd.read_csv('https://docs.google.com/uc?export=download&id=1aYf99gncAuM60q5Gz089vWF53gayBnUz')\n",
    "\n",
    "display(result1.head())\n",
    "\n",
    "display(result1.groupby('category').count())"
   ]
  },
  {
   "cell_type": "markdown",
   "metadata": {},
   "source": [
    "Методом `loc` мы решили избавиться от категорий: \"Косметика и гигиена\", \"Бытовая химия и уборка\" (товаров в этих категориях слишком много, что приводит к несбалансированности классов), \"Спорт, хобби и отдых\" (для нашего магазина такие товары не  подходят). "
   ]
  },
  {
   "cell_type": "code",
   "execution_count": 252,
   "metadata": {},
   "outputs": [],
   "source": [
    "result1 = result1.loc[result1.loc[:, 'category'] != 'Косметика и гигиена']\n",
    "result1 = result1.loc[result1.loc[:, 'category'] != 'Бытовая химия и уборка']\n",
    "result1 = result1.loc[result1.loc[:, 'category'] != 'Спорт, хобби и отдых']"
   ]
  },
  {
   "cell_type": "markdown",
   "metadata": {},
   "source": [
    "---\n",
    "***Мы собрали этот каталог для того, чтобы создать модель машинного обучения, обучить ее на данных из каталога (по наименованию товара предсказывать его категорию), а потом применить обученную модель к нашему основному датафрейму.***\n",
    "\n",
    "---\n",
    "Однако в каталоге названия содержат много символов и сокращений, нужно убрать оттуда весь мусор и пролемматизировать товары, чтобы привести все слова к грамматическим основам - так модели будет легче обучаться.\n",
    "\n",
    "Из за особенностей наименований товаров в каталоге нам необходимо расширить список русских стоп-слов из модуля `stopwords.words(\"russian\")` `методом extend()`. Например, включить туда такие сокращения, как: \"см\", \"л\", \"тм\", \"ассортименте\".\n"
   ]
  },
  {
   "cell_type": "code",
   "execution_count": 253,
   "metadata": {},
   "outputs": [],
   "source": [
    "russian_stopwords = stopwords.words(\"russian\")\n",
    "russian_stopwords.extend(['см', 'л', 'тм', 'ассортименте'])"
   ]
  },
  {
   "cell_type": "markdown",
   "metadata": {},
   "source": [
    "Создадим функцию для лемматизации товаров. Она приведет слова к грамматической основе, уберет знаки пунктуации, цифры и стоп-слова. Образец кода был найден в статье: https://leftjoin.ru/all/stroim-model-predskazaniya-kategorii-produktov/. "
   ]
  },
  {
   "cell_type": "code",
   "execution_count": 254,
   "metadata": {},
   "outputs": [],
   "source": [
    "m = Mystem()\n",
    "\n",
    "def lemmatize_text(text):\n",
    "    text = str(text)\n",
    "    tokens = m.lemmatize(text.lower())\n",
    "    tokens = [token for token in tokens if token not in russian_stopwords\\\n",
    "              and token != \" \" \\\n",
    "              and len(token) >= 3 \\\n",
    "              and token.strip() not in punctuation \\\n",
    "              and token.isdigit() == False]\n",
    "    text = \" \".join(tokens)\n",
    "    return text"
   ]
  },
  {
   "cell_type": "markdown",
   "metadata": {},
   "source": [
    "Применим функцию ко столбцу с товарами из нашего каталога. Создадим в каталоге новый столбец с леммами."
   ]
  },
  {
   "cell_type": "code",
   "execution_count": 255,
   "metadata": {},
   "outputs": [
    {
     "data": {
      "text/html": [
       "<div>\n",
       "<style scoped>\n",
       "    .dataframe tbody tr th:only-of-type {\n",
       "        vertical-align: middle;\n",
       "    }\n",
       "\n",
       "    .dataframe tbody tr th {\n",
       "        vertical-align: top;\n",
       "    }\n",
       "\n",
       "    .dataframe thead th {\n",
       "        text-align: right;\n",
       "    }\n",
       "</style>\n",
       "<table border=\"1\" class=\"dataframe\">\n",
       "  <thead>\n",
       "    <tr style=\"text-align: right;\">\n",
       "      <th></th>\n",
       "      <th>Unnamed: 0</th>\n",
       "      <th>name</th>\n",
       "      <th>category</th>\n",
       "      <th>subcategory</th>\n",
       "      <th>lemmas</th>\n",
       "    </tr>\n",
       "  </thead>\n",
       "  <tbody>\n",
       "    <tr>\n",
       "      <th>3635</th>\n",
       "      <td>3635</td>\n",
       "      <td>Набор кухонных полотенец ТМ Tarington House (Т...</td>\n",
       "      <td>Все для кухни</td>\n",
       "      <td>Кухонный текстиль</td>\n",
       "      <td>набор кухонный полотенце tarington house тарин...</td>\n",
       "    </tr>\n",
       "    <tr>\n",
       "      <th>3636</th>\n",
       "      <td>3636</td>\n",
       "      <td>Рукавица-прихватка ТМ Портал</td>\n",
       "      <td>Все для кухни</td>\n",
       "      <td>Кухонный текстиль</td>\n",
       "      <td>рукавица прихватка портал</td>\n",
       "    </tr>\n",
       "    <tr>\n",
       "      <th>3637</th>\n",
       "      <td>3637</td>\n",
       "      <td>Набор полотенец кухонных в ассортименте ТМ Tar...</td>\n",
       "      <td>Все для кухни</td>\n",
       "      <td>Кухонный текстиль</td>\n",
       "      <td>набор полотенце кухонный ассортимент tarington...</td>\n",
       "    </tr>\n",
       "    <tr>\n",
       "      <th>3638</th>\n",
       "      <td>3638</td>\n",
       "      <td>Салфетка индивидуальная ТМ Household (Хаусхолд)</td>\n",
       "      <td>Все для кухни</td>\n",
       "      <td>Кухонный текстиль</td>\n",
       "      <td>салфетка индивидуальный household хаусхолд</td>\n",
       "    </tr>\n",
       "    <tr>\n",
       "      <th>3639</th>\n",
       "      <td>3639</td>\n",
       "      <td>Набор полотенец ТМ Солнечный дом</td>\n",
       "      <td>Все для кухни</td>\n",
       "      <td>Кухонный текстиль</td>\n",
       "      <td>набор полотенце солнечный дом</td>\n",
       "    </tr>\n",
       "  </tbody>\n",
       "</table>\n",
       "</div>"
      ],
      "text/plain": [
       "      Unnamed: 0                                               name  \\\n",
       "3635        3635  Набор кухонных полотенец ТМ Tarington House (Т...   \n",
       "3636        3636                       Рукавица-прихватка ТМ Портал   \n",
       "3637        3637  Набор полотенец кухонных в ассортименте ТМ Tar...   \n",
       "3638        3638    Салфетка индивидуальная ТМ Household (Хаусхолд)   \n",
       "3639        3639                   Набор полотенец ТМ Солнечный дом   \n",
       "\n",
       "           category        subcategory  \\\n",
       "3635  Все для кухни  Кухонный текстиль   \n",
       "3636  Все для кухни  Кухонный текстиль   \n",
       "3637  Все для кухни  Кухонный текстиль   \n",
       "3638  Все для кухни  Кухонный текстиль   \n",
       "3639  Все для кухни  Кухонный текстиль   \n",
       "\n",
       "                                                 lemmas  \n",
       "3635  набор кухонный полотенце tarington house тарин...  \n",
       "3636                          рукавица прихватка портал  \n",
       "3637  набор полотенце кухонный ассортимент tarington...  \n",
       "3638         салфетка индивидуальный household хаусхолд  \n",
       "3639                      набор полотенце солнечный дом  "
      ]
     },
     "metadata": {},
     "output_type": "display_data"
    }
   ],
   "source": [
    "result1['lemmas'] = result1['name'].apply(lemmatize_text)\n",
    "\n",
    "display(result1.head())"
   ]
  },
  {
   "cell_type": "markdown",
   "metadata": {},
   "source": [
    "Разделим данные из каталога на признаки (матрица X - пролемматизированные наименования товаров) и целевую переменную (y - категории товаров). \n",
    "\n",
    "Разделим выборку на обучающую и валидационную в отношении 80% к 20% функцией `train_test_split()`, так как мы доверяем именно этой общепринятой пропорции для деления."
   ]
  },
  {
   "cell_type": "code",
   "execution_count": 256,
   "metadata": {},
   "outputs": [],
   "source": [
    "X = result1['lemmas']\n",
    "y = result1['category']\n",
    "\n",
    "X_train, X_test, y_train, y_test = train_test_split(X, y, test_size = 0.2, random_state = 0)"
   ]
  },
  {
   "cell_type": "markdown",
   "metadata": {},
   "source": [
    "Построим модель предсказания категории с помощью `CountVectorizer` (разобьет текст на токены и посчитает их количество), `TfidfTransformer` (для подсчета весов вхождения каждого токена) и `MultinomialNB` (позволит обучить модель предсказывать категорию товара).\n",
    "\n",
    "С помощью библиотеки `Pipeline` запустим по очереди все команды. "
   ]
  },
  {
   "cell_type": "code",
   "execution_count": 257,
   "metadata": {},
   "outputs": [],
   "source": [
    "# Пройдем пайплайном команды:\n",
    "# CountVectorizer() — вернет матрицу с количеством вхождений каждого токена\n",
    "# TfidfTransformer() — преобразует эту матрицу в нормализованное представление tf-idf\n",
    "# MultinomialNB() — наивный байесовский классификатор для предсказания категории товара\n",
    "\n",
    "text_clf = Pipeline([('vect', CountVectorizer(ngram_range = (1,2))),\n",
    "                     ('tfidf', TfidfTransformer()), \n",
    "                    ('clf', MultinomialNB())])"
   ]
  },
  {
   "cell_type": "markdown",
   "metadata": {},
   "source": [
    "Обучим модель `text_clf` на обучающей выборке (`X_train`, `y_train`) и посчитаем предсказания по валидационной выборке (`X_test`).\n"
   ]
  },
  {
   "cell_type": "code",
   "execution_count": 258,
   "metadata": {},
   "outputs": [],
   "source": [
    "text_clf = text_clf.fit(X_train, y_train)\n",
    "\n",
    "y_pred = text_clf.predict(X_test)"
   ]
  },
  {
   "cell_type": "markdown",
   "metadata": {},
   "source": [
    "Оценим качество работы модели методом `score()`."
   ]
  },
  {
   "cell_type": "code",
   "execution_count": 259,
   "metadata": {},
   "outputs": [
    {
     "name": "stdout",
     "output_type": "stream",
     "text": [
      "Score: 0.9136363636363637\n"
     ]
    }
   ],
   "source": [
    "print('Score:', text_clf.score(X_test, y_test))"
   ]
  },
  {
   "cell_type": "markdown",
   "metadata": {},
   "source": [
    "- Модель прогнозирует категории для товаров в каталоге достаточно точно.\n",
    "---\n",
    "\n",
    "Перед тем, как запустить модель для предсказания категорий товаров на наших реальных данных, пролемматизируем столбец с наименованием товаров при помощи написанной ранее функции `lemmatize_text`."
   ]
  },
  {
   "cell_type": "code",
   "execution_count": 260,
   "metadata": {},
   "outputs": [
    {
     "data": {
      "text/html": [
       "<div>\n",
       "<style scoped>\n",
       "    .dataframe tbody tr th:only-of-type {\n",
       "        vertical-align: middle;\n",
       "    }\n",
       "\n",
       "    .dataframe tbody tr th {\n",
       "        vertical-align: top;\n",
       "    }\n",
       "\n",
       "    .dataframe thead th {\n",
       "        text-align: right;\n",
       "    }\n",
       "</style>\n",
       "<table border=\"1\" class=\"dataframe\">\n",
       "  <thead>\n",
       "    <tr style=\"text-align: right;\">\n",
       "      <th></th>\n",
       "      <th>date</th>\n",
       "      <th>customer_id</th>\n",
       "      <th>order_id</th>\n",
       "      <th>product</th>\n",
       "      <th>quantity</th>\n",
       "      <th>price</th>\n",
       "      <th>revenue</th>\n",
       "      <th>lemmas</th>\n",
       "    </tr>\n",
       "  </thead>\n",
       "  <tbody>\n",
       "    <tr>\n",
       "      <th>0</th>\n",
       "      <td>2018-10-01</td>\n",
       "      <td>ee47d746-6d2f-4d3c-9622-c31412542920</td>\n",
       "      <td>68477</td>\n",
       "      <td>Комнатное растение в горшке Алое Вера, d12, h30</td>\n",
       "      <td>1</td>\n",
       "      <td>142.0</td>\n",
       "      <td>142.0</td>\n",
       "      <td>комнатный растение горшок алый вера d12 h30</td>\n",
       "    </tr>\n",
       "    <tr>\n",
       "      <th>1</th>\n",
       "      <td>2018-10-01</td>\n",
       "      <td>ee47d746-6d2f-4d3c-9622-c31412542920</td>\n",
       "      <td>68477</td>\n",
       "      <td>Комнатное растение в горшке Кофе Арабика, d12,...</td>\n",
       "      <td>1</td>\n",
       "      <td>194.0</td>\n",
       "      <td>194.0</td>\n",
       "      <td>комнатный растение горшок кофе арабика d12 h25</td>\n",
       "    </tr>\n",
       "    <tr>\n",
       "      <th>2</th>\n",
       "      <td>2018-10-01</td>\n",
       "      <td>ee47d746-6d2f-4d3c-9622-c31412542920</td>\n",
       "      <td>68477</td>\n",
       "      <td>Радермахера d-12 см h-20 см</td>\n",
       "      <td>1</td>\n",
       "      <td>112.0</td>\n",
       "      <td>112.0</td>\n",
       "      <td>радермахер</td>\n",
       "    </tr>\n",
       "    <tr>\n",
       "      <th>3</th>\n",
       "      <td>2018-10-01</td>\n",
       "      <td>ee47d746-6d2f-4d3c-9622-c31412542920</td>\n",
       "      <td>68477</td>\n",
       "      <td>Хризолидокарпус Лутесценс d-9 см</td>\n",
       "      <td>1</td>\n",
       "      <td>179.0</td>\n",
       "      <td>179.0</td>\n",
       "      <td>хризолидокарпус лутесценс</td>\n",
       "    </tr>\n",
       "    <tr>\n",
       "      <th>4</th>\n",
       "      <td>2018-10-01</td>\n",
       "      <td>ee47d746-6d2f-4d3c-9622-c31412542920</td>\n",
       "      <td>68477</td>\n",
       "      <td>Циперус Зумула d-12 см h-25 см</td>\n",
       "      <td>1</td>\n",
       "      <td>112.0</td>\n",
       "      <td>112.0</td>\n",
       "      <td>циперус зумул</td>\n",
       "    </tr>\n",
       "  </tbody>\n",
       "</table>\n",
       "</div>"
      ],
      "text/plain": [
       "        date                           customer_id  order_id  \\\n",
       "0 2018-10-01  ee47d746-6d2f-4d3c-9622-c31412542920     68477   \n",
       "1 2018-10-01  ee47d746-6d2f-4d3c-9622-c31412542920     68477   \n",
       "2 2018-10-01  ee47d746-6d2f-4d3c-9622-c31412542920     68477   \n",
       "3 2018-10-01  ee47d746-6d2f-4d3c-9622-c31412542920     68477   \n",
       "4 2018-10-01  ee47d746-6d2f-4d3c-9622-c31412542920     68477   \n",
       "\n",
       "                                             product  quantity  price  \\\n",
       "0    Комнатное растение в горшке Алое Вера, d12, h30         1  142.0   \n",
       "1  Комнатное растение в горшке Кофе Арабика, d12,...         1  194.0   \n",
       "2                        Радермахера d-12 см h-20 см         1  112.0   \n",
       "3                   Хризолидокарпус Лутесценс d-9 см         1  179.0   \n",
       "4                     Циперус Зумула d-12 см h-25 см         1  112.0   \n",
       "\n",
       "   revenue                                          lemmas  \n",
       "0    142.0     комнатный растение горшок алый вера d12 h30  \n",
       "1    194.0  комнатный растение горшок кофе арабика d12 h25  \n",
       "2    112.0                                      радермахер  \n",
       "3    179.0                       хризолидокарпус лутесценс  \n",
       "4    112.0                                   циперус зумул  "
      ]
     },
     "metadata": {},
     "output_type": "display_data"
    }
   ],
   "source": [
    "df['lemmas'] = df['product'].apply(lemmatize_text)\n",
    "\n",
    "display(df.head())"
   ]
  },
  {
   "cell_type": "markdown",
   "metadata": {},
   "source": [
    "Передадим модели `text_clf` для предсказания категорий столбец с леммами, предсказания будут сохранены в переменной `prediction`. \n",
    "\n",
    "Создадим в датафрейме новый столбец `category` с категориями-предсказаниями. \n",
    "\n",
    "Посчитаем, сколько товаров по каждой категории получилось выявить."
   ]
  },
  {
   "cell_type": "code",
   "execution_count": 261,
   "metadata": {},
   "outputs": [
    {
     "data": {
      "text/plain": [
       "category\n",
       "Все для кухни          1981\n",
       "Для дома и сада        1310\n",
       "Текстиль и гардероб    1551\n",
       "Name: product, dtype: int64"
      ]
     },
     "metadata": {},
     "output_type": "display_data"
    }
   ],
   "source": [
    "prediction = text_clf.predict(df['lemmas'])\n",
    "\n",
    "df['category'] = prediction\n",
    "\n",
    "display(df.groupby('category')['product'].count())"
   ]
  },
  {
   "cell_type": "markdown",
   "metadata": {},
   "source": [
    "Посмотрим, какие товары вошли в категорию \"Для дома и сада\", так как нам для проверки гипотезы в дальнейшем интересна именно эта категория."
   ]
  },
  {
   "cell_type": "code",
   "execution_count": 262,
   "metadata": {},
   "outputs": [
    {
     "data": {
      "text/html": [
       "<div>\n",
       "<style scoped>\n",
       "    .dataframe tbody tr th:only-of-type {\n",
       "        vertical-align: middle;\n",
       "    }\n",
       "\n",
       "    .dataframe tbody tr th {\n",
       "        vertical-align: top;\n",
       "    }\n",
       "\n",
       "    .dataframe thead th {\n",
       "        text-align: right;\n",
       "    }\n",
       "</style>\n",
       "<table border=\"1\" class=\"dataframe\">\n",
       "  <thead>\n",
       "    <tr style=\"text-align: right;\">\n",
       "      <th></th>\n",
       "      <th>date</th>\n",
       "      <th>customer_id</th>\n",
       "      <th>order_id</th>\n",
       "      <th>product</th>\n",
       "      <th>quantity</th>\n",
       "      <th>price</th>\n",
       "      <th>revenue</th>\n",
       "      <th>lemmas</th>\n",
       "      <th>category</th>\n",
       "    </tr>\n",
       "  </thead>\n",
       "  <tbody>\n",
       "    <tr>\n",
       "      <th>5745</th>\n",
       "      <td>2019-07-09 17:00:00</td>\n",
       "      <td>42d3cb27-6519-4627-9b4a-5aa8ee600203</td>\n",
       "      <td>14897</td>\n",
       "      <td>Рассада Огурец Нежинский ячейки по 6 шт Е6</td>\n",
       "      <td>1</td>\n",
       "      <td>120.0</td>\n",
       "      <td>120.0</td>\n",
       "      <td>рассада огурец нежинский ячейка</td>\n",
       "      <td>Для дома и сада</td>\n",
       "    </tr>\n",
       "    <tr>\n",
       "      <th>2937</th>\n",
       "      <td>2019-04-17 20:00:00</td>\n",
       "      <td>f83eedd3-aaad-48ed-9977-55f6046477a3</td>\n",
       "      <td>14655</td>\n",
       "      <td>Подвесное кашпо Бакопа ампельная мега-крупная ...</td>\n",
       "      <td>1</td>\n",
       "      <td>488.0</td>\n",
       "      <td>488.0</td>\n",
       "      <td>подвесной кашпо бакоп ампельный мега крупный с...</td>\n",
       "      <td>Для дома и сада</td>\n",
       "    </tr>\n",
       "    <tr>\n",
       "      <th>2713</th>\n",
       "      <td>2019-04-07 14:00:00</td>\n",
       "      <td>9c59ebc7-39e2-49f8-b817-4113824522f8</td>\n",
       "      <td>14621</td>\n",
       "      <td>Рассада зелени для кухни Мелисса лимонная зеле...</td>\n",
       "      <td>1</td>\n",
       "      <td>89.0</td>\n",
       "      <td>89.0</td>\n",
       "      <td>рассада зелень кухня мелисса лимонный зеленый ...</td>\n",
       "      <td>Для дома и сада</td>\n",
       "    </tr>\n",
       "    <tr>\n",
       "      <th>5817</th>\n",
       "      <td>2019-07-10 21:00:00</td>\n",
       "      <td>6caea624-7a90-4a0f-8704-2612e344a4b3</td>\n",
       "      <td>71937</td>\n",
       "      <td>Ящик почтовый металлический с врезным замком П...</td>\n",
       "      <td>1</td>\n",
       "      <td>277.0</td>\n",
       "      <td>277.0</td>\n",
       "      <td>ящик почтовый металлический врезной замок почта</td>\n",
       "      <td>Для дома и сада</td>\n",
       "    </tr>\n",
       "    <tr>\n",
       "      <th>2407</th>\n",
       "      <td>2019-03-20 08:00:00</td>\n",
       "      <td>9990ce3c-995c-4990-8dc5-75583a0c11d2</td>\n",
       "      <td>70803</td>\n",
       "      <td>Щетка для труднодоступных мест со скребком ROZ...</td>\n",
       "      <td>3</td>\n",
       "      <td>75.0</td>\n",
       "      <td>225.0</td>\n",
       "      <td>щетка труднодоступный место скребок rozenbal r...</td>\n",
       "      <td>Для дома и сада</td>\n",
       "    </tr>\n",
       "    <tr>\n",
       "      <th>6028</th>\n",
       "      <td>2019-08-02 19:00:00</td>\n",
       "      <td>030c91b7-311d-407e-a3ac-e64c03537569</td>\n",
       "      <td>72189</td>\n",
       "      <td>Тележка хозяйственная багажная D-T101 грузопод...</td>\n",
       "      <td>1</td>\n",
       "      <td>150.0</td>\n",
       "      <td>150.0</td>\n",
       "      <td>тележка хозяйственный багажный t101 грузоподъе...</td>\n",
       "      <td>Для дома и сада</td>\n",
       "    </tr>\n",
       "    <tr>\n",
       "      <th>23</th>\n",
       "      <td>2018-10-02 11:00:00</td>\n",
       "      <td>f08d9018-438e-4e96-b519-f74c0302a433</td>\n",
       "      <td>14480</td>\n",
       "      <td>Рассада зелени для кухни Базилик Тонус, кассет...</td>\n",
       "      <td>1</td>\n",
       "      <td>169.0</td>\n",
       "      <td>169.0</td>\n",
       "      <td>рассада зелень кухня базилик тонус кассета 6шт</td>\n",
       "      <td>Для дома и сада</td>\n",
       "    </tr>\n",
       "    <tr>\n",
       "      <th>1437</th>\n",
       "      <td>2019-01-05 04:00:00</td>\n",
       "      <td>6ab10937-fd06-4010-9178-6b5bcc7cdc1d</td>\n",
       "      <td>69706</td>\n",
       "      <td>Вешалка гардеробная Радуга 1 ЗМИ белое серебро...</td>\n",
       "      <td>1</td>\n",
       "      <td>824.0</td>\n",
       "      <td>824.0</td>\n",
       "      <td>вешалка гардеробная радуга зми белый серебро внп</td>\n",
       "      <td>Для дома и сада</td>\n",
       "    </tr>\n",
       "    <tr>\n",
       "      <th>2062</th>\n",
       "      <td>2019-02-28 09:00:00</td>\n",
       "      <td>c971fb21-d54c-4134-938f-16b62ee86d3b</td>\n",
       "      <td>70502</td>\n",
       "      <td>Цветок искусственный Ландыш 20 см пластик</td>\n",
       "      <td>10</td>\n",
       "      <td>35.0</td>\n",
       "      <td>350.0</td>\n",
       "      <td>цветок искусственный ландыш пластик</td>\n",
       "      <td>Для дома и сада</td>\n",
       "    </tr>\n",
       "    <tr>\n",
       "      <th>3879</th>\n",
       "      <td>2019-05-17 10:00:00</td>\n",
       "      <td>1420716a-02ef-426f-828d-fddcb0e1f532</td>\n",
       "      <td>14786</td>\n",
       "      <td>Петуния изи вейв рассада однолетних цветов в г...</td>\n",
       "      <td>1</td>\n",
       "      <td>142.0</td>\n",
       "      <td>142.0</td>\n",
       "      <td>петуния изя вейв рассада однолетний цветок гор...</td>\n",
       "      <td>Для дома и сада</td>\n",
       "    </tr>\n",
       "  </tbody>\n",
       "</table>\n",
       "</div>"
      ],
      "text/plain": [
       "                    date                           customer_id  order_id  \\\n",
       "5745 2019-07-09 17:00:00  42d3cb27-6519-4627-9b4a-5aa8ee600203     14897   \n",
       "2937 2019-04-17 20:00:00  f83eedd3-aaad-48ed-9977-55f6046477a3     14655   \n",
       "2713 2019-04-07 14:00:00  9c59ebc7-39e2-49f8-b817-4113824522f8     14621   \n",
       "5817 2019-07-10 21:00:00  6caea624-7a90-4a0f-8704-2612e344a4b3     71937   \n",
       "2407 2019-03-20 08:00:00  9990ce3c-995c-4990-8dc5-75583a0c11d2     70803   \n",
       "6028 2019-08-02 19:00:00  030c91b7-311d-407e-a3ac-e64c03537569     72189   \n",
       "23   2018-10-02 11:00:00  f08d9018-438e-4e96-b519-f74c0302a433     14480   \n",
       "1437 2019-01-05 04:00:00  6ab10937-fd06-4010-9178-6b5bcc7cdc1d     69706   \n",
       "2062 2019-02-28 09:00:00  c971fb21-d54c-4134-938f-16b62ee86d3b     70502   \n",
       "3879 2019-05-17 10:00:00  1420716a-02ef-426f-828d-fddcb0e1f532     14786   \n",
       "\n",
       "                                                product  quantity  price  \\\n",
       "5745         Рассада Огурец Нежинский ячейки по 6 шт Е6         1  120.0   \n",
       "2937  Подвесное кашпо Бакопа ампельная мега-крупная ...         1  488.0   \n",
       "2713  Рассада зелени для кухни Мелисса лимонная зеле...         1   89.0   \n",
       "5817  Ящик почтовый металлический с врезным замком П...         1  277.0   \n",
       "2407  Щетка для труднодоступных мест со скребком ROZ...         3   75.0   \n",
       "6028  Тележка хозяйственная багажная D-T101 грузопод...         1  150.0   \n",
       "23    Рассада зелени для кухни Базилик Тонус, кассет...         1  169.0   \n",
       "1437  Вешалка гардеробная Радуга 1 ЗМИ белое серебро...         1  824.0   \n",
       "2062          Цветок искусственный Ландыш 20 см пластик        10   35.0   \n",
       "3879  Петуния изи вейв рассада однолетних цветов в г...         1  142.0   \n",
       "\n",
       "      revenue                                             lemmas  \\\n",
       "5745    120.0                    рассада огурец нежинский ячейка   \n",
       "2937    488.0  подвесной кашпо бакоп ампельный мега крупный с...   \n",
       "2713     89.0  рассада зелень кухня мелисса лимонный зеленый ...   \n",
       "5817    277.0    ящик почтовый металлический врезной замок почта   \n",
       "2407    225.0  щетка труднодоступный место скребок rozenbal r...   \n",
       "6028    150.0  тележка хозяйственный багажный t101 грузоподъе...   \n",
       "23      169.0     рассада зелень кухня базилик тонус кассета 6шт   \n",
       "1437    824.0   вешалка гардеробная радуга зми белый серебро внп   \n",
       "2062    350.0                цветок искусственный ландыш пластик   \n",
       "3879    142.0  петуния изя вейв рассада однолетний цветок гор...   \n",
       "\n",
       "             category  \n",
       "5745  Для дома и сада  \n",
       "2937  Для дома и сада  \n",
       "2713  Для дома и сада  \n",
       "5817  Для дома и сада  \n",
       "2407  Для дома и сада  \n",
       "6028  Для дома и сада  \n",
       "23    Для дома и сада  \n",
       "1437  Для дома и сада  \n",
       "2062  Для дома и сада  \n",
       "3879  Для дома и сада  "
      ]
     },
     "metadata": {},
     "output_type": "display_data"
    }
   ],
   "source": [
    "display(df.query('category == \"Для дома и сада\"').sample(10, random_state = 0))"
   ]
  },
  {
   "cell_type": "markdown",
   "metadata": {},
   "source": [
    "- Модель, конечно же, работает с ошибками, но в целом категория определена корректно.\n",
    "---\n",
    "\n",
    "Посмотрим, насколько ярко проявляют себя категории в данных. Для этого посчитаем количество заказов и выручку от покупок для каждой категории. Результат выведем на графики (их построение оформлено в функцию). "
   ]
  },
  {
   "cell_type": "code",
   "execution_count": 263,
   "metadata": {},
   "outputs": [
    {
     "data": {
      "image/png": "[encoded data removed]",
      "text/plain": [
       "<Figure size 1080x360 with 2 Axes>"
      ]
     },
     "metadata": {
      "needs_background": "light"
     },
     "output_type": "display_data"
    }
   ],
   "source": [
    "def plot(df, column):\n",
    "    fig, (a, b) = plt.subplots(1, 2, figsize = (15, 5))\n",
    "    plt.subplots_adjust(left=None, bottom=None, right=None, top=None, wspace=0.5, hspace=0.5)\n",
    "    df.groupby(column)['order_id'].nunique().sort_values().plot\\\n",
    "    (title = f'Количество заказов в зависимости от {column}', kind = 'barh', grid = True, ax = a)\n",
    "    a.set_xlabel('количество заказов')\n",
    "    a.set_ylabel(f'{column}')\n",
    "    \n",
    "    df.groupby(column)['revenue'].sum().sort_values().plot\\\n",
    "    (title = f'Выручка в зависимости от {column}', kind = 'barh', grid = True, ax = b)\n",
    "    b.set_xlabel('выручка от покупок')\n",
    "    b.set_ylabel(f'{column}')\n",
    "    plt.show()\n",
    "    \n",
    "plot(df, 'category')"
   ]
  },
  {
   "cell_type": "markdown",
   "metadata": {},
   "source": [
    "- После предсказания категорий с помощью модели мы видим, что **больше всего заказов** было сделано в категории \"Все для кухни\", меньше всего - в категории \"Для дома и сада\".\n",
    "\n",
    "- Заказы в категории \"Текстиль и гардероб\" принесли **больше всего выручки**, меньше всего - снова в категории \"Для дома и сада\"."
   ]
  },
  {
   "cell_type": "markdown",
   "metadata": {},
   "source": [
    "<a class='anchor' id='id-section16'/>\n",
    "\n",
    "### [Выделим сегменты покупателей по дням недели совершения покупок](#id-section43)\n",
    "\n",
    "Для сегментирования покупателей создадим дополнительный столбец с днем недели методом `dt.weekday`.\n",
    "\n",
    "В результате понедельник будет классифицирован как день 0, а воскресенье — как день 6."
   ]
  },
  {
   "cell_type": "code",
   "execution_count": 264,
   "metadata": {
    "scrolled": true
   },
   "outputs": [
    {
     "data": {
      "text/html": [
       "<div>\n",
       "<style scoped>\n",
       "    .dataframe tbody tr th:only-of-type {\n",
       "        vertical-align: middle;\n",
       "    }\n",
       "\n",
       "    .dataframe tbody tr th {\n",
       "        vertical-align: top;\n",
       "    }\n",
       "\n",
       "    .dataframe thead th {\n",
       "        text-align: right;\n",
       "    }\n",
       "</style>\n",
       "<table border=\"1\" class=\"dataframe\">\n",
       "  <thead>\n",
       "    <tr style=\"text-align: right;\">\n",
       "      <th></th>\n",
       "      <th>date</th>\n",
       "      <th>customer_id</th>\n",
       "      <th>order_id</th>\n",
       "      <th>product</th>\n",
       "      <th>quantity</th>\n",
       "      <th>price</th>\n",
       "      <th>revenue</th>\n",
       "      <th>lemmas</th>\n",
       "      <th>category</th>\n",
       "      <th>weekday</th>\n",
       "    </tr>\n",
       "  </thead>\n",
       "  <tbody>\n",
       "    <tr>\n",
       "      <th>0</th>\n",
       "      <td>2018-10-01</td>\n",
       "      <td>ee47d746-6d2f-4d3c-9622-c31412542920</td>\n",
       "      <td>68477</td>\n",
       "      <td>Комнатное растение в горшке Алое Вера, d12, h30</td>\n",
       "      <td>1</td>\n",
       "      <td>142.0</td>\n",
       "      <td>142.0</td>\n",
       "      <td>комнатный растение горшок алый вера d12 h30</td>\n",
       "      <td>Для дома и сада</td>\n",
       "      <td>0</td>\n",
       "    </tr>\n",
       "    <tr>\n",
       "      <th>1</th>\n",
       "      <td>2018-10-01</td>\n",
       "      <td>ee47d746-6d2f-4d3c-9622-c31412542920</td>\n",
       "      <td>68477</td>\n",
       "      <td>Комнатное растение в горшке Кофе Арабика, d12,...</td>\n",
       "      <td>1</td>\n",
       "      <td>194.0</td>\n",
       "      <td>194.0</td>\n",
       "      <td>комнатный растение горшок кофе арабика d12 h25</td>\n",
       "      <td>Для дома и сада</td>\n",
       "      <td>0</td>\n",
       "    </tr>\n",
       "  </tbody>\n",
       "</table>\n",
       "</div>"
      ],
      "text/plain": [
       "        date                           customer_id  order_id  \\\n",
       "0 2018-10-01  ee47d746-6d2f-4d3c-9622-c31412542920     68477   \n",
       "1 2018-10-01  ee47d746-6d2f-4d3c-9622-c31412542920     68477   \n",
       "\n",
       "                                             product  quantity  price  \\\n",
       "0    Комнатное растение в горшке Алое Вера, d12, h30         1  142.0   \n",
       "1  Комнатное растение в горшке Кофе Арабика, d12,...         1  194.0   \n",
       "\n",
       "   revenue                                          lemmas         category  \\\n",
       "0    142.0     комнатный растение горшок алый вера d12 h30  Для дома и сада   \n",
       "1    194.0  комнатный растение горшок кофе арабика d12 h25  Для дома и сада   \n",
       "\n",
       "   weekday  \n",
       "0        0  \n",
       "1        0  "
      ]
     },
     "metadata": {},
     "output_type": "display_data"
    }
   ],
   "source": [
    "df['weekday'] = df['date'].dt.weekday\n",
    "\n",
    "display(df.head(2))"
   ]
  },
  {
   "cell_type": "markdown",
   "metadata": {},
   "source": [
    "Вызовем написанную функцию `plot()` для построения двух графиков - с расчетом количества заказов и выручки от покупок для каждого дня недели. "
   ]
  },
  {
   "cell_type": "code",
   "execution_count": 265,
   "metadata": {
    "scrolled": true
   },
   "outputs": [
    {
     "data": {
      "image/png": "[encoded data removed]",
      "text/plain": [
       "<Figure size 1080x360 with 2 Axes>"
      ]
     },
     "metadata": {
      "needs_background": "light"
     },
     "output_type": "display_data"
    }
   ],
   "source": [
    "plot(df, 'weekday')"
   ]
  },
  {
   "cell_type": "markdown",
   "metadata": {},
   "source": [
    "- **Больше всего заказов** было сделано в понедельник и вторник, меньше всего - в субботу, пятницу и воскресенье (вероятно, выходные дни и вечер пятницы покупатели проводят в офлайн-магазинах)\n",
    "\n",
    "- Логично, что в плане выручки данные показали тот же результат: **больше всего выручки** с заказов было получено в понедельник и вторник, а **меньше всего** - в выходные дни и пятницу."
   ]
  },
  {
   "cell_type": "markdown",
   "metadata": {},
   "source": [
    "<a class='anchor' id='id-section101'/>\n",
    "\n",
    "### [Выделим сегменты покупателей с помощью машинного обучения (алгоритм кластеризации)](#id-section102)\n",
    "\n",
    "Мы решили, что оперировать месяцами модели машинного обучения будет неудобно (слишком вариативный и масштабный признак), поэтому лучше разделить все месяцы на кварталы.  "
   ]
  },
  {
   "cell_type": "code",
   "execution_count": 266,
   "metadata": {},
   "outputs": [],
   "source": [
    "# выделим месяц\n",
    "df['month'] = df['date'].dt.month\n",
    "\n",
    "# функция для разделения месяцев на годовые кварталы\n",
    "def extract_quarter(element):\n",
    "    if element in (1,2,3):\n",
    "        return 1\n",
    "    if element in (4,5,6):\n",
    "        return 2\n",
    "    if element in (7,8,9):\n",
    "        return 3\n",
    "    if element in (10,11,12):\n",
    "        return 4\n",
    "\n",
    "# создадим новый столбец с годовыми кварталами\n",
    "df['quarter'] = df['month'].apply(extract_quarter)    "
   ]
  },
  {
   "cell_type": "markdown",
   "metadata": {},
   "source": [
    "Также мы решили, что нельзя давать модели для кластеризации дни недели (их тоже слишком много), поэтому укрупним этот признак и выделим будние и выходные дни отдельно. "
   ]
  },
  {
   "cell_type": "code",
   "execution_count": 267,
   "metadata": {},
   "outputs": [],
   "source": [
    "# функция для отнесения дня недели к буднему или выходному дню\n",
    "def extract_week_days_ends(element):\n",
    "    if element not in (5,6):\n",
    "        return 'weekday'\n",
    "    if element in (5,6):\n",
    "        return 'weekend'\n",
    "\n",
    "# создание нового столбца с буднями и выходными днями\n",
    "df['week_days_ends'] = df['weekday'].apply(extract_week_days_ends)"
   ]
  },
  {
   "cell_type": "markdown",
   "metadata": {},
   "source": [
    "Так как мы будем группировать данные по заказам, может оказаться, что в один заказ попадут товары из нескольких категорий. Поэтому надо определить, какая товарная категория (из 3-х возможных) будет превалирующей. Каждому заказу будет присвоена та категория, товаров которой больше всего попало в заказ. "
   ]
  },
  {
   "cell_type": "code",
   "execution_count": 268,
   "metadata": {},
   "outputs": [],
   "source": [
    "# фукнция для подсчета товарных категорий, входящих в каждый заказ \n",
    "#  в результате каждому заказу присвоится та категория, товаров из которой больше всего попало в заказ\n",
    "def selectCategory(cats):\n",
    "    c1 = 0\n",
    "    c2 = 0\n",
    "    c3 = 0\n",
    "    for x in cats:\n",
    "        if x == 'Все для кухни':\n",
    "            c1 += 1\n",
    "        if x == 'Для дома и сада':\n",
    "            c2 += 1\n",
    "        else:\n",
    "            c3 += 1\n",
    "    if c1 >= c2 and c1 >= c3:\n",
    "        return 'Все для кухни'\n",
    "    if c2 >= c1 and c2 >= c3:\n",
    "        return 'Для дома и сада'\n",
    "    return 'Текстиль и гардероб'\n"
   ]
  },
  {
   "cell_type": "markdown",
   "metadata": {},
   "source": [
    "Сформируем таблицу по заказам, где для каждого заказа будет указан годовой квартал покупки, будний или выходной это был день, сумма заказа, победившая товарная категория (с применением функции выше). Эту таблицу мы передадим модели машинного обучения для кластеризации."
   ]
  },
  {
   "cell_type": "code",
   "execution_count": 269,
   "metadata": {},
   "outputs": [
    {
     "data": {
      "text/html": [
       "<div>\n",
       "<style scoped>\n",
       "    .dataframe tbody tr th:only-of-type {\n",
       "        vertical-align: middle;\n",
       "    }\n",
       "\n",
       "    .dataframe tbody tr th {\n",
       "        vertical-align: top;\n",
       "    }\n",
       "\n",
       "    .dataframe thead th {\n",
       "        text-align: right;\n",
       "    }\n",
       "</style>\n",
       "<table border=\"1\" class=\"dataframe\">\n",
       "  <thead>\n",
       "    <tr style=\"text-align: right;\">\n",
       "      <th></th>\n",
       "      <th>quarter</th>\n",
       "      <th>week_days_ends</th>\n",
       "      <th>revenue</th>\n",
       "      <th>category</th>\n",
       "    </tr>\n",
       "    <tr>\n",
       "      <th>order_id</th>\n",
       "      <th></th>\n",
       "      <th></th>\n",
       "      <th></th>\n",
       "      <th></th>\n",
       "    </tr>\n",
       "  </thead>\n",
       "  <tbody>\n",
       "    <tr>\n",
       "      <th>12624</th>\n",
       "      <td>2</td>\n",
       "      <td>weekend</td>\n",
       "      <td>375.0</td>\n",
       "      <td>Все для кухни</td>\n",
       "    </tr>\n",
       "    <tr>\n",
       "      <th>13547</th>\n",
       "      <td>4</td>\n",
       "      <td>weekday</td>\n",
       "      <td>684.0</td>\n",
       "      <td>Для дома и сада</td>\n",
       "    </tr>\n",
       "    <tr>\n",
       "      <th>14480</th>\n",
       "      <td>4</td>\n",
       "      <td>weekday</td>\n",
       "      <td>359.0</td>\n",
       "      <td>Для дома и сада</td>\n",
       "    </tr>\n",
       "    <tr>\n",
       "      <th>14481</th>\n",
       "      <td>4</td>\n",
       "      <td>weekday</td>\n",
       "      <td>600.0</td>\n",
       "      <td>Текстиль и гардероб</td>\n",
       "    </tr>\n",
       "    <tr>\n",
       "      <th>14482</th>\n",
       "      <td>4</td>\n",
       "      <td>weekend</td>\n",
       "      <td>376.0</td>\n",
       "      <td>Текстиль и гардероб</td>\n",
       "    </tr>\n",
       "  </tbody>\n",
       "</table>\n",
       "</div>"
      ],
      "text/plain": [
       "          quarter week_days_ends  revenue             category\n",
       "order_id                                                      \n",
       "12624           2        weekend    375.0        Все для кухни\n",
       "13547           4        weekday    684.0      Для дома и сада\n",
       "14480           4        weekday    359.0      Для дома и сада\n",
       "14481           4        weekday    600.0  Текстиль и гардероб\n",
       "14482           4        weekend    376.0  Текстиль и гардероб"
      ]
     },
     "metadata": {},
     "output_type": "display_data"
    }
   ],
   "source": [
    "ml_orders = df.groupby('order_id').agg({'quarter': 'min', 'week_days_ends': 'min', \\\n",
    "                                        'revenue': 'sum', 'category': selectCategory})\n",
    "\n",
    "display(ml_orders.head())"
   ]
  },
  {
   "cell_type": "markdown",
   "metadata": {},
   "source": [
    "Для дальнейшей работы надо оцифровать все категориальные переменные. Используем для этого метод `pd.get_dummies()`. Так как мы максимально укрупнили временные переменные (кварталов всего 4, будней и выходных - 2 варианта), товарных категорий всего 3 - в результате таблица не разрастется слишком сильно. "
   ]
  },
  {
   "cell_type": "code",
   "execution_count": 270,
   "metadata": {
    "scrolled": false
   },
   "outputs": [
    {
     "data": {
      "text/html": [
       "<div>\n",
       "<style scoped>\n",
       "    .dataframe tbody tr th:only-of-type {\n",
       "        vertical-align: middle;\n",
       "    }\n",
       "\n",
       "    .dataframe tbody tr th {\n",
       "        vertical-align: top;\n",
       "    }\n",
       "\n",
       "    .dataframe thead th {\n",
       "        text-align: right;\n",
       "    }\n",
       "</style>\n",
       "<table border=\"1\" class=\"dataframe\">\n",
       "  <thead>\n",
       "    <tr style=\"text-align: right;\">\n",
       "      <th></th>\n",
       "      <th>revenue</th>\n",
       "      <th>quarter_1</th>\n",
       "      <th>quarter_2</th>\n",
       "      <th>quarter_3</th>\n",
       "      <th>quarter_4</th>\n",
       "      <th>week_days_ends_weekday</th>\n",
       "      <th>week_days_ends_weekend</th>\n",
       "      <th>category_Все для кухни</th>\n",
       "      <th>category_Для дома и сада</th>\n",
       "      <th>category_Текстиль и гардероб</th>\n",
       "    </tr>\n",
       "    <tr>\n",
       "      <th>order_id</th>\n",
       "      <th></th>\n",
       "      <th></th>\n",
       "      <th></th>\n",
       "      <th></th>\n",
       "      <th></th>\n",
       "      <th></th>\n",
       "      <th></th>\n",
       "      <th></th>\n",
       "      <th></th>\n",
       "      <th></th>\n",
       "    </tr>\n",
       "  </thead>\n",
       "  <tbody>\n",
       "    <tr>\n",
       "      <th>12624</th>\n",
       "      <td>375.0</td>\n",
       "      <td>0</td>\n",
       "      <td>1</td>\n",
       "      <td>0</td>\n",
       "      <td>0</td>\n",
       "      <td>0</td>\n",
       "      <td>1</td>\n",
       "      <td>1</td>\n",
       "      <td>0</td>\n",
       "      <td>0</td>\n",
       "    </tr>\n",
       "    <tr>\n",
       "      <th>13547</th>\n",
       "      <td>684.0</td>\n",
       "      <td>0</td>\n",
       "      <td>0</td>\n",
       "      <td>0</td>\n",
       "      <td>1</td>\n",
       "      <td>1</td>\n",
       "      <td>0</td>\n",
       "      <td>0</td>\n",
       "      <td>1</td>\n",
       "      <td>0</td>\n",
       "    </tr>\n",
       "    <tr>\n",
       "      <th>14480</th>\n",
       "      <td>359.0</td>\n",
       "      <td>0</td>\n",
       "      <td>0</td>\n",
       "      <td>0</td>\n",
       "      <td>1</td>\n",
       "      <td>1</td>\n",
       "      <td>0</td>\n",
       "      <td>0</td>\n",
       "      <td>1</td>\n",
       "      <td>0</td>\n",
       "    </tr>\n",
       "    <tr>\n",
       "      <th>14481</th>\n",
       "      <td>600.0</td>\n",
       "      <td>0</td>\n",
       "      <td>0</td>\n",
       "      <td>0</td>\n",
       "      <td>1</td>\n",
       "      <td>1</td>\n",
       "      <td>0</td>\n",
       "      <td>0</td>\n",
       "      <td>0</td>\n",
       "      <td>1</td>\n",
       "    </tr>\n",
       "    <tr>\n",
       "      <th>14482</th>\n",
       "      <td>376.0</td>\n",
       "      <td>0</td>\n",
       "      <td>0</td>\n",
       "      <td>0</td>\n",
       "      <td>1</td>\n",
       "      <td>0</td>\n",
       "      <td>1</td>\n",
       "      <td>0</td>\n",
       "      <td>0</td>\n",
       "      <td>1</td>\n",
       "    </tr>\n",
       "  </tbody>\n",
       "</table>\n",
       "</div>"
      ],
      "text/plain": [
       "          revenue  quarter_1  quarter_2  quarter_3  quarter_4  \\\n",
       "order_id                                                        \n",
       "12624       375.0          0          1          0          0   \n",
       "13547       684.0          0          0          0          1   \n",
       "14480       359.0          0          0          0          1   \n",
       "14481       600.0          0          0          0          1   \n",
       "14482       376.0          0          0          0          1   \n",
       "\n",
       "          week_days_ends_weekday  week_days_ends_weekend  \\\n",
       "order_id                                                   \n",
       "12624                          0                       1   \n",
       "13547                          1                       0   \n",
       "14480                          1                       0   \n",
       "14481                          1                       0   \n",
       "14482                          0                       1   \n",
       "\n",
       "          category_Все для кухни  category_Для дома и сада  \\\n",
       "order_id                                                     \n",
       "12624                          1                         0   \n",
       "13547                          0                         1   \n",
       "14480                          0                         1   \n",
       "14481                          0                         0   \n",
       "14482                          0                         0   \n",
       "\n",
       "          category_Текстиль и гардероб  \n",
       "order_id                                \n",
       "12624                                0  \n",
       "13547                                0  \n",
       "14480                                0  \n",
       "14481                                1  \n",
       "14482                                1  "
      ]
     },
     "metadata": {},
     "output_type": "display_data"
    }
   ],
   "source": [
    "ml_orders = pd.get_dummies(data = ml_orders, columns = ['quarter', 'week_days_ends', 'category'])\n",
    "display(ml_orders.head())"
   ]
  },
  {
   "cell_type": "markdown",
   "metadata": {},
   "source": [
    "**Построим матрицу расстояний и нарисуем дендрограмму, чтобы спрогнозировать оптимальное число кластеров.**\n",
    "\n",
    "Но перед работой с алгоритмом кластеризации `linkage()` выполним стандартизацию признаков и передадим получившуюся стандартизированную таблицу в качестве параметра функции `linkage()` с параметром `method = 'ward'`.\n",
    "\n",
    "Таким образом, в переменной `linked` будет сохранена таблица связок между объектами (матрица расстояний), которую мы визуализируем как дендрограмму методом `dendrogram()`."
   ]
  },
  {
   "cell_type": "code",
   "execution_count": 271,
   "metadata": {},
   "outputs": [
    {
     "data": {
      "image/png": "[encoded data removed]",
      "text/plain": [
       "<Figure size 1080x720 with 1 Axes>"
      ]
     },
     "metadata": {
      "needs_background": "light"
     },
     "output_type": "display_data"
    }
   ],
   "source": [
    "# стандартируем данные перед работой с алгоритмом\n",
    "sc = StandardScaler()\n",
    "X_sc = sc.fit_transform(ml_orders)\n",
    "\n",
    "linked = linkage(X_sc, method = 'ward')\n",
    "\n",
    "# рисуем дендрограмму\n",
    "plt.figure(figsize = (15, 10))  \n",
    "dendrogram(linked, orientation = 'top')\n",
    "plt.title('Дендрограмма разделения признаков на кластеры') \n",
    "plt.xlabel('кластеры')\n",
    "plt.ylabel('связи и расстояния между признаками')\n",
    "plt.show() "
   ]
  },
  {
   "cell_type": "markdown",
   "metadata": {},
   "source": [
    "- На основании дендрограммы мы можем считать, что **оптимальным числом кластеров является 3.**\n",
    "---\n",
    "\n",
    "**Обучим модель кластеризации на основании алгоритма K-Means и спрогнозируем кластеры покупателей.**\n",
    "\n",
    "Алгоритм `K-Means` чувствителен к заданному числу кластеров, мы передадим ему значение, прогнозированное выше, - то есть 3. \n",
    "\n",
    "В переменной `labels` сохраним индексы предложенных алгоритмом групп (объекты, которым модель присвоила один и тот же индекс, относятся к одному кластеру)."
   ]
  },
  {
   "cell_type": "code",
   "execution_count": 272,
   "metadata": {},
   "outputs": [],
   "source": [
    "# задаем модель K-Means с числом кластеров 3\n",
    "km = KMeans(n_clusters = 3, random_state = 0) \n",
    "\n",
    "# прогнозируем кластеры для наблюдений (применяем алгоритм к данным и формируем вектор кластеров)\n",
    "labels = km.fit_predict(X_sc) "
   ]
  },
  {
   "cell_type": "markdown",
   "metadata": {},
   "source": [
    "Проверим, **насколько качественно прошла кластеризация**. Для этого посчитаем значение метрики `silhouette_score` (показывает, насколько объект своего кластера похож на свой кластер больше, чем на чужой, то есть характеризует компактность (кучность) кластера и отделимость кластера от других).\n",
    "\n",
    "На вход передадим стандартизованную матрицу признаков и метки, которые спрогнозировал алгоритм кластеризации, в виде списка."
   ]
  },
  {
   "cell_type": "code",
   "execution_count": 273,
   "metadata": {},
   "outputs": [
    {
     "data": {
      "text/plain": [
       "'Silhouette score для 3 кластеров: 0.28'"
      ]
     },
     "metadata": {},
     "output_type": "display_data"
    }
   ],
   "source": [
    "display('Silhouette score для 3 кластеров: {:.2f}'.format(silhouette_score(X_sc, labels)))"
   ]
  },
  {
   "cell_type": "markdown",
   "metadata": {},
   "source": [
    "Значение метрики силуэта оказалось **не очень высоким.** \n",
    "\n",
    "- При этом надо отметить, что алгоритм K-Means основан на предположении, что число кластеров (групп) заранее точно известно. Это довольно сильное допущение, и часто выбор оптимального количества кластеров заслуживает решения отдельных задач.\n",
    "\n",
    "- Плюс, согласно теореме невозможности Клейнберга, оптимального алгоритма кластеризации не существует. Это значит, что в силу отсутствия разметки, нет единственно верного способа оценить результат работы алгоритма (все подходы к определению того, насколько хорошо разделили объекты, основаны на привлечении экспертов или эвристических оценках). \n",
    "---\n",
    "\n",
    "В датасете `ml_orders` создадим новый столбец `claster`, куда сохраним метки кластеризации `labels` и посмотрим на результат."
   ]
  },
  {
   "cell_type": "code",
   "execution_count": 274,
   "metadata": {},
   "outputs": [
    {
     "data": {
      "text/html": [
       "<div>\n",
       "<style scoped>\n",
       "    .dataframe tbody tr th:only-of-type {\n",
       "        vertical-align: middle;\n",
       "    }\n",
       "\n",
       "    .dataframe tbody tr th {\n",
       "        vertical-align: top;\n",
       "    }\n",
       "\n",
       "    .dataframe thead th {\n",
       "        text-align: right;\n",
       "    }\n",
       "</style>\n",
       "<table border=\"1\" class=\"dataframe\">\n",
       "  <thead>\n",
       "    <tr style=\"text-align: right;\">\n",
       "      <th></th>\n",
       "      <th>revenue</th>\n",
       "      <th>quarter_1</th>\n",
       "      <th>quarter_2</th>\n",
       "      <th>quarter_3</th>\n",
       "      <th>quarter_4</th>\n",
       "      <th>week_days_ends_weekday</th>\n",
       "      <th>week_days_ends_weekend</th>\n",
       "      <th>category_Все для кухни</th>\n",
       "      <th>category_Для дома и сада</th>\n",
       "      <th>category_Текстиль и гардероб</th>\n",
       "      <th>claster</th>\n",
       "    </tr>\n",
       "    <tr>\n",
       "      <th>order_id</th>\n",
       "      <th></th>\n",
       "      <th></th>\n",
       "      <th></th>\n",
       "      <th></th>\n",
       "      <th></th>\n",
       "      <th></th>\n",
       "      <th></th>\n",
       "      <th></th>\n",
       "      <th></th>\n",
       "      <th></th>\n",
       "      <th></th>\n",
       "    </tr>\n",
       "  </thead>\n",
       "  <tbody>\n",
       "    <tr>\n",
       "      <th>12624</th>\n",
       "      <td>375.0</td>\n",
       "      <td>0</td>\n",
       "      <td>1</td>\n",
       "      <td>0</td>\n",
       "      <td>0</td>\n",
       "      <td>0</td>\n",
       "      <td>1</td>\n",
       "      <td>1</td>\n",
       "      <td>0</td>\n",
       "      <td>0</td>\n",
       "      <td>0</td>\n",
       "    </tr>\n",
       "    <tr>\n",
       "      <th>13547</th>\n",
       "      <td>684.0</td>\n",
       "      <td>0</td>\n",
       "      <td>0</td>\n",
       "      <td>0</td>\n",
       "      <td>1</td>\n",
       "      <td>1</td>\n",
       "      <td>0</td>\n",
       "      <td>0</td>\n",
       "      <td>1</td>\n",
       "      <td>0</td>\n",
       "      <td>2</td>\n",
       "    </tr>\n",
       "    <tr>\n",
       "      <th>14480</th>\n",
       "      <td>359.0</td>\n",
       "      <td>0</td>\n",
       "      <td>0</td>\n",
       "      <td>0</td>\n",
       "      <td>1</td>\n",
       "      <td>1</td>\n",
       "      <td>0</td>\n",
       "      <td>0</td>\n",
       "      <td>1</td>\n",
       "      <td>0</td>\n",
       "      <td>2</td>\n",
       "    </tr>\n",
       "    <tr>\n",
       "      <th>14481</th>\n",
       "      <td>600.0</td>\n",
       "      <td>0</td>\n",
       "      <td>0</td>\n",
       "      <td>0</td>\n",
       "      <td>1</td>\n",
       "      <td>1</td>\n",
       "      <td>0</td>\n",
       "      <td>0</td>\n",
       "      <td>0</td>\n",
       "      <td>1</td>\n",
       "      <td>1</td>\n",
       "    </tr>\n",
       "    <tr>\n",
       "      <th>14482</th>\n",
       "      <td>376.0</td>\n",
       "      <td>0</td>\n",
       "      <td>0</td>\n",
       "      <td>0</td>\n",
       "      <td>1</td>\n",
       "      <td>0</td>\n",
       "      <td>1</td>\n",
       "      <td>0</td>\n",
       "      <td>0</td>\n",
       "      <td>1</td>\n",
       "      <td>1</td>\n",
       "    </tr>\n",
       "  </tbody>\n",
       "</table>\n",
       "</div>"
      ],
      "text/plain": [
       "          revenue  quarter_1  quarter_2  quarter_3  quarter_4  \\\n",
       "order_id                                                        \n",
       "12624       375.0          0          1          0          0   \n",
       "13547       684.0          0          0          0          1   \n",
       "14480       359.0          0          0          0          1   \n",
       "14481       600.0          0          0          0          1   \n",
       "14482       376.0          0          0          0          1   \n",
       "\n",
       "          week_days_ends_weekday  week_days_ends_weekend  \\\n",
       "order_id                                                   \n",
       "12624                          0                       1   \n",
       "13547                          1                       0   \n",
       "14480                          1                       0   \n",
       "14481                          1                       0   \n",
       "14482                          0                       1   \n",
       "\n",
       "          category_Все для кухни  category_Для дома и сада  \\\n",
       "order_id                                                     \n",
       "12624                          1                         0   \n",
       "13547                          0                         1   \n",
       "14480                          0                         1   \n",
       "14481                          0                         0   \n",
       "14482                          0                         0   \n",
       "\n",
       "          category_Текстиль и гардероб  claster  \n",
       "order_id                                         \n",
       "12624                                0        0  \n",
       "13547                                0        2  \n",
       "14480                                0        2  \n",
       "14481                                1        1  \n",
       "14482                                1        1  "
      ]
     },
     "metadata": {},
     "output_type": "display_data"
    }
   ],
   "source": [
    "ml_orders['claster'] = labels\n",
    "\n",
    "display(ml_orders.head())"
   ]
  },
  {
   "cell_type": "markdown",
   "metadata": {},
   "source": [
    "<a class='anchor' id='id-section17'/>\n",
    "\n",
    "### [Посмотрим на средние значения признаков для сегментов](#id-section44)\n",
    "\n",
    "1. Построим таблицу со средними значениями количественных переменных **по категориям товаров** методами `groupby()` и `mean()`."
   ]
  },
  {
   "cell_type": "code",
   "execution_count": 275,
   "metadata": {
    "scrolled": true
   },
   "outputs": [
    {
     "data": {
      "text/html": [
       "<div>\n",
       "<style scoped>\n",
       "    .dataframe tbody tr th:only-of-type {\n",
       "        vertical-align: middle;\n",
       "    }\n",
       "\n",
       "    .dataframe tbody tr th {\n",
       "        vertical-align: top;\n",
       "    }\n",
       "\n",
       "    .dataframe thead th {\n",
       "        text-align: right;\n",
       "    }\n",
       "</style>\n",
       "<table border=\"1\" class=\"dataframe\">\n",
       "  <thead>\n",
       "    <tr style=\"text-align: right;\">\n",
       "      <th></th>\n",
       "      <th>quantity</th>\n",
       "      <th>price</th>\n",
       "      <th>revenue</th>\n",
       "      <th>month</th>\n",
       "      <th>quarter</th>\n",
       "    </tr>\n",
       "    <tr>\n",
       "      <th>category</th>\n",
       "      <th></th>\n",
       "      <th></th>\n",
       "      <th></th>\n",
       "      <th></th>\n",
       "      <th></th>\n",
       "    </tr>\n",
       "  </thead>\n",
       "  <tbody>\n",
       "    <tr>\n",
       "      <th>Все для кухни</th>\n",
       "      <td>2.527511</td>\n",
       "      <td>380.968703</td>\n",
       "      <td>571.493690</td>\n",
       "      <td>6.601212</td>\n",
       "      <td>2.567390</td>\n",
       "    </tr>\n",
       "    <tr>\n",
       "      <th>Для дома и сада</th>\n",
       "      <td>1.934351</td>\n",
       "      <td>382.609924</td>\n",
       "      <td>496.493130</td>\n",
       "      <td>5.971756</td>\n",
       "      <td>2.385496</td>\n",
       "    </tr>\n",
       "    <tr>\n",
       "      <th>Текстиль и гардероб</th>\n",
       "      <td>1.429400</td>\n",
       "      <td>805.484848</td>\n",
       "      <td>940.335912</td>\n",
       "      <td>6.837524</td>\n",
       "      <td>2.647969</td>\n",
       "    </tr>\n",
       "  </tbody>\n",
       "</table>\n",
       "</div>"
      ],
      "text/plain": [
       "                     quantity       price     revenue     month   quarter\n",
       "category                                                                 \n",
       "Все для кухни        2.527511  380.968703  571.493690  6.601212  2.567390\n",
       "Для дома и сада      1.934351  382.609924  496.493130  5.971756  2.385496\n",
       "Текстиль и гардероб  1.429400  805.484848  940.335912  6.837524  2.647969"
      ]
     },
     "metadata": {},
     "output_type": "display_data"
    }
   ],
   "source": [
    "display(df.drop(['order_id', 'weekday'], axis = 1).groupby('category').mean())"
   ]
  },
  {
   "cell_type": "markdown",
   "metadata": {},
   "source": [
    "- **Больше всего товаров** приобретается в категории \"Все для кухни\" (в среднем примерно по 3).\n",
    "- Категория \"Текстиль и гардероб\" **самая дорогая** по средним ценам на товары (805 р.) и по выручке (940 р.), что логично, так как мы уже видели на матрице корреляций, что эти две характеристики сильно зависят друг от друга.\n",
    "- Категория \"Для дома и сада\" занимает **средние позиции** по всем характеристикам.\n",
    "---\n",
    "\n",
    "2. Аналогичным образом построим таблицу со средними значениями количественных переменных **по дням недели.**"
   ]
  },
  {
   "cell_type": "code",
   "execution_count": 276,
   "metadata": {
    "scrolled": true
   },
   "outputs": [
    {
     "data": {
      "text/html": [
       "<div>\n",
       "<style scoped>\n",
       "    .dataframe tbody tr th:only-of-type {\n",
       "        vertical-align: middle;\n",
       "    }\n",
       "\n",
       "    .dataframe tbody tr th {\n",
       "        vertical-align: top;\n",
       "    }\n",
       "\n",
       "    .dataframe thead th {\n",
       "        text-align: right;\n",
       "    }\n",
       "</style>\n",
       "<table border=\"1\" class=\"dataframe\">\n",
       "  <thead>\n",
       "    <tr style=\"text-align: right;\">\n",
       "      <th></th>\n",
       "      <th>quantity</th>\n",
       "      <th>price</th>\n",
       "      <th>revenue</th>\n",
       "      <th>month</th>\n",
       "      <th>quarter</th>\n",
       "    </tr>\n",
       "    <tr>\n",
       "      <th>weekday</th>\n",
       "      <th></th>\n",
       "      <th></th>\n",
       "      <th></th>\n",
       "      <th></th>\n",
       "      <th></th>\n",
       "    </tr>\n",
       "  </thead>\n",
       "  <tbody>\n",
       "    <tr>\n",
       "      <th>0</th>\n",
       "      <td>2.105568</td>\n",
       "      <td>488.407193</td>\n",
       "      <td>628.270302</td>\n",
       "      <td>6.277262</td>\n",
       "      <td>2.450116</td>\n",
       "    </tr>\n",
       "    <tr>\n",
       "      <th>1</th>\n",
       "      <td>2.229036</td>\n",
       "      <td>507.715895</td>\n",
       "      <td>767.449312</td>\n",
       "      <td>6.554443</td>\n",
       "      <td>2.569462</td>\n",
       "    </tr>\n",
       "    <tr>\n",
       "      <th>2</th>\n",
       "      <td>1.872370</td>\n",
       "      <td>569.075736</td>\n",
       "      <td>707.447405</td>\n",
       "      <td>6.316971</td>\n",
       "      <td>2.510519</td>\n",
       "    </tr>\n",
       "    <tr>\n",
       "      <th>3</th>\n",
       "      <td>2.185897</td>\n",
       "      <td>485.602564</td>\n",
       "      <td>636.976923</td>\n",
       "      <td>6.444872</td>\n",
       "      <td>2.520513</td>\n",
       "    </tr>\n",
       "    <tr>\n",
       "      <th>4</th>\n",
       "      <td>1.926752</td>\n",
       "      <td>565.536624</td>\n",
       "      <td>733.941083</td>\n",
       "      <td>6.773885</td>\n",
       "      <td>2.643312</td>\n",
       "    </tr>\n",
       "    <tr>\n",
       "      <th>5</th>\n",
       "      <td>1.565678</td>\n",
       "      <td>478.991525</td>\n",
       "      <td>543.476695</td>\n",
       "      <td>6.758475</td>\n",
       "      <td>2.635593</td>\n",
       "    </tr>\n",
       "    <tr>\n",
       "      <th>6</th>\n",
       "      <td>1.994898</td>\n",
       "      <td>531.957483</td>\n",
       "      <td>625.079932</td>\n",
       "      <td>6.602041</td>\n",
       "      <td>2.539116</td>\n",
       "    </tr>\n",
       "  </tbody>\n",
       "</table>\n",
       "</div>"
      ],
      "text/plain": [
       "         quantity       price     revenue     month   quarter\n",
       "weekday                                                      \n",
       "0        2.105568  488.407193  628.270302  6.277262  2.450116\n",
       "1        2.229036  507.715895  767.449312  6.554443  2.569462\n",
       "2        1.872370  569.075736  707.447405  6.316971  2.510519\n",
       "3        2.185897  485.602564  636.976923  6.444872  2.520513\n",
       "4        1.926752  565.536624  733.941083  6.773885  2.643312\n",
       "5        1.565678  478.991525  543.476695  6.758475  2.635593\n",
       "6        1.994898  531.957483  625.079932  6.602041  2.539116"
      ]
     },
     "metadata": {},
     "output_type": "display_data"
    }
   ],
   "source": [
    "display(df.drop(['order_id'], axis = 1).groupby('weekday').mean())"
   ]
  },
  {
   "cell_type": "markdown",
   "metadata": {},
   "source": [
    "- **Больше всего товаров** заказывают в понедельник, вторник и четверг (в среднем примерно 2). **Меньше всего товаров** покупают по субботам.\n",
    "- Товары с **самой большой средней ценой** заказывают во вторник (507 р.), среду (569 р.), пятницу (565 р.) и воскресенье (531 р.).\n",
    "- **Самую большую выручку** в среднем интернет-магазин получает по вторникам, средам и пятницам (так как `revenue` связан с `price`). \n",
    "---"
   ]
  },
  {
   "cell_type": "markdown",
   "metadata": {},
   "source": [
    "3. Посмотрим на средние значения признаков **для кластеров, которые были выделены алгоритмом.**"
   ]
  },
  {
   "cell_type": "code",
   "execution_count": 277,
   "metadata": {},
   "outputs": [
    {
     "data": {
      "text/html": [
       "<div>\n",
       "<style scoped>\n",
       "    .dataframe tbody tr th:only-of-type {\n",
       "        vertical-align: middle;\n",
       "    }\n",
       "\n",
       "    .dataframe tbody tr th {\n",
       "        vertical-align: top;\n",
       "    }\n",
       "\n",
       "    .dataframe thead th {\n",
       "        text-align: right;\n",
       "    }\n",
       "</style>\n",
       "<table border=\"1\" class=\"dataframe\">\n",
       "  <thead>\n",
       "    <tr style=\"text-align: right;\">\n",
       "      <th>claster</th>\n",
       "      <th>0</th>\n",
       "      <th>1</th>\n",
       "      <th>2</th>\n",
       "    </tr>\n",
       "  </thead>\n",
       "  <tbody>\n",
       "    <tr>\n",
       "      <th>revenue</th>\n",
       "      <td>957.913523</td>\n",
       "      <td>1418.438069</td>\n",
       "      <td>1124.866900</td>\n",
       "    </tr>\n",
       "    <tr>\n",
       "      <th>quarter_1</th>\n",
       "      <td>0.278749</td>\n",
       "      <td>0.234973</td>\n",
       "      <td>0.234676</td>\n",
       "    </tr>\n",
       "    <tr>\n",
       "      <th>quarter_2</th>\n",
       "      <td>0.189512</td>\n",
       "      <td>0.204918</td>\n",
       "      <td>0.301226</td>\n",
       "    </tr>\n",
       "    <tr>\n",
       "      <th>quarter_3</th>\n",
       "      <td>0.211592</td>\n",
       "      <td>0.192168</td>\n",
       "      <td>0.190893</td>\n",
       "    </tr>\n",
       "    <tr>\n",
       "      <th>quarter_4</th>\n",
       "      <td>0.320147</td>\n",
       "      <td>0.367942</td>\n",
       "      <td>0.273205</td>\n",
       "    </tr>\n",
       "    <tr>\n",
       "      <th>week_days_ends_weekday</th>\n",
       "      <td>0.792088</td>\n",
       "      <td>0.775956</td>\n",
       "      <td>0.781086</td>\n",
       "    </tr>\n",
       "    <tr>\n",
       "      <th>week_days_ends_weekend</th>\n",
       "      <td>0.207912</td>\n",
       "      <td>0.224044</td>\n",
       "      <td>0.218914</td>\n",
       "    </tr>\n",
       "    <tr>\n",
       "      <th>category_Все для кухни</th>\n",
       "      <td>1.000000</td>\n",
       "      <td>0.000000</td>\n",
       "      <td>0.000000</td>\n",
       "    </tr>\n",
       "    <tr>\n",
       "      <th>category_Для дома и сада</th>\n",
       "      <td>0.000000</td>\n",
       "      <td>0.000000</td>\n",
       "      <td>1.000000</td>\n",
       "    </tr>\n",
       "    <tr>\n",
       "      <th>category_Текстиль и гардероб</th>\n",
       "      <td>0.000000</td>\n",
       "      <td>1.000000</td>\n",
       "      <td>0.000000</td>\n",
       "    </tr>\n",
       "  </tbody>\n",
       "</table>\n",
       "</div>"
      ],
      "text/plain": [
       "claster                                0            1            2\n",
       "revenue                       957.913523  1418.438069  1124.866900\n",
       "quarter_1                       0.278749     0.234973     0.234676\n",
       "quarter_2                       0.189512     0.204918     0.301226\n",
       "quarter_3                       0.211592     0.192168     0.190893\n",
       "quarter_4                       0.320147     0.367942     0.273205\n",
       "week_days_ends_weekday          0.792088     0.775956     0.781086\n",
       "week_days_ends_weekend          0.207912     0.224044     0.218914\n",
       "category_Все для кухни          1.000000     0.000000     0.000000\n",
       "category_Для дома и сада        0.000000     0.000000     1.000000\n",
       "category_Текстиль и гардероб    0.000000     1.000000     0.000000"
      ]
     },
     "execution_count": 277,
     "metadata": {},
     "output_type": "execute_result"
    }
   ],
   "source": [
    "ml_orders.groupby('claster').mean().transpose()"
   ]
  },
  {
   "cell_type": "markdown",
   "metadata": {},
   "source": [
    "**Кластер 0 отличается следующими признаками:**\n",
    "- покупатели приносят меньше всего выручки (в среднем 957 р. с заказа),\n",
    "- четкого разделения покупателей на годовые кварталы не наблюдается, но с большей вероятностью они скорее делают покупки в 4 квартале,\n",
    "- покупатели делают покупки по будням,\n",
    "- покупают товары категории \"Все для кухни\".\n",
    "\n",
    "**Отличительные черты кластера 1:**\n",
    "- покупатели приносят максимальное количество всего выручки (в среднем 1418 р. с заказа, что больше, чем в остальных кластерах),\n",
    "- снова не наблюдается четкого разделения покупателей на годовые кварталы, но с большей вероятностью они делают покупки в 4 квартале (как в кластере 0),\n",
    "- покупатели делают заказы по будням,\n",
    "- покупают товары категории \"Текстиль и гардероб\".\n",
    "\n",
    "**Отличительные черты кластера 2:**\n",
    "- покупатели приносят среднее количество выручки по сравнению с двумя другими кластерами (1124 р.),\n",
    "- с большей вероятностью покупатели делают заказы во 2 квартале,\n",
    "- покупатели делают покупки по будням,\n",
    "- покупатели заказывают товары категории \"Для дома и сада\".\n",
    "---\n",
    "\n",
    "Мы также можем сделать вывод, что алгоритм выделил кластеры покупателей главным образом на основе того, товаров из какой категории содержится больше всего в их заказах. Это значит, что ранее мы совершенно верно самостоятельно выделили сегменты покупателей на основании товарных категорий. "
   ]
  },
  {
   "cell_type": "markdown",
   "metadata": {},
   "source": [
    "<a class='anchor' id='id-section18'/>\n",
    "\n",
    "### [Построим распределения признаков для сегментов](#id-section45)\n",
    "\n"
   ]
  },
  {
   "cell_type": "markdown",
   "metadata": {},
   "source": [
    "Посмотрим, как распределена каждая переменная в разных товарных категориях. Графики расположим рядом друг с другом. Для такого оформления напишем две функции:\n",
    "- первая функция будет строить гистограмму с соответствующими подписями в зависимости от переменной и сегмента,\n",
    "- вторая функция методом `subplots()` располагает гистограммы по каждой переменной рядом."
   ]
  },
  {
   "cell_type": "code",
   "execution_count": 278,
   "metadata": {
    "scrolled": false
   },
   "outputs": [
    {
     "data": {
      "image/png": "[encoded data removed]",
      "text/plain": [
       "<Figure size 2160x1440 with 4 Axes>"
      ]
     },
     "metadata": {
      "needs_background": "light"
     },
     "output_type": "display_data"
    },
    {
     "data": {
      "image/png": "[encoded data removed]",
      "text/plain": [
       "<Figure size 2160x1440 with 4 Axes>"
      ]
     },
     "metadata": {
      "needs_background": "light"
     },
     "output_type": "display_data"
    },
    {
     "data": {
      "image/png": "[encoded data removed]",
      "text/plain": [
       "<Figure size 2160x1440 with 4 Axes>"
      ]
     },
     "metadata": {
      "needs_background": "light"
     },
     "output_type": "display_data"
    }
   ],
   "source": [
    "# функция для построения гистограммы \n",
    "def plotOne(df, col, cat, axI): \n",
    "    sns.distplot(df[col], bins = 100, color = 'green', kde = False, kde_kws = {'bw':0.1}, ax = axI)\n",
    "    axI.set_xlabel('значения признака')\n",
    "    axI.set_ylabel('частота')\n",
    "    axI.set_title(f'Распределение переменной {col} для категории \"{cat}\"')\n",
    "    axI.grid()\n",
    "    sns.despine()\n",
    "\n",
    "    \n",
    "# функция с вызовом subplots() располагает гистограммы по каждой переменной и товарной категории рядом \n",
    "\n",
    "def plot1(df, col, category):\n",
    "    fig, ((ax1, ax2), (ax3, ax4)) = plt.subplots(2, 2, figsize = (30, 20))\n",
    "    plotOne(df.query(f'category == \"{category[0]}\"'), col, category[0], ax1)\n",
    "    plotOne(df.query(f'category == \"{category[1]}\"'), col, category[1], ax2)\n",
    "    plotOne(df.query(f'category == \"{category[2]}\"'), col, category[2], ax3)\n",
    "    \n",
    "    \n",
    "\n",
    "# формируем 2 списка с названием переменных (колонок) и товарными категориями\n",
    "\n",
    "columns = df[['quantity', 'price', 'revenue']].columns\n",
    "category = df['category'].unique()\n",
    "\n",
    "\n",
    "# перебираем переменные в цикле и для каждой рисуем гистограммы рядом \n",
    "for col in columns:\n",
    "    plot1(df, col, category)"
   ]
  },
  {
   "cell_type": "markdown",
   "metadata": {},
   "source": [
    "- Для всех категорий товаров характерна **поштучная покупка**.\n",
    "- Однако гистограммы снова указывают нам на тенденцию: **больше всего товаров** приобретается в категории \"Все для кухни\".\n",
    "---\n",
    "- В категорию \"Текстиль и гардероб\" попало **больше всего дорогих товаров** - поэтому она оказалась самая дорогая по средним ценам.\n",
    "- **Больше всего дешевых товаров** (до 500 р.) в категории \"Все для кухни\".\n",
    "- В целом, для всех категорий большинство товаров имеют **цены до 1000 р.**\n",
    "---\n",
    "- Чаще всего **маленькую выручку** (до 500 р.) приносит категория \"Все для кухни\".\n",
    "- Категория \"Текстиль и гардероб\" приносит **больше всего выручки.**\n",
    "---"
   ]
  },
  {
   "cell_type": "markdown",
   "metadata": {},
   "source": [
    "Аналогичным образом создаем две функции для построения гистограмм по переменным по дням недели. "
   ]
  },
  {
   "cell_type": "code",
   "execution_count": 279,
   "metadata": {
    "scrolled": false
   },
   "outputs": [
    {
     "data": {
      "image/png": "[encoded data removed]",
      "text/plain": [
       "<Figure size 2160x1440 with 8 Axes>"
      ]
     },
     "metadata": {
      "needs_background": "light"
     },
     "output_type": "display_data"
    },
    {
     "data": {
      "image/png": "[encoded data removed]",
      "text/plain": [
       "<Figure size 2160x1440 with 8 Axes>"
      ]
     },
     "metadata": {
      "needs_background": "light"
     },
     "output_type": "display_data"
    },
    {
     "data": {
      "image/png": "[encoded data removed]",
      "text/plain": [
       "<Figure size 2160x1440 with 8 Axes>"
      ]
     },
     "metadata": {
      "needs_background": "light"
     },
     "output_type": "display_data"
    }
   ],
   "source": [
    "# функция для построения гистограммы \n",
    "def plotOne(df, col, day, axI): \n",
    "    sns.distplot(df[col], bins = 100, color = 'blue', kde = False, kde_kws = {'bw':0.1}, ax = axI)\n",
    "    axI.set_xlabel('значения признака')\n",
    "    axI.set_ylabel('частота')\n",
    "    axI.set_title(f'Распределение переменной {col} для дня недели {day}')\n",
    "    axI.grid()\n",
    "    sns.despine()\n",
    "\n",
    "    \n",
    "# функция с вызовом subplots() располагает гистограммы по каждой переменной и дню недели рядом \n",
    "\n",
    "def plot1(df, col, day):\n",
    "    fig, ((ax1, ax2), (ax3, ax4), (ax5, ax6), (ax7, ax8)) = plt.subplots(4, 2, figsize = (30, 20))\n",
    "    plotOne(df.query(f'weekday == {day[0]}'), col, day[0], ax1)\n",
    "    plotOne(df.query(f'weekday == {day[1]}'), col, day[1], ax2)\n",
    "    plotOne(df.query(f'weekday == {day[2]}'), col, day[2], ax3)\n",
    "    plotOne(df.query(f'weekday == {day[3]}'), col, day[3], ax4)\n",
    "    plotOne(df.query(f'weekday == {day[4]}'), col, day[4], ax5)\n",
    "    plotOne(df.query(f'weekday == {day[5]}'), col, day[5], ax6)\n",
    "    plotOne(df.query(f'weekday == {day[6]}'), col, day[6], ax7)\n",
    "    \n",
    "    \n",
    "\n",
    "# формируем 2 списка с названием переменных (колонок) и упорядоченными номерами дней недели   \n",
    "\n",
    "columns = df[['quantity', 'price', 'revenue']].columns\n",
    "day = sorted(df['weekday'].unique())\n",
    "\n",
    "\n",
    "# перебираем признаки в цикле и для каждой рисуем гистограммы рядом \n",
    "for col in columns:\n",
    "    plot1(df, col, day)"
   ]
  },
  {
   "cell_type": "markdown",
   "metadata": {},
   "source": [
    "- Для всех дней недели характерно **поштучное потребление**.\n",
    "- Понедельник, вторник и четверг выделяются тем, что в эти дни чаще покупается **несколько товаров.**\n",
    "---\n",
    "- Самые **дешевые товары** чаще всего заказывают в понедельник.\n",
    "- В целом, практически все товары укладываются в **ценовой диапазон** до 2 000 р.\n",
    "---\n",
    "- Выручка также чаще всего **не пересекает** границу 2 000 р.\n",
    "- Вторник чаще всего приносит **небольшую выручку**, в отличие от остальных дней недели."
   ]
  },
  {
   "cell_type": "markdown",
   "metadata": {},
   "source": [
    "<a class='anchor' id='id-section19'/>\n",
    "\n",
    "### [Вывод](#id-section46)\n",
    "\n",
    "В связи с тем, что у нас не было принятой категоризации товаров, мы решили опереться на опыт другого интернет-магазина и работать с такими же категориями товаров, которые есть у него. \n",
    "\n",
    "- С помощью парсинга мы составили каталог товаров с их категориями, затем вызвали модель машинного обучения, обучили ее на товарах из каталога предсказывать категории (скоринг показал, что модель прогнозирует категории для товаров в каталоге достаточно точно), и после этого обученную модель применили к товарам из нашего магазина.\n",
    "\n",
    "- В результате модель присвоила товарам **категории**: \"Текстиль и гардероб\", \"Все для кухни\", \"Для дома и сада\" (для дальнейшей проверки гипотез нам интересна именно последняя категория). \n",
    "\n",
    "Таким образом, мы сегментировали покупателей **по категориям товаров**, которые они приобретают.\n",
    "\n",
    "---\n",
    "При оценке того, **насколько ярко проявляют себя сегменты по товарным категориям в данных**, мы увидели, что:\n",
    "- Больше всего заказов было сделано в категории \"Все для кухни\", меньше всего - в категории \"Для дома и сада\".\n",
    "- \"Все для кухни\" лидирует и по количеству покупаемых товаров (в среднем примерно по 3 товара). Важно отметить, что эта категория содержит больше всего дешевых товаров (до 500 р.).\n",
    "- Категория \"Текстиль и гардероб\" самая дорогая по средним ценам на товары (805 р.) и по выручке (940 р.). В эту категорию попало больше всего дорогих товаров.\n",
    "- Категория \"Для дома и сада\" занимает средние позиции по всем характеристикам.\n",
    "- При этом гистограммы распределения показали, что для всех категорий товаров характерна поштучная покупка.\n",
    "- В целом, для всех категорий большинство товаров имеют цены до 1000 р.\n",
    "\n",
    "---\n",
    "Также мы самостоятельно сегментировали покупателей **по дням недели совершения покупок** и увидели:\n",
    "- Больше всего заказов было сделано в понедельник и вторник, также в эти дни заказывают больше всего товаров (в среднем примерно 2). Самые дешевые товары чаще всего заказывают в понедельник.\n",
    "- Меньше всего заказов - в субботу, пятницу и воскресенье (вероятно, выходные дни и вечер пятницы покупатели проводят в офлайн-магазинах). При этом по субботам покупают меньше всего товаров.\n",
    "- Логично, что в плане выручки данные показали тот же результат: больше всего выручки с заказов было получено в понедельник и вторник, а меньше всего - в выходные дни и пятницу.\n",
    "- Важно отметить, что для всех дней недели характерно поштучное потребление.\n",
    "- В целом, выручка по всем дням чаще всего не пересекает границу 2 000 р.\n",
    "\n",
    "---\n",
    "Дополнительно мы сегментировали покупателей при помощи алгоритма машинного обучения `K-Means`, с учетом построения дендрограммы было принято решение разделить покупателей на 3 кластера. \n",
    "\n",
    "**Кластер 0 отличился следующими признаками:**\n",
    "- покупатели приносят меньше всего выручки (в среднем 957 р. с заказа),\n",
    "- четкого разделения покупателей на годовые кварталы не наблюдается, но с большей вероятностью они скорее делают покупки в 4 квартале,\n",
    "- покупатели делают покупки по будням,\n",
    "- покупают товары категории \"Все для кухни\".\n",
    "\n",
    "**Отличительные черты кластера 1:**\n",
    "- покупатели приносят максимальное количество всего выручки (в среднем 1418 р. с заказа, что больше, чем в остальных кластерах),\n",
    "- снова не наблюдается четкого разделения покупателей на годовые кварталы, но с большей вероятностью они делают покупки в 4 квартале (как в кластере 0),\n",
    "- покупатели делают заказы по будням,\n",
    "- покупают товары категории \"Текстиль и гардероб\".\n",
    "\n",
    "**Отличительные черты кластера 2:**\n",
    "- покупатели приносят среднее количество выручки по сравнению с двумя другими кластерами (1124 р.),\n",
    "- с большей вероятностью покупатели делают заказы во 2 квартале,\n",
    "- покупатели делают покупки по будням,\n",
    "- покупатели заказывают товары категории \"Для дома и сада\".\n",
    "\n",
    "Из вышеизложенного мы можем констатировать, что алгоритм выделил кластеры покупателей главным образом на основе того, товаров из какой категории содержится больше всего в их заказах. Это значит, что ранее мы верно выделили сегменты покупателей на основании товарных категорий самостоятельно. "
   ]
  },
  {
   "cell_type": "markdown",
   "metadata": {},
   "source": [
    "<a class='anchor' id='id-section20'/>\n",
    "\n",
    "## [Шаг 5. Проверим статистические гипотезы](#id-section47)"
   ]
  },
  {
   "cell_type": "markdown",
   "metadata": {},
   "source": [
    "<a class='anchor' id='id-section21'/>\n",
    "\n",
    "### [Гипотеза о равенстве среднего чека у покупателей товаров \"Для дома и сада\" в зимний и летний сезоны](#id-section48)\n",
    "\n",
    "Создадим новый столбец в данных с месяцем покупки."
   ]
  },
  {
   "cell_type": "code",
   "execution_count": 280,
   "metadata": {},
   "outputs": [],
   "source": [
    "df['month'] = df['date'].dt.month\n"
   ]
  },
  {
   "cell_type": "markdown",
   "metadata": {},
   "source": [
    "Сформируем срез данных с товарной категорий \"Для дома и сада\".\n",
    "\n",
    "Для каждого заказа в категории \"Для дома и сада\" выведем суммарную выручку (для последующего подсчета среднего чека), дату, месяц, идентификатор покупателя. Потом эта таблица (`ordersHouseAndGarden`) позволит нам сделать срезы по летнему и зимнему сезонам."
   ]
  },
  {
   "cell_type": "code",
   "execution_count": 281,
   "metadata": {},
   "outputs": [
    {
     "data": {
      "text/html": [
       "<div>\n",
       "<style scoped>\n",
       "    .dataframe tbody tr th:only-of-type {\n",
       "        vertical-align: middle;\n",
       "    }\n",
       "\n",
       "    .dataframe tbody tr th {\n",
       "        vertical-align: top;\n",
       "    }\n",
       "\n",
       "    .dataframe thead th {\n",
       "        text-align: right;\n",
       "    }\n",
       "</style>\n",
       "<table border=\"1\" class=\"dataframe\">\n",
       "  <thead>\n",
       "    <tr style=\"text-align: right;\">\n",
       "      <th></th>\n",
       "      <th>date</th>\n",
       "      <th>customer_id</th>\n",
       "      <th>revenue</th>\n",
       "      <th>month</th>\n",
       "    </tr>\n",
       "    <tr>\n",
       "      <th>order_id</th>\n",
       "      <th></th>\n",
       "      <th></th>\n",
       "      <th></th>\n",
       "      <th></th>\n",
       "    </tr>\n",
       "  </thead>\n",
       "  <tbody>\n",
       "    <tr>\n",
       "      <th>13547</th>\n",
       "      <td>2018-10-05 00:00:00</td>\n",
       "      <td>b80e4826-7218-4bf9-ac08-eb2c81ab3f62</td>\n",
       "      <td>684.0</td>\n",
       "      <td>10</td>\n",
       "    </tr>\n",
       "    <tr>\n",
       "      <th>14480</th>\n",
       "      <td>2018-10-02 11:00:00</td>\n",
       "      <td>f08d9018-438e-4e96-b519-f74c0302a433</td>\n",
       "      <td>359.0</td>\n",
       "      <td>10</td>\n",
       "    </tr>\n",
       "    <tr>\n",
       "      <th>14487</th>\n",
       "      <td>2018-10-17 16:00:00</td>\n",
       "      <td>585b1d92-f760-41f1-80bd-824fb827f34a</td>\n",
       "      <td>398.0</td>\n",
       "      <td>10</td>\n",
       "    </tr>\n",
       "    <tr>\n",
       "      <th>14496</th>\n",
       "      <td>2018-10-25 01:00:00</td>\n",
       "      <td>9669d757-8412-4d30-93b6-30db2ac9cac1</td>\n",
       "      <td>150.0</td>\n",
       "      <td>10</td>\n",
       "    </tr>\n",
       "    <tr>\n",
       "      <th>14497</th>\n",
       "      <td>2018-10-26 17:00:00</td>\n",
       "      <td>1b09d659-6aff-4be8-b548-77e949f60309</td>\n",
       "      <td>303.0</td>\n",
       "      <td>10</td>\n",
       "    </tr>\n",
       "  </tbody>\n",
       "</table>\n",
       "</div>"
      ],
      "text/plain": [
       "                        date                           customer_id  revenue  \\\n",
       "order_id                                                                      \n",
       "13547    2018-10-05 00:00:00  b80e4826-7218-4bf9-ac08-eb2c81ab3f62    684.0   \n",
       "14480    2018-10-02 11:00:00  f08d9018-438e-4e96-b519-f74c0302a433    359.0   \n",
       "14487    2018-10-17 16:00:00  585b1d92-f760-41f1-80bd-824fb827f34a    398.0   \n",
       "14496    2018-10-25 01:00:00  9669d757-8412-4d30-93b6-30db2ac9cac1    150.0   \n",
       "14497    2018-10-26 17:00:00  1b09d659-6aff-4be8-b548-77e949f60309    303.0   \n",
       "\n",
       "          month  \n",
       "order_id         \n",
       "13547        10  \n",
       "14480        10  \n",
       "14487        10  \n",
       "14496        10  \n",
       "14497        10  "
      ]
     },
     "metadata": {},
     "output_type": "display_data"
    }
   ],
   "source": [
    "dfHouseAndGarden = df.query('category == \"Для дома и сада\"') \n",
    "\n",
    "ordersHouseAndGarden = dfHouseAndGarden.groupby('order_id').agg({'date': 'min', 'customer_id': \\\n",
    "                                                                 'min', 'revenue': 'sum', 'month': 'min'})\n",
    "\n",
    "display(ordersHouseAndGarden.head())"
   ]
  },
  {
   "cell_type": "markdown",
   "metadata": {},
   "source": [
    "В связи с тем, что заказы, сделанные зимой и летом, разные, уникальные - мы не можем сказать, что перед нами зависимые (парные) выборки. Следовательно, нам нужно проверить гипотезу о равенстве средних для двух разных выборок.\n",
    "\n",
    "- **Гипотезу H₀ сформулируем так:** размеры среднего чека в заказах товаров \"Для дома и сада\" в зимний и летний сезоны равны (то есть одинаковые).\n",
    "- **Гипотеза H₁:** размеры среднего чека в заказах товаров \"Для дома и сада\" в зимний и летний сезоны различаются.\n",
    "\n",
    "Для проверки гипотезы **H₀** мы проведем t-тест методом `scipy.stats.ttest_ind()` из библиотеки `scipy.stats`, куда передадим два среза данных с выручками от заказов в зимний и летний сезоны. \n",
    "\n",
    "**Критический уровень статистической значимости** зададим значением 0.05 (5%), так как мы доверяем этому общепринятому пороговому значению. \n",
    "\n",
    "- Если наблюдаемое на выборках значение `pvalue` попадет в эту зону, у нас будет основание отвергнуть нулевую гипотезу.\n",
    "\n",
    "- Если значение `pvalue` попадет в зону «Не получилось отвергнуть нулевую гипотезу», то оснований отвергать нулевую гипотезу нет. Будем считать, что эмпирически полученные данные не противоречат H₀.\n",
    "\n",
    "Однако прежде чем произвести проверку гипотез через t-критерий Стьюдента, сделаем проверку дисперсий выборок, чтобы понять, с каким параметром `equal_var` (`True` или `False`) использовать метод проверки `ttest_ind`."
   ]
  },
  {
   "cell_type": "code",
   "execution_count": 282,
   "metadata": {},
   "outputs": [
    {
     "data": {
      "text/plain": [
       "[1573332.1766117127, 1363532.4913829933]"
      ]
     },
     "metadata": {},
     "output_type": "display_data"
    }
   ],
   "source": [
    "# формируем 2 выборки с выручкой по заказам \"Для дома и сада\" зимой и летом\n",
    "winterOrdersHouseAndGarden = ordersHouseAndGarden.query('month in (12, 1, 2)')['revenue']\n",
    "summerOrdersHouseAndGarden = ordersHouseAndGarden.query('month in (6, 7, 8)')['revenue']\n",
    "\n",
    "# смотрим на дисперсии в выборках\n",
    "display([np.var(x, ddof = 1) for x in [winterOrdersHouseAndGarden, summerOrdersHouseAndGarden]])"
   ]
  },
  {
   "cell_type": "code",
   "execution_count": 283,
   "metadata": {
    "scrolled": true
   },
   "outputs": [
    {
     "data": {
      "text/plain": [
       "'p-значение:'"
      ]
     },
     "metadata": {},
     "output_type": "display_data"
    },
    {
     "data": {
      "text/plain": [
       "0.7380200663968738"
      ]
     },
     "metadata": {},
     "output_type": "display_data"
    },
    {
     "data": {
      "text/plain": [
       "'Не получилось отвергнуть нулевую гипотезу'"
      ]
     },
     "metadata": {},
     "output_type": "display_data"
    }
   ],
   "source": [
    "# проводим t-тест\n",
    "\n",
    "alpha = 0.05 \n",
    "\n",
    "results = st.ttest_ind(winterOrdersHouseAndGarden, summerOrdersHouseAndGarden, equal_var = False)\n",
    "\n",
    "display('p-значение:', results.pvalue)\n",
    "\n",
    "if (results.pvalue < alpha):\n",
    "    display('Отвергаем нулевую гипотезу')\n",
    "else:\n",
    "    display('Не получилось отвергнуть нулевую гипотезу') "
   ]
  },
  {
   "cell_type": "markdown",
   "metadata": {},
   "source": [
    "- Судя по полученному значению `pvalue` (0.74), это явно слишком большая вероятность, чтобы делать вывод о значимом различии между размерами среднего чека.\n",
    "- Таким образом, эмпирически полученные данные **не противоречат гипотезе H₀**, и мы можем считать, что размеры среднего чека в заказах товаров \"Для дома и сада\" в зимний и летний сезоны одинаковые (хотя мы ожидали, что в летний сезон средний чек будет больше - здесь явно виден просчет в работе интернет-магазина). \n",
    "---\n",
    "Учитывая полученный необычный результат при проверке гипотез, мы решили посмотреть на общий размер выручки и средний чек в зимний и летний сезон (по всем данным), а также размер выручки и средний чек в зимний и летний сезон в заказах товаров \"Для дома и сада\" (чтобы увидеть, какими данными оперировал t-тест)."
   ]
  },
  {
   "cell_type": "code",
   "execution_count": 284,
   "metadata": {},
   "outputs": [
    {
     "data": {
      "text/html": [
       "<div>\n",
       "<style scoped>\n",
       "    .dataframe tbody tr th:only-of-type {\n",
       "        vertical-align: middle;\n",
       "    }\n",
       "\n",
       "    .dataframe tbody tr th {\n",
       "        vertical-align: top;\n",
       "    }\n",
       "\n",
       "    .dataframe thead th {\n",
       "        text-align: right;\n",
       "    }\n",
       "</style>\n",
       "<table border=\"1\" class=\"dataframe\">\n",
       "  <thead>\n",
       "    <tr style=\"text-align: right;\">\n",
       "      <th></th>\n",
       "      <th>date</th>\n",
       "      <th>customer_id</th>\n",
       "      <th>revenue</th>\n",
       "      <th>month</th>\n",
       "      <th>weekday</th>\n",
       "    </tr>\n",
       "    <tr>\n",
       "      <th>order_id</th>\n",
       "      <th></th>\n",
       "      <th></th>\n",
       "      <th></th>\n",
       "      <th></th>\n",
       "      <th></th>\n",
       "    </tr>\n",
       "  </thead>\n",
       "  <tbody>\n",
       "    <tr>\n",
       "      <th>12624</th>\n",
       "      <td>2019-06-02 20:00:00</td>\n",
       "      <td>d17861fa-db5f-4de4-93fd-dc5e60d24d3e</td>\n",
       "      <td>375.0</td>\n",
       "      <td>6</td>\n",
       "      <td>6</td>\n",
       "    </tr>\n",
       "    <tr>\n",
       "      <th>13547</th>\n",
       "      <td>2018-10-05 00:00:00</td>\n",
       "      <td>b80e4826-7218-4bf9-ac08-eb2c81ab3f62</td>\n",
       "      <td>684.0</td>\n",
       "      <td>10</td>\n",
       "      <td>4</td>\n",
       "    </tr>\n",
       "    <tr>\n",
       "      <th>14480</th>\n",
       "      <td>2018-10-02 11:00:00</td>\n",
       "      <td>f08d9018-438e-4e96-b519-f74c0302a433</td>\n",
       "      <td>359.0</td>\n",
       "      <td>10</td>\n",
       "      <td>1</td>\n",
       "    </tr>\n",
       "    <tr>\n",
       "      <th>14481</th>\n",
       "      <td>2018-10-02 17:00:00</td>\n",
       "      <td>49b9c587-c19e-4481-bace-967aeac357fa</td>\n",
       "      <td>600.0</td>\n",
       "      <td>10</td>\n",
       "      <td>1</td>\n",
       "    </tr>\n",
       "    <tr>\n",
       "      <th>14482</th>\n",
       "      <td>2018-10-07 12:00:00</td>\n",
       "      <td>43993fd2-20c9-44f7-8634-cf0aee26df4f</td>\n",
       "      <td>376.0</td>\n",
       "      <td>10</td>\n",
       "      <td>6</td>\n",
       "    </tr>\n",
       "  </tbody>\n",
       "</table>\n",
       "</div>"
      ],
      "text/plain": [
       "                        date                           customer_id  revenue  \\\n",
       "order_id                                                                      \n",
       "12624    2019-06-02 20:00:00  d17861fa-db5f-4de4-93fd-dc5e60d24d3e    375.0   \n",
       "13547    2018-10-05 00:00:00  b80e4826-7218-4bf9-ac08-eb2c81ab3f62    684.0   \n",
       "14480    2018-10-02 11:00:00  f08d9018-438e-4e96-b519-f74c0302a433    359.0   \n",
       "14481    2018-10-02 17:00:00  49b9c587-c19e-4481-bace-967aeac357fa    600.0   \n",
       "14482    2018-10-07 12:00:00  43993fd2-20c9-44f7-8634-cf0aee26df4f    376.0   \n",
       "\n",
       "          month  weekday  \n",
       "order_id                  \n",
       "12624         6        6  \n",
       "13547        10        4  \n",
       "14480        10        1  \n",
       "14481        10        1  \n",
       "14482        10        6  "
      ]
     },
     "metadata": {},
     "output_type": "display_data"
    },
    {
     "data": {
      "text/plain": [
       "'Общая картина: '"
      ]
     },
     "metadata": {},
     "output_type": "display_data"
    },
    {
     "data": {
      "text/plain": [
       "'Выручка по всем заказам в зимний сезон: 846691.0'"
      ]
     },
     "metadata": {},
     "output_type": "display_data"
    },
    {
     "data": {
      "text/plain": [
       "'Выручка по всем заказам в летний сезон: 586036.0'"
      ]
     },
     "metadata": {},
     "output_type": "display_data"
    },
    {
     "data": {
      "text/plain": [
       "'Ср.чек по всем заказам в зимний сезон: 1163.0370879120878'"
      ]
     },
     "metadata": {},
     "output_type": "display_data"
    },
    {
     "data": {
      "text/plain": [
       "'Ср.чек по всем заказам в летний сезон: 1105.7283018867925'"
      ]
     },
     "metadata": {},
     "output_type": "display_data"
    },
    {
     "data": {
      "text/plain": [
       "'Чем оперировал t-тест: '"
      ]
     },
     "metadata": {},
     "output_type": "display_data"
    },
    {
     "data": {
      "text/plain": [
       "'Выручка по заказам \"Для дома и сада\" в зимний сезон: 127773.0'"
      ]
     },
     "metadata": {},
     "output_type": "display_data"
    },
    {
     "data": {
      "text/plain": [
       "'Выручка по заказам \"Для дома и сада\" в летний сезон: 112648.0'"
      ]
     },
     "metadata": {},
     "output_type": "display_data"
    },
    {
     "data": {
      "text/plain": [
       "'Ср.чек по заказам \"Для дома и сада\" в зимний сезон: 998.2265625'"
      ]
     },
     "metadata": {},
     "output_type": "display_data"
    },
    {
     "data": {
      "text/plain": [
       "'Ср.чек по заказам \"Для дома и сада\" в летний сезон: 946.6218487394958'"
      ]
     },
     "metadata": {},
     "output_type": "display_data"
    }
   ],
   "source": [
    "# формируем таблицу с заказами по общим данным (аналогично ordersHouseAndGarden). \n",
    "# для проверки следующей гипотезы добавим еще столбец с днем недели каждого заказа \n",
    "orders = df.groupby('order_id').agg({'date': 'min', 'customer_id': 'min', 'revenue': 'sum', \\\n",
    "                                     'month': 'min', 'weekday': 'min'})\n",
    "display(orders.head())\n",
    "\n",
    "\n",
    "display('Общая картина: ')\n",
    "\n",
    "# смотрим выручку и ср.чек по всем заказам зимой и летом \n",
    "display('Выручка по всем заказам в зимний сезон: ' + str(orders.query('month in (12, 1, 2)')['revenue'].sum()),\n",
    "'Выручка по всем заказам в летний сезон: ' + str(orders.query('month in (6, 7, 8)')['revenue'].sum()))\n",
    "display('Ср.чек по всем заказам в зимний сезон: ' + str(orders.query('month in (12, 1, 2)')['revenue'].mean()),\n",
    "'Ср.чек по всем заказам в летний сезон: ' + str(orders.query('month in (6, 7, 8)')['revenue'].mean()))\n",
    "\n",
    "\n",
    "display('Чем оперировал t-тест: ')\n",
    "\n",
    "# смотрим выручку и ср.чек по заказам \"Для дома и сада\" зимой и летом \n",
    "display('Выручка по заказам \"Для дома и сада\" в зимний сезон: ' + str(winterOrdersHouseAndGarden.sum()),\n",
    "'Выручка по заказам \"Для дома и сада\" в летний сезон: ' + str(summerOrdersHouseAndGarden.sum()))\n",
    "\n",
    "display('Ср.чек по заказам \"Для дома и сада\" в зимний сезон: ' + str(winterOrdersHouseAndGarden.mean()),\n",
    "'Ср.чек по заказам \"Для дома и сада\" в летний сезон: ' + str(summerOrdersHouseAndGarden.mean()))\n"
   ]
  },
  {
   "cell_type": "markdown",
   "metadata": {},
   "source": [
    "- Мы видим, что **зимой выручка по всем заказам больше, чем летом**. А вот **средний чек практически идентичен** (1163 р. и 1105 р.). Вероятно, влияет то, что онлайн-шоппинг более привлекателен в холода, когда не хочется лишний раз выходить из дома, покупатели делают больше заказов в количественном эквиваленте, но при этом не изменяют своим потребительским привычкам и набирают заказы с привычным средним чеком. \n",
    "- В категории товаров \"Для дома и сада\" ситуация аналогичная: **зимой выручка** незначительно, но все-таки **больше, чем летом**, а **размеры среднего чека близки** (998 р. зимой и 946 р. летом). Неудивительно, почему t-тест не почувствовал между ними статистически важной разницы."
   ]
  },
  {
   "cell_type": "markdown",
   "metadata": {},
   "source": [
    "<a class='anchor' id='id-section22'/>\n",
    "\n",
    "### [Вывод](#id-section49)\n",
    "\n",
    "- Проверка гипотез H₀ и H₁ через t-критерий Стьюдента показала, что **размеры среднего чека в заказах товаров \"Для дома и сада\" в зимний и летний сезоны не различаются** (хотя мы, естественно, ожидали, что в летний сезон средний чек будет больше).\n",
    "\n",
    "Учитывая полученный необычный результат, мы вычислили общий размер выручки и средний чек в зимний и летний сезоны (по всем данным), а также размер выручки и средний чек в зимний и летний сезоны в заказах товаров \"Для дома и сада\" (чтобы увидеть, какими данными оперировал t-тест).\n",
    "\n",
    "- Оказалось, что **зимой выручка по всем заказам больше, чем летом**. А вот **средний чек практически идентичен** (1163 р. и 1105 р.). Вероятно, влияет то, что онлайн-шоппинг более привлекателен в холода, когда не хочется лишний раз выходить из дома, покупатели делают больше заказов в количественном эквиваленте, но при этом не изменяют своим потребительским привычкам и набирают заказы с привычным средним чеком. \n",
    "\n",
    "- В категории товаров \"Для дома и сада\" ситуация аналогичная: **зимой выручка** незначительно, но все-таки **больше, чем летом**, а **размеры среднего чека близки** (998 р. зимой и 946 р. летом). Неудивительно, почему t-тест не почувствовал между ними статистически важной разницы.\n",
    "\n",
    "---\n",
    "\n",
    "Таким образом, **у сегмента покупателей товаров категории \"Для дома и сада\" обнаружилась тревожная тенденция**: \n",
    "- выручка зимой немного выше, чем летом (хотя мы ожидали, что в летний сезон будут заказывать больше товаров для озеленения, и выручка будет больше зимней). Но это можно частично списать на то, что летом покупатели предпочитают оффлайн-шоппинг, тем более, иногда важно лично в магазине оценить внешний вид растения перед покупкой.\n",
    "- летний средний чек, по логике, должен обгонять зимний (но он такой же). Это значит, что интернет-магазин не обладает достаточно разнообразным сезонным летним ассортиментом. \n",
    "\n",
    "Чтобы интернет-магазин мог **получать больше выручки с сегмента покупателей товаров \"Для дома и сада\" в летний сезон**, нужно увеличивать величину среднего чека (расширять ассортимент) или количество заказов (стимулировать покупателей делать больше заказов путем организации рекламных кампаний, акций и скидок). "
   ]
  },
  {
   "cell_type": "markdown",
   "metadata": {},
   "source": [
    "<a class='anchor' id='id-section23'/>\n",
    "\n",
    "### [Гипотеза о равенстве среднего чека у покупателей по будним и выходным дням](#id-section50)\n",
    "\n"
   ]
  },
  {
   "cell_type": "markdown",
   "metadata": {},
   "source": [
    "У нас уже сформирована таблица `orders`, которая для каждого заказа показывает суммарную выручку (для последующего подсчета среднего чека), дату, месяц, идентификатор покупателя и день недели. Потом эта таблица позволит нам сделать срезы по заказам в будние и выходные дни."
   ]
  },
  {
   "cell_type": "code",
   "execution_count": 285,
   "metadata": {
    "scrolled": true
   },
   "outputs": [
    {
     "data": {
      "text/html": [
       "<div>\n",
       "<style scoped>\n",
       "    .dataframe tbody tr th:only-of-type {\n",
       "        vertical-align: middle;\n",
       "    }\n",
       "\n",
       "    .dataframe tbody tr th {\n",
       "        vertical-align: top;\n",
       "    }\n",
       "\n",
       "    .dataframe thead th {\n",
       "        text-align: right;\n",
       "    }\n",
       "</style>\n",
       "<table border=\"1\" class=\"dataframe\">\n",
       "  <thead>\n",
       "    <tr style=\"text-align: right;\">\n",
       "      <th></th>\n",
       "      <th>date</th>\n",
       "      <th>customer_id</th>\n",
       "      <th>revenue</th>\n",
       "      <th>month</th>\n",
       "      <th>weekday</th>\n",
       "    </tr>\n",
       "    <tr>\n",
       "      <th>order_id</th>\n",
       "      <th></th>\n",
       "      <th></th>\n",
       "      <th></th>\n",
       "      <th></th>\n",
       "      <th></th>\n",
       "    </tr>\n",
       "  </thead>\n",
       "  <tbody>\n",
       "    <tr>\n",
       "      <th>12624</th>\n",
       "      <td>2019-06-02 20:00:00</td>\n",
       "      <td>d17861fa-db5f-4de4-93fd-dc5e60d24d3e</td>\n",
       "      <td>375.0</td>\n",
       "      <td>6</td>\n",
       "      <td>6</td>\n",
       "    </tr>\n",
       "    <tr>\n",
       "      <th>13547</th>\n",
       "      <td>2018-10-05 00:00:00</td>\n",
       "      <td>b80e4826-7218-4bf9-ac08-eb2c81ab3f62</td>\n",
       "      <td>684.0</td>\n",
       "      <td>10</td>\n",
       "      <td>4</td>\n",
       "    </tr>\n",
       "    <tr>\n",
       "      <th>14480</th>\n",
       "      <td>2018-10-02 11:00:00</td>\n",
       "      <td>f08d9018-438e-4e96-b519-f74c0302a433</td>\n",
       "      <td>359.0</td>\n",
       "      <td>10</td>\n",
       "      <td>1</td>\n",
       "    </tr>\n",
       "    <tr>\n",
       "      <th>14481</th>\n",
       "      <td>2018-10-02 17:00:00</td>\n",
       "      <td>49b9c587-c19e-4481-bace-967aeac357fa</td>\n",
       "      <td>600.0</td>\n",
       "      <td>10</td>\n",
       "      <td>1</td>\n",
       "    </tr>\n",
       "    <tr>\n",
       "      <th>14482</th>\n",
       "      <td>2018-10-07 12:00:00</td>\n",
       "      <td>43993fd2-20c9-44f7-8634-cf0aee26df4f</td>\n",
       "      <td>376.0</td>\n",
       "      <td>10</td>\n",
       "      <td>6</td>\n",
       "    </tr>\n",
       "  </tbody>\n",
       "</table>\n",
       "</div>"
      ],
      "text/plain": [
       "                        date                           customer_id  revenue  \\\n",
       "order_id                                                                      \n",
       "12624    2019-06-02 20:00:00  d17861fa-db5f-4de4-93fd-dc5e60d24d3e    375.0   \n",
       "13547    2018-10-05 00:00:00  b80e4826-7218-4bf9-ac08-eb2c81ab3f62    684.0   \n",
       "14480    2018-10-02 11:00:00  f08d9018-438e-4e96-b519-f74c0302a433    359.0   \n",
       "14481    2018-10-02 17:00:00  49b9c587-c19e-4481-bace-967aeac357fa    600.0   \n",
       "14482    2018-10-07 12:00:00  43993fd2-20c9-44f7-8634-cf0aee26df4f    376.0   \n",
       "\n",
       "          month  weekday  \n",
       "order_id                  \n",
       "12624         6        6  \n",
       "13547        10        4  \n",
       "14480        10        1  \n",
       "14481        10        1  \n",
       "14482        10        6  "
      ]
     },
     "metadata": {},
     "output_type": "display_data"
    }
   ],
   "source": [
    "display(orders.head())"
   ]
  },
  {
   "cell_type": "markdown",
   "metadata": {},
   "source": [
    "В связи с тем, что заказы, сделанные в будние и выходные дни, разные, уникальные - мы не можем сказать, что перед нами зависимые (парные) выборки. Следовательно, нам нужно проверить гипотезу о равенстве средних для двух разных выборок.\n",
    "\n",
    "- **Гипотезу H₀ сформулируем так:** размеры среднего чека в заказах товаров по будним и выходным дням равны (то есть одинаковые).\n",
    "- **Гипотеза H₁:** размеры среднего чека в заказах товаров по будним и выходным дням различаются.\n",
    "\n",
    "Для проверки гипотезы **H₀** мы проведем t-тест методом `scipy.stats.ttest_ind()` из библиотеки `scipy.stats`, куда передадим два среза данных с выручками от заказов в будние и выходные дни. \n",
    "\n",
    "**Критический уровень статистической значимости** зададим значением 0.05 (5%), так как мы доверяем этому общепринятому пороговому значению. \n",
    "\n",
    "- Если наблюдаемое на выборках значение `pvalue` попадет в эту зону, у нас будет основание отвергнуть нулевую гипотезу.\n",
    "\n",
    "- Если значение `pvalue` попадет в зону «Не получилось отвергнуть нулевую гипотезу», то оснований отвергать нулевую гипотезу нет. Будем считать, что эмпирически полученные данные не противоречат H₀.\n",
    "\n",
    "Однако прежде чем произвести проверку гипотез через t-критерий Стьюдента, сделаем проверку дисперсий выборок, чтобы понять, с каким параметром `equal_var` (`True` или `False`) использовать метод проверки `ttest_ind`."
   ]
  },
  {
   "cell_type": "code",
   "execution_count": 286,
   "metadata": {},
   "outputs": [
    {
     "data": {
      "text/plain": [
       "[3819411.95810885, 1322683.023034636]"
      ]
     },
     "metadata": {},
     "output_type": "display_data"
    }
   ],
   "source": [
    "# формируем 2 выборки с выручкой по заказам в будние и выходные дни\n",
    "weekdayOrders = orders.query('weekday not in (5, 6)')['revenue']\n",
    "weekendOrders = orders.query('weekday in (5, 6)')['revenue']\n",
    "\n",
    "# смотрим на дисперсии в выборках\n",
    "display([np.var(x, ddof = 1) for x in [weekdayOrders, weekendOrders]])"
   ]
  },
  {
   "cell_type": "code",
   "execution_count": 287,
   "metadata": {},
   "outputs": [
    {
     "data": {
      "text/plain": [
       "'p-значение:'"
      ]
     },
     "metadata": {},
     "output_type": "display_data"
    },
    {
     "data": {
      "text/plain": [
       "0.001672603106153417"
      ]
     },
     "metadata": {},
     "output_type": "display_data"
    },
    {
     "data": {
      "text/plain": [
       "'Отвергаем нулевую гипотезу'"
      ]
     },
     "metadata": {},
     "output_type": "display_data"
    }
   ],
   "source": [
    "# проводим t-тест\n",
    "\n",
    "alpha = 0.05 \n",
    "\n",
    "results = st.ttest_ind(weekdayOrders, weekendOrders, equal_var = False)\n",
    "\n",
    "display('p-значение:', results.pvalue)\n",
    "\n",
    "if (results.pvalue < alpha):\n",
    "    display('Отвергаем нулевую гипотезу')\n",
    "else:\n",
    "    display('Не получилось отвергнуть нулевую гипотезу') "
   ]
  },
  {
   "cell_type": "markdown",
   "metadata": {},
   "source": [
    "- Полученное значение `pvalue` дает нам основание **отвергнуть гипотезу H₀** о равенстве размеров среднего чека. \n",
    "- Следовательно, эмпирически полученные данные **не противоречат гипотезе H₁**, и размеры среднего чека в заказах товаров по будним и выходным дням различаются.\n",
    "---\n",
    "\n",
    "Посмотрим на размер выручки по будним и выходным дням. Но так как в году больше будних дней, чем выходных, просто сложить `revenue` и сравнивать суммы будет некорректно. Поэтому выведем усредненный размер выручки по всем заказам в 1 будний день (разделим сумму по revenue по будням на 5), а также в 1 выходной день (разделим сумму по revenue по выходным на 2).\n",
    "\n",
    "Также проверим, какими данными оперировал t-тест: посмотрим на размер среднего чека по всем заказам в будни и выходные. "
   ]
  },
  {
   "cell_type": "code",
   "execution_count": 288,
   "metadata": {},
   "outputs": [
    {
     "data": {
      "text/plain": [
       "'Общая картина: '"
      ]
     },
     "metadata": {},
     "output_type": "display_data"
    },
    {
     "data": {
      "text/plain": [
       "'Средняя выручка по всем заказам в 1 будний день: 526375.2'"
      ]
     },
     "metadata": {},
     "output_type": "display_data"
    },
    {
     "data": {
      "text/plain": [
       "'Средняя выручка по всем заказам в 1 выходной день: 304560.0'"
      ]
     },
     "metadata": {},
     "output_type": "display_data"
    },
    {
     "data": {
      "text/plain": [
       "'Чем оперировал t-тест: '"
      ]
     },
     "metadata": {},
     "output_type": "display_data"
    },
    {
     "data": {
      "text/plain": [
       "'Ср.чек по всем заказам в будни: 1219.025474756832'"
      ]
     },
     "metadata": {},
     "output_type": "display_data"
    },
    {
     "data": {
      "text/plain": [
       "'Ср.чек по всем заказам в выходные: 1020.3015075376884'"
      ]
     },
     "metadata": {},
     "output_type": "display_data"
    }
   ],
   "source": [
    "display('Общая картина: ')\n",
    "\n",
    "display('Средняя выручка по всем заказам в 1 будний день: ' + str(weekdayOrders.sum() / 5),\n",
    "'Средняя выручка по всем заказам в 1 выходной день: ' + str(weekendOrders.sum() / 2))\n",
    "\n",
    "display('Чем оперировал t-тест: ')\n",
    "\n",
    "display('Ср.чек по всем заказам в будни: ' + str(weekdayOrders.mean()),\n",
    "'Ср.чек по всем заказам в выходные: ' + str(weekendOrders.mean()))\n"
   ]
  },
  {
   "cell_type": "markdown",
   "metadata": {},
   "source": [
    "- Мы видим, что в среднем **в 1 будний день покупатели приносят интернет-магазину значительно больше денег, чем в выходной**. Думаем, это связано с тем, что в будние (рабочие) дни покупателям просто некогда посещать магазины оффлайн, и ради экономии времени они предпочитают заказывать товары онлайн. А в выходные дни они, наоборот, идут в магазины лично, отнимая выручку у интернет-магазина. \n",
    "\n",
    "- Также **в будние дни у покупателей средний чек ощутимо выше, чем в выходные** (1219 р. против 1020 р.), t-тест это зафиксировал. Возможно, вследствие того, что в выходные дни интернет-магазин конкурирует с шоппингом оффлайн (и проигрывает в этой борьбе), покупатели большую часть товаров покупают оффлайн, из-за чего в интернет-магазине они набирают заказы с меньшим средним чеком, чем могли бы. "
   ]
  },
  {
   "cell_type": "markdown",
   "metadata": {},
   "source": [
    "<a class='anchor' id='id-section24'/>\n",
    "\n",
    "### [Вывод](#id-section51)\n",
    "\n",
    "- Проверка гипотез H₀ и H₁ через t-критерий Стьюдента показала, что **размеры среднего чека в заказах у покупателей по будним и выходным дням различаются**.\n",
    "\n",
    "Дополнительно мы посмотрели на усредненный размер выручки по всем заказам в 1 будний день и в 1 выходной день, а также проверили, какими данными оперировал t-тест: вывели размер среднего чека по всем заказам в будни и выходные. Этот анализ позволил нам прийти к таким результатам:\n",
    "\n",
    "- В среднем **в 1 будний день покупатели приносят интернет-магазину значительно больше денег, чем в выходной**. Думаем, это связано с тем, что в будние (рабочие) дни покупателям просто некогда посещать магазины оффлайн, и ради экономии времени они предпочитают заказывать товары онлайн. А в выходные дни они, наоборот, идут в магазины лично, отнимая выручку у интернет-магазина. \n",
    "\n",
    "- Также **в будние дни у покупателей средний чек ощутимо выше, чем в выходные** (1219 р. против 1020 р.), t-тест это зафиксировал. Возможно, вследствие того, что в выходные дни интернет-магазин конкурирует с шоппингом оффлайн (и проигрывает в этой борьбе), покупатели большую часть товаров покупают оффлайн, из-за чего в интернет-магазине они набирают заказы с меньшим средним чеком, чем могли бы. \n",
    "\n",
    "---\n",
    "\n",
    "Таким образом, мы увидели яркую сегментацию покупателей по будним и выходным дням. Это значит, что **сейчас интернет-магазин проигрывает в борьбе с оффлайн-шоппингом в выходные дни** (выручка и средний чек ниже, чем в будни). \n",
    "\n",
    "- Необходимо принять меры для того, чтобы в выходные дни покупатели товаров отдавали приоритет интернет-магазину (например, проводить акции выходного дня со сниженными ценами на товары, создавать удобные условия для доставки, расширять территориальные границы доставки, ведь зачастую многие покупатели заказывают товары по будням к себе на работу, потому что на домашний адрес доставка просто не распространяется)."
   ]
  },
  {
   "cell_type": "markdown",
   "metadata": {},
   "source": [
    "<a class='anchor' id='id-section103'/>\n",
    "\n",
    "### [Гипотеза о равенстве среднего чека у покупателей в каждой паре из трех кластеров](#id-section104)\n",
    "\n",
    "У нас уже сформирована таблица `ml_orders`, которая для каждого кластера показывает статистику по выручке."
   ]
  },
  {
   "cell_type": "code",
   "execution_count": 289,
   "metadata": {},
   "outputs": [
    {
     "data": {
      "text/html": [
       "<div>\n",
       "<style scoped>\n",
       "    .dataframe tbody tr th:only-of-type {\n",
       "        vertical-align: middle;\n",
       "    }\n",
       "\n",
       "    .dataframe tbody tr th {\n",
       "        vertical-align: top;\n",
       "    }\n",
       "\n",
       "    .dataframe thead th {\n",
       "        text-align: right;\n",
       "    }\n",
       "</style>\n",
       "<table border=\"1\" class=\"dataframe\">\n",
       "  <thead>\n",
       "    <tr style=\"text-align: right;\">\n",
       "      <th></th>\n",
       "      <th>revenue</th>\n",
       "      <th>quarter_1</th>\n",
       "      <th>quarter_2</th>\n",
       "      <th>quarter_3</th>\n",
       "      <th>quarter_4</th>\n",
       "      <th>week_days_ends_weekday</th>\n",
       "      <th>week_days_ends_weekend</th>\n",
       "      <th>category_Все для кухни</th>\n",
       "      <th>category_Для дома и сада</th>\n",
       "      <th>category_Текстиль и гардероб</th>\n",
       "      <th>claster</th>\n",
       "    </tr>\n",
       "    <tr>\n",
       "      <th>order_id</th>\n",
       "      <th></th>\n",
       "      <th></th>\n",
       "      <th></th>\n",
       "      <th></th>\n",
       "      <th></th>\n",
       "      <th></th>\n",
       "      <th></th>\n",
       "      <th></th>\n",
       "      <th></th>\n",
       "      <th></th>\n",
       "      <th></th>\n",
       "    </tr>\n",
       "  </thead>\n",
       "  <tbody>\n",
       "    <tr>\n",
       "      <th>12624</th>\n",
       "      <td>375.0</td>\n",
       "      <td>0</td>\n",
       "      <td>1</td>\n",
       "      <td>0</td>\n",
       "      <td>0</td>\n",
       "      <td>0</td>\n",
       "      <td>1</td>\n",
       "      <td>1</td>\n",
       "      <td>0</td>\n",
       "      <td>0</td>\n",
       "      <td>0</td>\n",
       "    </tr>\n",
       "    <tr>\n",
       "      <th>13547</th>\n",
       "      <td>684.0</td>\n",
       "      <td>0</td>\n",
       "      <td>0</td>\n",
       "      <td>0</td>\n",
       "      <td>1</td>\n",
       "      <td>1</td>\n",
       "      <td>0</td>\n",
       "      <td>0</td>\n",
       "      <td>1</td>\n",
       "      <td>0</td>\n",
       "      <td>2</td>\n",
       "    </tr>\n",
       "    <tr>\n",
       "      <th>14480</th>\n",
       "      <td>359.0</td>\n",
       "      <td>0</td>\n",
       "      <td>0</td>\n",
       "      <td>0</td>\n",
       "      <td>1</td>\n",
       "      <td>1</td>\n",
       "      <td>0</td>\n",
       "      <td>0</td>\n",
       "      <td>1</td>\n",
       "      <td>0</td>\n",
       "      <td>2</td>\n",
       "    </tr>\n",
       "    <tr>\n",
       "      <th>14481</th>\n",
       "      <td>600.0</td>\n",
       "      <td>0</td>\n",
       "      <td>0</td>\n",
       "      <td>0</td>\n",
       "      <td>1</td>\n",
       "      <td>1</td>\n",
       "      <td>0</td>\n",
       "      <td>0</td>\n",
       "      <td>0</td>\n",
       "      <td>1</td>\n",
       "      <td>1</td>\n",
       "    </tr>\n",
       "    <tr>\n",
       "      <th>14482</th>\n",
       "      <td>376.0</td>\n",
       "      <td>0</td>\n",
       "      <td>0</td>\n",
       "      <td>0</td>\n",
       "      <td>1</td>\n",
       "      <td>0</td>\n",
       "      <td>1</td>\n",
       "      <td>0</td>\n",
       "      <td>0</td>\n",
       "      <td>1</td>\n",
       "      <td>1</td>\n",
       "    </tr>\n",
       "  </tbody>\n",
       "</table>\n",
       "</div>"
      ],
      "text/plain": [
       "          revenue  quarter_1  quarter_2  quarter_3  quarter_4  \\\n",
       "order_id                                                        \n",
       "12624       375.0          0          1          0          0   \n",
       "13547       684.0          0          0          0          1   \n",
       "14480       359.0          0          0          0          1   \n",
       "14481       600.0          0          0          0          1   \n",
       "14482       376.0          0          0          0          1   \n",
       "\n",
       "          week_days_ends_weekday  week_days_ends_weekend  \\\n",
       "order_id                                                   \n",
       "12624                          0                       1   \n",
       "13547                          1                       0   \n",
       "14480                          1                       0   \n",
       "14481                          1                       0   \n",
       "14482                          0                       1   \n",
       "\n",
       "          category_Все для кухни  category_Для дома и сада  \\\n",
       "order_id                                                     \n",
       "12624                          1                         0   \n",
       "13547                          0                         1   \n",
       "14480                          0                         1   \n",
       "14481                          0                         0   \n",
       "14482                          0                         0   \n",
       "\n",
       "          category_Текстиль и гардероб  claster  \n",
       "order_id                                         \n",
       "12624                                0        0  \n",
       "13547                                0        2  \n",
       "14480                                0        2  \n",
       "14481                                1        1  \n",
       "14482                                1        1  "
      ]
     },
     "metadata": {},
     "output_type": "display_data"
    }
   ],
   "source": [
    "display(ml_orders.head())"
   ]
  },
  {
   "cell_type": "markdown",
   "metadata": {},
   "source": [
    "В связи с тем, что заказы, сделанные в разных кластерах, уникальные - мы не можем сказать, что перед нами зависимые (парные) выборки. Следовательно, нам нужно проверить гипотезу о равенстве средних для трех пар разных выборок.\n",
    "\n",
    "- **Гипотезу H₀ сформулируем так:** размеры среднего чека в заказах в кластерах 0 и 1, 1 и 2, 0 и 2 равны (то есть одинаковые).\n",
    "- **Гипотеза H₁:** размеры среднего чека в заказах в кластерах 0 и 1, 1 и 2, 0 и 2 различаются.\n",
    "\n",
    "Для проверки гипотезы **H₀** для каждой пары кластеров мы проведем t-тест методом `scipy.stats.ttest_ind()` из библиотеки `scipy.stats`, куда 3 раза передадим по 2 среза данных с выручками от заказов в кластерах. \n",
    "\n",
    "**Критический уровень статистической значимости** зададим значением 0.05 (5%), так как мы доверяем этому общепринятому пороговому значению. Однако в данном случае происходит множественная проверка гипотез, поэтому мы **применяем поправку Бонферрони** - поделим принятый уровень значимости на число сравнений (3). \n",
    "\n",
    "- Если наблюдаемое на выборках значение `pvalue` попадет в эту зону, у нас будет основание отвергнуть нулевую гипотезу.\n",
    "\n",
    "- Если значение `pvalue` попадет в зону «Не получилось отвергнуть нулевую гипотезу», то оснований отвергать нулевую гипотезу нет. Будем считать, что эмпирически полученные данные не противоречат H₀."
   ]
  },
  {
   "cell_type": "code",
   "execution_count": 290,
   "metadata": {},
   "outputs": [],
   "source": [
    "# формируем 3 выборки с выручкой по каждому кластеру\n",
    "claster0 = ml_orders.query('claster == 0')['revenue']\n",
    "claster1 = ml_orders.query('claster == 1')['revenue']\n",
    "claster2 = ml_orders.query('claster == 2')['revenue']"
   ]
  },
  {
   "cell_type": "code",
   "execution_count": 291,
   "metadata": {},
   "outputs": [
    {
     "data": {
      "text/plain": [
       "'p-значение для сравнения кластеров 0 и 1: '"
      ]
     },
     "metadata": {},
     "output_type": "display_data"
    },
    {
     "data": {
      "text/plain": [
       "1.3396207373421525e-08"
      ]
     },
     "metadata": {},
     "output_type": "display_data"
    },
    {
     "data": {
      "text/plain": [
       "'p-значение для сравнения кластеров 1 и 2: '"
      ]
     },
     "metadata": {},
     "output_type": "display_data"
    },
    {
     "data": {
      "text/plain": [
       "0.0027570542809584905"
      ]
     },
     "metadata": {},
     "output_type": "display_data"
    },
    {
     "data": {
      "text/plain": [
       "'p-значение для сравнения кластеров 0 и 2: '"
      ]
     },
     "metadata": {},
     "output_type": "display_data"
    },
    {
     "data": {
      "text/plain": [
       "0.039797382640830596"
      ]
     },
     "metadata": {},
     "output_type": "display_data"
    },
    {
     "data": {
      "text/plain": [
       "'Отвергаем нулевую гипотезу для сравнения кластеров 0 и 1'"
      ]
     },
     "metadata": {},
     "output_type": "display_data"
    },
    {
     "data": {
      "text/plain": [
       "'Отвергаем нулевую гипотезу для сравнения кластеров 1 и 2'"
      ]
     },
     "metadata": {},
     "output_type": "display_data"
    },
    {
     "data": {
      "text/plain": [
       "'Не получилось отвергнуть нулевую гипотезу для сравнения кластеров 0 и 2'"
      ]
     },
     "metadata": {},
     "output_type": "display_data"
    }
   ],
   "source": [
    "# проводим t-тест\n",
    "\n",
    "alpha = 0.05 # критический уровень статистической значимости\n",
    "\n",
    "results_01 = st.ttest_ind(\n",
    "    claster0, \n",
    "    claster1)\n",
    "\n",
    "results_12 = st.ttest_ind(\n",
    "    claster1, \n",
    "    claster2)\n",
    "\n",
    "results_02 = st.ttest_ind(\n",
    "    claster0, \n",
    "    claster2)\n",
    "\n",
    "bonferroni_alpha = alpha / 3  # произведено три сравнения\n",
    "\n",
    "display('p-значение для сравнения кластеров 0 и 1: ', results_01.pvalue)\n",
    "display('p-значение для сравнения кластеров 1 и 2: ', results_12.pvalue)\n",
    "display('p-значение для сравнения кластеров 0 и 2: ', results_02.pvalue)\n",
    "\n",
    "if (results_01.pvalue < bonferroni_alpha):\n",
    "    display(\"Отвергаем нулевую гипотезу для сравнения кластеров 0 и 1\")\n",
    "else:\n",
    "    display(\"Не получилось отвергнуть нулевую гипотезу для сравнения кластеров 0 и 1\")\n",
    "\n",
    "if (results_12.pvalue < bonferroni_alpha):\n",
    "    display(\"Отвергаем нулевую гипотезу для сравнения кластеров 1 и 2\")\n",
    "else:\n",
    "    display(\"Не получилось отвергнуть нулевую гипотезу для сравнения кластеров 1 и 2\")\n",
    "\n",
    "if (results_02.pvalue < bonferroni_alpha):\n",
    "    display(\"Отвергаем нулевую гипотезу для сравнения кластеров 0 и 2\")\n",
    "else:\n",
    "    display(\"Не получилось отвергнуть нулевую гипотезу для сравнения кластеров 0 и 2\")"
   ]
  },
  {
   "cell_type": "markdown",
   "metadata": {},
   "source": [
    "- Наблюдаемые данные не подтверждают наличие разницы в размере среднего чека только между кластерами 0 и 2."
   ]
  },
  {
   "cell_type": "markdown",
   "metadata": {},
   "source": [
    "<a class='anchor' id='id-section105'/>\n",
    "\n",
    "### [Вывод](#id-section106)"
   ]
  },
  {
   "cell_type": "markdown",
   "metadata": {},
   "source": [
    "- Проверка гипотез H₀ и H₁ через t-критерий Стьюдента показала, что **размеры среднего чека в заказах у покупателей различаются в кластерах 0 и 1, 1 и 2**.\n",
    "- Кластер 0 характеризовался товарами \"Все для кухни\", наименьшим средним чеком, и покупками в 4 квартале, кластер 1 - товарами \"Текстиль и гардероб\" с максимальным средним чеком, а кластер 2 - товарами \"Для дома и сада\", средней величиной среднего чека по сравнению с другими кластерами, покупками во 2 квартале (весной).\n",
    "- Это значит, что клиенты приходят в интернет-магазин, скорее всего, за покупкой текстильных товаров.\n",
    "- Необходимо провести работу с сегментами покупателей из кластеров 0 и 2, чтобы средний чек от них увеличивался. "
   ]
  },
  {
   "cell_type": "markdown",
   "metadata": {},
   "source": [
    "<a class='anchor' id='id-section25'/>\n",
    "\n",
    "## [Шаг 6. Сформулируем общие выводы и рекомендации по разработке персонализированных предложений для покупателей](#id-section52)\n",
    "\n",
    "**Исследовательский анализ данных** позволил нам установить:\n",
    "\n",
    "- Данные для проведения исследования были представлены за год: с 1 октября 2018 г. по 31 октября 2019 г. и имеют тенденцию к сезонности. В частности, самое большое количество заказов наблюдается весной - в начале лета, также есть небольшой всплеск по заказам в июне. Количество заказов достаточно высокое перед новогодними праздниками, но резко падает в январе (вероятно, покупатели приобретают товары в качестве подарков, а также украшения, искусственные елки. Соответственно, в январе спрос на эти товары падает). Оживление наступает сразу после новогодних праздников, и с середины января появляется рост.\n",
    "\n",
    "- В подавляющем большинстве случаев покупатели приобретают товары поштучно. \n",
    "\n",
    "- Чаще всего цена товара в интернет-магазине укладывается в диапазон до 500 р. Однако много и товаров с ценой до 1 500 р. В ассортименте есть и дорогие товары (например, максимальная цена товара \"Сушилка уличная Leifheit 85210 LINOMATIC V 400\" равна 14 917 р.).\n",
    "\n",
    "- Покупатель в среднем приносит нам до 734 р. выручки. При этом полученная интернет-магазином выручка практически всегда укладывается в диапазон до 10 000 р.\n",
    "\n",
    "---\n",
    "Построение **матрицы корреляций** показало следующий результат:\n",
    "\n",
    "- Наиболее сильная корреляция наблюдается между выручкой и ценой товара (связь прямая положительная - чем дороже стоит товар, тем больше выручка). \n",
    "- Получается, что количество товаров практически не оказывает влияния на выручку (коэффициент = 0.23). \n",
    "- Цена также не влияет на количество покупаемого товара (коэффициент = -0.11). Видимо, из-за того, что в основном ассортименте магазина только недорогие товары. \n",
    "\n",
    "---\n",
    "В связи с тем, что у нас не было принятой категоризации товаров, мы решили опереться на опыт другого интернет-магазина и работать с такими же категориями товаров, которые есть у него. \n",
    "\n",
    "- С помощью парсинга мы составили каталог товаров с их категориями, затем вызвали модель машинного обучения, обучили ее на товарах из каталога предсказывать категории (скоринг показал, что модель прогнозирует категории для товаров в каталоге достаточно точно), и после этого обученную модель применили к товарам из нашего интернет-магазина.\n",
    "\n",
    "- В результате модель присвоила товарам **категории**: \"Текстиль и гардероб\", \"Все для кухни\", \"Для дома и сада\". \n",
    "\n",
    "Таким образом, мы сегментировали покупателей **по категориям товаров**, которые они приобретают.\n",
    "\n",
    "---\n",
    "При оценке того, **насколько ярко проявляют себя сегменты покупателей по товарным категориям**, мы пришли к выводам о том, что:\n",
    "- Больше всего заказов было сделано в категории \"Все для кухни\", меньше всего - в категории \"Для дома и сада\".\n",
    "- \"Все для кухни\" лидирует и по количеству покупаемых товаров (в среднем примерно по 3 товара). Важно отметить, что эта категория содержит больше всего дешевых товаров (до 500 р.).\n",
    "- Категория \"Текстиль и гардероб\" самая дорогая по средним ценам на товары (805 р.) и по выручке (940 р.). В эту категорию попало больше всего дорогих товаров.\n",
    "- Категория \"Для дома и сада\" занимает средние позиции по всем характеристикам.\n",
    "- При этом гистограммы распределения снова показали, что для всех категорий товаров характерна поштучная покупка.\n",
    "\n",
    "---\n",
    "Также мы сегментировали покупателей **по дням недели совершения покупок** и увидели:\n",
    "- Больше всего заказов было сделано в понедельник и вторник, также в эти дни заказывают больше всего товаров (в среднем примерно 2). Самые дешевые товары чаще всего заказывают в понедельник.\n",
    "- Меньше всего заказов - в субботу, пятницу и воскресенье (вероятно, выходные дни и вечер пятницы покупатели проводят в офлайн-магазинах). При этом по субботам покупают меньше всего товаров.\n",
    "- Логично, что в плане выручки данные показали тот же результат: больше всего выручки с заказов было получено в понедельник и вторник, а меньше всего - в выходные дни и пятницу.\n",
    "- Важно отметить, что для всех дней недели характерно поштучное потребление.\n",
    "\n",
    "---\n",
    "Дополнительно мы сегментировали покупателей при помощи алгоритма машинного обучения `K-Means`, с учетом построения дендрограммы было принято решение разделить покупателей на 3 кластера. \n",
    "\n",
    "**Кластер 0 отличился следующими признаками:**\n",
    "- покупатели приносят меньше всего выручки (в среднем 957 р. с заказа),\n",
    "- четкого разделения покупателей на годовые кварталы не наблюдается, но с большей вероятностью они скорее делают покупки в 4 квартале,\n",
    "- покупатели делают покупки по будням,\n",
    "- покупают товары категории \"Все для кухни\".\n",
    "\n",
    "**Отличительные черты кластера 1:**\n",
    "- покупатели приносят максимальное количество всего выручки (в среднем 1418 р. с заказа, что больше, чем в остальных кластерах),\n",
    "- снова не наблюдается четкого разделения покупателей на годовые кварталы, но с большей вероятностью они делают покупки в 4 квартале (как в кластере 0),\n",
    "- покупатели делают заказы по будням,\n",
    "- покупают товары категории \"Текстиль и гардероб\".\n",
    "\n",
    "**Отличительные черты кластера 2:**\n",
    "- покупатели приносят среднее количество выручки по сравнению с двумя другими кластерами (1124 р.),\n",
    "- с большей вероятностью покупатели делают заказы во 2 квартале,\n",
    "- покупатели делают покупки по будням,\n",
    "- покупатели заказывают товары категории \"Для дома и сада\".\n",
    "\n",
    "Из вышеизложенного мы можем констатировать, что алгоритм выделил кластеры покупателей главным образом на основе того, товаров из какой категории содержится больше всего в их заказах. Это значит, что ранее мы верно выделили сегменты покупателей на основании товарных категорий самостоятельно. \n",
    "\n",
    "---\n",
    "**Проверка статистических гипотез** через t-критерий Стьюдента показала такие результаты:\n",
    "\n",
    "- Размеры среднего чека у покупателей товаров \"Для дома и сада\" в зимний и летний сезоны не различаются (хотя мы ожидали, что в летний сезон средний чек будет больше). Кроме того, зимой выручка незначительно, но все-таки выше, чем летом. \n",
    "- Размеры среднего чека в заказах у покупателей по будним и выходным дням различаются. Возможно, вследствие того, что в выходные дни интернет-магазин конкурирует с шоппингом оффлайн (и проигрывает в этой борьбе), покупатели большую часть товаров покупают оффлайн, из-за чего в интернет-магазине они набирают заказы с меньшим средним чеком, чем могли бы.\n",
    "-  Размеры среднего чека в заказах у покупателей различаются в кластерах 0 и 1, 1 и 2. Это значит, что клиенты приходят в интернет-магазин, скорее всего, за покупкой текстильных товаров. Необходимо провести работу с сегментами покупателей из кластеров 0 и 2, чтобы средний чек от них увеличивался. \n",
    "\n",
    "---\n",
    "Таким образом, мы обратили внимание на **тревожные тенденции** в работе интернет-магазина:\n",
    "\n",
    "- У сегмента покупателей товаров \"Для дома и сада\" выручка зимой немного выше, чем летом (хотя мы ожидали, что в летний сезон будут заказывать больше товаров для озеленения, и выручка будет больше зимней). Но это можно частично списать на то, что летом покупатели предпочитают оффлайн-шоппинг, тем более, иногда важно лично в магазине оценить внешний вид растения перед покупкой.\n",
    "\n",
    "- Летний средний чек покупателей товаров \"Для дома и сада\", по логике, должен обгонять зимний (но он такой же). Это значит, что интернет-магазин не обладает достаточно разнообразным сезонным летним ассортиментом. \n",
    "\n",
    "- Покупатели товаров \"Все для кухни\" и \"Для дома и сада\" (кластеры 0 и 2) отстают от кластера покупателей категории \"Текстиль и гардероб\" (1). Это может говорить о том, что клиенты приходят в интернет-магазин, скорее всего, за покупкой текстильных товаров.\n",
    "\n",
    "- По яркой сегментации покупателей по будним и выходным дням мы поняли, что сейчас интернет-магазин проигрывает в борьбе с оффлайн-шоппингом в выходные дни (выручка и средний чек ниже, чем в будни). \n",
    "\n",
    "---\n",
    "💡💡💡 Учитывая изложенное, мы можем предложить следующие **идеи и рекомендации по разработке персонализированных предложений для покупателей интернет-магазина:**\n",
    "\n",
    "1. Всем покупателям при заходе на главную страницу интернет-магазина показывать список товаров-бестселлеров (также бестселлеры можно показывать в рамках товарных категорий). Эта мера поможет бороться с поштучным потреблением.\n",
    "\n",
    "2. При переходе всех покупателей в \"корзину\" показывать список сопутствующих товаров - это также будет направлено не снижение поштучного потребления.\n",
    "\n",
    "\n",
    "\n",
    "3. Активная персонализация работы с сегментом покупателей товаров \"Для дома и сада\" в летний сезон: \n",
    "\n",
    "\n",
    "- разработать более широкий ассортимент сезонных летних товаров \"Для дома и сада\", чем тот, который есть сейчас (для увеличения среднего чека),\n",
    "\n",
    "- регулярно рассылать на адрес электронной почты уведомления с товарами-новинками из категории \"Для дома и сада\" (для увеличения количества заказов и выручки),\n",
    "\n",
    "- предложить покупателям товаров \"Для дома и сада\" выгодные акции и скидки в летний сезон,\n",
    "\n",
    "- провести масштабную рекламную кампанию, чтобы покупатели узнали об акциях и скидках.\n",
    "\n",
    "\n",
    "4. Персонализация работы с кластером покупателей товаров \"Все для кухни\" в 4 годовом квартале:\n",
    "\n",
    "\n",
    "- расширять новогодний ассортимент товаров (для увеличения среднего чека),\n",
    "\n",
    "- предложить праздничные скидки (для увеличения количества заказов),\n",
    "\n",
    "- увеличить количество курьеров, доставляющих заказы по будням и выходным дням в предпраздничные дни.\n",
    "\n",
    "\n",
    "  \n",
    "5. Персонализированная работа с сегментом покупателей выходного дня (для конкуренции с оффлайн-шоппингом):\n",
    "\n",
    "\n",
    "- проводить распродажи выходного для со сниженными ценами на товары (чтобы в выходные дни покупатели товаров отдавали приоритет интернет-магазину),\n",
    "\n",
    "- регулярное оповещение покупателей об акциях и распродажах выходного для по электронной почте,\n",
    "\n",
    "- создать более удобные условия для доставки товаров (например, быстрая доставка в тот же день, бесплатная доставка при большом заказе),\n",
    "\n",
    "- максимально расширять территориальные границы доставки (ведь зачастую многие покупатели заказывают товары по будням к себе на работу только потому, что на домашний адрес доставка просто не распространяется).\n"
   ]
  },
  {
   "cell_type": "markdown",
   "metadata": {},
   "source": [
    "<a class='anchor' id='id-section26'/>\n",
    "\n",
    "## [Шаг 7. Презентация](#id-section53)\n",
    "\n",
    "Ссылка на презентацию: https://drive.google.com/file/d/1yKqbNKdlghrL_sRKWeYljn-AUf7mebg2/view?usp=sharing "
   ]
  },
  {
   "cell_type": "markdown",
   "metadata": {},
   "source": [
    "<a class='anchor' id='id-section27'/>\n",
    "\n",
    "## [Шаг 8. Дашборд](#id-section54)\n",
    "\n",
    "Ссылка на дашборд:\n",
    "https://public.tableau.com/profile/maria4323#!/vizhome/FinalProject_16161578238620/Dashboard1?publish=yes"
   ]
  }
 ],
 "metadata": {
  "kernelspec": {
   "display_name": "Python 3",
   "language": "python",
   "name": "python3"
  },
  "language_info": {
   "codemirror_mode": {
    "name": "ipython",
    "version": 3
   },
   "file_extension": ".py",
   "mimetype": "text/x-python",
   "name": "python",
   "nbconvert_exporter": "python",
   "pygments_lexer": "ipython3",
   "version": "3.8.3"
  },
  "toc": {
   "base_numbering": 1,
   "nav_menu": {},
   "number_sections": true,
   "sideBar": true,
   "skip_h1_title": true,
   "title_cell": "Table of Contents",
   "title_sidebar": "Contents",
   "toc_cell": false,
   "toc_position": {},
   "toc_section_display": true,
   "toc_window_display": false
  }
 },
 "nbformat": 4,
 "nbformat_minor": 4
}
