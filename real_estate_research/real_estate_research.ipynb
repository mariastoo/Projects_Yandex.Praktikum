{
 "cells": [
  {
   "cell_type": "markdown",
   "metadata": {},
   "source": [
    "## **Оглавление**:\n",
    "- [Шаг 1. Откроем файл с данными и изучим общую информацию](#id-section1)<a class='anchor' id='id-section39'/>\n",
    "- [Вывод](#id-section2)<a class='anchor' id='id-section40'/>\n",
    "\n",
    "\n",
    "- [Шаг 2. Предобработка данных](#id-section3)<a class='anchor' id='id-section41'/>\n",
    "- [Обработка пропусков](#id-section4)<a class='anchor' id='id-section42'/>\n",
    "- [Вывод](#id-section5)<a class='anchor' id='id-section43'/>\n",
    "- [Замена типа данных](#id-section6)<a class='anchor' id='id-section44'/>\n",
    "- [Вывод](#id-section7)<a class='anchor' id='id-section45'/>\n",
    "- [Обработка дубликатов](#id-section8)<a class='anchor' id='id-section46'/>\n",
    "- [Вывод](#id-section9)<a class='anchor' id='id-section47'/>\n",
    "\n",
    "\n",
    "- [Шаг 3. Посчитаем и добавим в таблицу:](#id-section10)<a class='anchor' id='id-section48'/>\n",
    "- [Цену квадратного метра](#id-section11)<a class='anchor' id='id-section49'/>\n",
    "- [День недели, месяц и год публикации объявления](#id-section12)<a class='anchor' id='id-section50'/>\n",
    "- [Этаж квартиры (первый, последний, другой)](#id-section13)<a class='anchor' id='id-section51'/>\n",
    "- [Cоотношение жилой и общей площади](#id-section14)<a class='anchor' id='id-section52'/>\n",
    "- [Отношение площади кухни к общей площади](#id-section15)<a class='anchor' id='id-section53'/>\n",
    "- [Вывод](#id-section16)<a class='anchor' id='id-section54'/>\n",
    "\n",
    "\n",
    "- [Шаг 4. Проведем исследовательский анализ данных](#id-section17)<a class='anchor' id='id-section55'/>\n",
    "- [Изучим параметры: площадь, цена, число комнат, высота потолков](#id-section18)<a class='anchor' id='id-section56'/>\n",
    "- [Вывод](#id-section19)<a class='anchor' id='id-section57'/>\n",
    "- [Изучим время продажи квартиры](#id-section20)<a class='anchor' id='id-section58'/>\n",
    "- [Вывод](#id-section21)<a class='anchor' id='id-section59'/>\n",
    "- [Уберем редкие и выбивающиеся значения](#id-section22)<a class='anchor' id='id-section60'/>\n",
    "- [Вывод](#id-section23)<a class='anchor' id='id-section61'/>\n",
    "- [Изучим зависимость цены от площади, числа комнат, удаленности от центра](#id-section24)<a class='anchor' id='id-section62'/>\n",
    "- [Вывод](#id-section25)<a class='anchor' id='id-section63'/>\n",
    "- [Изучим зависимость цены от этажа квартиры](#id-section26)<a class='anchor' id='id-section64'/>\n",
    "- [Вывод](#id-section27)<a class='anchor' id='id-section65'/>\n",
    "- [Изучим зависимость цены от дня недели, месяца и года размещения объявления](#id-section28)<a class='anchor' id='id-section66'/>\n",
    "- [Вывод](#id-section29)<a class='anchor' id='id-section67'/>\n",
    "- [Изучим 10 населенных пунктов с наибольшим числом объявлений](#id-section30)<a class='anchor' id='id-section68'/>\n",
    "- [Вывод](#id-section31)<a class='anchor' id='id-section69'/>\n",
    "- [Определим центральную зону для квартир в Санкт-Петербурге](#id-section32)<a class='anchor' id='id-section70'/>\n",
    "- [Вывод](#id-section33)<a class='anchor' id='id-section71'/>\n",
    "- [Изучим сегмент квартир в центре Санкт-Петербурга по параметрам: площадь, цена, число комнат, высота потолков](#id-section34)<a class='anchor' id='id-section72'/>\n",
    "- [Вывод](#id-section35)<a class='anchor' id='id-section73'/>\n",
    "- [Изучим зависимость цены квартир в центре Санкт-Петербурга от числа комнат, этажа, удаленности от центра, даты размещения объявления](#id-section36)<a class='anchor' id='id-section74'/>\n",
    "- [Вывод](#id-section37)<a class='anchor' id='id-section75'/>\n",
    "\n",
    "\n",
    "- [Шаг 5. Общий вывод](#id-section38)<a class='anchor' id='id-section76'/>"
   ]
  },
  {
   "cell_type": "markdown",
   "metadata": {},
   "source": [
    "<a class='anchor' id='id-section1'/>\n",
    "\n",
    "## [Шаг 1. Откроем файл с данными и изучим общую информацию](#id-section39)"
   ]
  },
  {
   "cell_type": "markdown",
   "metadata": {},
   "source": [
    "В качестве разделителя для столбцов укажем `\\t`, чтобы данные из разных столбцов не склеивались построчно.\n",
    "\n",
    "Чтобы не выводить на экран большую таблицу `data` целиком, применим методы `head()` и `tail()` и выведем только часть данных - первые и последние 5 строк."
   ]
  },
  {
   "cell_type": "code",
   "execution_count": 375,
   "metadata": {},
   "outputs": [
    {
     "data": {
      "text/html": [
       "<div>\n",
       "<style scoped>\n",
       "    .dataframe tbody tr th:only-of-type {\n",
       "        vertical-align: middle;\n",
       "    }\n",
       "\n",
       "    .dataframe tbody tr th {\n",
       "        vertical-align: top;\n",
       "    }\n",
       "\n",
       "    .dataframe thead th {\n",
       "        text-align: right;\n",
       "    }\n",
       "</style>\n",
       "<table border=\"1\" class=\"dataframe\">\n",
       "  <thead>\n",
       "    <tr style=\"text-align: right;\">\n",
       "      <th></th>\n",
       "      <th>total_images</th>\n",
       "      <th>last_price</th>\n",
       "      <th>total_area</th>\n",
       "      <th>first_day_exposition</th>\n",
       "      <th>rooms</th>\n",
       "      <th>ceiling_height</th>\n",
       "      <th>floors_total</th>\n",
       "      <th>living_area</th>\n",
       "      <th>floor</th>\n",
       "      <th>is_apartment</th>\n",
       "      <th>...</th>\n",
       "      <th>kitchen_area</th>\n",
       "      <th>balcony</th>\n",
       "      <th>locality_name</th>\n",
       "      <th>airports_nearest</th>\n",
       "      <th>cityCenters_nearest</th>\n",
       "      <th>parks_around3000</th>\n",
       "      <th>parks_nearest</th>\n",
       "      <th>ponds_around3000</th>\n",
       "      <th>ponds_nearest</th>\n",
       "      <th>days_exposition</th>\n",
       "    </tr>\n",
       "  </thead>\n",
       "  <tbody>\n",
       "    <tr>\n",
       "      <td>0</td>\n",
       "      <td>20</td>\n",
       "      <td>13000000.0</td>\n",
       "      <td>108.0</td>\n",
       "      <td>2019-03-07T00:00:00</td>\n",
       "      <td>3</td>\n",
       "      <td>2.70</td>\n",
       "      <td>16.0</td>\n",
       "      <td>51.0</td>\n",
       "      <td>8</td>\n",
       "      <td>NaN</td>\n",
       "      <td>...</td>\n",
       "      <td>25.0</td>\n",
       "      <td>NaN</td>\n",
       "      <td>Санкт-Петербург</td>\n",
       "      <td>18863.0</td>\n",
       "      <td>16028.0</td>\n",
       "      <td>1.0</td>\n",
       "      <td>482.0</td>\n",
       "      <td>2.0</td>\n",
       "      <td>755.0</td>\n",
       "      <td>NaN</td>\n",
       "    </tr>\n",
       "    <tr>\n",
       "      <td>1</td>\n",
       "      <td>7</td>\n",
       "      <td>3350000.0</td>\n",
       "      <td>40.4</td>\n",
       "      <td>2018-12-04T00:00:00</td>\n",
       "      <td>1</td>\n",
       "      <td>NaN</td>\n",
       "      <td>11.0</td>\n",
       "      <td>18.6</td>\n",
       "      <td>1</td>\n",
       "      <td>NaN</td>\n",
       "      <td>...</td>\n",
       "      <td>11.0</td>\n",
       "      <td>2.0</td>\n",
       "      <td>посёлок Шушары</td>\n",
       "      <td>12817.0</td>\n",
       "      <td>18603.0</td>\n",
       "      <td>0.0</td>\n",
       "      <td>NaN</td>\n",
       "      <td>0.0</td>\n",
       "      <td>NaN</td>\n",
       "      <td>81.0</td>\n",
       "    </tr>\n",
       "    <tr>\n",
       "      <td>2</td>\n",
       "      <td>10</td>\n",
       "      <td>5196000.0</td>\n",
       "      <td>56.0</td>\n",
       "      <td>2015-08-20T00:00:00</td>\n",
       "      <td>2</td>\n",
       "      <td>NaN</td>\n",
       "      <td>5.0</td>\n",
       "      <td>34.3</td>\n",
       "      <td>4</td>\n",
       "      <td>NaN</td>\n",
       "      <td>...</td>\n",
       "      <td>8.3</td>\n",
       "      <td>0.0</td>\n",
       "      <td>Санкт-Петербург</td>\n",
       "      <td>21741.0</td>\n",
       "      <td>13933.0</td>\n",
       "      <td>1.0</td>\n",
       "      <td>90.0</td>\n",
       "      <td>2.0</td>\n",
       "      <td>574.0</td>\n",
       "      <td>558.0</td>\n",
       "    </tr>\n",
       "    <tr>\n",
       "      <td>3</td>\n",
       "      <td>0</td>\n",
       "      <td>64900000.0</td>\n",
       "      <td>159.0</td>\n",
       "      <td>2015-07-24T00:00:00</td>\n",
       "      <td>3</td>\n",
       "      <td>NaN</td>\n",
       "      <td>14.0</td>\n",
       "      <td>NaN</td>\n",
       "      <td>9</td>\n",
       "      <td>NaN</td>\n",
       "      <td>...</td>\n",
       "      <td>NaN</td>\n",
       "      <td>0.0</td>\n",
       "      <td>Санкт-Петербург</td>\n",
       "      <td>28098.0</td>\n",
       "      <td>6800.0</td>\n",
       "      <td>2.0</td>\n",
       "      <td>84.0</td>\n",
       "      <td>3.0</td>\n",
       "      <td>234.0</td>\n",
       "      <td>424.0</td>\n",
       "    </tr>\n",
       "    <tr>\n",
       "      <td>4</td>\n",
       "      <td>2</td>\n",
       "      <td>10000000.0</td>\n",
       "      <td>100.0</td>\n",
       "      <td>2018-06-19T00:00:00</td>\n",
       "      <td>2</td>\n",
       "      <td>3.03</td>\n",
       "      <td>14.0</td>\n",
       "      <td>32.0</td>\n",
       "      <td>13</td>\n",
       "      <td>NaN</td>\n",
       "      <td>...</td>\n",
       "      <td>41.0</td>\n",
       "      <td>NaN</td>\n",
       "      <td>Санкт-Петербург</td>\n",
       "      <td>31856.0</td>\n",
       "      <td>8098.0</td>\n",
       "      <td>2.0</td>\n",
       "      <td>112.0</td>\n",
       "      <td>1.0</td>\n",
       "      <td>48.0</td>\n",
       "      <td>121.0</td>\n",
       "    </tr>\n",
       "  </tbody>\n",
       "</table>\n",
       "<p>5 rows × 22 columns</p>\n",
       "</div>"
      ],
      "text/plain": [
       "   total_images  last_price  total_area first_day_exposition  rooms  \\\n",
       "0            20  13000000.0       108.0  2019-03-07T00:00:00      3   \n",
       "1             7   3350000.0        40.4  2018-12-04T00:00:00      1   \n",
       "2            10   5196000.0        56.0  2015-08-20T00:00:00      2   \n",
       "3             0  64900000.0       159.0  2015-07-24T00:00:00      3   \n",
       "4             2  10000000.0       100.0  2018-06-19T00:00:00      2   \n",
       "\n",
       "   ceiling_height  floors_total  living_area  floor is_apartment  ...  \\\n",
       "0            2.70          16.0         51.0      8          NaN  ...   \n",
       "1             NaN          11.0         18.6      1          NaN  ...   \n",
       "2             NaN           5.0         34.3      4          NaN  ...   \n",
       "3             NaN          14.0          NaN      9          NaN  ...   \n",
       "4            3.03          14.0         32.0     13          NaN  ...   \n",
       "\n",
       "   kitchen_area  balcony    locality_name  airports_nearest  \\\n",
       "0          25.0      NaN  Санкт-Петербург           18863.0   \n",
       "1          11.0      2.0   посёлок Шушары           12817.0   \n",
       "2           8.3      0.0  Санкт-Петербург           21741.0   \n",
       "3           NaN      0.0  Санкт-Петербург           28098.0   \n",
       "4          41.0      NaN  Санкт-Петербург           31856.0   \n",
       "\n",
       "  cityCenters_nearest  parks_around3000  parks_nearest  ponds_around3000  \\\n",
       "0             16028.0               1.0          482.0               2.0   \n",
       "1             18603.0               0.0            NaN               0.0   \n",
       "2             13933.0               1.0           90.0               2.0   \n",
       "3              6800.0               2.0           84.0               3.0   \n",
       "4              8098.0               2.0          112.0               1.0   \n",
       "\n",
       "   ponds_nearest  days_exposition  \n",
       "0          755.0              NaN  \n",
       "1            NaN             81.0  \n",
       "2          574.0            558.0  \n",
       "3          234.0            424.0  \n",
       "4           48.0            121.0  \n",
       "\n",
       "[5 rows x 22 columns]"
      ]
     },
     "metadata": {},
     "output_type": "display_data"
    },
    {
     "data": {
      "text/html": [
       "<div>\n",
       "<style scoped>\n",
       "    .dataframe tbody tr th:only-of-type {\n",
       "        vertical-align: middle;\n",
       "    }\n",
       "\n",
       "    .dataframe tbody tr th {\n",
       "        vertical-align: top;\n",
       "    }\n",
       "\n",
       "    .dataframe thead th {\n",
       "        text-align: right;\n",
       "    }\n",
       "</style>\n",
       "<table border=\"1\" class=\"dataframe\">\n",
       "  <thead>\n",
       "    <tr style=\"text-align: right;\">\n",
       "      <th></th>\n",
       "      <th>total_images</th>\n",
       "      <th>last_price</th>\n",
       "      <th>total_area</th>\n",
       "      <th>first_day_exposition</th>\n",
       "      <th>rooms</th>\n",
       "      <th>ceiling_height</th>\n",
       "      <th>floors_total</th>\n",
       "      <th>living_area</th>\n",
       "      <th>floor</th>\n",
       "      <th>is_apartment</th>\n",
       "      <th>...</th>\n",
       "      <th>kitchen_area</th>\n",
       "      <th>balcony</th>\n",
       "      <th>locality_name</th>\n",
       "      <th>airports_nearest</th>\n",
       "      <th>cityCenters_nearest</th>\n",
       "      <th>parks_around3000</th>\n",
       "      <th>parks_nearest</th>\n",
       "      <th>ponds_around3000</th>\n",
       "      <th>ponds_nearest</th>\n",
       "      <th>days_exposition</th>\n",
       "    </tr>\n",
       "  </thead>\n",
       "  <tbody>\n",
       "    <tr>\n",
       "      <td>23694</td>\n",
       "      <td>9</td>\n",
       "      <td>9700000.0</td>\n",
       "      <td>133.81</td>\n",
       "      <td>2017-03-21T00:00:00</td>\n",
       "      <td>3</td>\n",
       "      <td>3.7</td>\n",
       "      <td>5.0</td>\n",
       "      <td>73.3</td>\n",
       "      <td>3</td>\n",
       "      <td>NaN</td>\n",
       "      <td>...</td>\n",
       "      <td>13.83</td>\n",
       "      <td>NaN</td>\n",
       "      <td>Санкт-Петербург</td>\n",
       "      <td>24665.0</td>\n",
       "      <td>4232.0</td>\n",
       "      <td>1.0</td>\n",
       "      <td>796.0</td>\n",
       "      <td>3.0</td>\n",
       "      <td>381.0</td>\n",
       "      <td>NaN</td>\n",
       "    </tr>\n",
       "    <tr>\n",
       "      <td>23695</td>\n",
       "      <td>14</td>\n",
       "      <td>3100000.0</td>\n",
       "      <td>59.00</td>\n",
       "      <td>2018-01-15T00:00:00</td>\n",
       "      <td>3</td>\n",
       "      <td>NaN</td>\n",
       "      <td>5.0</td>\n",
       "      <td>38.0</td>\n",
       "      <td>4</td>\n",
       "      <td>NaN</td>\n",
       "      <td>...</td>\n",
       "      <td>8.50</td>\n",
       "      <td>NaN</td>\n",
       "      <td>Тосно</td>\n",
       "      <td>NaN</td>\n",
       "      <td>NaN</td>\n",
       "      <td>NaN</td>\n",
       "      <td>NaN</td>\n",
       "      <td>NaN</td>\n",
       "      <td>NaN</td>\n",
       "      <td>45.0</td>\n",
       "    </tr>\n",
       "    <tr>\n",
       "      <td>23696</td>\n",
       "      <td>18</td>\n",
       "      <td>2500000.0</td>\n",
       "      <td>56.70</td>\n",
       "      <td>2018-02-11T00:00:00</td>\n",
       "      <td>2</td>\n",
       "      <td>NaN</td>\n",
       "      <td>3.0</td>\n",
       "      <td>29.7</td>\n",
       "      <td>1</td>\n",
       "      <td>NaN</td>\n",
       "      <td>...</td>\n",
       "      <td>NaN</td>\n",
       "      <td>NaN</td>\n",
       "      <td>село Рождествено</td>\n",
       "      <td>NaN</td>\n",
       "      <td>NaN</td>\n",
       "      <td>NaN</td>\n",
       "      <td>NaN</td>\n",
       "      <td>NaN</td>\n",
       "      <td>NaN</td>\n",
       "      <td>NaN</td>\n",
       "    </tr>\n",
       "    <tr>\n",
       "      <td>23697</td>\n",
       "      <td>13</td>\n",
       "      <td>11475000.0</td>\n",
       "      <td>76.75</td>\n",
       "      <td>2017-03-28T00:00:00</td>\n",
       "      <td>2</td>\n",
       "      <td>3.0</td>\n",
       "      <td>17.0</td>\n",
       "      <td>NaN</td>\n",
       "      <td>12</td>\n",
       "      <td>NaN</td>\n",
       "      <td>...</td>\n",
       "      <td>23.30</td>\n",
       "      <td>2.0</td>\n",
       "      <td>Санкт-Петербург</td>\n",
       "      <td>39140.0</td>\n",
       "      <td>10364.0</td>\n",
       "      <td>2.0</td>\n",
       "      <td>173.0</td>\n",
       "      <td>3.0</td>\n",
       "      <td>196.0</td>\n",
       "      <td>602.0</td>\n",
       "    </tr>\n",
       "    <tr>\n",
       "      <td>23698</td>\n",
       "      <td>4</td>\n",
       "      <td>1350000.0</td>\n",
       "      <td>32.30</td>\n",
       "      <td>2017-07-21T00:00:00</td>\n",
       "      <td>1</td>\n",
       "      <td>2.5</td>\n",
       "      <td>5.0</td>\n",
       "      <td>12.3</td>\n",
       "      <td>1</td>\n",
       "      <td>NaN</td>\n",
       "      <td>...</td>\n",
       "      <td>9.00</td>\n",
       "      <td>NaN</td>\n",
       "      <td>поселок Новый Учхоз</td>\n",
       "      <td>NaN</td>\n",
       "      <td>NaN</td>\n",
       "      <td>NaN</td>\n",
       "      <td>NaN</td>\n",
       "      <td>NaN</td>\n",
       "      <td>NaN</td>\n",
       "      <td>NaN</td>\n",
       "    </tr>\n",
       "  </tbody>\n",
       "</table>\n",
       "<p>5 rows × 22 columns</p>\n",
       "</div>"
      ],
      "text/plain": [
       "       total_images  last_price  total_area first_day_exposition  rooms  \\\n",
       "23694             9   9700000.0      133.81  2017-03-21T00:00:00      3   \n",
       "23695            14   3100000.0       59.00  2018-01-15T00:00:00      3   \n",
       "23696            18   2500000.0       56.70  2018-02-11T00:00:00      2   \n",
       "23697            13  11475000.0       76.75  2017-03-28T00:00:00      2   \n",
       "23698             4   1350000.0       32.30  2017-07-21T00:00:00      1   \n",
       "\n",
       "       ceiling_height  floors_total  living_area  floor is_apartment  ...  \\\n",
       "23694             3.7           5.0         73.3      3          NaN  ...   \n",
       "23695             NaN           5.0         38.0      4          NaN  ...   \n",
       "23696             NaN           3.0         29.7      1          NaN  ...   \n",
       "23697             3.0          17.0          NaN     12          NaN  ...   \n",
       "23698             2.5           5.0         12.3      1          NaN  ...   \n",
       "\n",
       "       kitchen_area  balcony        locality_name  airports_nearest  \\\n",
       "23694         13.83      NaN      Санкт-Петербург           24665.0   \n",
       "23695          8.50      NaN                Тосно               NaN   \n",
       "23696           NaN      NaN     село Рождествено               NaN   \n",
       "23697         23.30      2.0      Санкт-Петербург           39140.0   \n",
       "23698          9.00      NaN  поселок Новый Учхоз               NaN   \n",
       "\n",
       "      cityCenters_nearest  parks_around3000  parks_nearest  ponds_around3000  \\\n",
       "23694              4232.0               1.0          796.0               3.0   \n",
       "23695                 NaN               NaN            NaN               NaN   \n",
       "23696                 NaN               NaN            NaN               NaN   \n",
       "23697             10364.0               2.0          173.0               3.0   \n",
       "23698                 NaN               NaN            NaN               NaN   \n",
       "\n",
       "       ponds_nearest  days_exposition  \n",
       "23694          381.0              NaN  \n",
       "23695            NaN             45.0  \n",
       "23696            NaN              NaN  \n",
       "23697          196.0            602.0  \n",
       "23698            NaN              NaN  \n",
       "\n",
       "[5 rows x 22 columns]"
      ]
     },
     "metadata": {},
     "output_type": "display_data"
    }
   ],
   "source": [
    "from IPython.display import display\n",
    "\n",
    "import pandas as pd\n",
    "import matplotlib.pyplot as plt\n",
    "\n",
    "data = pd.read_csv('/datasets/real_estate_data.csv', sep = '\\t')\n",
    "display(data.head())\n",
    "display(data.tail())"
   ]
  },
  {
   "cell_type": "markdown",
   "metadata": {},
   "source": [
    "Посмотрим, какие типы данных хранятся в каждом столбце таблицы `data`, воспользуемся методом `info()`."
   ]
  },
  {
   "cell_type": "code",
   "execution_count": 376,
   "metadata": {},
   "outputs": [
    {
     "name": "stdout",
     "output_type": "stream",
     "text": [
      "<class 'pandas.core.frame.DataFrame'>\n",
      "RangeIndex: 23699 entries, 0 to 23698\n",
      "Data columns (total 22 columns):\n",
      "total_images            23699 non-null int64\n",
      "last_price              23699 non-null float64\n",
      "total_area              23699 non-null float64\n",
      "first_day_exposition    23699 non-null object\n",
      "rooms                   23699 non-null int64\n",
      "ceiling_height          14504 non-null float64\n",
      "floors_total            23613 non-null float64\n",
      "living_area             21796 non-null float64\n",
      "floor                   23699 non-null int64\n",
      "is_apartment            2775 non-null object\n",
      "studio                  23699 non-null bool\n",
      "open_plan               23699 non-null bool\n",
      "kitchen_area            21421 non-null float64\n",
      "balcony                 12180 non-null float64\n",
      "locality_name           23650 non-null object\n",
      "airports_nearest        18157 non-null float64\n",
      "cityCenters_nearest     18180 non-null float64\n",
      "parks_around3000        18181 non-null float64\n",
      "parks_nearest           8079 non-null float64\n",
      "ponds_around3000        18181 non-null float64\n",
      "ponds_nearest           9110 non-null float64\n",
      "days_exposition         20518 non-null float64\n",
      "dtypes: bool(2), float64(14), int64(3), object(3)\n",
      "memory usage: 3.7+ MB\n"
     ]
    }
   ],
   "source": [
    "data.info()"
   ]
  },
  {
   "cell_type": "markdown",
   "metadata": {},
   "source": [
    "<a class='anchor' id='id-section2'/>\n",
    "\n",
    "### [Вывод](#id-section40)\n",
    "\n",
    "Наша таблица `data` - это объемный массив данных, в нем хранится более 23 тыс. строк (объявлений о продаже). \n",
    "\n",
    "Названия у столбцов нормальные, менять их не нужно.\n",
    "\n",
    "В столбцах присутствуют типы данных `int64` и `float64` (для количественных переменных, например: число фотографий квартиры в объявлении, число балконов, число комнат, высота потолков, площадь, цена, причем для некоторых переменных необходимо сменить тип данных с `float64` на `int64`), `object` (для категориальной переменной с названием населенного пункта), `bool` (для логических переменных, которые указывают, является ли квартира студией, имеет ли свободную планировку). Кроме того, мы заметили, что переменная `is_apartment` тоже является логической (указывает, является ли квартира апартаментами) и должна иметь тип данных `bool` (вместо `object`). А переменная `first_day_exposition` (дата публикации) должна иметь тип данных `datetime`.\n",
    "\n",
    "В столбцах `ceiling_height`, `living_area`, `is_apartment`, `kitchen_area`, `balcony`, `locality_name`, `airports_nearest`, `cityCenters_nearest`, `parks_around3000`, `parks_nearest`, `ponds_around3000`, `ponds_nearest`, `days_exposition` присутствуют пропущенные значения (а иногда их прямо очень много), их судьбу мы решим на этапе предобработки данных."
   ]
  },
  {
   "cell_type": "markdown",
   "metadata": {},
   "source": [
    "<a class='anchor' id='id-section3'/>\n",
    "\n",
    "## [Шаг 2. Предобработка данных](#id-section41)"
   ]
  },
  {
   "cell_type": "markdown",
   "metadata": {},
   "source": [
    "<a class='anchor' id='id-section4'/>\n",
    "\n",
    "### [Обработка пропусков](#id-section42)\n",
    "\n",
    "Найдем долю пропущенных значений по каждому столбцу в `data`, для этого используем метод `isna().mean()`. Для наглядности отсортируем долю пропусков по убыванию методом `sort_values(ascending = False)`."
   ]
  },
  {
   "cell_type": "code",
   "execution_count": 377,
   "metadata": {},
   "outputs": [
    {
     "data": {
      "text/plain": [
       "is_apartment            0.882906\n",
       "parks_nearest           0.659100\n",
       "ponds_nearest           0.615596\n",
       "balcony                 0.486054\n",
       "ceiling_height          0.387991\n",
       "airports_nearest        0.233850\n",
       "cityCenters_nearest     0.232879\n",
       "parks_around3000        0.232837\n",
       "ponds_around3000        0.232837\n",
       "days_exposition         0.134225\n",
       "kitchen_area            0.096122\n",
       "living_area             0.080299\n",
       "floors_total            0.003629\n",
       "locality_name           0.002068\n",
       "first_day_exposition    0.000000\n",
       "last_price              0.000000\n",
       "total_area              0.000000\n",
       "studio                  0.000000\n",
       "rooms                   0.000000\n",
       "floor                   0.000000\n",
       "open_plan               0.000000\n",
       "total_images            0.000000\n",
       "dtype: float64"
      ]
     },
     "metadata": {},
     "output_type": "display_data"
    }
   ],
   "source": [
    "display(data.isna().mean().sort_values(ascending = False))"
   ]
  },
  {
   "cell_type": "markdown",
   "metadata": {},
   "source": [
    "Мы видим, что больше всего пропусков в столбце `is_apartment` - это логическая переменная (указывает, является ли квартира апартаментами или нет). Пропуски здесь обусловлены тем, что в случаях, когда квартира апартаментами не являлась, пользователи просто оставляли графу пустой, не вписывая значение `False`. Поэтому мы восстановим справедливость и заполним пропущенные значения в этом столбце на `False` методом `fillna()`."
   ]
  },
  {
   "cell_type": "code",
   "execution_count": 378,
   "metadata": {},
   "outputs": [],
   "source": [
    "data['is_apartment'] = data['is_apartment'].fillna(value=False)"
   ]
  },
  {
   "cell_type": "markdown",
   "metadata": {},
   "source": [
    "Переменные `parks_nearest`, `ponds_nearest`, `airports_nearest`, `cityCenters_nearest` показывают расстояние до ближайшего парка, водоема, аэропорта, центра города. Значения в данных столбцах могут быть пропущены в случаях, если возле квартиры в принципе нет всех этих объектов. Заполнять эти пропуски на `0` будет неверно, а то получится, что квартира будет располагаться прямо в парке или аэропорту. Заполнять на `no_info` не хотелось бы, потому что тип данных станет объектным, а нам надо иметь численный. Поэтому заполним пропуски на уникальное, нигде не встречающееся число `-999`, потому что благодаря этому мы выделим и не потеряем целую категорию данных, при группировках эта категория будет видна, и тип данных останется численным. Для заполнения используем метод `fillna()`."
   ]
  },
  {
   "cell_type": "code",
   "execution_count": 379,
   "metadata": {},
   "outputs": [],
   "source": [
    "data[['parks_nearest', 'ponds_nearest', 'airports_nearest', 'cityCenters_nearest']] = \\\n",
    "data[['parks_nearest', 'ponds_nearest', 'airports_nearest', 'cityCenters_nearest']].fillna(value=-999)"
   ]
  },
  {
   "cell_type": "markdown",
   "metadata": {},
   "source": [
    "Переменная `balcony` показывает число балконов. Если пользователь оставил графу пустой, скорее всего, в квартире балкон отсутствует. Поэтому мы заменим пропущенные значения на `0` методом `fillna()`."
   ]
  },
  {
   "cell_type": "code",
   "execution_count": 380,
   "metadata": {},
   "outputs": [],
   "source": [
    "data['balcony'] = data['balcony'].fillna(value=0)"
   ]
  },
  {
   "cell_type": "markdown",
   "metadata": {},
   "source": [
    "Пропуски в переменной `ceiling_height` (высота потолков) могут быть связаны с тем, что пользователь предпочел не указывать высоту потолков, потому что она \"стандартная\". Мы погуглили и узнали, что высоту потолков в многоквартирных домах стандартной застройки регламентирует п. 5.8 СНиП 31-01-2003. Согласно этому документу, минимальная стандартная высота потолка составляет 2.5 метра. Проверим, бьется ли наша таблица `data` с законодательной базой, и узнаем, какое самое часто встречающееся (модальное) значение в столбце `ceiling_height`, применим метод `value_counts()` и выведем первые 5 строк методом `head()`:"
   ]
  },
  {
   "cell_type": "code",
   "execution_count": 381,
   "metadata": {},
   "outputs": [
    {
     "data": {
      "text/plain": [
       "2.5    3515\n",
       "2.6    1646\n",
       "2.7    1574\n",
       "3.0    1112\n",
       "2.8     993\n",
       "Name: ceiling_height, dtype: int64"
      ]
     },
     "metadata": {},
     "output_type": "display_data"
    }
   ],
   "source": [
    "display(data['ceiling_height'].value_counts().head())"
   ]
  },
  {
   "cell_type": "markdown",
   "metadata": {},
   "source": [
    "Все верно, в столбце `ceiling_height` самая часто встречаемая высота потолков равна стандартной высоте 2.5 метра. Поэтому мы для заполнения пропусков используем модальное значение `2.5`. Применим метод `fillna()`."
   ]
  },
  {
   "cell_type": "code",
   "execution_count": 382,
   "metadata": {},
   "outputs": [],
   "source": [
    "data['ceiling_height'] = data['ceiling_height'].fillna(value=2.5)"
   ]
  },
  {
   "cell_type": "markdown",
   "metadata": {},
   "source": [
    "В столбцах `parks_around3000`, `ponds_around3000` указано число парков и водоемов. Если пользователь оставил графу пустой, скорее всего, возле квартиры нет ни парков, ни водоемов. Поэтому мы заменим пропущенные значения в этих столбцах на `0` методом `fillna()`."
   ]
  },
  {
   "cell_type": "code",
   "execution_count": 383,
   "metadata": {},
   "outputs": [],
   "source": [
    "data[['parks_around3000', 'ponds_around3000']] = data[['parks_around3000', 'ponds_around3000']].fillna(value=0)"
   ]
  },
  {
   "cell_type": "markdown",
   "metadata": {},
   "source": [
    "В столбце `days_exposition` пропуски могут быть связаны с тем, что пользователи не захотели раскрывать информацию о том, насколько быстро или медленно удалось продать квартиру. Мы предлагаем заполнить пропуски в этом столбце медианными значениями, которые будут рассчитаны не по всему столбцу в целом, а в зависимости от цены `last_price` и числа комнат `rooms`. Для этого применим методы `fillna()`, `groupby()` и `transform('median')`."
   ]
  },
  {
   "cell_type": "code",
   "execution_count": 384,
   "metadata": {},
   "outputs": [],
   "source": [
    "data['days_exposition'] = data['days_exposition']\\\n",
    ".fillna(data.groupby(['last_price', 'rooms'])['days_exposition'].transform('median'))"
   ]
  },
  {
   "cell_type": "markdown",
   "metadata": {},
   "source": [
    "Переменные `kitchen_area` и `living_area` характеризуют площадь кухни и жилую площадь. Возможно, пользователи не стали уточнять эти данные в объявлении, потому что квартира имеет свободную планировку. Пользователи указали лишь общую площадь квартиры (в столбце `total_area` пропусков нет) и посчитали, что этого будет достаточно для продажи. Мы не можем предложить подходящих значений для заполнения пропусков в этих переменных, так как существует множество вариантов квартир разных годов постройки, у которых могут быть большие общие площади, но при этом крошечные кухни и комнаты. Так что заполнение пропусков может привести к искажению данных."
   ]
  },
  {
   "cell_type": "markdown",
   "metadata": {},
   "source": [
    "В переменных `floors_total` (число этажей в доме) и `locality_name` (название населенного пункта) пропущенные значения могли появиться по причине невнимательности пользователей при заполнении формы для объявления. Мы не можем предложить подходящих значений для заполнения пропусков в этих переменных. Но поскольку доля этих пропусков очень мала (0.3% и 0.2%), мы можем удалить их из `data`, и репрезентативность базы данных не пострадает. Воспользуемся методом `dropna()`."
   ]
  },
  {
   "cell_type": "code",
   "execution_count": 385,
   "metadata": {},
   "outputs": [],
   "source": [
    "data = data.dropna(subset=['floors_total', 'locality_name'])"
   ]
  },
  {
   "cell_type": "markdown",
   "metadata": {},
   "source": [
    "Проверим, какова теперь доля пропущенных значений по каждому столбцу в `data`, используем метод `isna().mean()`."
   ]
  },
  {
   "cell_type": "code",
   "execution_count": 386,
   "metadata": {},
   "outputs": [
    {
     "data": {
      "text/plain": [
       "total_images            0.000000\n",
       "last_price              0.000000\n",
       "total_area              0.000000\n",
       "first_day_exposition    0.000000\n",
       "rooms                   0.000000\n",
       "ceiling_height          0.000000\n",
       "floors_total            0.000000\n",
       "living_area             0.079143\n",
       "floor                   0.000000\n",
       "is_apartment            0.000000\n",
       "studio                  0.000000\n",
       "open_plan               0.000000\n",
       "kitchen_area            0.094292\n",
       "balcony                 0.000000\n",
       "locality_name           0.000000\n",
       "airports_nearest        0.000000\n",
       "cityCenters_nearest     0.000000\n",
       "parks_around3000        0.000000\n",
       "parks_nearest           0.000000\n",
       "ponds_around3000        0.000000\n",
       "ponds_nearest           0.000000\n",
       "days_exposition         0.024698\n",
       "dtype: float64"
      ]
     },
     "metadata": {},
     "output_type": "display_data"
    }
   ],
   "source": [
    "display(data.isna().mean())"
   ]
  },
  {
   "cell_type": "markdown",
   "metadata": {},
   "source": [
    "После всех манипуляций пропуски остались в переменных `kitchen_area` и `living_area`. А в переменной `days_exposition` доля пропусков сократилась с 13% до 2.4% - удалим эти пропуски методом `dropna()` и снова выполним проверку."
   ]
  },
  {
   "cell_type": "code",
   "execution_count": 387,
   "metadata": {},
   "outputs": [],
   "source": [
    "data = data.dropna(subset=['days_exposition'])"
   ]
  },
  {
   "cell_type": "code",
   "execution_count": 388,
   "metadata": {},
   "outputs": [
    {
     "data": {
      "text/plain": [
       "total_images            0.000000\n",
       "last_price              0.000000\n",
       "total_area              0.000000\n",
       "first_day_exposition    0.000000\n",
       "rooms                   0.000000\n",
       "ceiling_height          0.000000\n",
       "floors_total            0.000000\n",
       "living_area             0.077579\n",
       "floor                   0.000000\n",
       "is_apartment            0.000000\n",
       "studio                  0.000000\n",
       "open_plan               0.000000\n",
       "kitchen_area            0.093330\n",
       "balcony                 0.000000\n",
       "locality_name           0.000000\n",
       "airports_nearest        0.000000\n",
       "cityCenters_nearest     0.000000\n",
       "parks_around3000        0.000000\n",
       "parks_nearest           0.000000\n",
       "ponds_around3000        0.000000\n",
       "ponds_nearest           0.000000\n",
       "days_exposition         0.000000\n",
       "dtype: float64"
      ]
     },
     "metadata": {},
     "output_type": "display_data"
    }
   ],
   "source": [
    "display(data.isna().mean())"
   ]
  },
  {
   "cell_type": "markdown",
   "metadata": {},
   "source": [
    "<a class='anchor' id='id-section5'/>\n",
    "\n",
    "### [Вывод](#id-section43)\n",
    "\n",
    "Итак, все необходимые замены и удаления прошли успешно. Пропуски остались в переменных `kitchen_area` и `living_area`."
   ]
  },
  {
   "cell_type": "markdown",
   "metadata": {},
   "source": [
    "<a class='anchor' id='id-section6'/>\n",
    "\n",
    "### [Замена типа данных](#id-section44)\n",
    "\n",
    "Для удобства снова вызовем метод `info()` и посмотрим, какие типы данных есть в каждом столбце таблицы `data`."
   ]
  },
  {
   "cell_type": "code",
   "execution_count": 389,
   "metadata": {},
   "outputs": [
    {
     "name": "stdout",
     "output_type": "stream",
     "text": [
      "<class 'pandas.core.frame.DataFrame'>\n",
      "Int64Index: 22983 entries, 0 to 23698\n",
      "Data columns (total 22 columns):\n",
      "total_images            22983 non-null int64\n",
      "last_price              22983 non-null float64\n",
      "total_area              22983 non-null float64\n",
      "first_day_exposition    22983 non-null object\n",
      "rooms                   22983 non-null int64\n",
      "ceiling_height          22983 non-null float64\n",
      "floors_total            22983 non-null float64\n",
      "living_area             21200 non-null float64\n",
      "floor                   22983 non-null int64\n",
      "is_apartment            22983 non-null bool\n",
      "studio                  22983 non-null bool\n",
      "open_plan               22983 non-null bool\n",
      "kitchen_area            20838 non-null float64\n",
      "balcony                 22983 non-null float64\n",
      "locality_name           22983 non-null object\n",
      "airports_nearest        22983 non-null float64\n",
      "cityCenters_nearest     22983 non-null float64\n",
      "parks_around3000        22983 non-null float64\n",
      "parks_nearest           22983 non-null float64\n",
      "ponds_around3000        22983 non-null float64\n",
      "ponds_nearest           22983 non-null float64\n",
      "days_exposition         22983 non-null float64\n",
      "dtypes: bool(3), float64(14), int64(3), object(2)\n",
      "memory usage: 3.6+ MB\n"
     ]
    }
   ],
   "source": [
    "data.info()"
   ]
  },
  {
   "cell_type": "markdown",
   "metadata": {},
   "source": [
    "Мы видим, что переменная с датой публикации объявления `first_day_exposition` должна иметь тип данных `datetime` вместо `object`. Изменим тип данных в этой переменной методом `to_datetime()`."
   ]
  },
  {
   "cell_type": "code",
   "execution_count": 390,
   "metadata": {},
   "outputs": [],
   "source": [
    "data['first_day_exposition'] = pd.to_datetime(data['first_day_exposition'], format='%Y-%m-%dT%H:%M:%S')"
   ]
  },
  {
   "cell_type": "markdown",
   "metadata": {},
   "source": [
    "Переменные `floors_total` (количество этажей в доме), `balcony` (число балконов), `parks_around3000` (число парков), `ponds_around3000` (число водоемов), `days_exposition` (сколько дней размещено объявление) должны иметь целочисленный тип данных, а не дробный. Используем метод для изменения типа данных `astype()` с аргументом `int64`."
   ]
  },
  {
   "cell_type": "code",
   "execution_count": 391,
   "metadata": {},
   "outputs": [],
   "source": [
    "data[['floors_total', 'balcony', 'parks_around3000', 'ponds_around3000', 'days_exposition']] = data[['floors_total', 'balcony', 'parks_around3000', 'ponds_around3000', 'days_exposition']].astype('int64')"
   ]
  },
  {
   "cell_type": "markdown",
   "metadata": {},
   "source": [
    "Кстати, после заполнения пропусков на предыдущем этапе в переменной `is_apartment` теперь указан тип данных `bool`, а не `object`. Теперь нам ничего не надо с ней делать дополнительно."
   ]
  },
  {
   "cell_type": "markdown",
   "metadata": {},
   "source": [
    "Методом `info()` проверяем, произошли ли замены типов данных."
   ]
  },
  {
   "cell_type": "code",
   "execution_count": 392,
   "metadata": {},
   "outputs": [
    {
     "name": "stdout",
     "output_type": "stream",
     "text": [
      "<class 'pandas.core.frame.DataFrame'>\n",
      "Int64Index: 22983 entries, 0 to 23698\n",
      "Data columns (total 22 columns):\n",
      "total_images            22983 non-null int64\n",
      "last_price              22983 non-null float64\n",
      "total_area              22983 non-null float64\n",
      "first_day_exposition    22983 non-null datetime64[ns]\n",
      "rooms                   22983 non-null int64\n",
      "ceiling_height          22983 non-null float64\n",
      "floors_total            22983 non-null int64\n",
      "living_area             21200 non-null float64\n",
      "floor                   22983 non-null int64\n",
      "is_apartment            22983 non-null bool\n",
      "studio                  22983 non-null bool\n",
      "open_plan               22983 non-null bool\n",
      "kitchen_area            20838 non-null float64\n",
      "balcony                 22983 non-null int64\n",
      "locality_name           22983 non-null object\n",
      "airports_nearest        22983 non-null float64\n",
      "cityCenters_nearest     22983 non-null float64\n",
      "parks_around3000        22983 non-null int64\n",
      "parks_nearest           22983 non-null float64\n",
      "ponds_around3000        22983 non-null int64\n",
      "ponds_nearest           22983 non-null float64\n",
      "days_exposition         22983 non-null int64\n",
      "dtypes: bool(3), datetime64[ns](1), float64(9), int64(8), object(1)\n",
      "memory usage: 3.6+ MB\n"
     ]
    }
   ],
   "source": [
    "data.info()"
   ]
  },
  {
   "cell_type": "markdown",
   "metadata": {},
   "source": [
    "<a class='anchor' id='id-section7'/>\n",
    "\n",
    "### [Вывод](#id-section45)\n",
    "\n",
    "Мы заменили типы данных в столбцах с датой публикации объявления, количеством этажей в доме, количеством дней размещения объявления, числом балконов, парков и водоемов, а также проверили, что замены произошли."
   ]
  },
  {
   "cell_type": "markdown",
   "metadata": {},
   "source": [
    "<a class='anchor' id='id-section8'/>\n",
    "\n",
    "### [Обработка дубликатов](#id-section46)\n",
    "\n",
    "На всякий случай поищем дубликаты в данных методом `duplicated().sum()`, что позволит нам посчитать общее количество дубликатов в таблице `data`."
   ]
  },
  {
   "cell_type": "code",
   "execution_count": 393,
   "metadata": {},
   "outputs": [
    {
     "data": {
      "text/plain": [
       "0"
      ]
     },
     "metadata": {},
     "output_type": "display_data"
    }
   ],
   "source": [
    "display(data.duplicated().sum())"
   ]
  },
  {
   "cell_type": "markdown",
   "metadata": {},
   "source": [
    "<a class='anchor' id='id-section9'/>\n",
    "\n",
    "### [Вывод](#id-section47)\n",
    "\n",
    "Дубликаты в таблице `data` отсутствуют."
   ]
  },
  {
   "cell_type": "markdown",
   "metadata": {},
   "source": [
    "<a class='anchor' id='id-section10'/>\n",
    "\n",
    "## [Шаг 3. Посчитаем и добавим в таблицу:](#id-section48)"
   ]
  },
  {
   "cell_type": "markdown",
   "metadata": {},
   "source": [
    "<a class='anchor' id='id-section11'/>\n",
    "\n",
    "### [Цену  квадратного метра](#id-section49)\n",
    "\n",
    "Для этого нам надо разделить цену квартиры `last_price` на `total_area` — площадь квартиры."
   ]
  },
  {
   "cell_type": "code",
   "execution_count": 394,
   "metadata": {},
   "outputs": [],
   "source": [
    "data['price_per_m'] = data['last_price'] / data['total_area']"
   ]
  },
  {
   "cell_type": "markdown",
   "metadata": {},
   "source": [
    "<a class='anchor' id='id-section12'/>\n",
    "\n",
    "### [День недели, месяц и год публикации объявления](#id-section50)\n",
    "\n",
    "Для этого нам нужно поработать со столбцом `first_day_exposition`, применяя к нему методы `dt.weekday`, `dt.month`, `dt.year`."
   ]
  },
  {
   "cell_type": "code",
   "execution_count": 395,
   "metadata": {},
   "outputs": [],
   "source": [
    "data['weekday'] = data['first_day_exposition'].dt.weekday\n",
    "data['month'] = data['first_day_exposition'].dt.month\n",
    "data['year'] = data['first_day_exposition'].dt.year"
   ]
  },
  {
   "cell_type": "markdown",
   "metadata": {},
   "source": [
    "<a class='anchor' id='id-section13'/>\n",
    "\n",
    "### [Этаж квартиры (первый, последний, другой)](#id-section51)\n",
    "\n",
    "Напишем функцию, которая перебирает значения в столбце `floor`, и если значение равно 1 - то этажу присваивается категория ***первый***, если значение совпадает с общей этажностью дома (`floors_total`), то этаж ***последний***. Во всех остальных случаях - этаж ***другой***."
   ]
  },
  {
   "cell_type": "code",
   "execution_count": 396,
   "metadata": {},
   "outputs": [],
   "source": [
    "def floor_into_category(element):\n",
    "    if element['floor'] == 1:\n",
    "        return 'первый'\n",
    "    if element['floor'] != 1 and element['floor'] == element['floors_total']:\n",
    "        return 'последний'\n",
    "    return 'другой'"
   ]
  },
  {
   "cell_type": "markdown",
   "metadata": {},
   "source": [
    "Создадим в таблице `data` новый столбец категориями, который получится благодаря применению функции к `data` методом `apply()`."
   ]
  },
  {
   "cell_type": "code",
   "execution_count": 397,
   "metadata": {},
   "outputs": [],
   "source": [
    "data['floor_category'] = data.apply(floor_into_category, axis = 1)"
   ]
  },
  {
   "cell_type": "markdown",
   "metadata": {},
   "source": [
    "<a class='anchor' id='id-section14'/>\n",
    "\n",
    "### [Cоотношение жилой и общей площади](#id-section52)\n",
    "\n",
    "Разделим `living_area` (жилую площадь) на `total_area` (общую площадь квартиры)."
   ]
  },
  {
   "cell_type": "code",
   "execution_count": 398,
   "metadata": {},
   "outputs": [],
   "source": [
    "data['living_to_total'] = data['living_area'] / data['total_area']"
   ]
  },
  {
   "cell_type": "markdown",
   "metadata": {},
   "source": [
    "<a class='anchor' id='id-section15'/>\n",
    "\n",
    "### [Отношение площади кухни к общей площади](#id-section53)\n",
    "\n",
    "Разделим `kitchen_area` (площадь кухни) на `total_area` (общую площадь квартиры)."
   ]
  },
  {
   "cell_type": "code",
   "execution_count": 399,
   "metadata": {},
   "outputs": [],
   "source": [
    "data['kitchen_to_total'] = data['kitchen_area'] / data['total_area']"
   ]
  },
  {
   "cell_type": "markdown",
   "metadata": {},
   "source": [
    "<a class='anchor' id='id-section16'/>\n",
    "\n",
    "### [Вывод](#id-section54)\n",
    "\n",
    "Мы получили дополнительные переменные:\n",
    "- `price_per_m` - цена квадратного метра;\n",
    "- `weekday` - день недели публикации объявления;\n",
    "- `month` - месяц публикации объявления;\n",
    "- `year` - год публикации объявления;\n",
    "- `floor_category` - этаж квартиры (первый, последний, другой);\n",
    "- `living_to_total` - соотношение жилой и общей площади;\n",
    "- `kitchen_to_total` - отношение площади кухни к общей."
   ]
  },
  {
   "cell_type": "markdown",
   "metadata": {},
   "source": [
    "<a class='anchor' id='id-section17'/>\n",
    "\n",
    "## [Шаг 4. Проведем исследовательский анализ данных](#id-section55)"
   ]
  },
  {
   "cell_type": "markdown",
   "metadata": {},
   "source": [
    "<a class='anchor' id='id-section18'/>\n",
    "\n",
    "### [Изучим параметры: площадь, цена, число комнат, высота потолков](#id-section56)\n",
    "\n",
    "Для каждой переменной вызовем метод `describe()`, чтобы увидеть список характерных значений, а затем построим гистограммы методом `hist()`.\n",
    "\n",
    "Мы решили не вызывать метод `boxplot()`, так как метода `describe()` будет достаточно для анализа. "
   ]
  },
  {
   "cell_type": "code",
   "execution_count": 400,
   "metadata": {
    "scrolled": false
   },
   "outputs": [
    {
     "data": {
      "text/plain": [
       "count    22983.000000\n",
       "mean        59.155947\n",
       "std         33.513657\n",
       "min         12.000000\n",
       "25%         40.000000\n",
       "50%         51.300000\n",
       "75%         68.200000\n",
       "max        900.000000\n",
       "Name: total_area, dtype: float64"
      ]
     },
     "metadata": {},
     "output_type": "display_data"
    },
    {
     "data": {
      "image/png": "[encoded data removed]",
      "text/plain": [
       "<Figure size 1152x648 with 1 Axes>"
      ]
     },
     "metadata": {
      "needs_background": "light"
     },
     "output_type": "display_data"
    },
    {
     "data": {
      "text/plain": [
       "count    2.298300e+04\n",
       "mean     6.282410e+06\n",
       "std      1.040707e+07\n",
       "min      1.219000e+04\n",
       "25%      3.400000e+06\n",
       "50%      4.600000e+06\n",
       "75%      6.600000e+06\n",
       "max      7.630000e+08\n",
       "Name: last_price, dtype: float64"
      ]
     },
     "metadata": {},
     "output_type": "display_data"
    },
    {
     "data": {
      "image/png": "[encoded data removed]",
      "text/plain": [
       "<Figure size 1152x648 with 1 Axes>"
      ]
     },
     "metadata": {
      "needs_background": "light"
     },
     "output_type": "display_data"
    },
    {
     "data": {
      "text/plain": [
       "count    22983.000000\n",
       "mean         2.046034\n",
       "std          1.048541\n",
       "min          0.000000\n",
       "25%          1.000000\n",
       "50%          2.000000\n",
       "75%          3.000000\n",
       "max         19.000000\n",
       "Name: rooms, dtype: float64"
      ]
     },
     "metadata": {},
     "output_type": "display_data"
    },
    {
     "data": {
      "image/png": "[encoded data removed]",
      "text/plain": [
       "<Figure size 1152x648 with 1 Axes>"
      ]
     },
     "metadata": {
      "needs_background": "light"
     },
     "output_type": "display_data"
    },
    {
     "data": {
      "text/plain": [
       "count    22983.000000\n",
       "mean         2.662742\n",
       "std          1.008590\n",
       "min          1.000000\n",
       "25%          2.500000\n",
       "50%          2.500000\n",
       "75%          2.700000\n",
       "max        100.000000\n",
       "Name: ceiling_height, dtype: float64"
      ]
     },
     "metadata": {},
     "output_type": "display_data"
    },
    {
     "data": {
      "image/png": "[encoded data removed]",
      "text/plain": [
       "<Figure size 1152x648 with 1 Axes>"
      ]
     },
     "metadata": {
      "needs_background": "light"
     },
     "output_type": "display_data"
    }
   ],
   "source": [
    "parameters = [\n",
    "    {\n",
    "        'column_name': 'total_area',\n",
    "        'bins': 100,\n",
    "        'range': (0, 300),\n",
    "        'title': 'Распределение значений площади квартир'\n",
    "    },\n",
    "    {\n",
    "        'column_name': 'last_price',\n",
    "        'bins': 100,\n",
    "        'range': (0, 20000000),\n",
    "        'title': 'Распределение значений цены квартир'\n",
    "    },\n",
    "    {\n",
    "       'column_name': 'rooms',\n",
    "        'bins': 10,\n",
    "        'range': (0, 10),\n",
    "        'title': 'Распределение значений по количеству комнат в квартирах'     \n",
    "    },\n",
    "    {\n",
    "       'column_name': 'ceiling_height',\n",
    "        'bins': 10,\n",
    "        'range': (1.5, 6),\n",
    "        'title': 'Распределение значений по высоте потолков в квартирах'  \n",
    "    }\n",
    "]\n",
    "\n",
    "def describe_and_hist(parameters, data):\n",
    "    column_name = parameters.get('column_name')\n",
    "    display(data[column_name].describe())\n",
    "    data[column_name].hist(bins = parameters.get('bins'), range = parameters.get('range'), \\\n",
    "                           figsize = (16, 9)).set_title(parameters.get('title'))\n",
    "    plt.show()\n",
    "\n",
    "\n",
    "for parameter in parameters:\n",
    "    describe_and_hist(parameter, data)\n"
   ]
  },
  {
   "cell_type": "markdown",
   "metadata": {},
   "source": [
    "Мы видим, что среднее значение **площади** `mean` больше медианного значения `50%` - это говорит о том, что в распределении длинный хвост высоких значений, влияющих на среднее, но не на медиану. Этот хвост виден на гистограмме - значения площади более 200 кв.м выглядят завышенными.\n",
    "\n",
    "Большая величина стандартного отклонения `std` также показывает, что в наборе данных присутствуют выбросы.\n",
    "\n",
    "Больше всего квартир с площадью от 40 до 68 кв.м, из них велико число квартир площадью 40-45 кв.м.  \n",
    "\n",
    "Минимальная площадь равна 12 кв.м (возможно, на продажу выставлена комната, хотя объявление оформлено для продажи квартиры)."
   ]
  },
  {
   "cell_type": "markdown",
   "metadata": {},
   "source": [
    "Среднее значение **цены** отличается от медианного - в распределении есть выдающиеся значения, что видно на гистограмме.\n",
    "\n",
    "Больше всего квартир с ценой от 3.4 до 6.6 млн.р., из них очень много квартир продается за 3-3.5 млн.р.\n",
    "\n",
    "Минимальная цена равна 12 тыс.р. (возможно, пользователь ошибся при указании цены). Значения выше 15 млн.р. выглядят завышенными."
   ]
  },
  {
   "cell_type": "markdown",
   "metadata": {},
   "source": [
    "Среднее значение **количества комнат** не сильно больше медианного значения (2) - значит, в распределении не очень много выдающихся значений. При этом количество комнат более 6 похоже на выбросы.\n",
    "\n",
    "Велико число квартир с количеством комнат от 1 до 3, из них больше однокомнатных квартир."
   ]
  },
  {
   "cell_type": "markdown",
   "metadata": {},
   "source": [
    "**Высота потолков** в квартирах варьируется от 2.5 до 2.7 м.\n",
    "\n",
    "Минимальная высота равна 1 м, а максмальная - 100 м, что выглядит неправдоподобно."
   ]
  },
  {
   "cell_type": "markdown",
   "metadata": {},
   "source": [
    "<a class='anchor' id='id-section19'/>\n",
    "\n",
    "### [Вывод](#id-section57)\n",
    "\n",
    "Параметры площадь, цена, число комнат, высота потолков имеют распределение, близкое к нормальному. При этом у них присутствуют значения-выбросы, не поддающиеся здравому смыслу."
   ]
  },
  {
   "cell_type": "markdown",
   "metadata": {},
   "source": [
    "<a class='anchor' id='id-section20'/>\n",
    "\n",
    "### [Изучим время продажи квартиры](#id-section58)\n",
    "\n",
    "Построим гистограмму для переменной `days_exposition`, которая показывает, сколько дней было размещено объявление (от\n",
    "публикации до снятия). Используем метод `hist()`.\n",
    "\n",
    "Тажкже посмотрим на характерные значения в переменной методом `describe()`."
   ]
  },
  {
   "cell_type": "code",
   "execution_count": 401,
   "metadata": {
    "scrolled": false
   },
   "outputs": [
    {
     "data": {
      "text/plain": [
       "count    22983.000000\n",
       "mean       174.089109\n",
       "std        210.778464\n",
       "min          1.000000\n",
       "25%         45.000000\n",
       "50%         94.000000\n",
       "75%        213.000000\n",
       "max       1580.000000\n",
       "Name: days_exposition, dtype: float64"
      ]
     },
     "metadata": {},
     "output_type": "display_data"
    },
    {
     "data": {
      "image/png": "[encoded data removed]",
      "text/plain": [
       "<Figure size 1152x648 with 1 Axes>"
      ]
     },
     "metadata": {
      "needs_background": "light"
     },
     "output_type": "display_data"
    }
   ],
   "source": [
    "parameters_days = {\n",
    "        'column_name': 'days_exposition',\n",
    "        'bins': 365,\n",
    "        'range': (0, 365),\n",
    "        'title': 'Распределение значений по времени продажи квартиры'\n",
    "        }\n",
    "\n",
    "describe_and_hist(parameters_days, data)"
   ]
  },
  {
   "cell_type": "markdown",
   "metadata": {},
   "source": [
    "**Среднее время** продажи квартиры равно 174 дням - почти полгода. **Медианное время** продажи равно 94 дням - примерно 3 месяца.\n",
    "\n",
    "Эти данные говорят нам о том, что в распределении длинный хвост высоких значений, влияющих на среднее, но не на медиану. Этот хвост виден на гистограмме.\n",
    "\n",
    "Кроме того, на гистограмме видны выбивающиеся значения.\n",
    "\n",
    "Большая величина стандартного отклонения также показывает, что в наборе данных присутствуют выбросы."
   ]
  },
  {
   "cell_type": "markdown",
   "metadata": {},
   "source": [
    "<a class='anchor' id='id-section21'/>\n",
    "\n",
    "### [Вывод](#id-section59)\n",
    "\n",
    "Продажа квартиры обычно занимает от 45 до 213 дней - то есть от 1.5 до 7 месяцев.\n",
    "\n",
    "Можно считать, что продажи прошли очень быстро, когда объявление \"висело\" от 1 дня до 1.5 месяцев. \n",
    "\n",
    "Долгие продажи могут происходить от 7 месяцев и аж до 4 лет (вероятно, пользователи забывают удалить объявления о продаже после того, как сделка состоялась)."
   ]
  },
  {
   "cell_type": "markdown",
   "metadata": {},
   "source": [
    "<a class='anchor' id='id-section22'/>\n",
    "\n",
    "### [Уберем редкие и выбивающиеся значения](#id-section60)\n",
    "\n",
    "На гистограмме четко видно, что в переменной `days_exposition` есть ряд выбивающихся значений. Для того, чтобы увидеть их детально, вызовем метод `value_counts()` и отсортируем по убыванию методом `sort_values(ascending = False)`."
   ]
  },
  {
   "cell_type": "code",
   "execution_count": 402,
   "metadata": {},
   "outputs": [
    {
     "data": {
      "text/plain": [
       "45      907\n",
       "60      583\n",
       "90      242\n",
       "7       234\n",
       "30      216\n",
       "       ... \n",
       "730       1\n",
       "762       1\n",
       "842       1\n",
       "890       1\n",
       "1175      1\n",
       "Name: days_exposition, Length: 1139, dtype: int64"
      ]
     },
     "execution_count": 402,
     "metadata": {},
     "output_type": "execute_result"
    }
   ],
   "source": [
    "data['days_exposition'].value_counts().sort_values(ascending = False)"
   ]
  },
  {
   "cell_type": "markdown",
   "metadata": {},
   "source": [
    "Больше всего выбивающихся значений на отметках в 7 дней, 30 дней, 45 дней (1.5 месяца), 60 дней (2 месяца), 90 дней (3 месяца). Мы полагаем, это связано с тем, что после наступления определенных временных отметок сервис по размещению объявлений предлагает пользователю либо убрать свое объявление, либо оплатить следующий период для размещения. Поэтому резко возрастает число объявлений, которые были убраны после недели размещения, после месяца и так далее. \n",
    "\n",
    "Судя по количеству, чаще всего пользователи снимают свои объявления после 45 дней и 60 дней.\n",
    "\n",
    "Редкими значениями для времени продажи квартиры будем считать значения больше года (365 дней)."
   ]
  },
  {
   "cell_type": "markdown",
   "metadata": {},
   "source": [
    "Уберем из `data` выбивающиеся значения 45 и 60 дней по столбцу `days_exposition`, а также значения больше 365 дней методом `query()`."
   ]
  },
  {
   "cell_type": "code",
   "execution_count": 403,
   "metadata": {},
   "outputs": [],
   "source": [
    "data = data.query('days_exposition not in (45, 60) and days_exposition <= 365')"
   ]
  },
  {
   "cell_type": "markdown",
   "metadata": {},
   "source": [
    "Проверим, снова вызовем метод `value_counts()` и отсортируем значения по убыванию методом `sort_values(ascending = False)`."
   ]
  },
  {
   "cell_type": "code",
   "execution_count": 404,
   "metadata": {
    "scrolled": true
   },
   "outputs": [
    {
     "data": {
      "text/plain": [
       "90     242\n",
       "7      234\n",
       "30     216\n",
       "4      176\n",
       "3      158\n",
       "      ... \n",
       "358      8\n",
       "362      8\n",
       "340      8\n",
       "2        3\n",
       "1        1\n",
       "Name: days_exposition, Length: 363, dtype: int64"
      ]
     },
     "execution_count": 404,
     "metadata": {},
     "output_type": "execute_result"
    }
   ],
   "source": [
    "data['days_exposition'].value_counts().sort_values(ascending = False)"
   ]
  },
  {
   "cell_type": "markdown",
   "metadata": {},
   "source": [
    "<a class='anchor' id='id-section23'/>\n",
    "\n",
    "### [Вывод](#id-section61)\n",
    "\n",
    "Мы убрали из `data` выбивающиеся значения 45 и 60 дней по столбцу `days_exposition`, а также значения больше 365 дней по причине того, что эти значения могли появиться из-за особенностей организации сервиса по размещению объявлений."
   ]
  },
  {
   "cell_type": "markdown",
   "metadata": {},
   "source": [
    "<a class='anchor' id='id-section24'/>\n",
    "\n",
    "### [Изучим зависимость цены от площади, числа комнат, удаленности от центра](#id-section62)\n",
    "\n",
    "Чтобы увидеть взаимосвязь этих величин в одной удобной таблице, мы решили использовать метод `corr()` для построения матрицы корреляции. Для того, чтобы зависимость была проиллюстрирована графически (на одном графике, а не на нескольких), мы построим матрицу диаграмм рассеяния методом `pd.plotting.scatter_matrix()`.\n",
    "\n",
    "Автоматизируем построение матрицы корреляции и матрицы диаграмм рассеяния, чтобы использовать этот шаблон для других столбцов на следующих этапах исследования. Вынесем названия столбцов, зависимость которых мы хотим изучить, в отдельный список, а потом пропишем необходимые действия для построения матриц."
   ]
  },
  {
   "cell_type": "code",
   "execution_count": 405,
   "metadata": {},
   "outputs": [
    {
     "data": {
      "text/html": [
       "<div>\n",
       "<style scoped>\n",
       "    .dataframe tbody tr th:only-of-type {\n",
       "        vertical-align: middle;\n",
       "    }\n",
       "\n",
       "    .dataframe tbody tr th {\n",
       "        vertical-align: top;\n",
       "    }\n",
       "\n",
       "    .dataframe thead th {\n",
       "        text-align: right;\n",
       "    }\n",
       "</style>\n",
       "<table border=\"1\" class=\"dataframe\">\n",
       "  <thead>\n",
       "    <tr style=\"text-align: right;\">\n",
       "      <th></th>\n",
       "      <th>last_price</th>\n",
       "      <th>total_area</th>\n",
       "      <th>rooms</th>\n",
       "      <th>cityCenters_nearest</th>\n",
       "    </tr>\n",
       "  </thead>\n",
       "  <tbody>\n",
       "    <tr>\n",
       "      <td>last_price</td>\n",
       "      <td>1.000000</td>\n",
       "      <td>0.632230</td>\n",
       "      <td>0.345412</td>\n",
       "      <td>-0.029710</td>\n",
       "    </tr>\n",
       "    <tr>\n",
       "      <td>total_area</td>\n",
       "      <td>0.632230</td>\n",
       "      <td>1.000000</td>\n",
       "      <td>0.753052</td>\n",
       "      <td>-0.057904</td>\n",
       "    </tr>\n",
       "    <tr>\n",
       "      <td>rooms</td>\n",
       "      <td>0.345412</td>\n",
       "      <td>0.753052</td>\n",
       "      <td>1.000000</td>\n",
       "      <td>-0.043223</td>\n",
       "    </tr>\n",
       "    <tr>\n",
       "      <td>cityCenters_nearest</td>\n",
       "      <td>-0.029710</td>\n",
       "      <td>-0.057904</td>\n",
       "      <td>-0.043223</td>\n",
       "      <td>1.000000</td>\n",
       "    </tr>\n",
       "  </tbody>\n",
       "</table>\n",
       "</div>"
      ],
      "text/plain": [
       "                     last_price  total_area     rooms  cityCenters_nearest\n",
       "last_price             1.000000    0.632230  0.345412            -0.029710\n",
       "total_area             0.632230    1.000000  0.753052            -0.057904\n",
       "rooms                  0.345412    0.753052  1.000000            -0.043223\n",
       "cityCenters_nearest   -0.029710   -0.057904 -0.043223             1.000000"
      ]
     },
     "metadata": {},
     "output_type": "display_data"
    },
    {
     "data": {
      "image/png": "[encoded data removed]",
      "text/plain": [
       "<Figure size 1152x648 with 16 Axes>"
      ]
     },
     "metadata": {
      "needs_background": "light"
     },
     "output_type": "display_data"
    }
   ],
   "source": [
    "column_names = ['last_price', 'total_area', 'rooms', 'cityCenters_nearest']\n",
    "pd.plotting.scatter_matrix(data[column_names], figsize=(16, 9))\n",
    "display(data[column_names].corr())"
   ]
  },
  {
   "cell_type": "markdown",
   "metadata": {},
   "source": [
    "<a class='anchor' id='id-section25'/>\n",
    "\n",
    "### [Вывод](#id-section63)\n",
    "\n",
    "Цена квартиры зависит от площади (чем больше площадь, тем выше цена). Коэффициент корреляции положительный, равен 0.6, что говорит нам о наличии связи между переменными. Кроме того, эта тенденция видна и на графике. Пользователи схожим образом оценивают свои квартиры в зависимости от площади, назначая рыночную цену. Однако для квартир с очень большой площадью появляется разброс цен - это значит, что при назначении цены пользователи ориентируются не на рынок, а на другие факторы (возможно, в таких квартирах на цену сильно влияет дорогостоящий ремонт).\n",
    "\n",
    "Цена квартиры зависит от количества комнат (чем больше комнат, тем выше цена), но слабо. Коэффициент корреляции положительный, равен 0.3, что говорит нам о наличии несильной связи между переменными. На графике видно, что цена растет в зависимости от того, сколько в квартире комнат, но когда комнат больше 5, цена на такие квартиры снижается. Возможно, эти квартиры никто не хочет покупать из-за больших издержек при содержании жилья (высокая плата за жилищно-коммунальные услуги), старого жилищного фонда, тем более, если есть желание иметь просторное жилье, то проще смотреть в сторону загородных домов. Вот продавцы и вынуждены снижать цены.\n",
    "\n",
    "Цена квартиры зависит от расстояния до центра города (чем ближе к центру, тем выше цена), но очень слабо. Коэффициент корреляции отрицательный, равен -0.02 - это свидетельствует о том, что рост одной величины связан с уменьшением другой, но эта связь крайне слабая (можно сказать, ее практически нет). На графике мы видим, что цены увеличиваются с приближением к центру. При этом в центре разброс цен очень большой, продавцы снова ориентируются не на среднюю рыночную стоимость, а на другие факторы (близость исторических достопримечательностей, станций метро, стоимость ремонта в квартире). Также на графике обособленно отображена группа квартир, для которых расстояние до центра не было указано (мы заполнили пропуски значением -999, считая эти квартиры очень сильно удаленными от центра), и мы наблюдаем, что цена на эти квартиры ниже, чем на центральные."
   ]
  },
  {
   "cell_type": "markdown",
   "metadata": {},
   "source": [
    "<a class='anchor' id='id-section26'/>\n",
    "\n",
    "### [Изучим зависимость цены от этажа квартиры](#id-section64)\n",
    "\n",
    "Прежде чем применить автоматизированное построение матриц корреляции и диаграмм рассеяния, заметим, что в столбце с категориями этажей `floor_category` (первый, последний, другой этаж) находятся объектные данные. Мы не можем оперировать ими при изучении зависимости от цены. Нам нужно перевести эти категории в численный вид.\n",
    "\n",
    "Для этого создадим словарь, в котором будут содержаться ключи и значения. Если этаж первый, ему присвоится значение 1, если другой - то 2, если последний - то 3.\n",
    "\n",
    "Создадим новый столбец в `data` и применим словарь к столбцу `floor_category` методом `map()`."
   ]
  },
  {
   "cell_type": "code",
   "execution_count": 406,
   "metadata": {},
   "outputs": [],
   "source": [
    "floor_category_number = {'первый': 1, 'другой': 2, 'последний': 3}\n",
    "\n",
    "data['floor_category_number'] = data['floor_category'].map(floor_category_number)"
   ]
  },
  {
   "cell_type": "markdown",
   "metadata": {},
   "source": [
    "Теперь автоматически построим матрицу корреляции и матрицу диаграмм рассеяния, используя ранее созданный шаблон. В список переменных передадим только что созданный столбец `floor_category_number` и `last_price`. "
   ]
  },
  {
   "cell_type": "code",
   "execution_count": 407,
   "metadata": {},
   "outputs": [
    {
     "data": {
      "text/html": [
       "<div>\n",
       "<style scoped>\n",
       "    .dataframe tbody tr th:only-of-type {\n",
       "        vertical-align: middle;\n",
       "    }\n",
       "\n",
       "    .dataframe tbody tr th {\n",
       "        vertical-align: top;\n",
       "    }\n",
       "\n",
       "    .dataframe thead th {\n",
       "        text-align: right;\n",
       "    }\n",
       "</style>\n",
       "<table border=\"1\" class=\"dataframe\">\n",
       "  <thead>\n",
       "    <tr style=\"text-align: right;\">\n",
       "      <th></th>\n",
       "      <th>last_price</th>\n",
       "      <th>floor_category_number</th>\n",
       "    </tr>\n",
       "  </thead>\n",
       "  <tbody>\n",
       "    <tr>\n",
       "      <td>last_price</td>\n",
       "      <td>1.000000</td>\n",
       "      <td>0.052116</td>\n",
       "    </tr>\n",
       "    <tr>\n",
       "      <td>floor_category_number</td>\n",
       "      <td>0.052116</td>\n",
       "      <td>1.000000</td>\n",
       "    </tr>\n",
       "  </tbody>\n",
       "</table>\n",
       "</div>"
      ],
      "text/plain": [
       "                       last_price  floor_category_number\n",
       "last_price               1.000000               0.052116\n",
       "floor_category_number    0.052116               1.000000"
      ]
     },
     "metadata": {},
     "output_type": "display_data"
    },
    {
     "data": {
      "image/png": "[encoded data removed]",
      "text/plain": [
       "<Figure size 1152x648 with 4 Axes>"
      ]
     },
     "metadata": {
      "needs_background": "light"
     },
     "output_type": "display_data"
    }
   ],
   "source": [
    "column_names = ['last_price', 'floor_category_number']\n",
    "pd.plotting.scatter_matrix(data[column_names], figsize=(16, 9))\n",
    "display(data[column_names].corr())"
   ]
  },
  {
   "cell_type": "markdown",
   "metadata": {},
   "source": [
    "<a class='anchor' id='id-section27'/>\n",
    "\n",
    "### [Вывод](#id-section65)\n",
    "\n",
    "Цена квартиры практически не зависит от этажа. Коэффициент корреляции положительный, равен 0.05, что свидетельствует о крайне слабой связи. На графике видно, что низкие цены имеют только квартиры на первых этажах (влияет отсутствие балконов, незащищенность от улицы, маленькое количество солнечного света, близость подвального помещения, сырость, недостаточное отопление из-за устройства отопительной системы в многоэтажках). Но если квартира расположена не на первом, а на любом другом этаже, то разницы в цене не будет. При этом на графике видно, что больше всего объявлений выставлено о продаже квартир на \"других\" этажах. "
   ]
  },
  {
   "cell_type": "markdown",
   "metadata": {},
   "source": [
    "<a class='anchor' id='id-section28'/>\n",
    "\n",
    "### [Изучим зависимость цены от дня недели, месяца и года размещения объявления](#id-section66)\n",
    "\n",
    "Автоматически построим матрицу корреляции и матрицу диаграмм рассеяния, используя ранее созданный шаблон. В список переменных передадим `last_price`, `weekday`, `month`, `year`. "
   ]
  },
  {
   "cell_type": "code",
   "execution_count": 408,
   "metadata": {},
   "outputs": [
    {
     "data": {
      "text/html": [
       "<div>\n",
       "<style scoped>\n",
       "    .dataframe tbody tr th:only-of-type {\n",
       "        vertical-align: middle;\n",
       "    }\n",
       "\n",
       "    .dataframe tbody tr th {\n",
       "        vertical-align: top;\n",
       "    }\n",
       "\n",
       "    .dataframe thead th {\n",
       "        text-align: right;\n",
       "    }\n",
       "</style>\n",
       "<table border=\"1\" class=\"dataframe\">\n",
       "  <thead>\n",
       "    <tr style=\"text-align: right;\">\n",
       "      <th></th>\n",
       "      <th>last_price</th>\n",
       "      <th>weekday</th>\n",
       "      <th>month</th>\n",
       "      <th>year</th>\n",
       "    </tr>\n",
       "  </thead>\n",
       "  <tbody>\n",
       "    <tr>\n",
       "      <td>last_price</td>\n",
       "      <td>1.000000</td>\n",
       "      <td>-0.001480</td>\n",
       "      <td>0.005548</td>\n",
       "      <td>-0.025491</td>\n",
       "    </tr>\n",
       "    <tr>\n",
       "      <td>weekday</td>\n",
       "      <td>-0.001480</td>\n",
       "      <td>1.000000</td>\n",
       "      <td>0.019603</td>\n",
       "      <td>-0.017507</td>\n",
       "    </tr>\n",
       "    <tr>\n",
       "      <td>month</td>\n",
       "      <td>0.005548</td>\n",
       "      <td>0.019603</td>\n",
       "      <td>1.000000</td>\n",
       "      <td>-0.299212</td>\n",
       "    </tr>\n",
       "    <tr>\n",
       "      <td>year</td>\n",
       "      <td>-0.025491</td>\n",
       "      <td>-0.017507</td>\n",
       "      <td>-0.299212</td>\n",
       "      <td>1.000000</td>\n",
       "    </tr>\n",
       "  </tbody>\n",
       "</table>\n",
       "</div>"
      ],
      "text/plain": [
       "            last_price   weekday     month      year\n",
       "last_price    1.000000 -0.001480  0.005548 -0.025491\n",
       "weekday      -0.001480  1.000000  0.019603 -0.017507\n",
       "month         0.005548  0.019603  1.000000 -0.299212\n",
       "year         -0.025491 -0.017507 -0.299212  1.000000"
      ]
     },
     "metadata": {},
     "output_type": "display_data"
    },
    {
     "data": {
      "image/png": "[encoded data removed]",
      "text/plain": [
       "<Figure size 1152x648 with 16 Axes>"
      ]
     },
     "metadata": {
      "needs_background": "light"
     },
     "output_type": "display_data"
    }
   ],
   "source": [
    "column_names = ['last_price', 'weekday', 'month', 'year']\n",
    "pd.plotting.scatter_matrix(data[column_names], figsize=(16, 9))\n",
    "display(data[column_names].corr())"
   ]
  },
  {
   "cell_type": "markdown",
   "metadata": {},
   "source": [
    "<a class='anchor' id='id-section29'/>\n",
    "\n",
    "### [Вывод](#id-section67)\n",
    "\n",
    "Цена квартиры практически не зависит ни от дня недели, ни от месяца, ни от года размещения объявления. Коэффициенты корреляции равны -0.001, 0.005 и -0.02 соответственно. \n",
    "\n",
    "На графике лишь можно проследить, что в 2017 году количество объявлений о продаже квартир резко возросло, при этом цена на квартиры повысилась (возможно, из-за особенностей российской экономики, обесценивания курса рубля), а в 2018 и 2019 годах цены вернулись к прежнему уровню."
   ]
  },
  {
   "cell_type": "markdown",
   "metadata": {},
   "source": [
    "<a class='anchor' id='id-section30'/>\n",
    "\n",
    "### [Изучим 10 населенных пунктов с наибольшим числом объявлений](#id-section68)\n",
    "\n",
    "Выберем в столбце `locality_name` населенные пункты с наибольшим числом объявлений методом `value_counts()`, отсортируем значения по убыванию методом `sort_values(ascending = False)` и сохраним в отдельной переменной `top_10_locality` 10 первых значений методом `head(10)`."
   ]
  },
  {
   "cell_type": "code",
   "execution_count": 409,
   "metadata": {},
   "outputs": [
    {
     "data": {
      "text/html": [
       "<div>\n",
       "<style scoped>\n",
       "    .dataframe tbody tr th:only-of-type {\n",
       "        vertical-align: middle;\n",
       "    }\n",
       "\n",
       "    .dataframe tbody tr th {\n",
       "        vertical-align: top;\n",
       "    }\n",
       "\n",
       "    .dataframe thead th {\n",
       "        text-align: right;\n",
       "    }\n",
       "</style>\n",
       "<table border=\"1\" class=\"dataframe\">\n",
       "  <thead>\n",
       "    <tr style=\"text-align: right;\">\n",
       "      <th></th>\n",
       "      <th>locality_name</th>\n",
       "    </tr>\n",
       "  </thead>\n",
       "  <tbody>\n",
       "    <tr>\n",
       "      <td>Санкт-Петербург</td>\n",
       "      <td>12311</td>\n",
       "    </tr>\n",
       "    <tr>\n",
       "      <td>посёлок Мурино</td>\n",
       "      <td>427</td>\n",
       "    </tr>\n",
       "    <tr>\n",
       "      <td>посёлок Шушары</td>\n",
       "      <td>355</td>\n",
       "    </tr>\n",
       "    <tr>\n",
       "      <td>Пушкин</td>\n",
       "      <td>303</td>\n",
       "    </tr>\n",
       "    <tr>\n",
       "      <td>Всеволожск</td>\n",
       "      <td>302</td>\n",
       "    </tr>\n",
       "    <tr>\n",
       "      <td>Колпино</td>\n",
       "      <td>271</td>\n",
       "    </tr>\n",
       "    <tr>\n",
       "      <td>посёлок Парголово</td>\n",
       "      <td>250</td>\n",
       "    </tr>\n",
       "    <tr>\n",
       "      <td>Гатчина</td>\n",
       "      <td>233</td>\n",
       "    </tr>\n",
       "    <tr>\n",
       "      <td>деревня Кудрово</td>\n",
       "      <td>229</td>\n",
       "    </tr>\n",
       "    <tr>\n",
       "      <td>Выборг</td>\n",
       "      <td>177</td>\n",
       "    </tr>\n",
       "  </tbody>\n",
       "</table>\n",
       "</div>"
      ],
      "text/plain": [
       "                   locality_name\n",
       "Санкт-Петербург            12311\n",
       "посёлок Мурино               427\n",
       "посёлок Шушары               355\n",
       "Пушкин                       303\n",
       "Всеволожск                   302\n",
       "Колпино                      271\n",
       "посёлок Парголово            250\n",
       "Гатчина                      233\n",
       "деревня Кудрово              229\n",
       "Выборг                       177"
      ]
     },
     "metadata": {},
     "output_type": "display_data"
    }
   ],
   "source": [
    "top_10_locality = data['locality_name'].value_counts().sort_values(ascending = False).head(10)\n",
    "display(top_10_locality.to_frame())"
   ]
  },
  {
   "cell_type": "markdown",
   "metadata": {},
   "source": [
    "Посчитаем среднюю цену квадратного метра в этих населенных пунктах. Для этого получим из таблицы `data` срез данных, при котором значения в столбце `locality_name` будут такими же, как и индексы (населенные пункты) в датафрейме `top_10_locality`. Затем построим сводную таблицу, сгруппированную по названиям населенных пунктов, а в значения передадим столбец с ценой на квадратный метр. Так как нам надо получить среднюю цену, в параметре `aggfunc` мы ничего указывать не будем, и тогда по умолчанию к значениям применится функция `mean()`. Для наглядности отсортируем сводную таблицу по столбцу со средней ценой по убыванию методом `sort_values(ascending = False)`."
   ]
  },
  {
   "cell_type": "code",
   "execution_count": 410,
   "metadata": {},
   "outputs": [
    {
     "data": {
      "text/html": [
       "<div>\n",
       "<style scoped>\n",
       "    .dataframe tbody tr th:only-of-type {\n",
       "        vertical-align: middle;\n",
       "    }\n",
       "\n",
       "    .dataframe tbody tr th {\n",
       "        vertical-align: top;\n",
       "    }\n",
       "\n",
       "    .dataframe thead th {\n",
       "        text-align: right;\n",
       "    }\n",
       "</style>\n",
       "<table border=\"1\" class=\"dataframe\">\n",
       "  <thead>\n",
       "    <tr style=\"text-align: right;\">\n",
       "      <th></th>\n",
       "      <th>price_per_m</th>\n",
       "    </tr>\n",
       "    <tr>\n",
       "      <th>locality_name</th>\n",
       "      <th></th>\n",
       "    </tr>\n",
       "  </thead>\n",
       "  <tbody>\n",
       "    <tr>\n",
       "      <td>Санкт-Петербург</td>\n",
       "      <td>112747.953843</td>\n",
       "    </tr>\n",
       "    <tr>\n",
       "      <td>Пушкин</td>\n",
       "      <td>102814.540715</td>\n",
       "    </tr>\n",
       "    <tr>\n",
       "      <td>деревня Кудрово</td>\n",
       "      <td>92346.279691</td>\n",
       "    </tr>\n",
       "    <tr>\n",
       "      <td>посёлок Парголово</td>\n",
       "      <td>89989.546766</td>\n",
       "    </tr>\n",
       "    <tr>\n",
       "      <td>посёлок Мурино</td>\n",
       "      <td>85930.492082</td>\n",
       "    </tr>\n",
       "    <tr>\n",
       "      <td>посёлок Шушары</td>\n",
       "      <td>79119.786743</td>\n",
       "    </tr>\n",
       "    <tr>\n",
       "      <td>Колпино</td>\n",
       "      <td>75628.091184</td>\n",
       "    </tr>\n",
       "    <tr>\n",
       "      <td>Всеволожск</td>\n",
       "      <td>69450.814191</td>\n",
       "    </tr>\n",
       "    <tr>\n",
       "      <td>Гатчина</td>\n",
       "      <td>68686.321919</td>\n",
       "    </tr>\n",
       "    <tr>\n",
       "      <td>Выборг</td>\n",
       "      <td>58279.323461</td>\n",
       "    </tr>\n",
       "  </tbody>\n",
       "</table>\n",
       "</div>"
      ],
      "text/plain": [
       "                     price_per_m\n",
       "locality_name                   \n",
       "Санкт-Петербург    112747.953843\n",
       "Пушкин             102814.540715\n",
       "деревня Кудрово     92346.279691\n",
       "посёлок Парголово   89989.546766\n",
       "посёлок Мурино      85930.492082\n",
       "посёлок Шушары      79119.786743\n",
       "Колпино             75628.091184\n",
       "Всеволожск          69450.814191\n",
       "Гатчина             68686.321919\n",
       "Выборг              58279.323461"
      ]
     },
     "metadata": {},
     "output_type": "display_data"
    }
   ],
   "source": [
    "display(data.query('locality_name in @top_10_locality.index')\n",
    "        .pivot_table(index = 'locality_name', values = 'price_per_m')\n",
    "        .sort_values(by = 'price_per_m', ascending = False))"
   ]
  },
  {
   "cell_type": "markdown",
   "metadata": {},
   "source": [
    "<a class='anchor' id='id-section31'/>\n",
    "\n",
    "### [Вывод](#id-section69)\n",
    "\n",
    "Среди 10 населенных пунктов с наибольшим числом объявлений мы можем выделить населенные пункты с самой высокой стоимостью жилья:\n",
    "- Санкт-Петербург (112 тыс.руб. за 1 кв.м);\n",
    "- Пушкин (102 тыс.руб. за 1 кв.м);\n",
    "- деревня Кудрово (92 тыс.руб. за 1 кв.м).\n",
    "\n",
    "А также населенные пункты с самой низкой стоимостью жилья:\n",
    "- Выборг (58 тыс.руб. за 1 кв.м);\n",
    "- Гатчина (68 тыс.руб. за 1 кв.м);\n",
    "- Всеволожск (69 тыс.руб. за 1 кв.м).\t"
   ]
  },
  {
   "cell_type": "markdown",
   "metadata": {},
   "source": [
    "<a class='anchor' id='id-section32'/>\n",
    "\n",
    "### [Определим центральную зону для квартир в Санкт-Петербурге](#id-section70)\n",
    "\n",
    "Создадим столбец с расстоянием до центра города в километрах и округлим до целых значений методом `astype('int64')`."
   ]
  },
  {
   "cell_type": "code",
   "execution_count": 411,
   "metadata": {},
   "outputs": [],
   "source": [
    "data['cityCenters_nearest_km'] = (data['cityCenters_nearest'] / 1000).astype('int64')"
   ]
  },
  {
   "cell_type": "markdown",
   "metadata": {},
   "source": [
    "Посчитаем цену для каждого километра в новом столбце."
   ]
  },
  {
   "cell_type": "code",
   "execution_count": 412,
   "metadata": {},
   "outputs": [],
   "source": [
    "data['price_per_km'] = data['last_price'] / data['cityCenters_nearest_km']"
   ]
  },
  {
   "cell_type": "markdown",
   "metadata": {},
   "source": [
    "Выделим в `data` квартиры в Санкт-Петербурге. Сгруппируем этот срез по километражу, а для столбца цены за каждый километр посчитаем среднее значение методом `mean()`. Построим столбчатый график: он покажет, как цена зависит от удаленности от центра."
   ]
  },
  {
   "cell_type": "code",
   "execution_count": 413,
   "metadata": {},
   "outputs": [
    {
     "data": {
      "image/png": "[encoded data removed]",
      "text/plain": [
       "<Figure size 1152x648 with 1 Axes>"
      ]
     },
     "metadata": {
      "needs_background": "light"
     },
     "output_type": "display_data"
    }
   ],
   "source": [
    "(data.query('locality_name == \"Санкт-Петербург\"').groupby('cityCenters_nearest_km')['price_per_km']\n",
    " .mean().plot(kind='bar', grid=True, figsize=(16, 9), title ='Средняя цена в зависимости от приближенности к центру города')\n",
    " .set_ylabel('price_per_km')\n",
    " )\n",
    "plt.show()"
   ]
  },
  {
   "cell_type": "markdown",
   "metadata": {},
   "source": [
    "<a class='anchor' id='id-section33'/>\n",
    "\n",
    "### [Вывод](#id-section71)\n",
    "\n",
    "После визуализации мы видим границу, где средняя цена сильно меняется (после 7 км) — это и будет центральная зона."
   ]
  },
  {
   "cell_type": "markdown",
   "metadata": {},
   "source": [
    "<a class='anchor' id='id-section34'/>\n",
    "\n",
    "### [Изучим сегмент квартир в центре Санкт-Петербурга по параметрам: площадь, цена, число комнат, высота потолков](#id-section72)\n",
    "\n",
    "Сохраним сегмент квартир в центре Санкт-Петербурга (до 7 км) в отдельную таблицу `data_spb`. "
   ]
  },
  {
   "cell_type": "code",
   "execution_count": 414,
   "metadata": {},
   "outputs": [],
   "source": [
    "data_spb = data.query('locality_name == \"Санкт-Петербург\" and cityCenters_nearest_km < 7')"
   ]
  },
  {
   "cell_type": "markdown",
   "metadata": {},
   "source": [
    "Для каждой переменной (площади, цены, числа комнат, высоты потолков) вызовем метод `describe()`, чтобы увидеть список характерных значений, а затем построим гистограммы методом `hist()`."
   ]
  },
  {
   "cell_type": "code",
   "execution_count": 415,
   "metadata": {
    "scrolled": false
   },
   "outputs": [
    {
     "data": {
      "text/plain": [
       "count    2346.000000\n",
       "mean       87.743674\n",
       "std        55.392761\n",
       "min        12.000000\n",
       "25%        55.000000\n",
       "50%        75.000000\n",
       "75%       102.700000\n",
       "max       618.000000\n",
       "Name: total_area, dtype: float64"
      ]
     },
     "metadata": {},
     "output_type": "display_data"
    },
    {
     "data": {
      "image/png": "[encoded data removed]",
      "text/plain": [
       "<Figure size 1152x648 with 1 Axes>"
      ]
     },
     "metadata": {
      "needs_background": "light"
     },
     "output_type": "display_data"
    },
    {
     "data": {
      "text/plain": [
       "count    2.346000e+03\n",
       "mean     1.341969e+07\n",
       "std      2.401036e+07\n",
       "min      1.600000e+06\n",
       "25%      6.500000e+06\n",
       "50%      8.700000e+06\n",
       "75%      1.300000e+07\n",
       "max      7.630000e+08\n",
       "Name: last_price, dtype: float64"
      ]
     },
     "metadata": {},
     "output_type": "display_data"
    },
    {
     "data": {
      "image/png": "[encoded data removed]",
      "text/plain": [
       "<Figure size 1152x648 with 1 Axes>"
      ]
     },
     "metadata": {
      "needs_background": "light"
     },
     "output_type": "display_data"
    },
    {
     "data": {
      "text/plain": [
       "count    2346.000000\n",
       "mean        2.745098\n",
       "std         1.407499\n",
       "min         0.000000\n",
       "25%         2.000000\n",
       "50%         3.000000\n",
       "75%         3.000000\n",
       "max        19.000000\n",
       "Name: rooms, dtype: float64"
      ]
     },
     "metadata": {},
     "output_type": "display_data"
    },
    {
     "data": {
      "image/png": "[encoded data removed]",
      "text/plain": [
       "<Figure size 1152x648 with 1 Axes>"
      ]
     },
     "metadata": {
      "needs_background": "light"
     },
     "output_type": "display_data"
    },
    {
     "data": {
      "text/plain": [
       "count    2346.000000\n",
       "mean        2.897012\n",
       "std         0.729714\n",
       "min         2.400000\n",
       "25%         2.500000\n",
       "50%         2.800000\n",
       "75%         3.150000\n",
       "max        32.000000\n",
       "Name: ceiling_height, dtype: float64"
      ]
     },
     "metadata": {},
     "output_type": "display_data"
    },
    {
     "data": {
      "image/png": "[encoded data removed]",
      "text/plain": [
       "<Figure size 1152x648 with 1 Axes>"
      ]
     },
     "metadata": {
      "needs_background": "light"
     },
     "output_type": "display_data"
    }
   ],
   "source": [
    "for parameter in parameters:\n",
    "    describe_and_hist(parameter, data_spb)"
   ]
  },
  {
   "cell_type": "markdown",
   "metadata": {},
   "source": [
    "На гистограмме с **площадью квартир** виден хвост высоких значений. Кроме того, среднее значение площади `mean` больше медианного значения 50%, это говорит о том, что высокие значения влияют на среднее, но не на медиану.\n",
    "\n",
    "Большинство квартир в центре Санкт-Петербурга с площадью от 55 до 102 кв.м - это больше, чем площадь всех остальных квартир с сервиса объявлений."
   ]
  },
  {
   "cell_type": "markdown",
   "metadata": {},
   "source": [
    "Больше всего квартир в центре Санкт-Петербурга с **ценой** от 6.5 до 13 млн.р., медианная цена равна 8.7 млн.р., что превышает медианную цену всех остальных квартир с сервиса объявлений."
   ]
  },
  {
   "cell_type": "markdown",
   "metadata": {},
   "source": [
    "Если раньше при анализе всех квартир, представленных на сервисе объявлений, мы отмечали, что велико число квартир с **количеством комнат** от 1 до 3 (из них больше однокомнатных квартир), то теперь для центрального района Санкт-Петербурга количество комнат в квартирах увеличивается (больше всего двухкомнатных и трехкомнатных квартир, а доля однокомнатных квартир сократилась)."
   ]
  },
  {
   "cell_type": "markdown",
   "metadata": {},
   "source": [
    "**Высота потолков** в квартирах в центре Санкт-Петербурга варьируется от 2.5 до 3.15 м, медианная высота равна 2.8 м, что превышает медианную высоту потолков для всех остальных квартир с сервиса объявлений."
   ]
  },
  {
   "cell_type": "markdown",
   "metadata": {},
   "source": [
    "<a class='anchor' id='id-section35'/>\n",
    "\n",
    "### [Вывод](#id-section73)\n",
    "\n",
    "Квартиры в центре Санкт-Петербурга имеют большую площадь, цену, число комнат, высоту потолков, чем все остальные квартиры с сервиса объявлений."
   ]
  },
  {
   "cell_type": "markdown",
   "metadata": {},
   "source": [
    "<a class='anchor' id='id-section36'/>\n",
    "\n",
    "### [Изучим зависимость цены квартир в центре Санкт-Петербурга от числа комнат, этажа, удаленности от центра, даты размещения объявления](#id-section74)\n",
    "\n",
    "Автоматически построим матрицу корреляции и матрицу диаграмм рассеяния, используя ранее созданный шаблон. В список переменных передадим `last_price`, `rooms`, `floor_category_number`, `cityCenters_nearest`, `weekday`, `month`, `year`."
   ]
  },
  {
   "cell_type": "code",
   "execution_count": null,
   "metadata": {},
   "outputs": [
    {
     "data": {
      "text/html": [
       "<div>\n",
       "<style scoped>\n",
       "    .dataframe tbody tr th:only-of-type {\n",
       "        vertical-align: middle;\n",
       "    }\n",
       "\n",
       "    .dataframe tbody tr th {\n",
       "        vertical-align: top;\n",
       "    }\n",
       "\n",
       "    .dataframe thead th {\n",
       "        text-align: right;\n",
       "    }\n",
       "</style>\n",
       "<table border=\"1\" class=\"dataframe\">\n",
       "  <thead>\n",
       "    <tr style=\"text-align: right;\">\n",
       "      <th></th>\n",
       "      <th>last_price</th>\n",
       "      <th>rooms</th>\n",
       "      <th>floor_category_number</th>\n",
       "      <th>cityCenters_nearest</th>\n",
       "      <th>weekday</th>\n",
       "      <th>month</th>\n",
       "      <th>year</th>\n",
       "    </tr>\n",
       "  </thead>\n",
       "  <tbody>\n",
       "    <tr>\n",
       "      <td>last_price</td>\n",
       "      <td>1.000000</td>\n",
       "      <td>0.310853</td>\n",
       "      <td>0.089690</td>\n",
       "      <td>-0.031552</td>\n",
       "      <td>0.006175</td>\n",
       "      <td>0.007399</td>\n",
       "      <td>-0.037817</td>\n",
       "    </tr>\n",
       "    <tr>\n",
       "      <td>rooms</td>\n",
       "      <td>0.310853</td>\n",
       "      <td>1.000000</td>\n",
       "      <td>0.085115</td>\n",
       "      <td>-0.130023</td>\n",
       "      <td>-0.004196</td>\n",
       "      <td>-0.007377</td>\n",
       "      <td>-0.066174</td>\n",
       "    </tr>\n",
       "    <tr>\n",
       "      <td>floor_category_number</td>\n",
       "      <td>0.089690</td>\n",
       "      <td>0.085115</td>\n",
       "      <td>1.000000</td>\n",
       "      <td>-0.014520</td>\n",
       "      <td>0.035348</td>\n",
       "      <td>-0.006742</td>\n",
       "      <td>0.017087</td>\n",
       "    </tr>\n",
       "    <tr>\n",
       "      <td>cityCenters_nearest</td>\n",
       "      <td>-0.031552</td>\n",
       "      <td>-0.130023</td>\n",
       "      <td>-0.014520</td>\n",
       "      <td>1.000000</td>\n",
       "      <td>-0.010980</td>\n",
       "      <td>0.018201</td>\n",
       "      <td>-0.040663</td>\n",
       "    </tr>\n",
       "    <tr>\n",
       "      <td>weekday</td>\n",
       "      <td>0.006175</td>\n",
       "      <td>-0.004196</td>\n",
       "      <td>0.035348</td>\n",
       "      <td>-0.010980</td>\n",
       "      <td>1.000000</td>\n",
       "      <td>0.052366</td>\n",
       "      <td>-0.017826</td>\n",
       "    </tr>\n",
       "    <tr>\n",
       "      <td>month</td>\n",
       "      <td>0.007399</td>\n",
       "      <td>-0.007377</td>\n",
       "      <td>-0.006742</td>\n",
       "      <td>0.018201</td>\n",
       "      <td>0.052366</td>\n",
       "      <td>1.000000</td>\n",
       "      <td>-0.274425</td>\n",
       "    </tr>\n",
       "    <tr>\n",
       "      <td>year</td>\n",
       "      <td>-0.037817</td>\n",
       "      <td>-0.066174</td>\n",
       "      <td>0.017087</td>\n",
       "      <td>-0.040663</td>\n",
       "      <td>-0.017826</td>\n",
       "      <td>-0.274425</td>\n",
       "      <td>1.000000</td>\n",
       "    </tr>\n",
       "  </tbody>\n",
       "</table>\n",
       "</div>"
      ],
      "text/plain": [
       "                       last_price     rooms  floor_category_number  \\\n",
       "last_price               1.000000  0.310853               0.089690   \n",
       "rooms                    0.310853  1.000000               0.085115   \n",
       "floor_category_number    0.089690  0.085115               1.000000   \n",
       "cityCenters_nearest     -0.031552 -0.130023              -0.014520   \n",
       "weekday                  0.006175 -0.004196               0.035348   \n",
       "month                    0.007399 -0.007377              -0.006742   \n",
       "year                    -0.037817 -0.066174               0.017087   \n",
       "\n",
       "                       cityCenters_nearest   weekday     month      year  \n",
       "last_price                       -0.031552  0.006175  0.007399 -0.037817  \n",
       "rooms                            -0.130023 -0.004196 -0.007377 -0.066174  \n",
       "floor_category_number            -0.014520  0.035348 -0.006742  0.017087  \n",
       "cityCenters_nearest               1.000000 -0.010980  0.018201 -0.040663  \n",
       "weekday                          -0.010980  1.000000  0.052366 -0.017826  \n",
       "month                             0.018201  0.052366  1.000000 -0.274425  \n",
       "year                             -0.040663 -0.017826 -0.274425  1.000000  "
      ]
     },
     "metadata": {},
     "output_type": "display_data"
    }
   ],
   "source": [
    "column_names = ['last_price', 'rooms', 'floor_category_number', 'cityCenters_nearest', 'weekday', 'month', 'year']\n",
    "pd.plotting.scatter_matrix(data_spb[column_names], figsize=(16, 9))\n",
    "display(data_spb[column_names].corr())"
   ]
  },
  {
   "cell_type": "markdown",
   "metadata": {},
   "source": [
    "<a class='anchor' id='id-section37'/>\n",
    "\n",
    "### [Вывод](#id-section75)\n",
    "\n",
    "Цена квартиры в центре Санкт-Петербурга зависит от количества комнат (чем больше комнат, тем выше цена), но слабо. Коэффициент корреляции положительный, равен 0.3, что говорит нам о наличии несильной связи между переменными. На графике видно, что цена растет в зависимости от того, сколько в квартире комнат, но когда комнат больше 5, цена на такие квартиры снижается. Это полностью повторяет тенденцию, которую мы заметили на этапе анализа всех квартир на рынке.\n",
    "\n",
    "Цена квартиры не зависит от этажа. Коэффициент корреляции положительный, равен 0.08, что свидетельствует о крайне слабой связи. На графике видно, что низкие цены имеют только квартиры на первых этажах. Но если квартира расположена не на первом, а на любом другом этаже, то разницы в цене не будет. Снова повторяется тенденция, замеченная нами ранее.\n",
    "\n",
    "Цена квартиры не зависит от расстояния до центра города. Коэффициент корреляции отрицательный, равен -0.03. На графике мы также видим, что цены не увеличиваются с приближением к центру. Ведь если квартира уже расположена в центральном районе, не имеет значения, насколько близко центр города географически.\n",
    "\n",
    "Цена квартиры в центре Санкт-Петербурга не зависит ни от дня недели, ни от месяца, ни от года размещения объявления. На графике снова прослеживается тенденция, замеченная нами ранее, о том, что в 2017 году количество объявлений о продаже квартир резко возросло, при этом цена на квартиры повысилась, а в 2018 и 2019 годах цены вернулись к прежнему уровню."
   ]
  },
  {
   "cell_type": "markdown",
   "metadata": {},
   "source": [
    "<a class='anchor' id='id-section38'/>\n",
    "\n",
    "## [Шаг 5. Общий вывод](#id-section76)"
   ]
  },
  {
   "cell_type": "markdown",
   "metadata": {},
   "source": [
    "По результатам проведенного исследования мы выяснили, что продажа квартиры, выставленной на сервисе объявлений, обычно занимает от 1.5 до 7 месяцев.\n",
    "\n",
    "Санкт-Петербург лидирует среди всех насенных пунктов как по количеству объявлений о продаже квартир, так и по стоимости жилья.\n",
    "\n",
    "Квартиры в центральном районе Санкт-Петербурга, расположенные в радиусе 7 км от центра города, имеют большую площадь, число комнат, высоту потолков (что объясняется особенностями исторической застройки) - и, как следствие, более высокую цену, чем все остальные квартиры, выставленные на продажу. \n",
    "\n",
    "На цену любой квартиры больше всего влияет ее площадь (чем больше площадь, тем выше цена), а также количество комнат (чем больше комнат, тем выше цена), при этом, когда комнат больше 5, цены на такие квартиры снижаются. \n",
    "\n",
    "Низкие цены имеют только квартиры на первых этажах. Но если квартира расположена не на первом, а на любом другом этаже, то особой разницы в цене не будет.\n",
    "\n",
    "Цены на квартиры увеличиваются в зависимости от того, насколько близко они расположены к центру города. Однако если квартиры итак расположены в центральном районе Санкт-Петербурга (в радиусе 7 км от центра города), то цены на них одинаково высокие, так как для таких квартир уже не имеет значения, насколько близко центр города географически. \n",
    "\n",
    "Также мы выяснили, что цена квартиры не зависит ни от дня недели, ни от месяца, ни от года размещения объявления. Лишь 2017 году цены на квартиры повысились вместе с количеством объявлений, но в 2018 и 2019 годах цены вернулись к прежнему уровню. \n"
   ]
  }
 ],
 "metadata": {
  "kernelspec": {
   "display_name": "Python 3",
   "language": "python",
   "name": "python3"
  },
  "language_info": {
   "codemirror_mode": {
    "name": "ipython",
    "version": 3
   },
   "file_extension": ".py",
   "mimetype": "text/x-python",
   "name": "python",
   "nbconvert_exporter": "python",
   "pygments_lexer": "ipython3",
   "version": "3.8.3"
  }
 },
 "nbformat": 4,
 "nbformat_minor": 2
}
