{
 "cells": [
  {
   "cell_type": "markdown",
   "metadata": {},
   "source": [
    "## **Оглавление:**\n",
    "- [Шаг 1. Откроем файлы с данными и изучим общую информацию](#id-section1)<div id='id-section2'/>\n",
    "- [Вывод](#id-section3)<div id='id-section4'/>\n",
    "- [Шаг 2. Подготовим данные к анализу](#id-section5)<div id='id-section6'/>\n",
    "- [Приведем данные к нужному типу](#id-section7)<div id='id-section8'/>\n",
    "- [Обработаем дубликаты](#id-section9)<div id='id-section10'/>\n",
    "- [Проверим, есть ли пользователи, которые попали в разные группы A/B-теста и разные конкурирующие тесты](#id-section11)<div id='id-section12'/>\n",
    "- [Вывод](#id-section13)<div id='id-section14'/>\n",
    "- [Шаг 3. Проведем исследовательский анализ данных (EDA)](#id-section15)<div id='id-section16'/>\n",
    "- [Выполним необходимые объединения таблиц](#id-section17)<div id='id-section18'/>\n",
    "- [Исключим из данных совпадение теста и маркетинговых событий](#id-section19)<div id='id-section20'/>\n",
    "- [Исследуем конверсию в воронке на разных этапах](#id-section21)<div id='id-section22'/>\n",
    "- [Исследуем распределение количества событий на пользователя в выборках](#id-section23)<div id='id-section24'/>\n",
    "- [Посмотрим на число событий по дням в выборках](#id-section25)<div id='id-section26'/>\n",
    "- [Вывод](#id-section27)<div id='id-section28'/>\n",
    "- [Шаг 4. Изучим результаты эксперимента](#id-section29)<div id='id-section30'/>\n",
    "- [Проведем оценку результатов A/B-тестирования](#id-section31)<div id='id-section32'/>\n",
    "- [Проведем z-тест для проверки гипотезы о равенстве долей](#id-section33)<div id='id-section34'/>\n",
    "- [Вывод](#id-section35)<div id='id-section36'/>\n",
    "- [Шаг 5. Общий вывод](#id-section37)<div id='id-section38'/>"
   ]
  },
  {
   "cell_type": "markdown",
   "metadata": {},
   "source": [
    "<div id='id-section1'/>\n",
    "\n",
    "## [Шаг 1. Откроем файлы с данными и изучим общую информацию](#id-section2)\n",
    "\n",
    "Импортируем необходимые библиотеки.\n",
    "\n",
    "Для вывода данных методы `head()` и `tail()` применять не будем, потому что Jupyter и так выведет на экран первые и последние 5 строк из длинных таблиц.\n",
    "\n",
    "Также сразу посмотрим, какие типы данных хранятся в таблицах, воспользуемся методом `info()`."
   ]
  },
  {
   "cell_type": "code",
   "execution_count": 46,
   "metadata": {},
   "outputs": [],
   "source": [
    "import warnings\n",
    "warnings.filterwarnings(\"ignore\")\n",
    "from IPython.display import display\n",
    "import pandas as pd\n",
    "import matplotlib.pyplot as plt\n",
    "import seaborn as sns\n",
    "from plotly import graph_objects as go\n",
    "import datetime as dt\n",
    "import numpy as np\n",
    "from scipy import stats as st\n",
    "import math as mth"
   ]
  },
  {
   "cell_type": "code",
   "execution_count": 47,
   "metadata": {
    "scrolled": false
   },
   "outputs": [
    {
     "data": {
      "text/html": [
       "<div>\n",
       "<style scoped>\n",
       "    .dataframe tbody tr th:only-of-type {\n",
       "        vertical-align: middle;\n",
       "    }\n",
       "\n",
       "    .dataframe tbody tr th {\n",
       "        vertical-align: top;\n",
       "    }\n",
       "\n",
       "    .dataframe thead th {\n",
       "        text-align: right;\n",
       "    }\n",
       "</style>\n",
       "<table border=\"1\" class=\"dataframe\">\n",
       "  <thead>\n",
       "    <tr style=\"text-align: right;\">\n",
       "      <th></th>\n",
       "      <th>name</th>\n",
       "      <th>regions</th>\n",
       "      <th>start_dt</th>\n",
       "      <th>finish_dt</th>\n",
       "    </tr>\n",
       "  </thead>\n",
       "  <tbody>\n",
       "    <tr>\n",
       "      <th>0</th>\n",
       "      <td>Christmas&amp;New Year Promo</td>\n",
       "      <td>EU, N.America</td>\n",
       "      <td>2020-12-25</td>\n",
       "      <td>2021-01-03</td>\n",
       "    </tr>\n",
       "    <tr>\n",
       "      <th>1</th>\n",
       "      <td>St. Valentine's Day Giveaway</td>\n",
       "      <td>EU, CIS, APAC, N.America</td>\n",
       "      <td>2020-02-14</td>\n",
       "      <td>2020-02-16</td>\n",
       "    </tr>\n",
       "    <tr>\n",
       "      <th>2</th>\n",
       "      <td>St. Patric's Day Promo</td>\n",
       "      <td>EU, N.America</td>\n",
       "      <td>2020-03-17</td>\n",
       "      <td>2020-03-19</td>\n",
       "    </tr>\n",
       "    <tr>\n",
       "      <th>3</th>\n",
       "      <td>Easter Promo</td>\n",
       "      <td>EU, CIS, APAC, N.America</td>\n",
       "      <td>2020-04-12</td>\n",
       "      <td>2020-04-19</td>\n",
       "    </tr>\n",
       "    <tr>\n",
       "      <th>4</th>\n",
       "      <td>4th of July Promo</td>\n",
       "      <td>N.America</td>\n",
       "      <td>2020-07-04</td>\n",
       "      <td>2020-07-11</td>\n",
       "    </tr>\n",
       "    <tr>\n",
       "      <th>5</th>\n",
       "      <td>Black Friday Ads Campaign</td>\n",
       "      <td>EU, CIS, APAC, N.America</td>\n",
       "      <td>2020-11-26</td>\n",
       "      <td>2020-12-01</td>\n",
       "    </tr>\n",
       "    <tr>\n",
       "      <th>6</th>\n",
       "      <td>Chinese New Year Promo</td>\n",
       "      <td>APAC</td>\n",
       "      <td>2020-01-25</td>\n",
       "      <td>2020-02-07</td>\n",
       "    </tr>\n",
       "    <tr>\n",
       "      <th>7</th>\n",
       "      <td>Labor day (May 1st) Ads Campaign</td>\n",
       "      <td>EU, CIS, APAC</td>\n",
       "      <td>2020-05-01</td>\n",
       "      <td>2020-05-03</td>\n",
       "    </tr>\n",
       "    <tr>\n",
       "      <th>8</th>\n",
       "      <td>International Women's Day Promo</td>\n",
       "      <td>EU, CIS, APAC</td>\n",
       "      <td>2020-03-08</td>\n",
       "      <td>2020-03-10</td>\n",
       "    </tr>\n",
       "    <tr>\n",
       "      <th>9</th>\n",
       "      <td>Victory Day CIS (May 9th) Event</td>\n",
       "      <td>CIS</td>\n",
       "      <td>2020-05-09</td>\n",
       "      <td>2020-05-11</td>\n",
       "    </tr>\n",
       "    <tr>\n",
       "      <th>10</th>\n",
       "      <td>CIS New Year Gift Lottery</td>\n",
       "      <td>CIS</td>\n",
       "      <td>2020-12-30</td>\n",
       "      <td>2021-01-07</td>\n",
       "    </tr>\n",
       "    <tr>\n",
       "      <th>11</th>\n",
       "      <td>Dragon Boat Festival Giveaway</td>\n",
       "      <td>APAC</td>\n",
       "      <td>2020-06-25</td>\n",
       "      <td>2020-07-01</td>\n",
       "    </tr>\n",
       "    <tr>\n",
       "      <th>12</th>\n",
       "      <td>Single's Day Gift Promo</td>\n",
       "      <td>APAC</td>\n",
       "      <td>2020-11-11</td>\n",
       "      <td>2020-11-12</td>\n",
       "    </tr>\n",
       "    <tr>\n",
       "      <th>13</th>\n",
       "      <td>Chinese Moon Festival</td>\n",
       "      <td>APAC</td>\n",
       "      <td>2020-10-01</td>\n",
       "      <td>2020-10-07</td>\n",
       "    </tr>\n",
       "  </tbody>\n",
       "</table>\n",
       "</div>"
      ],
      "text/plain": [
       "                                name                   regions    start_dt  \\\n",
       "0           Christmas&New Year Promo             EU, N.America  2020-12-25   \n",
       "1       St. Valentine's Day Giveaway  EU, CIS, APAC, N.America  2020-02-14   \n",
       "2             St. Patric's Day Promo             EU, N.America  2020-03-17   \n",
       "3                       Easter Promo  EU, CIS, APAC, N.America  2020-04-12   \n",
       "4                  4th of July Promo                 N.America  2020-07-04   \n",
       "5          Black Friday Ads Campaign  EU, CIS, APAC, N.America  2020-11-26   \n",
       "6             Chinese New Year Promo                      APAC  2020-01-25   \n",
       "7   Labor day (May 1st) Ads Campaign             EU, CIS, APAC  2020-05-01   \n",
       "8    International Women's Day Promo             EU, CIS, APAC  2020-03-08   \n",
       "9    Victory Day CIS (May 9th) Event                       CIS  2020-05-09   \n",
       "10         CIS New Year Gift Lottery                       CIS  2020-12-30   \n",
       "11     Dragon Boat Festival Giveaway                      APAC  2020-06-25   \n",
       "12           Single's Day Gift Promo                      APAC  2020-11-11   \n",
       "13             Chinese Moon Festival                      APAC  2020-10-01   \n",
       "\n",
       "     finish_dt  \n",
       "0   2021-01-03  \n",
       "1   2020-02-16  \n",
       "2   2020-03-19  \n",
       "3   2020-04-19  \n",
       "4   2020-07-11  \n",
       "5   2020-12-01  \n",
       "6   2020-02-07  \n",
       "7   2020-05-03  \n",
       "8   2020-03-10  \n",
       "9   2020-05-11  \n",
       "10  2021-01-07  \n",
       "11  2020-07-01  \n",
       "12  2020-11-12  \n",
       "13  2020-10-07  "
      ]
     },
     "metadata": {},
     "output_type": "display_data"
    },
    {
     "name": "stdout",
     "output_type": "stream",
     "text": [
      "<class 'pandas.core.frame.DataFrame'>\n",
      "RangeIndex: 14 entries, 0 to 13\n",
      "Data columns (total 4 columns):\n",
      " #   Column     Non-Null Count  Dtype \n",
      "---  ------     --------------  ----- \n",
      " 0   name       14 non-null     object\n",
      " 1   regions    14 non-null     object\n",
      " 2   start_dt   14 non-null     object\n",
      " 3   finish_dt  14 non-null     object\n",
      "dtypes: object(4)\n",
      "memory usage: 576.0+ bytes\n"
     ]
    },
    {
     "data": {
      "text/html": [
       "<div>\n",
       "<style scoped>\n",
       "    .dataframe tbody tr th:only-of-type {\n",
       "        vertical-align: middle;\n",
       "    }\n",
       "\n",
       "    .dataframe tbody tr th {\n",
       "        vertical-align: top;\n",
       "    }\n",
       "\n",
       "    .dataframe thead th {\n",
       "        text-align: right;\n",
       "    }\n",
       "</style>\n",
       "<table border=\"1\" class=\"dataframe\">\n",
       "  <thead>\n",
       "    <tr style=\"text-align: right;\">\n",
       "      <th></th>\n",
       "      <th>user_id</th>\n",
       "      <th>first_date</th>\n",
       "      <th>region</th>\n",
       "      <th>device</th>\n",
       "    </tr>\n",
       "  </thead>\n",
       "  <tbody>\n",
       "    <tr>\n",
       "      <th>0</th>\n",
       "      <td>D72A72121175D8BE</td>\n",
       "      <td>2020-12-07</td>\n",
       "      <td>EU</td>\n",
       "      <td>PC</td>\n",
       "    </tr>\n",
       "    <tr>\n",
       "      <th>1</th>\n",
       "      <td>F1C668619DFE6E65</td>\n",
       "      <td>2020-12-07</td>\n",
       "      <td>N.America</td>\n",
       "      <td>Android</td>\n",
       "    </tr>\n",
       "    <tr>\n",
       "      <th>2</th>\n",
       "      <td>2E1BF1D4C37EA01F</td>\n",
       "      <td>2020-12-07</td>\n",
       "      <td>EU</td>\n",
       "      <td>PC</td>\n",
       "    </tr>\n",
       "    <tr>\n",
       "      <th>3</th>\n",
       "      <td>50734A22C0C63768</td>\n",
       "      <td>2020-12-07</td>\n",
       "      <td>EU</td>\n",
       "      <td>iPhone</td>\n",
       "    </tr>\n",
       "    <tr>\n",
       "      <th>4</th>\n",
       "      <td>E1BDDCE0DAFA2679</td>\n",
       "      <td>2020-12-07</td>\n",
       "      <td>N.America</td>\n",
       "      <td>iPhone</td>\n",
       "    </tr>\n",
       "    <tr>\n",
       "      <th>...</th>\n",
       "      <td>...</td>\n",
       "      <td>...</td>\n",
       "      <td>...</td>\n",
       "      <td>...</td>\n",
       "    </tr>\n",
       "    <tr>\n",
       "      <th>61728</th>\n",
       "      <td>1DB53B933257165D</td>\n",
       "      <td>2020-12-20</td>\n",
       "      <td>EU</td>\n",
       "      <td>Android</td>\n",
       "    </tr>\n",
       "    <tr>\n",
       "      <th>61729</th>\n",
       "      <td>538643EB4527ED03</td>\n",
       "      <td>2020-12-20</td>\n",
       "      <td>EU</td>\n",
       "      <td>Mac</td>\n",
       "    </tr>\n",
       "    <tr>\n",
       "      <th>61730</th>\n",
       "      <td>7ADEE837D5D8CBBD</td>\n",
       "      <td>2020-12-20</td>\n",
       "      <td>EU</td>\n",
       "      <td>PC</td>\n",
       "    </tr>\n",
       "    <tr>\n",
       "      <th>61731</th>\n",
       "      <td>1C7D23927835213F</td>\n",
       "      <td>2020-12-20</td>\n",
       "      <td>EU</td>\n",
       "      <td>iPhone</td>\n",
       "    </tr>\n",
       "    <tr>\n",
       "      <th>61732</th>\n",
       "      <td>8F04273BB2860229</td>\n",
       "      <td>2020-12-20</td>\n",
       "      <td>EU</td>\n",
       "      <td>Android</td>\n",
       "    </tr>\n",
       "  </tbody>\n",
       "</table>\n",
       "<p>61733 rows × 4 columns</p>\n",
       "</div>"
      ],
      "text/plain": [
       "                user_id  first_date     region   device\n",
       "0      D72A72121175D8BE  2020-12-07         EU       PC\n",
       "1      F1C668619DFE6E65  2020-12-07  N.America  Android\n",
       "2      2E1BF1D4C37EA01F  2020-12-07         EU       PC\n",
       "3      50734A22C0C63768  2020-12-07         EU   iPhone\n",
       "4      E1BDDCE0DAFA2679  2020-12-07  N.America   iPhone\n",
       "...                 ...         ...        ...      ...\n",
       "61728  1DB53B933257165D  2020-12-20         EU  Android\n",
       "61729  538643EB4527ED03  2020-12-20         EU      Mac\n",
       "61730  7ADEE837D5D8CBBD  2020-12-20         EU       PC\n",
       "61731  1C7D23927835213F  2020-12-20         EU   iPhone\n",
       "61732  8F04273BB2860229  2020-12-20         EU  Android\n",
       "\n",
       "[61733 rows x 4 columns]"
      ]
     },
     "metadata": {},
     "output_type": "display_data"
    },
    {
     "name": "stdout",
     "output_type": "stream",
     "text": [
      "<class 'pandas.core.frame.DataFrame'>\n",
      "RangeIndex: 61733 entries, 0 to 61732\n",
      "Data columns (total 4 columns):\n",
      " #   Column      Non-Null Count  Dtype \n",
      "---  ------      --------------  ----- \n",
      " 0   user_id     61733 non-null  object\n",
      " 1   first_date  61733 non-null  object\n",
      " 2   region      61733 non-null  object\n",
      " 3   device      61733 non-null  object\n",
      "dtypes: object(4)\n",
      "memory usage: 1.9+ MB\n"
     ]
    },
    {
     "data": {
      "text/html": [
       "<div>\n",
       "<style scoped>\n",
       "    .dataframe tbody tr th:only-of-type {\n",
       "        vertical-align: middle;\n",
       "    }\n",
       "\n",
       "    .dataframe tbody tr th {\n",
       "        vertical-align: top;\n",
       "    }\n",
       "\n",
       "    .dataframe thead th {\n",
       "        text-align: right;\n",
       "    }\n",
       "</style>\n",
       "<table border=\"1\" class=\"dataframe\">\n",
       "  <thead>\n",
       "    <tr style=\"text-align: right;\">\n",
       "      <th></th>\n",
       "      <th>user_id</th>\n",
       "      <th>event_dt</th>\n",
       "      <th>event_name</th>\n",
       "      <th>details</th>\n",
       "    </tr>\n",
       "  </thead>\n",
       "  <tbody>\n",
       "    <tr>\n",
       "      <th>0</th>\n",
       "      <td>E1BDDCE0DAFA2679</td>\n",
       "      <td>2020-12-07 20:22:03</td>\n",
       "      <td>purchase</td>\n",
       "      <td>99.99</td>\n",
       "    </tr>\n",
       "    <tr>\n",
       "      <th>1</th>\n",
       "      <td>7B6452F081F49504</td>\n",
       "      <td>2020-12-07 09:22:53</td>\n",
       "      <td>purchase</td>\n",
       "      <td>9.99</td>\n",
       "    </tr>\n",
       "    <tr>\n",
       "      <th>2</th>\n",
       "      <td>9CD9F34546DF254C</td>\n",
       "      <td>2020-12-07 12:59:29</td>\n",
       "      <td>purchase</td>\n",
       "      <td>4.99</td>\n",
       "    </tr>\n",
       "    <tr>\n",
       "      <th>3</th>\n",
       "      <td>96F27A054B191457</td>\n",
       "      <td>2020-12-07 04:02:40</td>\n",
       "      <td>purchase</td>\n",
       "      <td>4.99</td>\n",
       "    </tr>\n",
       "    <tr>\n",
       "      <th>4</th>\n",
       "      <td>1FD7660FDF94CA1F</td>\n",
       "      <td>2020-12-07 10:15:09</td>\n",
       "      <td>purchase</td>\n",
       "      <td>4.99</td>\n",
       "    </tr>\n",
       "    <tr>\n",
       "      <th>...</th>\n",
       "      <td>...</td>\n",
       "      <td>...</td>\n",
       "      <td>...</td>\n",
       "      <td>...</td>\n",
       "    </tr>\n",
       "    <tr>\n",
       "      <th>440312</th>\n",
       "      <td>245E85F65C358E08</td>\n",
       "      <td>2020-12-30 19:35:55</td>\n",
       "      <td>login</td>\n",
       "      <td>NaN</td>\n",
       "    </tr>\n",
       "    <tr>\n",
       "      <th>440313</th>\n",
       "      <td>9385A108F5A0A7A7</td>\n",
       "      <td>2020-12-30 10:54:15</td>\n",
       "      <td>login</td>\n",
       "      <td>NaN</td>\n",
       "    </tr>\n",
       "    <tr>\n",
       "      <th>440314</th>\n",
       "      <td>DB650B7559AC6EAC</td>\n",
       "      <td>2020-12-30 10:59:09</td>\n",
       "      <td>login</td>\n",
       "      <td>NaN</td>\n",
       "    </tr>\n",
       "    <tr>\n",
       "      <th>440315</th>\n",
       "      <td>F80C9BDDEA02E53C</td>\n",
       "      <td>2020-12-30 09:53:39</td>\n",
       "      <td>login</td>\n",
       "      <td>NaN</td>\n",
       "    </tr>\n",
       "    <tr>\n",
       "      <th>440316</th>\n",
       "      <td>7AEC61159B672CC5</td>\n",
       "      <td>2020-12-30 11:36:13</td>\n",
       "      <td>login</td>\n",
       "      <td>NaN</td>\n",
       "    </tr>\n",
       "  </tbody>\n",
       "</table>\n",
       "<p>440317 rows × 4 columns</p>\n",
       "</div>"
      ],
      "text/plain": [
       "                 user_id             event_dt event_name  details\n",
       "0       E1BDDCE0DAFA2679  2020-12-07 20:22:03   purchase    99.99\n",
       "1       7B6452F081F49504  2020-12-07 09:22:53   purchase     9.99\n",
       "2       9CD9F34546DF254C  2020-12-07 12:59:29   purchase     4.99\n",
       "3       96F27A054B191457  2020-12-07 04:02:40   purchase     4.99\n",
       "4       1FD7660FDF94CA1F  2020-12-07 10:15:09   purchase     4.99\n",
       "...                  ...                  ...        ...      ...\n",
       "440312  245E85F65C358E08  2020-12-30 19:35:55      login      NaN\n",
       "440313  9385A108F5A0A7A7  2020-12-30 10:54:15      login      NaN\n",
       "440314  DB650B7559AC6EAC  2020-12-30 10:59:09      login      NaN\n",
       "440315  F80C9BDDEA02E53C  2020-12-30 09:53:39      login      NaN\n",
       "440316  7AEC61159B672CC5  2020-12-30 11:36:13      login      NaN\n",
       "\n",
       "[440317 rows x 4 columns]"
      ]
     },
     "metadata": {},
     "output_type": "display_data"
    },
    {
     "name": "stdout",
     "output_type": "stream",
     "text": [
      "<class 'pandas.core.frame.DataFrame'>\n",
      "RangeIndex: 440317 entries, 0 to 440316\n",
      "Data columns (total 4 columns):\n",
      " #   Column      Non-Null Count   Dtype  \n",
      "---  ------      --------------   -----  \n",
      " 0   user_id     440317 non-null  object \n",
      " 1   event_dt    440317 non-null  object \n",
      " 2   event_name  440317 non-null  object \n",
      " 3   details     62740 non-null   float64\n",
      "dtypes: float64(1), object(3)\n",
      "memory usage: 13.4+ MB\n"
     ]
    },
    {
     "data": {
      "text/html": [
       "<div>\n",
       "<style scoped>\n",
       "    .dataframe tbody tr th:only-of-type {\n",
       "        vertical-align: middle;\n",
       "    }\n",
       "\n",
       "    .dataframe tbody tr th {\n",
       "        vertical-align: top;\n",
       "    }\n",
       "\n",
       "    .dataframe thead th {\n",
       "        text-align: right;\n",
       "    }\n",
       "</style>\n",
       "<table border=\"1\" class=\"dataframe\">\n",
       "  <thead>\n",
       "    <tr style=\"text-align: right;\">\n",
       "      <th></th>\n",
       "      <th>user_id</th>\n",
       "      <th>group</th>\n",
       "      <th>ab_test</th>\n",
       "    </tr>\n",
       "  </thead>\n",
       "  <tbody>\n",
       "    <tr>\n",
       "      <th>0</th>\n",
       "      <td>D1ABA3E2887B6A73</td>\n",
       "      <td>A</td>\n",
       "      <td>recommender_system_test</td>\n",
       "    </tr>\n",
       "    <tr>\n",
       "      <th>1</th>\n",
       "      <td>A7A3664BD6242119</td>\n",
       "      <td>A</td>\n",
       "      <td>recommender_system_test</td>\n",
       "    </tr>\n",
       "    <tr>\n",
       "      <th>2</th>\n",
       "      <td>DABC14FDDFADD29E</td>\n",
       "      <td>A</td>\n",
       "      <td>recommender_system_test</td>\n",
       "    </tr>\n",
       "    <tr>\n",
       "      <th>3</th>\n",
       "      <td>04988C5DF189632E</td>\n",
       "      <td>A</td>\n",
       "      <td>recommender_system_test</td>\n",
       "    </tr>\n",
       "    <tr>\n",
       "      <th>4</th>\n",
       "      <td>482F14783456D21B</td>\n",
       "      <td>B</td>\n",
       "      <td>recommender_system_test</td>\n",
       "    </tr>\n",
       "    <tr>\n",
       "      <th>...</th>\n",
       "      <td>...</td>\n",
       "      <td>...</td>\n",
       "      <td>...</td>\n",
       "    </tr>\n",
       "    <tr>\n",
       "      <th>18263</th>\n",
       "      <td>1D302F8688B91781</td>\n",
       "      <td>B</td>\n",
       "      <td>interface_eu_test</td>\n",
       "    </tr>\n",
       "    <tr>\n",
       "      <th>18264</th>\n",
       "      <td>3DE51B726983B657</td>\n",
       "      <td>A</td>\n",
       "      <td>interface_eu_test</td>\n",
       "    </tr>\n",
       "    <tr>\n",
       "      <th>18265</th>\n",
       "      <td>F501F79D332BE86C</td>\n",
       "      <td>A</td>\n",
       "      <td>interface_eu_test</td>\n",
       "    </tr>\n",
       "    <tr>\n",
       "      <th>18266</th>\n",
       "      <td>63FBE257B05F2245</td>\n",
       "      <td>A</td>\n",
       "      <td>interface_eu_test</td>\n",
       "    </tr>\n",
       "    <tr>\n",
       "      <th>18267</th>\n",
       "      <td>79F9ABFB029CF724</td>\n",
       "      <td>B</td>\n",
       "      <td>interface_eu_test</td>\n",
       "    </tr>\n",
       "  </tbody>\n",
       "</table>\n",
       "<p>18268 rows × 3 columns</p>\n",
       "</div>"
      ],
      "text/plain": [
       "                user_id group                  ab_test\n",
       "0      D1ABA3E2887B6A73     A  recommender_system_test\n",
       "1      A7A3664BD6242119     A  recommender_system_test\n",
       "2      DABC14FDDFADD29E     A  recommender_system_test\n",
       "3      04988C5DF189632E     A  recommender_system_test\n",
       "4      482F14783456D21B     B  recommender_system_test\n",
       "...                 ...   ...                      ...\n",
       "18263  1D302F8688B91781     B        interface_eu_test\n",
       "18264  3DE51B726983B657     A        interface_eu_test\n",
       "18265  F501F79D332BE86C     A        interface_eu_test\n",
       "18266  63FBE257B05F2245     A        interface_eu_test\n",
       "18267  79F9ABFB029CF724     B        interface_eu_test\n",
       "\n",
       "[18268 rows x 3 columns]"
      ]
     },
     "metadata": {},
     "output_type": "display_data"
    },
    {
     "name": "stdout",
     "output_type": "stream",
     "text": [
      "<class 'pandas.core.frame.DataFrame'>\n",
      "RangeIndex: 18268 entries, 0 to 18267\n",
      "Data columns (total 3 columns):\n",
      " #   Column   Non-Null Count  Dtype \n",
      "---  ------   --------------  ----- \n",
      " 0   user_id  18268 non-null  object\n",
      " 1   group    18268 non-null  object\n",
      " 2   ab_test  18268 non-null  object\n",
      "dtypes: object(3)\n",
      "memory usage: 428.3+ KB\n"
     ]
    }
   ],
   "source": [
    "try:\n",
    "    ab_project_marketing_events = pd.read_csv('/datasets/ab_project_marketing_events.csv')\n",
    "    final_ab_new_users = pd.read_csv('/datasets/final_ab_new_users.csv')\n",
    "    final_ab_events = pd.read_csv('/datasets/final_ab_events.csv')\n",
    "    final_ab_participants = pd.read_csv('/datasets/final_ab_participants.csv')    \n",
    "except:\n",
    "    ab_project_marketing_events = pd.read_csv('ab_project_marketing_events.csv')\n",
    "    final_ab_new_users = pd.read_csv('final_ab_new_users.csv')\n",
    "    final_ab_events = pd.read_csv('final_ab_events.csv')\n",
    "    final_ab_participants = pd.read_csv('final_ab_participants.csv') \n",
    "    \n",
    "\n",
    "tables = [ab_project_marketing_events, final_ab_new_users, final_ab_events, final_ab_participants]\n",
    "\n",
    "for table in tables:\n",
    "    display(table)\n",
    "    table.info()    "
   ]
  },
  {
   "cell_type": "markdown",
   "metadata": {},
   "source": [
    "<div id='id-section3'/>\n",
    "\n",
    "### [Вывод](#id-section4)\n",
    "\n",
    "- Таблица `ab_project_marketing_events` - это самый маленький массив данных, в нем хранится 14 строк. Пропущенных значений в таблице нет. Категориальные переменные `name`, `regions` имеют тип данных `object` - это корректно. Переменные `start_dt`, `finish_dt` должны иметь тип данных `datetime`, а не `object`.\n",
    "---\n",
    "- В таблице `final_ab_new_users` хранится 61.7 тыс. строк. Пропущенных значений нет. Категориальные переменные `user_id`, `region`, `device` с типом данных `object` - корректно. Переменная `first_date` должна иметь тип данных `datetime` вместо `object`.\n",
    "---\n",
    "- В таблице `final_ab_events` 440 тыс. строк. Пропущенные значения есть в столбце `details` - это связано с тем, что данный столбец содержит дополнительную информацию о тратах на покупки (`purchase`). А для таких событий, как авторизация на сайте (`login`), заход на страницу продуктова (`product_page`), заход в корзину (`product_cart`) каких-либо дополнительных деталей нет. Категориальные переменные `user_id` и `event_name`, а также количественная переменная `details` имеют корретные типы данных - `object` и `float64`. Переменная `event_dt` должна иметь тип данных `datetime` вместо `object`.\n",
    "---\n",
    "- В таблице `final_ab_participants` хранится 18 тыс. строк. Пропущенных значений нет. Все переменные категориальные и имеют корректный тип данных. "
   ]
  },
  {
   "cell_type": "markdown",
   "metadata": {},
   "source": [
    "<div id='id-section5'/>\n",
    "\n",
    "## [Шаг 2. Подготовим данные к анализу](#id-section6)"
   ]
  },
  {
   "cell_type": "markdown",
   "metadata": {},
   "source": [
    "<div id='id-section7'/>\n",
    "\n",
    "### [Приведем данные к нужному типу](#id-section8)\n",
    "\n",
    "В трех таблицах есть переменные, обозначающие дату. У них должен быть тип данных `datetime`. Напишем функцию, которая методом `pd.to_datetime()` переведет столбец в нужный формат. Затем выпишем отдельно таблицы и столбцы, которые надо обработать, и для каждого элемента из списка применим функцию. + Выполним проверку. "
   ]
  },
  {
   "cell_type": "code",
   "execution_count": 48,
   "metadata": {
    "scrolled": false
   },
   "outputs": [
    {
     "name": "stdout",
     "output_type": "stream",
     "text": [
      "<class 'pandas.core.frame.DataFrame'>\n",
      "RangeIndex: 14 entries, 0 to 13\n",
      "Data columns (total 4 columns):\n",
      " #   Column     Non-Null Count  Dtype         \n",
      "---  ------     --------------  -----         \n",
      " 0   name       14 non-null     object        \n",
      " 1   regions    14 non-null     object        \n",
      " 2   start_dt   14 non-null     datetime64[ns]\n",
      " 3   finish_dt  14 non-null     object        \n",
      "dtypes: datetime64[ns](1), object(3)\n",
      "memory usage: 576.0+ bytes\n",
      "<class 'pandas.core.frame.DataFrame'>\n",
      "RangeIndex: 14 entries, 0 to 13\n",
      "Data columns (total 4 columns):\n",
      " #   Column     Non-Null Count  Dtype         \n",
      "---  ------     --------------  -----         \n",
      " 0   name       14 non-null     object        \n",
      " 1   regions    14 non-null     object        \n",
      " 2   start_dt   14 non-null     datetime64[ns]\n",
      " 3   finish_dt  14 non-null     datetime64[ns]\n",
      "dtypes: datetime64[ns](2), object(2)\n",
      "memory usage: 576.0+ bytes\n",
      "<class 'pandas.core.frame.DataFrame'>\n",
      "RangeIndex: 61733 entries, 0 to 61732\n",
      "Data columns (total 4 columns):\n",
      " #   Column      Non-Null Count  Dtype         \n",
      "---  ------      --------------  -----         \n",
      " 0   user_id     61733 non-null  object        \n",
      " 1   first_date  61733 non-null  datetime64[ns]\n",
      " 2   region      61733 non-null  object        \n",
      " 3   device      61733 non-null  object        \n",
      "dtypes: datetime64[ns](1), object(3)\n",
      "memory usage: 1.9+ MB\n",
      "<class 'pandas.core.frame.DataFrame'>\n",
      "RangeIndex: 440317 entries, 0 to 440316\n",
      "Data columns (total 4 columns):\n",
      " #   Column      Non-Null Count   Dtype         \n",
      "---  ------      --------------   -----         \n",
      " 0   user_id     440317 non-null  object        \n",
      " 1   event_dt    440317 non-null  datetime64[ns]\n",
      " 2   event_name  440317 non-null  object        \n",
      " 3   details     62740 non-null   float64       \n",
      "dtypes: datetime64[ns](1), float64(1), object(2)\n",
      "memory usage: 13.4+ MB\n"
     ]
    }
   ],
   "source": [
    "def datetime(df, column):\n",
    "    df[column] = pd.to_datetime(df[column])\n",
    "    \n",
    "tables_columns = [[ab_project_marketing_events, 'start_dt'], [ab_project_marketing_events, 'finish_dt'], \\\n",
    "                  [final_ab_new_users, 'first_date'], [final_ab_events, 'event_dt']]    \n",
    "\n",
    "for table in tables_columns:\n",
    "    datetime(table[0], table[1])\n",
    "    table[0].info()"
   ]
  },
  {
   "cell_type": "markdown",
   "metadata": {},
   "source": [
    "<div id='id-section9'/>\n",
    "\n",
    "### [Обработаем дубликаты](#id-section10)\n",
    "\n",
    "Поищем **полные дубликаты** во всех таблицах методом `duplicated().sum()`, что позволит нам посчитать общее количество дубликатов. Таблицы переберем в цикле из переменной `tables`, которую мы объявили на **Шаге 1**."
   ]
  },
  {
   "cell_type": "code",
   "execution_count": 49,
   "metadata": {},
   "outputs": [
    {
     "data": {
      "text/plain": [
       "0"
      ]
     },
     "metadata": {},
     "output_type": "display_data"
    },
    {
     "data": {
      "text/plain": [
       "0"
      ]
     },
     "metadata": {},
     "output_type": "display_data"
    },
    {
     "data": {
      "text/plain": [
       "0"
      ]
     },
     "metadata": {},
     "output_type": "display_data"
    },
    {
     "data": {
      "text/plain": [
       "0"
      ]
     },
     "metadata": {},
     "output_type": "display_data"
    }
   ],
   "source": [
    "for table in tables:\n",
    "    display(table.duplicated().sum())"
   ]
  },
  {
   "cell_type": "markdown",
   "metadata": {},
   "source": [
    "Удалим из таблицы `final_ab_events` столбец с идентификатором пользователя и посмотрим, встречаются ли **дубликаты в таком случае**. Также посчитаем, сколько % от общего числа данных составляют такие дубликаты."
   ]
  },
  {
   "cell_type": "code",
   "execution_count": 50,
   "metadata": {},
   "outputs": [
    {
     "data": {
      "text/plain": [
       "15416"
      ]
     },
     "metadata": {},
     "output_type": "display_data"
    },
    {
     "data": {
      "text/plain": [
       "0.035011139701624054"
      ]
     },
     "metadata": {},
     "output_type": "display_data"
    }
   ],
   "source": [
    "dup = final_ab_events.drop('user_id', axis = 1)\n",
    "\n",
    "display(dup.duplicated().sum())\n",
    "\n",
    "display(dup.duplicated().sum() / final_ab_events.shape[0])"
   ]
  },
  {
   "cell_type": "markdown",
   "metadata": {},
   "source": [
    "- Дубликатов нашлось немного (3% от общего числа данных).\n",
    "---\n",
    "\n",
    "Удалим дубликаты из данных."
   ]
  },
  {
   "cell_type": "code",
   "execution_count": 51,
   "metadata": {
    "scrolled": false
   },
   "outputs": [
    {
     "data": {
      "text/html": [
       "<div>\n",
       "<style scoped>\n",
       "    .dataframe tbody tr th:only-of-type {\n",
       "        vertical-align: middle;\n",
       "    }\n",
       "\n",
       "    .dataframe tbody tr th {\n",
       "        vertical-align: top;\n",
       "    }\n",
       "\n",
       "    .dataframe thead th {\n",
       "        text-align: right;\n",
       "    }\n",
       "</style>\n",
       "<table border=\"1\" class=\"dataframe\">\n",
       "  <thead>\n",
       "    <tr style=\"text-align: right;\">\n",
       "      <th></th>\n",
       "      <th>user_id</th>\n",
       "      <th>event_dt</th>\n",
       "      <th>event_name</th>\n",
       "      <th>details</th>\n",
       "    </tr>\n",
       "  </thead>\n",
       "  <tbody>\n",
       "    <tr>\n",
       "      <th>0</th>\n",
       "      <td>E1BDDCE0DAFA2679</td>\n",
       "      <td>2020-12-07 20:22:03</td>\n",
       "      <td>purchase</td>\n",
       "      <td>99.99</td>\n",
       "    </tr>\n",
       "    <tr>\n",
       "      <th>1</th>\n",
       "      <td>7B6452F081F49504</td>\n",
       "      <td>2020-12-07 09:22:53</td>\n",
       "      <td>purchase</td>\n",
       "      <td>9.99</td>\n",
       "    </tr>\n",
       "    <tr>\n",
       "      <th>2</th>\n",
       "      <td>9CD9F34546DF254C</td>\n",
       "      <td>2020-12-07 12:59:29</td>\n",
       "      <td>purchase</td>\n",
       "      <td>4.99</td>\n",
       "    </tr>\n",
       "    <tr>\n",
       "      <th>3</th>\n",
       "      <td>96F27A054B191457</td>\n",
       "      <td>2020-12-07 04:02:40</td>\n",
       "      <td>purchase</td>\n",
       "      <td>4.99</td>\n",
       "    </tr>\n",
       "    <tr>\n",
       "      <th>4</th>\n",
       "      <td>1FD7660FDF94CA1F</td>\n",
       "      <td>2020-12-07 10:15:09</td>\n",
       "      <td>purchase</td>\n",
       "      <td>4.99</td>\n",
       "    </tr>\n",
       "    <tr>\n",
       "      <th>...</th>\n",
       "      <td>...</td>\n",
       "      <td>...</td>\n",
       "      <td>...</td>\n",
       "      <td>...</td>\n",
       "    </tr>\n",
       "    <tr>\n",
       "      <th>440312</th>\n",
       "      <td>245E85F65C358E08</td>\n",
       "      <td>2020-12-30 19:35:55</td>\n",
       "      <td>login</td>\n",
       "      <td>NaN</td>\n",
       "    </tr>\n",
       "    <tr>\n",
       "      <th>440313</th>\n",
       "      <td>9385A108F5A0A7A7</td>\n",
       "      <td>2020-12-30 10:54:15</td>\n",
       "      <td>login</td>\n",
       "      <td>NaN</td>\n",
       "    </tr>\n",
       "    <tr>\n",
       "      <th>440314</th>\n",
       "      <td>DB650B7559AC6EAC</td>\n",
       "      <td>2020-12-30 10:59:09</td>\n",
       "      <td>login</td>\n",
       "      <td>NaN</td>\n",
       "    </tr>\n",
       "    <tr>\n",
       "      <th>440315</th>\n",
       "      <td>F80C9BDDEA02E53C</td>\n",
       "      <td>2020-12-30 09:53:39</td>\n",
       "      <td>login</td>\n",
       "      <td>NaN</td>\n",
       "    </tr>\n",
       "    <tr>\n",
       "      <th>440316</th>\n",
       "      <td>7AEC61159B672CC5</td>\n",
       "      <td>2020-12-30 11:36:13</td>\n",
       "      <td>login</td>\n",
       "      <td>NaN</td>\n",
       "    </tr>\n",
       "  </tbody>\n",
       "</table>\n",
       "<p>424901 rows × 4 columns</p>\n",
       "</div>"
      ],
      "text/plain": [
       "                 user_id            event_dt event_name  details\n",
       "0       E1BDDCE0DAFA2679 2020-12-07 20:22:03   purchase    99.99\n",
       "1       7B6452F081F49504 2020-12-07 09:22:53   purchase     9.99\n",
       "2       9CD9F34546DF254C 2020-12-07 12:59:29   purchase     4.99\n",
       "3       96F27A054B191457 2020-12-07 04:02:40   purchase     4.99\n",
       "4       1FD7660FDF94CA1F 2020-12-07 10:15:09   purchase     4.99\n",
       "...                  ...                 ...        ...      ...\n",
       "440312  245E85F65C358E08 2020-12-30 19:35:55      login      NaN\n",
       "440313  9385A108F5A0A7A7 2020-12-30 10:54:15      login      NaN\n",
       "440314  DB650B7559AC6EAC 2020-12-30 10:59:09      login      NaN\n",
       "440315  F80C9BDDEA02E53C 2020-12-30 09:53:39      login      NaN\n",
       "440316  7AEC61159B672CC5 2020-12-30 11:36:13      login      NaN\n",
       "\n",
       "[424901 rows x 4 columns]"
      ]
     },
     "metadata": {},
     "output_type": "display_data"
    }
   ],
   "source": [
    "# меняем для дубликатов условие True на False. Теперь True только там, где дубликатов нет\n",
    "not_duplicates = dup.duplicated().apply(lambda x: not x)\n",
    "\n",
    "# оставляем в исходном датасете только те строки, которые попали под условие True \n",
    "# (накладываем Series not_duplicates без дубликатов)\n",
    "final_ab_events = final_ab_events.loc[not_duplicates]\n",
    "\n",
    "display(final_ab_events)"
   ]
  },
  {
   "cell_type": "markdown",
   "metadata": {},
   "source": [
    "Проверим, не содержит ли таблица `final_ab_new_users` (все пользователи, зарегистрировавшиеся в интернет-магазине в период с 7 по 21 декабря 2020 г.) повторяющихся (неуникальных) пользователей. Каждый пользователь должен иметь только одну дату регистрации. Отсортируем данные по убыванию, чтобы все самые большие возможные значения были наверху."
   ]
  },
  {
   "cell_type": "code",
   "execution_count": 52,
   "metadata": {},
   "outputs": [
    {
     "data": {
      "text/plain": [
       "user_id\n",
       "FFFFE36C0F6E92DF    1\n",
       "55646CBDA408C9FD    1\n",
       "5545992A45085197    1\n",
       "5545492A601FE695    1\n",
       "5543CE8C1906370E    1\n",
       "                   ..\n",
       "AA47A433929EE0CD    1\n",
       "AA43F0C37A670E3B    1\n",
       "AA4281556A9ECA98    1\n",
       "AA408CA6C76DCEFE    1\n",
       "0001710F4DDB1D1B    1\n",
       "Name: first_date, Length: 61733, dtype: int64"
      ]
     },
     "metadata": {},
     "output_type": "display_data"
    }
   ],
   "source": [
    "display(final_ab_new_users.groupby('user_id')['first_date'].count().sort_values(ascending = False))"
   ]
  },
  {
   "cell_type": "markdown",
   "metadata": {},
   "source": [
    "- Повторяющихся пользователей в таблице `final_ab_new_users` нет."
   ]
  },
  {
   "cell_type": "markdown",
   "metadata": {},
   "source": [
    "<div id='id-section11'/>\n",
    "\n",
    "### [Проверим, есть ли пользователи, которые попали в разные группы A/B-теста и разные конкурирующие тесты](#id-section12)\n",
    "\n",
    "Для каждого пользователя найдем количество групп и тестов, в которые он попал, методом `count()`. Идеальное значение = 1 (1 группа и 1 тест). Отсортируем данные по убыванию, чтобы все самые большие возможные значения были наверху."
   ]
  },
  {
   "cell_type": "code",
   "execution_count": 53,
   "metadata": {
    "scrolled": true
   },
   "outputs": [
    {
     "data": {
      "text/plain": [
       "user_id\n",
       "147C62E5B82E2EA9    2\n",
       "17123AD60527E78C    2\n",
       "C765194AB5550498    2\n",
       "A76F046D8D47589E    2\n",
       "E6131DAD9E3CB151    2\n",
       "                   ..\n",
       "A5C73A9B0E44E70F    1\n",
       "A5BF4057B45F0832    1\n",
       "A5BF0467B3A1ED68    1\n",
       "A5BBE87624764693    1\n",
       "0002CE61FF2C4011    1\n",
       "Name: group, Length: 16666, dtype: int64"
      ]
     },
     "metadata": {},
     "output_type": "display_data"
    }
   ],
   "source": [
    "display(final_ab_participants\\\n",
    "        .groupby('user_id')['group'].count().sort_values(ascending = False))"
   ]
  },
  {
   "cell_type": "markdown",
   "metadata": {},
   "source": [
    "- Мы видим, что в данных есть пользователи, которые попали в две группы A/B-теста и в 2 разных теста. **Это значит, что распределение пользователей по группам для проведения A/B-теста было проведено некорректно.**\n",
    "- Для дальнейшего анализа нам необходимо отсортировать таких пользователей и убрать их из таблицы `final_ab_participants`."
   ]
  },
  {
   "cell_type": "code",
   "execution_count": 54,
   "metadata": {},
   "outputs": [
    {
     "data": {
      "text/plain": [
       "user_id\n",
       "001064FEAAB631A1    2\n",
       "00341D8401F0F665    2\n",
       "003B6786B4FF5B03    2\n",
       "0082295A41A867B5    2\n",
       "00E68F103C66C1F7    2\n",
       "                   ..\n",
       "FF7BE2897FC0380D    2\n",
       "FF9A81323FA67D6E    2\n",
       "FFC53FD45DDA5EE8    2\n",
       "FFED90241D04503F    2\n",
       "FFF28D02B1EACBE1    2\n",
       "Name: group, Length: 1602, dtype: int64"
      ]
     },
     "metadata": {},
     "output_type": "display_data"
    }
   ],
   "source": [
    "bad_users = final_ab_participants.groupby('user_id')['group'].count().loc[lambda x: x == 2]\n",
    "display(bad_users)"
   ]
  },
  {
   "cell_type": "markdown",
   "metadata": {},
   "source": [
    "Узнаем, сколько пользователей мы потеряем, если удалим тех, кто попал в две группы и в два теста, из общей таблицы участников."
   ]
  },
  {
   "cell_type": "code",
   "execution_count": 55,
   "metadata": {},
   "outputs": [
    {
     "data": {
      "text/plain": [
       "0.09612384495379815"
      ]
     },
     "metadata": {},
     "output_type": "display_data"
    }
   ],
   "source": [
    "display(bad_users.shape[0] / final_ab_participants.groupby('user_id')['group'].count().shape[0])"
   ]
  },
  {
   "cell_type": "markdown",
   "metadata": {},
   "source": [
    "- При удалении мы потеряем 9% пользователей, это много, что доказывает, что **при делении пользователей не соблюдались требования к A/B-тестированию о том, что одни и те же пользователи не должны попадать в 2 разные группы, а также одновременно участвовать в конкурирующих тестах (их вообще не стоит проводить).** \n",
    "---\n",
    "Очистим таблицу от пользователей."
   ]
  },
  {
   "cell_type": "code",
   "execution_count": 56,
   "metadata": {},
   "outputs": [],
   "source": [
    "final_ab_participants = final_ab_participants[~final_ab_participants.user_id.isin(bad_users.index)]"
   ]
  },
  {
   "cell_type": "markdown",
   "metadata": {},
   "source": [
    "Также очистим таблицу от уникальных пользователей, которые участвовали в конкурирующем тесте `interface_eu_test`."
   ]
  },
  {
   "cell_type": "code",
   "execution_count": 57,
   "metadata": {},
   "outputs": [],
   "source": [
    "final_ab_participants = final_ab_participants[final_ab_participants['ab_test'] != 'interface_eu_test']"
   ]
  },
  {
   "cell_type": "markdown",
   "metadata": {},
   "source": [
    "Проверим, сколько пользователей у нас осталось после полного очищения таблицы."
   ]
  },
  {
   "cell_type": "code",
   "execution_count": 58,
   "metadata": {},
   "outputs": [
    {
     "data": {
      "text/plain": [
       "5099"
      ]
     },
     "metadata": {},
     "output_type": "display_data"
    }
   ],
   "source": [
    "display(final_ab_participants.shape[0])"
   ]
  },
  {
   "cell_type": "markdown",
   "metadata": {},
   "source": [
    "- У нас осталось 5099 пользователей, которые участвовали только в тесте `recommender_system_test` и попали либо в группу А, либо в B."
   ]
  },
  {
   "cell_type": "markdown",
   "metadata": {},
   "source": [
    "<div id='id-section13'/>\n",
    "\n",
    "### [Вывод](#id-section14)\n",
    "\n",
    "На данном этапе мы:\n",
    "- изменили тип данных в столбцах с датами и временем на `datetime`;\n",
    "- проверили, что полные дубликаты в таблицах отсутствуют;\n",
    "- убрали из таблицы `final_ab_events` неполные дубликаты (3% от общего числа данных);\n",
    "- проверили, что в таблице `final_ab_new_users` каждый пользователь имеет только одну дату регистрации;\n",
    "---\n",
    "- увидели, что в таблице `final_ab_participants` было 9% пользователей, которые попали в две группы A/B-теста и в 2 разных теста. Значит, **при делении пользователей не соблюдались требования к A/B-тестированию о том, что одни и те же пользователи не должны попадать в 2 разные группы одного теста, а также одновременно участвовать в конкурирующих тестах (их вообще не стоит проводить).** Данные были очищены от таких пользователей;\n",
    "- также были удалены уникальные пользователи, которые участвовали в конкурирующем тесте `interface_eu_test`;\n",
    "- в итоге в таблице `final_ab_participants` осталось 5099 пользователей, которые участвовали только в тесте `recommender_system_test` и попали либо в группу А, либо в B."
   ]
  },
  {
   "cell_type": "markdown",
   "metadata": {},
   "source": [
    "<div id='id-section15'/>\n",
    "\n",
    "## [Шаг 3. Проведем исследовательский анализ данных (EDA)](#id-section16)"
   ]
  },
  {
   "cell_type": "markdown",
   "metadata": {},
   "source": [
    "<div id='id-section17'/>\n",
    "\n",
    "### [Выполним необходимые объединения таблиц](#id-section18)"
   ]
  },
  {
   "cell_type": "markdown",
   "metadata": {},
   "source": [
    "1. Присоединим к таблице `final_ab_new_users` (все пользователи, зарегистрировавшиеся в интернет-магазине в период с 7 по 21 декабря 2020 г.) таблицу `final_ab_participants` (5099 пользователей, которые участвовали только в тесте `recommender_system_test` и попали либо в группу А, либо в B).\n",
    "\n",
    "Нам важно сохранить информацию только по 5099 пользователям из `final_ab_participants`, поэтому тип присоединения - `right`."
   ]
  },
  {
   "cell_type": "code",
   "execution_count": 59,
   "metadata": {},
   "outputs": [
    {
     "data": {
      "text/html": [
       "<div>\n",
       "<style scoped>\n",
       "    .dataframe tbody tr th:only-of-type {\n",
       "        vertical-align: middle;\n",
       "    }\n",
       "\n",
       "    .dataframe tbody tr th {\n",
       "        vertical-align: top;\n",
       "    }\n",
       "\n",
       "    .dataframe thead th {\n",
       "        text-align: right;\n",
       "    }\n",
       "</style>\n",
       "<table border=\"1\" class=\"dataframe\">\n",
       "  <thead>\n",
       "    <tr style=\"text-align: right;\">\n",
       "      <th></th>\n",
       "      <th>user_id</th>\n",
       "      <th>first_date</th>\n",
       "      <th>region</th>\n",
       "      <th>device</th>\n",
       "      <th>group</th>\n",
       "      <th>ab_test</th>\n",
       "    </tr>\n",
       "  </thead>\n",
       "  <tbody>\n",
       "    <tr>\n",
       "      <th>0</th>\n",
       "      <td>D72A72121175D8BE</td>\n",
       "      <td>2020-12-07</td>\n",
       "      <td>EU</td>\n",
       "      <td>PC</td>\n",
       "      <td>A</td>\n",
       "      <td>recommender_system_test</td>\n",
       "    </tr>\n",
       "    <tr>\n",
       "      <th>1</th>\n",
       "      <td>831887FE7F2D6CBA</td>\n",
       "      <td>2020-12-07</td>\n",
       "      <td>EU</td>\n",
       "      <td>Android</td>\n",
       "      <td>A</td>\n",
       "      <td>recommender_system_test</td>\n",
       "    </tr>\n",
       "    <tr>\n",
       "      <th>2</th>\n",
       "      <td>4CB179C7F847320B</td>\n",
       "      <td>2020-12-07</td>\n",
       "      <td>EU</td>\n",
       "      <td>iPhone</td>\n",
       "      <td>B</td>\n",
       "      <td>recommender_system_test</td>\n",
       "    </tr>\n",
       "    <tr>\n",
       "      <th>3</th>\n",
       "      <td>29C92313A98B1176</td>\n",
       "      <td>2020-12-07</td>\n",
       "      <td>APAC</td>\n",
       "      <td>Android</td>\n",
       "      <td>B</td>\n",
       "      <td>recommender_system_test</td>\n",
       "    </tr>\n",
       "    <tr>\n",
       "      <th>4</th>\n",
       "      <td>7D1BFB181017EB46</td>\n",
       "      <td>2020-12-07</td>\n",
       "      <td>CIS</td>\n",
       "      <td>PC</td>\n",
       "      <td>B</td>\n",
       "      <td>recommender_system_test</td>\n",
       "    </tr>\n",
       "  </tbody>\n",
       "</table>\n",
       "</div>"
      ],
      "text/plain": [
       "            user_id first_date region   device group                  ab_test\n",
       "0  D72A72121175D8BE 2020-12-07     EU       PC     A  recommender_system_test\n",
       "1  831887FE7F2D6CBA 2020-12-07     EU  Android     A  recommender_system_test\n",
       "2  4CB179C7F847320B 2020-12-07     EU   iPhone     B  recommender_system_test\n",
       "3  29C92313A98B1176 2020-12-07   APAC  Android     B  recommender_system_test\n",
       "4  7D1BFB181017EB46 2020-12-07    CIS       PC     B  recommender_system_test"
      ]
     },
     "metadata": {},
     "output_type": "display_data"
    },
    {
     "data": {
      "text/plain": [
       "5099"
      ]
     },
     "metadata": {},
     "output_type": "display_data"
    }
   ],
   "source": [
    "final_ab_new_users = final_ab_new_users.merge(final_ab_participants, on = 'user_id', how = 'right')\n",
    "\n",
    "display(final_ab_new_users.head(), \\\n",
    "        final_ab_new_users.shape[0])\n"
   ]
  },
  {
   "cell_type": "markdown",
   "metadata": {},
   "source": [
    "По условию технического задания оставим только тех пользователей, которые пришли из региона `EU`. "
   ]
  },
  {
   "cell_type": "code",
   "execution_count": 60,
   "metadata": {},
   "outputs": [
    {
     "data": {
      "text/html": [
       "<div>\n",
       "<style scoped>\n",
       "    .dataframe tbody tr th:only-of-type {\n",
       "        vertical-align: middle;\n",
       "    }\n",
       "\n",
       "    .dataframe tbody tr th {\n",
       "        vertical-align: top;\n",
       "    }\n",
       "\n",
       "    .dataframe thead th {\n",
       "        text-align: right;\n",
       "    }\n",
       "</style>\n",
       "<table border=\"1\" class=\"dataframe\">\n",
       "  <thead>\n",
       "    <tr style=\"text-align: right;\">\n",
       "      <th></th>\n",
       "      <th>user_id</th>\n",
       "      <th>first_date</th>\n",
       "      <th>region</th>\n",
       "      <th>device</th>\n",
       "      <th>group</th>\n",
       "      <th>ab_test</th>\n",
       "    </tr>\n",
       "  </thead>\n",
       "  <tbody>\n",
       "    <tr>\n",
       "      <th>0</th>\n",
       "      <td>D72A72121175D8BE</td>\n",
       "      <td>2020-12-07</td>\n",
       "      <td>EU</td>\n",
       "      <td>PC</td>\n",
       "      <td>A</td>\n",
       "      <td>recommender_system_test</td>\n",
       "    </tr>\n",
       "    <tr>\n",
       "      <th>1</th>\n",
       "      <td>831887FE7F2D6CBA</td>\n",
       "      <td>2020-12-07</td>\n",
       "      <td>EU</td>\n",
       "      <td>Android</td>\n",
       "      <td>A</td>\n",
       "      <td>recommender_system_test</td>\n",
       "    </tr>\n",
       "    <tr>\n",
       "      <th>2</th>\n",
       "      <td>4CB179C7F847320B</td>\n",
       "      <td>2020-12-07</td>\n",
       "      <td>EU</td>\n",
       "      <td>iPhone</td>\n",
       "      <td>B</td>\n",
       "      <td>recommender_system_test</td>\n",
       "    </tr>\n",
       "    <tr>\n",
       "      <th>5</th>\n",
       "      <td>16C69ED14DA9F4A8</td>\n",
       "      <td>2020-12-07</td>\n",
       "      <td>EU</td>\n",
       "      <td>PC</td>\n",
       "      <td>B</td>\n",
       "      <td>recommender_system_test</td>\n",
       "    </tr>\n",
       "    <tr>\n",
       "      <th>6</th>\n",
       "      <td>3C5DD0288AC4FE23</td>\n",
       "      <td>2020-12-07</td>\n",
       "      <td>EU</td>\n",
       "      <td>PC</td>\n",
       "      <td>A</td>\n",
       "      <td>recommender_system_test</td>\n",
       "    </tr>\n",
       "  </tbody>\n",
       "</table>\n",
       "</div>"
      ],
      "text/plain": [
       "            user_id first_date region   device group                  ab_test\n",
       "0  D72A72121175D8BE 2020-12-07     EU       PC     A  recommender_system_test\n",
       "1  831887FE7F2D6CBA 2020-12-07     EU  Android     A  recommender_system_test\n",
       "2  4CB179C7F847320B 2020-12-07     EU   iPhone     B  recommender_system_test\n",
       "5  16C69ED14DA9F4A8 2020-12-07     EU       PC     B  recommender_system_test\n",
       "6  3C5DD0288AC4FE23 2020-12-07     EU       PC     A  recommender_system_test"
      ]
     },
     "metadata": {},
     "output_type": "display_data"
    },
    {
     "data": {
      "text/plain": [
       "4749"
      ]
     },
     "metadata": {},
     "output_type": "display_data"
    }
   ],
   "source": [
    "final_ab_new_users = final_ab_new_users[final_ab_new_users['region'] == 'EU']\n",
    "\n",
    "display(final_ab_new_users.head(), \\\n",
    "        final_ab_new_users.shape[0])"
   ]
  },
  {
   "cell_type": "markdown",
   "metadata": {},
   "source": [
    "- Мы видим, что **уже сейчас условие технического задания о том, что ожидаемое количество участников теста равно 6000, не соблюдается.** \n",
    "- У нас осталось только 4749 пользователей, которые пришли в период с 7 по 21 декабря 2020 г. из региона `EU`, участвовали только в тесте `recommender_system_test` и попали либо в группу А, либо B.\n",
    "---\n",
    "\n",
    "Проверим, какова в разных группах доля новых пользователей из региона `EU`."
   ]
  },
  {
   "cell_type": "code",
   "execution_count": 61,
   "metadata": {
    "scrolled": true
   },
   "outputs": [
    {
     "data": {
      "text/plain": [
       "device   group\n",
       "Android  A        0.557069\n",
       "         B        0.442931\n",
       "Mac      A        0.586288\n",
       "         B        0.413712\n",
       "PC       A        0.593333\n",
       "         B        0.406667\n",
       "iPhone   A        0.568706\n",
       "         B        0.431294\n",
       "Name: group, dtype: float64"
      ]
     },
     "metadata": {},
     "output_type": "display_data"
    }
   ],
   "source": [
    "display(final_ab_new_users.groupby('device')['group'].value_counts(normalize = True))"
   ]
  },
  {
   "cell_type": "markdown",
   "metadata": {},
   "source": [
    "- **Условие технического задания о том, что аудитория теста - 15% новых пользователей из региона EU, не соблюдается.**\n",
    "- В реальности с каждого устройства в группу В попадает примерно 40% новых пользователей из EU.\n",
    "---\n",
    "\n",
    "Проверим, какая доля новых пользователей из региона EU в разных группах в зависимости от даты регистрации."
   ]
  },
  {
   "cell_type": "code",
   "execution_count": 62,
   "metadata": {},
   "outputs": [
    {
     "data": {
      "text/plain": [
       "first_date  group\n",
       "2020-12-07  A        0.584270\n",
       "            B        0.415730\n",
       "2020-12-08  A        0.567227\n",
       "            B        0.432773\n",
       "2020-12-09  A        0.581395\n",
       "            B        0.418605\n",
       "2020-12-10  B        0.522968\n",
       "            A        0.477032\n",
       "2020-12-11  A        0.589109\n",
       "            B        0.410891\n",
       "2020-12-12  A        0.583333\n",
       "            B        0.416667\n",
       "2020-12-13  A        0.585542\n",
       "            B        0.414458\n",
       "2020-12-14  A        0.577825\n",
       "            B        0.422175\n",
       "2020-12-15  A        0.604167\n",
       "            B        0.395833\n",
       "2020-12-16  A        0.592417\n",
       "            B        0.407583\n",
       "2020-12-17  A        0.584000\n",
       "            B        0.416000\n",
       "2020-12-18  A        0.533333\n",
       "            B        0.466667\n",
       "2020-12-19  A        0.570533\n",
       "            B        0.429467\n",
       "2020-12-20  A        0.567416\n",
       "            B        0.432584\n",
       "2020-12-21  A        0.571429\n",
       "            B        0.428571\n",
       "Name: group, dtype: float64"
      ]
     },
     "metadata": {},
     "output_type": "display_data"
    },
    {
     "data": {
      "image/png": "[encoded data removed]",
      "text/plain": [
       "<Figure size 1080x648 with 1 Axes>"
      ]
     },
     "metadata": {
      "needs_background": "light"
     },
     "output_type": "display_data"
    }
   ],
   "source": [
    "display(final_ab_new_users.groupby('first_date')['group'].value_counts(normalize = True))\n",
    "\n",
    "ax = final_ab_new_users.groupby('first_date')['group'].value_counts(normalize = True).plot(kind = 'barh', \\\n",
    "          figsize = (15, 9),title = ('Доля новых пользователей из региона EU в группах А и В \\nв по дате регистрации'))\n",
    "ax.set_xlabel('доля новых пользователей')\n",
    "ax.set_ylabel('дата регистрации и группа A/B-теста')\n",
    "plt.show()"
   ]
  },
  {
   "cell_type": "markdown",
   "metadata": {},
   "source": [
    "- Мы снова убедились: **условие технического задания о том, что аудитория теста - 15% новых пользователей из региона EU, не соблюдается.**\n",
    "- В каждый день набора пользователей в группу В попадало примерно 40% новых пользователей из EU."
   ]
  },
  {
   "cell_type": "markdown",
   "metadata": {},
   "source": [
    "---\n",
    "2. Присоединим к таблице `final_ab_events` (все события всех новых пользователей в период с 7 декабря 2020 по 4 января 2021 года) таблицу `final_ab_new_users` (пользователи, которые пришли с 7 по 21 декабря 2020 года из региона EU, участвовали только в тесте `recommender_system_test` и попали либо в группу А, либо B). \n",
    "\n",
    "Нам важно сохранить данные по отобранным пользователям, поэтому тип присоединения - `right`."
   ]
  },
  {
   "cell_type": "code",
   "execution_count": 63,
   "metadata": {},
   "outputs": [
    {
     "data": {
      "text/html": [
       "<div>\n",
       "<style scoped>\n",
       "    .dataframe tbody tr th:only-of-type {\n",
       "        vertical-align: middle;\n",
       "    }\n",
       "\n",
       "    .dataframe tbody tr th {\n",
       "        vertical-align: top;\n",
       "    }\n",
       "\n",
       "    .dataframe thead th {\n",
       "        text-align: right;\n",
       "    }\n",
       "</style>\n",
       "<table border=\"1\" class=\"dataframe\">\n",
       "  <thead>\n",
       "    <tr style=\"text-align: right;\">\n",
       "      <th></th>\n",
       "      <th>user_id</th>\n",
       "      <th>event_dt</th>\n",
       "      <th>event_name</th>\n",
       "      <th>details</th>\n",
       "      <th>first_date</th>\n",
       "      <th>region</th>\n",
       "      <th>device</th>\n",
       "      <th>group</th>\n",
       "      <th>ab_test</th>\n",
       "    </tr>\n",
       "  </thead>\n",
       "  <tbody>\n",
       "    <tr>\n",
       "      <th>0</th>\n",
       "      <td>831887FE7F2D6CBA</td>\n",
       "      <td>2020-12-07 06:50:29</td>\n",
       "      <td>purchase</td>\n",
       "      <td>4.99</td>\n",
       "      <td>2020-12-07</td>\n",
       "      <td>EU</td>\n",
       "      <td>Android</td>\n",
       "      <td>A</td>\n",
       "      <td>recommender_system_test</td>\n",
       "    </tr>\n",
       "    <tr>\n",
       "      <th>1</th>\n",
       "      <td>831887FE7F2D6CBA</td>\n",
       "      <td>2020-12-09 02:19:17</td>\n",
       "      <td>purchase</td>\n",
       "      <td>99.99</td>\n",
       "      <td>2020-12-07</td>\n",
       "      <td>EU</td>\n",
       "      <td>Android</td>\n",
       "      <td>A</td>\n",
       "      <td>recommender_system_test</td>\n",
       "    </tr>\n",
       "    <tr>\n",
       "      <th>2</th>\n",
       "      <td>831887FE7F2D6CBA</td>\n",
       "      <td>2020-12-07 06:50:30</td>\n",
       "      <td>product_cart</td>\n",
       "      <td>NaN</td>\n",
       "      <td>2020-12-07</td>\n",
       "      <td>EU</td>\n",
       "      <td>Android</td>\n",
       "      <td>A</td>\n",
       "      <td>recommender_system_test</td>\n",
       "    </tr>\n",
       "    <tr>\n",
       "      <th>3</th>\n",
       "      <td>831887FE7F2D6CBA</td>\n",
       "      <td>2020-12-08 10:52:27</td>\n",
       "      <td>product_cart</td>\n",
       "      <td>NaN</td>\n",
       "      <td>2020-12-07</td>\n",
       "      <td>EU</td>\n",
       "      <td>Android</td>\n",
       "      <td>A</td>\n",
       "      <td>recommender_system_test</td>\n",
       "    </tr>\n",
       "    <tr>\n",
       "      <th>4</th>\n",
       "      <td>831887FE7F2D6CBA</td>\n",
       "      <td>2020-12-09 02:19:17</td>\n",
       "      <td>product_cart</td>\n",
       "      <td>NaN</td>\n",
       "      <td>2020-12-07</td>\n",
       "      <td>EU</td>\n",
       "      <td>Android</td>\n",
       "      <td>A</td>\n",
       "      <td>recommender_system_test</td>\n",
       "    </tr>\n",
       "    <tr>\n",
       "      <th>...</th>\n",
       "      <td>...</td>\n",
       "      <td>...</td>\n",
       "      <td>...</td>\n",
       "      <td>...</td>\n",
       "      <td>...</td>\n",
       "      <td>...</td>\n",
       "      <td>...</td>\n",
       "      <td>...</td>\n",
       "      <td>...</td>\n",
       "    </tr>\n",
       "    <tr>\n",
       "      <th>19089</th>\n",
       "      <td>7EA72BCB46012967</td>\n",
       "      <td>NaT</td>\n",
       "      <td>NaN</td>\n",
       "      <td>NaN</td>\n",
       "      <td>2020-12-20</td>\n",
       "      <td>EU</td>\n",
       "      <td>iPhone</td>\n",
       "      <td>B</td>\n",
       "      <td>recommender_system_test</td>\n",
       "    </tr>\n",
       "    <tr>\n",
       "      <th>19090</th>\n",
       "      <td>1942FB76074AA16F</td>\n",
       "      <td>NaT</td>\n",
       "      <td>NaN</td>\n",
       "      <td>NaN</td>\n",
       "      <td>2020-12-20</td>\n",
       "      <td>EU</td>\n",
       "      <td>PC</td>\n",
       "      <td>B</td>\n",
       "      <td>recommender_system_test</td>\n",
       "    </tr>\n",
       "    <tr>\n",
       "      <th>19091</th>\n",
       "      <td>6670B7F8E44E51A9</td>\n",
       "      <td>NaT</td>\n",
       "      <td>NaN</td>\n",
       "      <td>NaN</td>\n",
       "      <td>2020-12-20</td>\n",
       "      <td>EU</td>\n",
       "      <td>Android</td>\n",
       "      <td>B</td>\n",
       "      <td>recommender_system_test</td>\n",
       "    </tr>\n",
       "    <tr>\n",
       "      <th>19092</th>\n",
       "      <td>FB99C8676FAF89A7</td>\n",
       "      <td>NaT</td>\n",
       "      <td>NaN</td>\n",
       "      <td>NaN</td>\n",
       "      <td>2020-12-20</td>\n",
       "      <td>EU</td>\n",
       "      <td>PC</td>\n",
       "      <td>B</td>\n",
       "      <td>recommender_system_test</td>\n",
       "    </tr>\n",
       "    <tr>\n",
       "      <th>19093</th>\n",
       "      <td>89CB0BFBC3F35126</td>\n",
       "      <td>NaT</td>\n",
       "      <td>NaN</td>\n",
       "      <td>NaN</td>\n",
       "      <td>2020-12-20</td>\n",
       "      <td>EU</td>\n",
       "      <td>PC</td>\n",
       "      <td>B</td>\n",
       "      <td>recommender_system_test</td>\n",
       "    </tr>\n",
       "  </tbody>\n",
       "</table>\n",
       "<p>19094 rows × 9 columns</p>\n",
       "</div>"
      ],
      "text/plain": [
       "                user_id            event_dt    event_name  details first_date  \\\n",
       "0      831887FE7F2D6CBA 2020-12-07 06:50:29      purchase     4.99 2020-12-07   \n",
       "1      831887FE7F2D6CBA 2020-12-09 02:19:17      purchase    99.99 2020-12-07   \n",
       "2      831887FE7F2D6CBA 2020-12-07 06:50:30  product_cart      NaN 2020-12-07   \n",
       "3      831887FE7F2D6CBA 2020-12-08 10:52:27  product_cart      NaN 2020-12-07   \n",
       "4      831887FE7F2D6CBA 2020-12-09 02:19:17  product_cart      NaN 2020-12-07   \n",
       "...                 ...                 ...           ...      ...        ...   \n",
       "19089  7EA72BCB46012967                 NaT           NaN      NaN 2020-12-20   \n",
       "19090  1942FB76074AA16F                 NaT           NaN      NaN 2020-12-20   \n",
       "19091  6670B7F8E44E51A9                 NaT           NaN      NaN 2020-12-20   \n",
       "19092  FB99C8676FAF89A7                 NaT           NaN      NaN 2020-12-20   \n",
       "19093  89CB0BFBC3F35126                 NaT           NaN      NaN 2020-12-20   \n",
       "\n",
       "      region   device group                  ab_test  \n",
       "0         EU  Android     A  recommender_system_test  \n",
       "1         EU  Android     A  recommender_system_test  \n",
       "2         EU  Android     A  recommender_system_test  \n",
       "3         EU  Android     A  recommender_system_test  \n",
       "4         EU  Android     A  recommender_system_test  \n",
       "...      ...      ...   ...                      ...  \n",
       "19089     EU   iPhone     B  recommender_system_test  \n",
       "19090     EU       PC     B  recommender_system_test  \n",
       "19091     EU  Android     B  recommender_system_test  \n",
       "19092     EU       PC     B  recommender_system_test  \n",
       "19093     EU       PC     B  recommender_system_test  \n",
       "\n",
       "[19094 rows x 9 columns]"
      ]
     },
     "metadata": {},
     "output_type": "display_data"
    }
   ],
   "source": [
    "final_ab_events = final_ab_events.merge(final_ab_new_users, on = 'user_id', how = 'right')\n",
    "\n",
    "display(final_ab_events)"
   ]
  },
  {
   "cell_type": "markdown",
   "metadata": {},
   "source": [
    "- Мы видим, что в хвосте таблицы **есть пользователи, которые были набраны с 7 по 21 декабря 2020 года, но не совершали никаких действий. Возможно, А/В-тест был настроен неправильно, и ему не нужно было захватывать пользователей, которые не совершили хотя бы одного события.**\n",
    "- Такие пользователи должны быть удалены, так как для они не участвуют ни в каких событиях, для дальнейшего анализа они не могут дать ничего. "
   ]
  },
  {
   "cell_type": "code",
   "execution_count": 64,
   "metadata": {
    "scrolled": false
   },
   "outputs": [
    {
     "data": {
      "text/html": [
       "<div>\n",
       "<style scoped>\n",
       "    .dataframe tbody tr th:only-of-type {\n",
       "        vertical-align: middle;\n",
       "    }\n",
       "\n",
       "    .dataframe tbody tr th {\n",
       "        vertical-align: top;\n",
       "    }\n",
       "\n",
       "    .dataframe thead th {\n",
       "        text-align: right;\n",
       "    }\n",
       "</style>\n",
       "<table border=\"1\" class=\"dataframe\">\n",
       "  <thead>\n",
       "    <tr style=\"text-align: right;\">\n",
       "      <th></th>\n",
       "      <th>user_id</th>\n",
       "      <th>event_dt</th>\n",
       "      <th>event_name</th>\n",
       "      <th>details</th>\n",
       "      <th>first_date</th>\n",
       "      <th>region</th>\n",
       "      <th>device</th>\n",
       "      <th>group</th>\n",
       "      <th>ab_test</th>\n",
       "    </tr>\n",
       "  </thead>\n",
       "  <tbody>\n",
       "    <tr>\n",
       "      <th>0</th>\n",
       "      <td>831887FE7F2D6CBA</td>\n",
       "      <td>2020-12-07 06:50:29</td>\n",
       "      <td>purchase</td>\n",
       "      <td>4.99</td>\n",
       "      <td>2020-12-07</td>\n",
       "      <td>EU</td>\n",
       "      <td>Android</td>\n",
       "      <td>A</td>\n",
       "      <td>recommender_system_test</td>\n",
       "    </tr>\n",
       "    <tr>\n",
       "      <th>1</th>\n",
       "      <td>831887FE7F2D6CBA</td>\n",
       "      <td>2020-12-09 02:19:17</td>\n",
       "      <td>purchase</td>\n",
       "      <td>99.99</td>\n",
       "      <td>2020-12-07</td>\n",
       "      <td>EU</td>\n",
       "      <td>Android</td>\n",
       "      <td>A</td>\n",
       "      <td>recommender_system_test</td>\n",
       "    </tr>\n",
       "    <tr>\n",
       "      <th>2</th>\n",
       "      <td>831887FE7F2D6CBA</td>\n",
       "      <td>2020-12-07 06:50:30</td>\n",
       "      <td>product_cart</td>\n",
       "      <td>NaN</td>\n",
       "      <td>2020-12-07</td>\n",
       "      <td>EU</td>\n",
       "      <td>Android</td>\n",
       "      <td>A</td>\n",
       "      <td>recommender_system_test</td>\n",
       "    </tr>\n",
       "    <tr>\n",
       "      <th>3</th>\n",
       "      <td>831887FE7F2D6CBA</td>\n",
       "      <td>2020-12-08 10:52:27</td>\n",
       "      <td>product_cart</td>\n",
       "      <td>NaN</td>\n",
       "      <td>2020-12-07</td>\n",
       "      <td>EU</td>\n",
       "      <td>Android</td>\n",
       "      <td>A</td>\n",
       "      <td>recommender_system_test</td>\n",
       "    </tr>\n",
       "    <tr>\n",
       "      <th>4</th>\n",
       "      <td>831887FE7F2D6CBA</td>\n",
       "      <td>2020-12-09 02:19:17</td>\n",
       "      <td>product_cart</td>\n",
       "      <td>NaN</td>\n",
       "      <td>2020-12-07</td>\n",
       "      <td>EU</td>\n",
       "      <td>Android</td>\n",
       "      <td>A</td>\n",
       "      <td>recommender_system_test</td>\n",
       "    </tr>\n",
       "    <tr>\n",
       "      <th>...</th>\n",
       "      <td>...</td>\n",
       "      <td>...</td>\n",
       "      <td>...</td>\n",
       "      <td>...</td>\n",
       "      <td>...</td>\n",
       "      <td>...</td>\n",
       "      <td>...</td>\n",
       "      <td>...</td>\n",
       "      <td>...</td>\n",
       "    </tr>\n",
       "    <tr>\n",
       "      <th>16931</th>\n",
       "      <td>F24DA4C9406263D2</td>\n",
       "      <td>2020-12-22 02:24:34</td>\n",
       "      <td>login</td>\n",
       "      <td>NaN</td>\n",
       "      <td>2020-12-17</td>\n",
       "      <td>EU</td>\n",
       "      <td>Mac</td>\n",
       "      <td>A</td>\n",
       "      <td>recommender_system_test</td>\n",
       "    </tr>\n",
       "    <tr>\n",
       "      <th>16932</th>\n",
       "      <td>966E398BAC214D29</td>\n",
       "      <td>2020-12-22 14:44:19</td>\n",
       "      <td>login</td>\n",
       "      <td>NaN</td>\n",
       "      <td>2020-12-18</td>\n",
       "      <td>EU</td>\n",
       "      <td>PC</td>\n",
       "      <td>A</td>\n",
       "      <td>recommender_system_test</td>\n",
       "    </tr>\n",
       "    <tr>\n",
       "      <th>16933</th>\n",
       "      <td>BAF6250F863EFA7E</td>\n",
       "      <td>2020-12-23 09:35:58</td>\n",
       "      <td>login</td>\n",
       "      <td>NaN</td>\n",
       "      <td>2020-12-13</td>\n",
       "      <td>EU</td>\n",
       "      <td>iPhone</td>\n",
       "      <td>A</td>\n",
       "      <td>recommender_system_test</td>\n",
       "    </tr>\n",
       "    <tr>\n",
       "      <th>16934</th>\n",
       "      <td>BAF6250F863EFA7E</td>\n",
       "      <td>2020-12-26 04:10:04</td>\n",
       "      <td>login</td>\n",
       "      <td>NaN</td>\n",
       "      <td>2020-12-13</td>\n",
       "      <td>EU</td>\n",
       "      <td>iPhone</td>\n",
       "      <td>A</td>\n",
       "      <td>recommender_system_test</td>\n",
       "    </tr>\n",
       "    <tr>\n",
       "      <th>16935</th>\n",
       "      <td>3B2470E45416C59A</td>\n",
       "      <td>2020-12-26 23:02:20</td>\n",
       "      <td>login</td>\n",
       "      <td>NaN</td>\n",
       "      <td>2020-12-14</td>\n",
       "      <td>EU</td>\n",
       "      <td>iPhone</td>\n",
       "      <td>A</td>\n",
       "      <td>recommender_system_test</td>\n",
       "    </tr>\n",
       "  </tbody>\n",
       "</table>\n",
       "<p>16936 rows × 9 columns</p>\n",
       "</div>"
      ],
      "text/plain": [
       "                user_id            event_dt    event_name  details first_date  \\\n",
       "0      831887FE7F2D6CBA 2020-12-07 06:50:29      purchase     4.99 2020-12-07   \n",
       "1      831887FE7F2D6CBA 2020-12-09 02:19:17      purchase    99.99 2020-12-07   \n",
       "2      831887FE7F2D6CBA 2020-12-07 06:50:30  product_cart      NaN 2020-12-07   \n",
       "3      831887FE7F2D6CBA 2020-12-08 10:52:27  product_cart      NaN 2020-12-07   \n",
       "4      831887FE7F2D6CBA 2020-12-09 02:19:17  product_cart      NaN 2020-12-07   \n",
       "...                 ...                 ...           ...      ...        ...   \n",
       "16931  F24DA4C9406263D2 2020-12-22 02:24:34         login      NaN 2020-12-17   \n",
       "16932  966E398BAC214D29 2020-12-22 14:44:19         login      NaN 2020-12-18   \n",
       "16933  BAF6250F863EFA7E 2020-12-23 09:35:58         login      NaN 2020-12-13   \n",
       "16934  BAF6250F863EFA7E 2020-12-26 04:10:04         login      NaN 2020-12-13   \n",
       "16935  3B2470E45416C59A 2020-12-26 23:02:20         login      NaN 2020-12-14   \n",
       "\n",
       "      region   device group                  ab_test  \n",
       "0         EU  Android     A  recommender_system_test  \n",
       "1         EU  Android     A  recommender_system_test  \n",
       "2         EU  Android     A  recommender_system_test  \n",
       "3         EU  Android     A  recommender_system_test  \n",
       "4         EU  Android     A  recommender_system_test  \n",
       "...      ...      ...   ...                      ...  \n",
       "16931     EU      Mac     A  recommender_system_test  \n",
       "16932     EU       PC     A  recommender_system_test  \n",
       "16933     EU   iPhone     A  recommender_system_test  \n",
       "16934     EU   iPhone     A  recommender_system_test  \n",
       "16935     EU   iPhone     A  recommender_system_test  \n",
       "\n",
       "[16936 rows x 9 columns]"
      ]
     },
     "metadata": {},
     "output_type": "display_data"
    }
   ],
   "source": [
    "final_ab_events = final_ab_events.dropna(subset = ['event_name'])\n",
    "display(final_ab_events)"
   ]
  },
  {
   "cell_type": "markdown",
   "metadata": {},
   "source": [
    "<div id='id-section19'/>\n",
    "\n",
    "### [Исключим из данных совпадение теста и маркетинговых событий](#id-section20)"
   ]
  },
  {
   "cell_type": "markdown",
   "metadata": {},
   "source": [
    "Сначала посмотрим, как распределен временной период данных для пользователей, которые пришли с 7 по 21 декабря 2020 года из региона EU, участвовали только в тесте `recommender_system_test`, попали либо в группу А, либо B, а также совершили действия на платформе."
   ]
  },
  {
   "cell_type": "code",
   "execution_count": 65,
   "metadata": {},
   "outputs": [
    {
     "data": {
      "text/plain": [
       "count                   16936\n",
       "unique                  11418\n",
       "top       2020-12-16 22:04:37\n",
       "freq                        4\n",
       "first     2020-12-07 00:16:00\n",
       "last      2020-12-30 06:42:52\n",
       "Name: event_dt, dtype: object"
      ]
     },
     "metadata": {},
     "output_type": "display_data"
    }
   ],
   "source": [
    "display(final_ab_events['event_dt'].describe())"
   ]
  },
  {
   "cell_type": "markdown",
   "metadata": {},
   "source": [
    "- Здесь мы видим, что действия пользователей фиксируются с 2020-12-07 (совпадает с датой, когда они только пришли) по 2020-12-30.\n",
    "- Это значит, что **условие из технического задания с датой остановки теста 2021-01-04 не соблюдается для пользователей, которые пришли с 7 по 21 декабря 2020 года из региона EU, участвовали только в тесте `recommender_system_test`, попали либо в группу А, либо B, а также совершили действия на платформе**. Потеряно 5 дней.\n",
    "- Вероятно, до 2021-01-04 фиксировались действия тех пользователей, которые попали в конкурирующий тест, либо пришли из других регионов, либо попали сразу в 2 группы A/B-теста - то есть те пользователи, которых мы удалили из данных как неподходящих для анализа.\n",
    "\n",
    "---\n",
    "Выведем календарь маркетинговых событий."
   ]
  },
  {
   "cell_type": "code",
   "execution_count": 66,
   "metadata": {
    "scrolled": false
   },
   "outputs": [
    {
     "data": {
      "text/html": [
       "<div>\n",
       "<style scoped>\n",
       "    .dataframe tbody tr th:only-of-type {\n",
       "        vertical-align: middle;\n",
       "    }\n",
       "\n",
       "    .dataframe tbody tr th {\n",
       "        vertical-align: top;\n",
       "    }\n",
       "\n",
       "    .dataframe thead th {\n",
       "        text-align: right;\n",
       "    }\n",
       "</style>\n",
       "<table border=\"1\" class=\"dataframe\">\n",
       "  <thead>\n",
       "    <tr style=\"text-align: right;\">\n",
       "      <th></th>\n",
       "      <th>name</th>\n",
       "      <th>regions</th>\n",
       "      <th>start_dt</th>\n",
       "      <th>finish_dt</th>\n",
       "    </tr>\n",
       "  </thead>\n",
       "  <tbody>\n",
       "    <tr>\n",
       "      <th>0</th>\n",
       "      <td>Christmas&amp;New Year Promo</td>\n",
       "      <td>EU, N.America</td>\n",
       "      <td>2020-12-25</td>\n",
       "      <td>2021-01-03</td>\n",
       "    </tr>\n",
       "    <tr>\n",
       "      <th>1</th>\n",
       "      <td>St. Valentine's Day Giveaway</td>\n",
       "      <td>EU, CIS, APAC, N.America</td>\n",
       "      <td>2020-02-14</td>\n",
       "      <td>2020-02-16</td>\n",
       "    </tr>\n",
       "    <tr>\n",
       "      <th>2</th>\n",
       "      <td>St. Patric's Day Promo</td>\n",
       "      <td>EU, N.America</td>\n",
       "      <td>2020-03-17</td>\n",
       "      <td>2020-03-19</td>\n",
       "    </tr>\n",
       "    <tr>\n",
       "      <th>3</th>\n",
       "      <td>Easter Promo</td>\n",
       "      <td>EU, CIS, APAC, N.America</td>\n",
       "      <td>2020-04-12</td>\n",
       "      <td>2020-04-19</td>\n",
       "    </tr>\n",
       "    <tr>\n",
       "      <th>4</th>\n",
       "      <td>4th of July Promo</td>\n",
       "      <td>N.America</td>\n",
       "      <td>2020-07-04</td>\n",
       "      <td>2020-07-11</td>\n",
       "    </tr>\n",
       "    <tr>\n",
       "      <th>5</th>\n",
       "      <td>Black Friday Ads Campaign</td>\n",
       "      <td>EU, CIS, APAC, N.America</td>\n",
       "      <td>2020-11-26</td>\n",
       "      <td>2020-12-01</td>\n",
       "    </tr>\n",
       "    <tr>\n",
       "      <th>6</th>\n",
       "      <td>Chinese New Year Promo</td>\n",
       "      <td>APAC</td>\n",
       "      <td>2020-01-25</td>\n",
       "      <td>2020-02-07</td>\n",
       "    </tr>\n",
       "    <tr>\n",
       "      <th>7</th>\n",
       "      <td>Labor day (May 1st) Ads Campaign</td>\n",
       "      <td>EU, CIS, APAC</td>\n",
       "      <td>2020-05-01</td>\n",
       "      <td>2020-05-03</td>\n",
       "    </tr>\n",
       "    <tr>\n",
       "      <th>8</th>\n",
       "      <td>International Women's Day Promo</td>\n",
       "      <td>EU, CIS, APAC</td>\n",
       "      <td>2020-03-08</td>\n",
       "      <td>2020-03-10</td>\n",
       "    </tr>\n",
       "    <tr>\n",
       "      <th>9</th>\n",
       "      <td>Victory Day CIS (May 9th) Event</td>\n",
       "      <td>CIS</td>\n",
       "      <td>2020-05-09</td>\n",
       "      <td>2020-05-11</td>\n",
       "    </tr>\n",
       "    <tr>\n",
       "      <th>10</th>\n",
       "      <td>CIS New Year Gift Lottery</td>\n",
       "      <td>CIS</td>\n",
       "      <td>2020-12-30</td>\n",
       "      <td>2021-01-07</td>\n",
       "    </tr>\n",
       "    <tr>\n",
       "      <th>11</th>\n",
       "      <td>Dragon Boat Festival Giveaway</td>\n",
       "      <td>APAC</td>\n",
       "      <td>2020-06-25</td>\n",
       "      <td>2020-07-01</td>\n",
       "    </tr>\n",
       "    <tr>\n",
       "      <th>12</th>\n",
       "      <td>Single's Day Gift Promo</td>\n",
       "      <td>APAC</td>\n",
       "      <td>2020-11-11</td>\n",
       "      <td>2020-11-12</td>\n",
       "    </tr>\n",
       "    <tr>\n",
       "      <th>13</th>\n",
       "      <td>Chinese Moon Festival</td>\n",
       "      <td>APAC</td>\n",
       "      <td>2020-10-01</td>\n",
       "      <td>2020-10-07</td>\n",
       "    </tr>\n",
       "  </tbody>\n",
       "</table>\n",
       "</div>"
      ],
      "text/plain": [
       "                                name                   regions   start_dt  \\\n",
       "0           Christmas&New Year Promo             EU, N.America 2020-12-25   \n",
       "1       St. Valentine's Day Giveaway  EU, CIS, APAC, N.America 2020-02-14   \n",
       "2             St. Patric's Day Promo             EU, N.America 2020-03-17   \n",
       "3                       Easter Promo  EU, CIS, APAC, N.America 2020-04-12   \n",
       "4                  4th of July Promo                 N.America 2020-07-04   \n",
       "5          Black Friday Ads Campaign  EU, CIS, APAC, N.America 2020-11-26   \n",
       "6             Chinese New Year Promo                      APAC 2020-01-25   \n",
       "7   Labor day (May 1st) Ads Campaign             EU, CIS, APAC 2020-05-01   \n",
       "8    International Women's Day Promo             EU, CIS, APAC 2020-03-08   \n",
       "9    Victory Day CIS (May 9th) Event                       CIS 2020-05-09   \n",
       "10         CIS New Year Gift Lottery                       CIS 2020-12-30   \n",
       "11     Dragon Boat Festival Giveaway                      APAC 2020-06-25   \n",
       "12           Single's Day Gift Promo                      APAC 2020-11-11   \n",
       "13             Chinese Moon Festival                      APAC 2020-10-01   \n",
       "\n",
       "    finish_dt  \n",
       "0  2021-01-03  \n",
       "1  2020-02-16  \n",
       "2  2020-03-19  \n",
       "3  2020-04-19  \n",
       "4  2020-07-11  \n",
       "5  2020-12-01  \n",
       "6  2020-02-07  \n",
       "7  2020-05-03  \n",
       "8  2020-03-10  \n",
       "9  2020-05-11  \n",
       "10 2021-01-07  \n",
       "11 2020-07-01  \n",
       "12 2020-11-12  \n",
       "13 2020-10-07  "
      ]
     },
     "metadata": {},
     "output_type": "display_data"
    }
   ],
   "source": [
    "display(ab_project_marketing_events)"
   ]
  },
  {
   "cell_type": "markdown",
   "metadata": {},
   "source": [
    "- Мы видим, что **есть 2 события, которые совпадают с действиями пользователей (`Christmas&New Year Promo` и `CIS New Year Gift Lottery`) - это указывает на некорректные сроки проведения A/B-теста** - так как он не должен совпадать с маркетинговыми событиями, чтобы исключить влияние на действия пользователей и не исказить результаты тестирования.\n",
    "\n",
    "Для очистки данных нам достаточно исключить из данных все события после 2020-12-25."
   ]
  },
  {
   "cell_type": "code",
   "execution_count": 67,
   "metadata": {},
   "outputs": [],
   "source": [
    "final_ab_events = final_ab_events.query('event_dt < \"2020-12-25\"')"
   ]
  },
  {
   "cell_type": "markdown",
   "metadata": {},
   "source": [
    "---\n",
    "Посмотрим, действия для скольких пользователей мы можем анализировать после окончательной очистки данных."
   ]
  },
  {
   "cell_type": "code",
   "execution_count": 68,
   "metadata": {},
   "outputs": [
    {
     "data": {
      "text/plain": [
       "2587"
      ]
     },
     "metadata": {},
     "output_type": "display_data"
    }
   ],
   "source": [
    "display(final_ab_events['user_id'].nunique())"
   ]
  },
  {
   "cell_type": "markdown",
   "metadata": {},
   "source": [
    "- Всего у нас есть 2587 пользователей, которые пришли с 7 по 21 декабря 2020 года из региона EU, участвовали только в тесте `recommender_system_test`, попали либо в группу А, либо B, совершили действия на платформе, которые при этом не совпали с маркетинговыми событиями. \n",
    "- Следовательно, **условие технического задания о том, что ожидаемое количество участников теста равно 6000, не соблюдается**."
   ]
  },
  {
   "cell_type": "markdown",
   "metadata": {},
   "source": [
    "<div id='id-section21'/>\n",
    "\n",
    "### [Исследуем конверсию в воронке на разных этапах](#id-section22)\n",
    "\n",
    "Посмотрим, какие события есть в данных, и их частоту. Используем метод `value_counts()` для просмотра всех возможных событий и того, как часто они встречаются в данных."
   ]
  },
  {
   "cell_type": "code",
   "execution_count": 69,
   "metadata": {},
   "outputs": [
    {
     "data": {
      "text/html": [
       "<div>\n",
       "<style scoped>\n",
       "    .dataframe tbody tr th:only-of-type {\n",
       "        vertical-align: middle;\n",
       "    }\n",
       "\n",
       "    .dataframe tbody tr th {\n",
       "        vertical-align: top;\n",
       "    }\n",
       "\n",
       "    .dataframe thead th {\n",
       "        text-align: right;\n",
       "    }\n",
       "</style>\n",
       "<table border=\"1\" class=\"dataframe\">\n",
       "  <thead>\n",
       "    <tr style=\"text-align: right;\">\n",
       "      <th></th>\n",
       "      <th>event_name</th>\n",
       "    </tr>\n",
       "  </thead>\n",
       "  <tbody>\n",
       "    <tr>\n",
       "      <th>login</th>\n",
       "      <td>6504</td>\n",
       "    </tr>\n",
       "    <tr>\n",
       "      <th>product_page</th>\n",
       "      <td>4126</td>\n",
       "    </tr>\n",
       "    <tr>\n",
       "      <th>product_cart</th>\n",
       "      <td>2023</td>\n",
       "    </tr>\n",
       "    <tr>\n",
       "      <th>purchase</th>\n",
       "      <td>2005</td>\n",
       "    </tr>\n",
       "  </tbody>\n",
       "</table>\n",
       "</div>"
      ],
      "text/plain": [
       "              event_name\n",
       "login               6504\n",
       "product_page        4126\n",
       "product_cart        2023\n",
       "purchase            2005"
      ]
     },
     "metadata": {},
     "output_type": "display_data"
    },
    {
     "data": {
      "image/png": "[encoded data removed]",
      "text/plain": [
       "<Figure size 720x360 with 1 Axes>"
      ]
     },
     "metadata": {
      "needs_background": "light"
     },
     "output_type": "display_data"
    }
   ],
   "source": [
    "display(final_ab_events['event_name'].value_counts().to_frame())\n",
    "\n",
    "ax = final_ab_events['event_name'].value_counts().sort_values().plot(kind = 'barh', \\\n",
    "                title = 'Какие события есть в данных\\nи как часто они встречаются', grid = True, figsize = (10, 5))\n",
    "ax.set_xlabel('частота')\n",
    "ax.set_ylabel('события')\n",
    "plt.show()"
   ]
  },
  {
   "cell_type": "markdown",
   "metadata": {},
   "source": [
    "- Самое часто встречающееся событие - `login`, авторизированный вход на платформу интернет-магазина.\n",
    "- Самое редкое событие - `purchase`, оплата покупки.\n",
    "- Судя по данным, практически всегда после перехода в корзину пользователь оплачивает товары.\n",
    "- Последовательность событий пока выглядит логичной.\n",
    "---"
   ]
  },
  {
   "cell_type": "markdown",
   "metadata": {},
   "source": [
    "Посчитаем, сколько пользователей совершали каждое из этих событий.\n",
    "\n",
    "Методом `pivot_table()` построим сводную таблицу `event_user`, где по каждому событию найдем количество уникальных пользователей, и отсортируем события по числу пользователей."
   ]
  },
  {
   "cell_type": "code",
   "execution_count": 70,
   "metadata": {},
   "outputs": [
    {
     "data": {
      "text/html": [
       "<div>\n",
       "<style scoped>\n",
       "    .dataframe tbody tr th:only-of-type {\n",
       "        vertical-align: middle;\n",
       "    }\n",
       "\n",
       "    .dataframe tbody tr th {\n",
       "        vertical-align: top;\n",
       "    }\n",
       "\n",
       "    .dataframe thead th {\n",
       "        text-align: right;\n",
       "    }\n",
       "</style>\n",
       "<table border=\"1\" class=\"dataframe\">\n",
       "  <thead>\n",
       "    <tr style=\"text-align: right;\">\n",
       "      <th></th>\n",
       "      <th>event_name</th>\n",
       "      <th>user_id</th>\n",
       "    </tr>\n",
       "  </thead>\n",
       "  <tbody>\n",
       "    <tr>\n",
       "      <th>0</th>\n",
       "      <td>login</td>\n",
       "      <td>2570</td>\n",
       "    </tr>\n",
       "    <tr>\n",
       "      <th>2</th>\n",
       "      <td>product_page</td>\n",
       "      <td>1622</td>\n",
       "    </tr>\n",
       "    <tr>\n",
       "      <th>3</th>\n",
       "      <td>purchase</td>\n",
       "      <td>803</td>\n",
       "    </tr>\n",
       "    <tr>\n",
       "      <th>1</th>\n",
       "      <td>product_cart</td>\n",
       "      <td>773</td>\n",
       "    </tr>\n",
       "  </tbody>\n",
       "</table>\n",
       "</div>"
      ],
      "text/plain": [
       "     event_name  user_id\n",
       "0         login     2570\n",
       "2  product_page     1622\n",
       "3      purchase      803\n",
       "1  product_cart      773"
      ]
     },
     "metadata": {},
     "output_type": "display_data"
    }
   ],
   "source": [
    "event_user = final_ab_events.pivot_table(index = 'event_name', values = 'user_id', aggfunc=lambda x: x.nunique())\\\n",
    ".reset_index().sort_values(by = 'user_id', ascending = False)\n",
    "display(event_user)"
   ]
  },
  {
   "cell_type": "markdown",
   "metadata": {},
   "source": [
    "- По данной таблице видно, что покупателей, которые оплачивают покупки, больше, чем тех, кто сначала переходит в корзину с товарами.\n",
    "- Это говорит о том, что **на платформе интернет-магазина реализована функция быстрой оплаты товаров в обход корзины, и пользователи часто используют эту функцию.**"
   ]
  },
  {
   "cell_type": "markdown",
   "metadata": {},
   "source": [
    "Методом `go.Funnel()` из библиотеки `plotly` построим интерактивный график воронки событий.\n",
    "\n",
    "Наведя указатель мыши на каждый шаг воронки, мы увидим подробную информацию:\n",
    "1. Сколько % на этом шаге составляет число пользователей от первого шага (`of initial`); \n",
    "2. Сколько % составляет число пользователей от предыдущего шага (`of previous`)."
   ]
  },
  {
   "cell_type": "code",
   "execution_count": 71,
   "metadata": {},
   "outputs": [
    {
     "data": {
      "application/vnd.plotly.v1+json": {
       "config": {
        "plotlyServerURL": "https://plot.ly"
       },
       "data": [
        {
         "hoverinfo": "x+y+percent initial+percent previous",
         "marker": {
          "color": [
           "deepskyblue",
           "lightsalmon",
           "tan",
           "teal",
           "silver"
          ]
         },
         "textinfo": "value+percent initial",
         "textposition": "inside",
         "type": "funnel",
         "x": [
          2570,
          1622,
          803,
          773
         ],
         "y": [
          "login",
          "product_page",
          "purchase",
          "product_cart"
         ]
        }
       ],
       "layout": {
        "template": {
         "data": {
          "bar": [
           {
            "error_x": {
             "color": "#2a3f5f"
            },
            "error_y": {
             "color": "#2a3f5f"
            },
            "marker": {
             "line": {
              "color": "#E5ECF6",
              "width": 0.5
             }
            },
            "type": "bar"
           }
          ],
          "barpolar": [
           {
            "marker": {
             "line": {
              "color": "#E5ECF6",
              "width": 0.5
             }
            },
            "type": "barpolar"
           }
          ],
          "carpet": [
           {
            "aaxis": {
             "endlinecolor": "#2a3f5f",
             "gridcolor": "white",
             "linecolor": "white",
             "minorgridcolor": "white",
             "startlinecolor": "#2a3f5f"
            },
            "baxis": {
             "endlinecolor": "#2a3f5f",
             "gridcolor": "white",
             "linecolor": "white",
             "minorgridcolor": "white",
             "startlinecolor": "#2a3f5f"
            },
            "type": "carpet"
           }
          ],
          "choropleth": [
           {
            "colorbar": {
             "outlinewidth": 0,
             "ticks": ""
            },
            "type": "choropleth"
           }
          ],
          "contour": [
           {
            "colorbar": {
             "outlinewidth": 0,
             "ticks": ""
            },
            "colorscale": [
             [
              0,
              "#0d0887"
             ],
             [
              0.1111111111111111,
              "#46039f"
             ],
             [
              0.2222222222222222,
              "#7201a8"
             ],
             [
              0.3333333333333333,
              "#9c179e"
             ],
             [
              0.4444444444444444,
              "#bd3786"
             ],
             [
              0.5555555555555556,
              "#d8576b"
             ],
             [
              0.6666666666666666,
              "#ed7953"
             ],
             [
              0.7777777777777778,
              "#fb9f3a"
             ],
             [
              0.8888888888888888,
              "#fdca26"
             ],
             [
              1,
              "#f0f921"
             ]
            ],
            "type": "contour"
           }
          ],
          "contourcarpet": [
           {
            "colorbar": {
             "outlinewidth": 0,
             "ticks": ""
            },
            "type": "contourcarpet"
           }
          ],
          "heatmap": [
           {
            "colorbar": {
             "outlinewidth": 0,
             "ticks": ""
            },
            "colorscale": [
             [
              0,
              "#0d0887"
             ],
             [
              0.1111111111111111,
              "#46039f"
             ],
             [
              0.2222222222222222,
              "#7201a8"
             ],
             [
              0.3333333333333333,
              "#9c179e"
             ],
             [
              0.4444444444444444,
              "#bd3786"
             ],
             [
              0.5555555555555556,
              "#d8576b"
             ],
             [
              0.6666666666666666,
              "#ed7953"
             ],
             [
              0.7777777777777778,
              "#fb9f3a"
             ],
             [
              0.8888888888888888,
              "#fdca26"
             ],
             [
              1,
              "#f0f921"
             ]
            ],
            "type": "heatmap"
           }
          ],
          "heatmapgl": [
           {
            "colorbar": {
             "outlinewidth": 0,
             "ticks": ""
            },
            "colorscale": [
             [
              0,
              "#0d0887"
             ],
             [
              0.1111111111111111,
              "#46039f"
             ],
             [
              0.2222222222222222,
              "#7201a8"
             ],
             [
              0.3333333333333333,
              "#9c179e"
             ],
             [
              0.4444444444444444,
              "#bd3786"
             ],
             [
              0.5555555555555556,
              "#d8576b"
             ],
             [
              0.6666666666666666,
              "#ed7953"
             ],
             [
              0.7777777777777778,
              "#fb9f3a"
             ],
             [
              0.8888888888888888,
              "#fdca26"
             ],
             [
              1,
              "#f0f921"
             ]
            ],
            "type": "heatmapgl"
           }
          ],
          "histogram": [
           {
            "marker": {
             "colorbar": {
              "outlinewidth": 0,
              "ticks": ""
             }
            },
            "type": "histogram"
           }
          ],
          "histogram2d": [
           {
            "colorbar": {
             "outlinewidth": 0,
             "ticks": ""
            },
            "colorscale": [
             [
              0,
              "#0d0887"
             ],
             [
              0.1111111111111111,
              "#46039f"
             ],
             [
              0.2222222222222222,
              "#7201a8"
             ],
             [
              0.3333333333333333,
              "#9c179e"
             ],
             [
              0.4444444444444444,
              "#bd3786"
             ],
             [
              0.5555555555555556,
              "#d8576b"
             ],
             [
              0.6666666666666666,
              "#ed7953"
             ],
             [
              0.7777777777777778,
              "#fb9f3a"
             ],
             [
              0.8888888888888888,
              "#fdca26"
             ],
             [
              1,
              "#f0f921"
             ]
            ],
            "type": "histogram2d"
           }
          ],
          "histogram2dcontour": [
           {
            "colorbar": {
             "outlinewidth": 0,
             "ticks": ""
            },
            "colorscale": [
             [
              0,
              "#0d0887"
             ],
             [
              0.1111111111111111,
              "#46039f"
             ],
             [
              0.2222222222222222,
              "#7201a8"
             ],
             [
              0.3333333333333333,
              "#9c179e"
             ],
             [
              0.4444444444444444,
              "#bd3786"
             ],
             [
              0.5555555555555556,
              "#d8576b"
             ],
             [
              0.6666666666666666,
              "#ed7953"
             ],
             [
              0.7777777777777778,
              "#fb9f3a"
             ],
             [
              0.8888888888888888,
              "#fdca26"
             ],
             [
              1,
              "#f0f921"
             ]
            ],
            "type": "histogram2dcontour"
           }
          ],
          "mesh3d": [
           {
            "colorbar": {
             "outlinewidth": 0,
             "ticks": ""
            },
            "type": "mesh3d"
           }
          ],
          "parcoords": [
           {
            "line": {
             "colorbar": {
              "outlinewidth": 0,
              "ticks": ""
             }
            },
            "type": "parcoords"
           }
          ],
          "pie": [
           {
            "automargin": true,
            "type": "pie"
           }
          ],
          "scatter": [
           {
            "marker": {
             "colorbar": {
              "outlinewidth": 0,
              "ticks": ""
             }
            },
            "type": "scatter"
           }
          ],
          "scatter3d": [
           {
            "line": {
             "colorbar": {
              "outlinewidth": 0,
              "ticks": ""
             }
            },
            "marker": {
             "colorbar": {
              "outlinewidth": 0,
              "ticks": ""
             }
            },
            "type": "scatter3d"
           }
          ],
          "scattercarpet": [
           {
            "marker": {
             "colorbar": {
              "outlinewidth": 0,
              "ticks": ""
             }
            },
            "type": "scattercarpet"
           }
          ],
          "scattergeo": [
           {
            "marker": {
             "colorbar": {
              "outlinewidth": 0,
              "ticks": ""
             }
            },
            "type": "scattergeo"
           }
          ],
          "scattergl": [
           {
            "marker": {
             "colorbar": {
              "outlinewidth": 0,
              "ticks": ""
             }
            },
            "type": "scattergl"
           }
          ],
          "scattermapbox": [
           {
            "marker": {
             "colorbar": {
              "outlinewidth": 0,
              "ticks": ""
             }
            },
            "type": "scattermapbox"
           }
          ],
          "scatterpolar": [
           {
            "marker": {
             "colorbar": {
              "outlinewidth": 0,
              "ticks": ""
             }
            },
            "type": "scatterpolar"
           }
          ],
          "scatterpolargl": [
           {
            "marker": {
             "colorbar": {
              "outlinewidth": 0,
              "ticks": ""
             }
            },
            "type": "scatterpolargl"
           }
          ],
          "scatterternary": [
           {
            "marker": {
             "colorbar": {
              "outlinewidth": 0,
              "ticks": ""
             }
            },
            "type": "scatterternary"
           }
          ],
          "surface": [
           {
            "colorbar": {
             "outlinewidth": 0,
             "ticks": ""
            },
            "colorscale": [
             [
              0,
              "#0d0887"
             ],
             [
              0.1111111111111111,
              "#46039f"
             ],
             [
              0.2222222222222222,
              "#7201a8"
             ],
             [
              0.3333333333333333,
              "#9c179e"
             ],
             [
              0.4444444444444444,
              "#bd3786"
             ],
             [
              0.5555555555555556,
              "#d8576b"
             ],
             [
              0.6666666666666666,
              "#ed7953"
             ],
             [
              0.7777777777777778,
              "#fb9f3a"
             ],
             [
              0.8888888888888888,
              "#fdca26"
             ],
             [
              1,
              "#f0f921"
             ]
            ],
            "type": "surface"
           }
          ],
          "table": [
           {
            "cells": {
             "fill": {
              "color": "#EBF0F8"
             },
             "line": {
              "color": "white"
             }
            },
            "header": {
             "fill": {
              "color": "#C8D4E3"
             },
             "line": {
              "color": "white"
             }
            },
            "type": "table"
           }
          ]
         },
         "layout": {
          "annotationdefaults": {
           "arrowcolor": "#2a3f5f",
           "arrowhead": 0,
           "arrowwidth": 1
          },
          "autotypenumbers": "strict",
          "coloraxis": {
           "colorbar": {
            "outlinewidth": 0,
            "ticks": ""
           }
          },
          "colorscale": {
           "diverging": [
            [
             0,
             "#8e0152"
            ],
            [
             0.1,
             "#c51b7d"
            ],
            [
             0.2,
             "#de77ae"
            ],
            [
             0.3,
             "#f1b6da"
            ],
            [
             0.4,
             "#fde0ef"
            ],
            [
             0.5,
             "#f7f7f7"
            ],
            [
             0.6,
             "#e6f5d0"
            ],
            [
             0.7,
             "#b8e186"
            ],
            [
             0.8,
             "#7fbc41"
            ],
            [
             0.9,
             "#4d9221"
            ],
            [
             1,
             "#276419"
            ]
           ],
           "sequential": [
            [
             0,
             "#0d0887"
            ],
            [
             0.1111111111111111,
             "#46039f"
            ],
            [
             0.2222222222222222,
             "#7201a8"
            ],
            [
             0.3333333333333333,
             "#9c179e"
            ],
            [
             0.4444444444444444,
             "#bd3786"
            ],
            [
             0.5555555555555556,
             "#d8576b"
            ],
            [
             0.6666666666666666,
             "#ed7953"
            ],
            [
             0.7777777777777778,
             "#fb9f3a"
            ],
            [
             0.8888888888888888,
             "#fdca26"
            ],
            [
             1,
             "#f0f921"
            ]
           ],
           "sequentialminus": [
            [
             0,
             "#0d0887"
            ],
            [
             0.1111111111111111,
             "#46039f"
            ],
            [
             0.2222222222222222,
             "#7201a8"
            ],
            [
             0.3333333333333333,
             "#9c179e"
            ],
            [
             0.4444444444444444,
             "#bd3786"
            ],
            [
             0.5555555555555556,
             "#d8576b"
            ],
            [
             0.6666666666666666,
             "#ed7953"
            ],
            [
             0.7777777777777778,
             "#fb9f3a"
            ],
            [
             0.8888888888888888,
             "#fdca26"
            ],
            [
             1,
             "#f0f921"
            ]
           ]
          },
          "colorway": [
           "#636efa",
           "#EF553B",
           "#00cc96",
           "#ab63fa",
           "#FFA15A",
           "#19d3f3",
           "#FF6692",
           "#B6E880",
           "#FF97FF",
           "#FECB52"
          ],
          "font": {
           "color": "#2a3f5f"
          },
          "geo": {
           "bgcolor": "white",
           "lakecolor": "white",
           "landcolor": "#E5ECF6",
           "showlakes": true,
           "showland": true,
           "subunitcolor": "white"
          },
          "hoverlabel": {
           "align": "left"
          },
          "hovermode": "closest",
          "mapbox": {
           "style": "light"
          },
          "paper_bgcolor": "white",
          "plot_bgcolor": "#E5ECF6",
          "polar": {
           "angularaxis": {
            "gridcolor": "white",
            "linecolor": "white",
            "ticks": ""
           },
           "bgcolor": "#E5ECF6",
           "radialaxis": {
            "gridcolor": "white",
            "linecolor": "white",
            "ticks": ""
           }
          },
          "scene": {
           "xaxis": {
            "backgroundcolor": "#E5ECF6",
            "gridcolor": "white",
            "gridwidth": 2,
            "linecolor": "white",
            "showbackground": true,
            "ticks": "",
            "zerolinecolor": "white"
           },
           "yaxis": {
            "backgroundcolor": "#E5ECF6",
            "gridcolor": "white",
            "gridwidth": 2,
            "linecolor": "white",
            "showbackground": true,
            "ticks": "",
            "zerolinecolor": "white"
           },
           "zaxis": {
            "backgroundcolor": "#E5ECF6",
            "gridcolor": "white",
            "gridwidth": 2,
            "linecolor": "white",
            "showbackground": true,
            "ticks": "",
            "zerolinecolor": "white"
           }
          },
          "shapedefaults": {
           "line": {
            "color": "#2a3f5f"
           }
          },
          "ternary": {
           "aaxis": {
            "gridcolor": "white",
            "linecolor": "white",
            "ticks": ""
           },
           "baxis": {
            "gridcolor": "white",
            "linecolor": "white",
            "ticks": ""
           },
           "bgcolor": "#E5ECF6",
           "caxis": {
            "gridcolor": "white",
            "linecolor": "white",
            "ticks": ""
           }
          },
          "title": {
           "x": 0.05
          },
          "xaxis": {
           "automargin": true,
           "gridcolor": "white",
           "linecolor": "white",
           "ticks": "",
           "title": {
            "standoff": 15
           },
           "zerolinecolor": "white",
           "zerolinewidth": 2
          },
          "yaxis": {
           "automargin": true,
           "gridcolor": "white",
           "linecolor": "white",
           "ticks": "",
           "title": {
            "standoff": 15
           },
           "zerolinecolor": "white",
           "zerolinewidth": 2
          }
         }
        },
        "title": {
         "text": "Воронка событий в интернет-магазине",
         "x": 0.52,
         "xanchor": "center",
         "y": 0.9,
         "yanchor": "top"
        }
       }
      },
      "text/html": [
       "<div>                            <div id=\"1e74f5f4-2bfa-48bd-8c96-a5c054eba57e\" class=\"plotly-graph-div\" style=\"height:525px; width:100%;\"></div>            <script type=\"text/javascript\">                require([\"plotly\"], function(Plotly) {                    window.PLOTLYENV=window.PLOTLYENV || {};                                    if (document.getElementById(\"1e74f5f4-2bfa-48bd-8c96-a5c054eba57e\")) {                    Plotly.newPlot(                        \"1e74f5f4-2bfa-48bd-8c96-a5c054eba57e\",                        [{\"hoverinfo\": \"x+y+percent initial+percent previous\", \"marker\": {\"color\": [\"deepskyblue\", \"lightsalmon\", \"tan\", \"teal\", \"silver\"]}, \"textinfo\": \"value+percent initial\", \"textposition\": \"inside\", \"type\": \"funnel\", \"x\": [2570, 1622, 803, 773], \"y\": [\"login\", \"product_page\", \"purchase\", \"product_cart\"]}],                        {\"template\": {\"data\": {\"bar\": [{\"error_x\": {\"color\": \"#2a3f5f\"}, \"error_y\": {\"color\": \"#2a3f5f\"}, \"marker\": {\"line\": {\"color\": \"#E5ECF6\", \"width\": 0.5}}, \"type\": \"bar\"}], \"barpolar\": [{\"marker\": {\"line\": {\"color\": \"#E5ECF6\", \"width\": 0.5}}, \"type\": \"barpolar\"}], \"carpet\": [{\"aaxis\": {\"endlinecolor\": \"#2a3f5f\", \"gridcolor\": \"white\", \"linecolor\": \"white\", \"minorgridcolor\": \"white\", \"startlinecolor\": \"#2a3f5f\"}, \"baxis\": {\"endlinecolor\": \"#2a3f5f\", \"gridcolor\": \"white\", \"linecolor\": \"white\", \"minorgridcolor\": \"white\", \"startlinecolor\": \"#2a3f5f\"}, \"type\": \"carpet\"}], \"choropleth\": [{\"colorbar\": {\"outlinewidth\": 0, \"ticks\": \"\"}, \"type\": \"choropleth\"}], \"contour\": [{\"colorbar\": {\"outlinewidth\": 0, \"ticks\": \"\"}, \"colorscale\": [[0.0, \"#0d0887\"], [0.1111111111111111, \"#46039f\"], [0.2222222222222222, \"#7201a8\"], [0.3333333333333333, \"#9c179e\"], [0.4444444444444444, \"#bd3786\"], [0.5555555555555556, \"#d8576b\"], [0.6666666666666666, \"#ed7953\"], [0.7777777777777778, \"#fb9f3a\"], [0.8888888888888888, \"#fdca26\"], [1.0, \"#f0f921\"]], \"type\": \"contour\"}], \"contourcarpet\": [{\"colorbar\": {\"outlinewidth\": 0, \"ticks\": \"\"}, \"type\": \"contourcarpet\"}], \"heatmap\": [{\"colorbar\": {\"outlinewidth\": 0, \"ticks\": \"\"}, \"colorscale\": [[0.0, \"#0d0887\"], [0.1111111111111111, \"#46039f\"], [0.2222222222222222, \"#7201a8\"], [0.3333333333333333, \"#9c179e\"], [0.4444444444444444, \"#bd3786\"], [0.5555555555555556, \"#d8576b\"], [0.6666666666666666, \"#ed7953\"], [0.7777777777777778, \"#fb9f3a\"], [0.8888888888888888, \"#fdca26\"], [1.0, \"#f0f921\"]], \"type\": \"heatmap\"}], \"heatmapgl\": [{\"colorbar\": {\"outlinewidth\": 0, \"ticks\": \"\"}, \"colorscale\": [[0.0, \"#0d0887\"], [0.1111111111111111, \"#46039f\"], [0.2222222222222222, \"#7201a8\"], [0.3333333333333333, \"#9c179e\"], [0.4444444444444444, \"#bd3786\"], [0.5555555555555556, \"#d8576b\"], [0.6666666666666666, \"#ed7953\"], [0.7777777777777778, \"#fb9f3a\"], [0.8888888888888888, \"#fdca26\"], [1.0, \"#f0f921\"]], \"type\": \"heatmapgl\"}], \"histogram\": [{\"marker\": {\"colorbar\": {\"outlinewidth\": 0, \"ticks\": \"\"}}, \"type\": \"histogram\"}], \"histogram2d\": [{\"colorbar\": {\"outlinewidth\": 0, \"ticks\": \"\"}, \"colorscale\": [[0.0, \"#0d0887\"], [0.1111111111111111, \"#46039f\"], [0.2222222222222222, \"#7201a8\"], [0.3333333333333333, \"#9c179e\"], [0.4444444444444444, \"#bd3786\"], [0.5555555555555556, \"#d8576b\"], [0.6666666666666666, \"#ed7953\"], [0.7777777777777778, \"#fb9f3a\"], [0.8888888888888888, \"#fdca26\"], [1.0, \"#f0f921\"]], \"type\": \"histogram2d\"}], \"histogram2dcontour\": [{\"colorbar\": {\"outlinewidth\": 0, \"ticks\": \"\"}, \"colorscale\": [[0.0, \"#0d0887\"], [0.1111111111111111, \"#46039f\"], [0.2222222222222222, \"#7201a8\"], [0.3333333333333333, \"#9c179e\"], [0.4444444444444444, \"#bd3786\"], [0.5555555555555556, \"#d8576b\"], [0.6666666666666666, \"#ed7953\"], [0.7777777777777778, \"#fb9f3a\"], [0.8888888888888888, \"#fdca26\"], [1.0, \"#f0f921\"]], \"type\": \"histogram2dcontour\"}], \"mesh3d\": [{\"colorbar\": {\"outlinewidth\": 0, \"ticks\": \"\"}, \"type\": \"mesh3d\"}], \"parcoords\": [{\"line\": {\"colorbar\": {\"outlinewidth\": 0, \"ticks\": \"\"}}, \"type\": \"parcoords\"}], \"pie\": [{\"automargin\": true, \"type\": \"pie\"}], \"scatter\": [{\"marker\": {\"colorbar\": {\"outlinewidth\": 0, \"ticks\": \"\"}}, \"type\": \"scatter\"}], \"scatter3d\": [{\"line\": {\"colorbar\": {\"outlinewidth\": 0, \"ticks\": \"\"}}, \"marker\": {\"colorbar\": {\"outlinewidth\": 0, \"ticks\": \"\"}}, \"type\": \"scatter3d\"}], \"scattercarpet\": [{\"marker\": {\"colorbar\": {\"outlinewidth\": 0, \"ticks\": \"\"}}, \"type\": \"scattercarpet\"}], \"scattergeo\": [{\"marker\": {\"colorbar\": {\"outlinewidth\": 0, \"ticks\": \"\"}}, \"type\": \"scattergeo\"}], \"scattergl\": [{\"marker\": {\"colorbar\": {\"outlinewidth\": 0, \"ticks\": \"\"}}, \"type\": \"scattergl\"}], \"scattermapbox\": [{\"marker\": {\"colorbar\": {\"outlinewidth\": 0, \"ticks\": \"\"}}, \"type\": \"scattermapbox\"}], \"scatterpolar\": [{\"marker\": {\"colorbar\": {\"outlinewidth\": 0, \"ticks\": \"\"}}, \"type\": \"scatterpolar\"}], \"scatterpolargl\": [{\"marker\": {\"colorbar\": {\"outlinewidth\": 0, \"ticks\": \"\"}}, \"type\": \"scatterpolargl\"}], \"scatterternary\": [{\"marker\": {\"colorbar\": {\"outlinewidth\": 0, \"ticks\": \"\"}}, \"type\": \"scatterternary\"}], \"surface\": [{\"colorbar\": {\"outlinewidth\": 0, \"ticks\": \"\"}, \"colorscale\": [[0.0, \"#0d0887\"], [0.1111111111111111, \"#46039f\"], [0.2222222222222222, \"#7201a8\"], [0.3333333333333333, \"#9c179e\"], [0.4444444444444444, \"#bd3786\"], [0.5555555555555556, \"#d8576b\"], [0.6666666666666666, \"#ed7953\"], [0.7777777777777778, \"#fb9f3a\"], [0.8888888888888888, \"#fdca26\"], [1.0, \"#f0f921\"]], \"type\": \"surface\"}], \"table\": [{\"cells\": {\"fill\": {\"color\": \"#EBF0F8\"}, \"line\": {\"color\": \"white\"}}, \"header\": {\"fill\": {\"color\": \"#C8D4E3\"}, \"line\": {\"color\": \"white\"}}, \"type\": \"table\"}]}, \"layout\": {\"annotationdefaults\": {\"arrowcolor\": \"#2a3f5f\", \"arrowhead\": 0, \"arrowwidth\": 1}, \"autotypenumbers\": \"strict\", \"coloraxis\": {\"colorbar\": {\"outlinewidth\": 0, \"ticks\": \"\"}}, \"colorscale\": {\"diverging\": [[0, \"#8e0152\"], [0.1, \"#c51b7d\"], [0.2, \"#de77ae\"], [0.3, \"#f1b6da\"], [0.4, \"#fde0ef\"], [0.5, \"#f7f7f7\"], [0.6, \"#e6f5d0\"], [0.7, \"#b8e186\"], [0.8, \"#7fbc41\"], [0.9, \"#4d9221\"], [1, \"#276419\"]], \"sequential\": [[0.0, \"#0d0887\"], [0.1111111111111111, \"#46039f\"], [0.2222222222222222, \"#7201a8\"], [0.3333333333333333, \"#9c179e\"], [0.4444444444444444, \"#bd3786\"], [0.5555555555555556, \"#d8576b\"], [0.6666666666666666, \"#ed7953\"], [0.7777777777777778, \"#fb9f3a\"], [0.8888888888888888, \"#fdca26\"], [1.0, \"#f0f921\"]], \"sequentialminus\": [[0.0, \"#0d0887\"], [0.1111111111111111, \"#46039f\"], [0.2222222222222222, \"#7201a8\"], [0.3333333333333333, \"#9c179e\"], [0.4444444444444444, \"#bd3786\"], [0.5555555555555556, \"#d8576b\"], [0.6666666666666666, \"#ed7953\"], [0.7777777777777778, \"#fb9f3a\"], [0.8888888888888888, \"#fdca26\"], [1.0, \"#f0f921\"]]}, \"colorway\": [\"#636efa\", \"#EF553B\", \"#00cc96\", \"#ab63fa\", \"#FFA15A\", \"#19d3f3\", \"#FF6692\", \"#B6E880\", \"#FF97FF\", \"#FECB52\"], \"font\": {\"color\": \"#2a3f5f\"}, \"geo\": {\"bgcolor\": \"white\", \"lakecolor\": \"white\", \"landcolor\": \"#E5ECF6\", \"showlakes\": true, \"showland\": true, \"subunitcolor\": \"white\"}, \"hoverlabel\": {\"align\": \"left\"}, \"hovermode\": \"closest\", \"mapbox\": {\"style\": \"light\"}, \"paper_bgcolor\": \"white\", \"plot_bgcolor\": \"#E5ECF6\", \"polar\": {\"angularaxis\": {\"gridcolor\": \"white\", \"linecolor\": \"white\", \"ticks\": \"\"}, \"bgcolor\": \"#E5ECF6\", \"radialaxis\": {\"gridcolor\": \"white\", \"linecolor\": \"white\", \"ticks\": \"\"}}, \"scene\": {\"xaxis\": {\"backgroundcolor\": \"#E5ECF6\", \"gridcolor\": \"white\", \"gridwidth\": 2, \"linecolor\": \"white\", \"showbackground\": true, \"ticks\": \"\", \"zerolinecolor\": \"white\"}, \"yaxis\": {\"backgroundcolor\": \"#E5ECF6\", \"gridcolor\": \"white\", \"gridwidth\": 2, \"linecolor\": \"white\", \"showbackground\": true, \"ticks\": \"\", \"zerolinecolor\": \"white\"}, \"zaxis\": {\"backgroundcolor\": \"#E5ECF6\", \"gridcolor\": \"white\", \"gridwidth\": 2, \"linecolor\": \"white\", \"showbackground\": true, \"ticks\": \"\", \"zerolinecolor\": \"white\"}}, \"shapedefaults\": {\"line\": {\"color\": \"#2a3f5f\"}}, \"ternary\": {\"aaxis\": {\"gridcolor\": \"white\", \"linecolor\": \"white\", \"ticks\": \"\"}, \"baxis\": {\"gridcolor\": \"white\", \"linecolor\": \"white\", \"ticks\": \"\"}, \"bgcolor\": \"#E5ECF6\", \"caxis\": {\"gridcolor\": \"white\", \"linecolor\": \"white\", \"ticks\": \"\"}}, \"title\": {\"x\": 0.05}, \"xaxis\": {\"automargin\": true, \"gridcolor\": \"white\", \"linecolor\": \"white\", \"ticks\": \"\", \"title\": {\"standoff\": 15}, \"zerolinecolor\": \"white\", \"zerolinewidth\": 2}, \"yaxis\": {\"automargin\": true, \"gridcolor\": \"white\", \"linecolor\": \"white\", \"ticks\": \"\", \"title\": {\"standoff\": 15}, \"zerolinecolor\": \"white\", \"zerolinewidth\": 2}}}, \"title\": {\"text\": \"\\u0412\\u043e\\u0440\\u043e\\u043d\\u043a\\u0430 \\u0441\\u043e\\u0431\\u044b\\u0442\\u0438\\u0439 \\u0432 \\u0438\\u043d\\u0442\\u0435\\u0440\\u043d\\u0435\\u0442-\\u043c\\u0430\\u0433\\u0430\\u0437\\u0438\\u043d\\u0435\", \"x\": 0.52, \"xanchor\": \"center\", \"y\": 0.9, \"yanchor\": \"top\"}},                        {\"responsive\": true}                    ).then(function(){\n",
       "                            \n",
       "var gd = document.getElementById('1e74f5f4-2bfa-48bd-8c96-a5c054eba57e');\n",
       "var x = new MutationObserver(function (mutations, observer) {{\n",
       "        var display = window.getComputedStyle(gd).display;\n",
       "        if (!display || display === 'none') {{\n",
       "            console.log([gd, 'removed!']);\n",
       "            Plotly.purge(gd);\n",
       "            observer.disconnect();\n",
       "        }}\n",
       "}});\n",
       "\n",
       "// Listen for the removal of the full notebook cells\n",
       "var notebookContainer = gd.closest('#notebook-container');\n",
       "if (notebookContainer) {{\n",
       "    x.observe(notebookContainer, {childList: true});\n",
       "}}\n",
       "\n",
       "// Listen for the clearing of the current output cell\n",
       "var outputEl = gd.closest('.output');\n",
       "if (outputEl) {{\n",
       "    x.observe(outputEl, {childList: true});\n",
       "}}\n",
       "\n",
       "                        })                };                });            </script>        </div>"
      ]
     },
     "metadata": {},
     "output_type": "display_data"
    }
   ],
   "source": [
    "fig = go.Figure(go.Funnel(\n",
    "    y = event_user['event_name'].to_list(),\n",
    "    x = event_user['user_id'].to_list(),\n",
    "    textposition = \"inside\",\n",
    "    textinfo = \"value+percent initial\",\n",
    "    hoverinfo='x+y+percent initial+percent previous',\n",
    "    marker = {\"color\": [\"deepskyblue\", \"lightsalmon\", \"tan\", \"teal\", \"silver\"]}\n",
    "    ))\n",
    "\n",
    "fig.update_layout(\n",
    "    title={\n",
    "        'text': \"Воронка событий в интернет-магазине\",\n",
    "        'y':0.9,\n",
    "        'x':0.52,\n",
    "        'xanchor': 'center',\n",
    "        'yanchor': 'top'}\n",
    ")\n",
    "\n",
    "fig.show() \n",
    "\n"
   ]
  },
  {
   "cell_type": "markdown",
   "metadata": {},
   "source": [
    "- 31% от авторизовавшихся покупателей доходит до оплаты покупки. \n",
    "- Это довольно оптимистичное значение, но мы не можем считать его объективным, так как данные по пользователям были собраны с многочисленными нарушениями.\n",
    "\n",
    "---\n",
    "Построим график воронки событий по разными группам A/B-теста. \n",
    "\n",
    "Сначала создадим сводные таблицы `event_user_a` и `event_user_b`, где для каждой группы по каждому событию найдем количество уникальных пользователей."
   ]
  },
  {
   "cell_type": "code",
   "execution_count": 72,
   "metadata": {},
   "outputs": [
    {
     "data": {
      "text/html": [
       "<div>\n",
       "<style scoped>\n",
       "    .dataframe tbody tr th:only-of-type {\n",
       "        vertical-align: middle;\n",
       "    }\n",
       "\n",
       "    .dataframe tbody tr th {\n",
       "        vertical-align: top;\n",
       "    }\n",
       "\n",
       "    .dataframe thead th {\n",
       "        text-align: right;\n",
       "    }\n",
       "</style>\n",
       "<table border=\"1\" class=\"dataframe\">\n",
       "  <thead>\n",
       "    <tr style=\"text-align: right;\">\n",
       "      <th></th>\n",
       "      <th>event_name</th>\n",
       "      <th>user_id</th>\n",
       "    </tr>\n",
       "  </thead>\n",
       "  <tbody>\n",
       "    <tr>\n",
       "      <th>0</th>\n",
       "      <td>login</td>\n",
       "      <td>1922</td>\n",
       "    </tr>\n",
       "    <tr>\n",
       "      <th>2</th>\n",
       "      <td>product_page</td>\n",
       "      <td>1257</td>\n",
       "    </tr>\n",
       "    <tr>\n",
       "      <th>3</th>\n",
       "      <td>purchase</td>\n",
       "      <td>613</td>\n",
       "    </tr>\n",
       "    <tr>\n",
       "      <th>1</th>\n",
       "      <td>product_cart</td>\n",
       "      <td>589</td>\n",
       "    </tr>\n",
       "  </tbody>\n",
       "</table>\n",
       "</div>"
      ],
      "text/plain": [
       "     event_name  user_id\n",
       "0         login     1922\n",
       "2  product_page     1257\n",
       "3      purchase      613\n",
       "1  product_cart      589"
      ]
     },
     "metadata": {},
     "output_type": "display_data"
    }
   ],
   "source": [
    "event_user_a = final_ab_events.query('group == \"A\"').pivot_table(index = 'event_name', values = 'user_id', aggfunc=lambda x: x.nunique())\\\n",
    ".reset_index().sort_values(by = 'user_id', ascending = False)\n",
    "display(event_user_a)"
   ]
  },
  {
   "cell_type": "code",
   "execution_count": 73,
   "metadata": {},
   "outputs": [
    {
     "data": {
      "text/html": [
       "<div>\n",
       "<style scoped>\n",
       "    .dataframe tbody tr th:only-of-type {\n",
       "        vertical-align: middle;\n",
       "    }\n",
       "\n",
       "    .dataframe tbody tr th {\n",
       "        vertical-align: top;\n",
       "    }\n",
       "\n",
       "    .dataframe thead th {\n",
       "        text-align: right;\n",
       "    }\n",
       "</style>\n",
       "<table border=\"1\" class=\"dataframe\">\n",
       "  <thead>\n",
       "    <tr style=\"text-align: right;\">\n",
       "      <th></th>\n",
       "      <th>event_name</th>\n",
       "      <th>user_id</th>\n",
       "    </tr>\n",
       "  </thead>\n",
       "  <tbody>\n",
       "    <tr>\n",
       "      <th>0</th>\n",
       "      <td>login</td>\n",
       "      <td>648</td>\n",
       "    </tr>\n",
       "    <tr>\n",
       "      <th>2</th>\n",
       "      <td>product_page</td>\n",
       "      <td>365</td>\n",
       "    </tr>\n",
       "    <tr>\n",
       "      <th>3</th>\n",
       "      <td>purchase</td>\n",
       "      <td>190</td>\n",
       "    </tr>\n",
       "    <tr>\n",
       "      <th>1</th>\n",
       "      <td>product_cart</td>\n",
       "      <td>184</td>\n",
       "    </tr>\n",
       "  </tbody>\n",
       "</table>\n",
       "</div>"
      ],
      "text/plain": [
       "     event_name  user_id\n",
       "0         login      648\n",
       "2  product_page      365\n",
       "3      purchase      190\n",
       "1  product_cart      184"
      ]
     },
     "metadata": {},
     "output_type": "display_data"
    }
   ],
   "source": [
    "event_user_b = final_ab_events.query('group == \"B\"').pivot_table(index = 'event_name', values = 'user_id', aggfunc=lambda x: x.nunique())\\\n",
    ".reset_index().sort_values(by = 'user_id', ascending = False)\n",
    "display(event_user_b)"
   ]
  },
  {
   "cell_type": "markdown",
   "metadata": {},
   "source": [
    "- Пользователей в группе А значительно больше, чем в В - это **нарушение условия равномерного разделения пользователей на группы при А/В-тестировании**. \n",
    "- Для каждой из групп характерна общая тенденция о том, что пользователи часто используют функцию быстрой оплаты товаров в обход корзины.\n",
    "\n",
    "---\n",
    "Выведем результат на объединенный график по группам."
   ]
  },
  {
   "cell_type": "code",
   "execution_count": 74,
   "metadata": {},
   "outputs": [
    {
     "data": {
      "application/vnd.plotly.v1+json": {
       "config": {
        "plotlyServerURL": "https://plot.ly"
       },
       "data": [
        {
         "hoverinfo": "x+y+percent initial+percent previous",
         "name": "группа A",
         "textinfo": "value+percent initial",
         "type": "funnel",
         "x": [
          1922,
          1257,
          613,
          589
         ],
         "y": [
          "login",
          "product_page",
          "purchase",
          "product_cart"
         ]
        },
        {
         "hoverinfo": "x+y+percent initial+percent previous",
         "name": "группа B",
         "orientation": "h",
         "textinfo": "value+percent initial",
         "textposition": "inside",
         "type": "funnel",
         "x": [
          648,
          365,
          190,
          184
         ],
         "y": [
          "login",
          "product_page",
          "purchase",
          "product_cart"
         ]
        }
       ],
       "layout": {
        "template": {
         "data": {
          "bar": [
           {
            "error_x": {
             "color": "#2a3f5f"
            },
            "error_y": {
             "color": "#2a3f5f"
            },
            "marker": {
             "line": {
              "color": "#E5ECF6",
              "width": 0.5
             }
            },
            "type": "bar"
           }
          ],
          "barpolar": [
           {
            "marker": {
             "line": {
              "color": "#E5ECF6",
              "width": 0.5
             }
            },
            "type": "barpolar"
           }
          ],
          "carpet": [
           {
            "aaxis": {
             "endlinecolor": "#2a3f5f",
             "gridcolor": "white",
             "linecolor": "white",
             "minorgridcolor": "white",
             "startlinecolor": "#2a3f5f"
            },
            "baxis": {
             "endlinecolor": "#2a3f5f",
             "gridcolor": "white",
             "linecolor": "white",
             "minorgridcolor": "white",
             "startlinecolor": "#2a3f5f"
            },
            "type": "carpet"
           }
          ],
          "choropleth": [
           {
            "colorbar": {
             "outlinewidth": 0,
             "ticks": ""
            },
            "type": "choropleth"
           }
          ],
          "contour": [
           {
            "colorbar": {
             "outlinewidth": 0,
             "ticks": ""
            },
            "colorscale": [
             [
              0,
              "#0d0887"
             ],
             [
              0.1111111111111111,
              "#46039f"
             ],
             [
              0.2222222222222222,
              "#7201a8"
             ],
             [
              0.3333333333333333,
              "#9c179e"
             ],
             [
              0.4444444444444444,
              "#bd3786"
             ],
             [
              0.5555555555555556,
              "#d8576b"
             ],
             [
              0.6666666666666666,
              "#ed7953"
             ],
             [
              0.7777777777777778,
              "#fb9f3a"
             ],
             [
              0.8888888888888888,
              "#fdca26"
             ],
             [
              1,
              "#f0f921"
             ]
            ],
            "type": "contour"
           }
          ],
          "contourcarpet": [
           {
            "colorbar": {
             "outlinewidth": 0,
             "ticks": ""
            },
            "type": "contourcarpet"
           }
          ],
          "heatmap": [
           {
            "colorbar": {
             "outlinewidth": 0,
             "ticks": ""
            },
            "colorscale": [
             [
              0,
              "#0d0887"
             ],
             [
              0.1111111111111111,
              "#46039f"
             ],
             [
              0.2222222222222222,
              "#7201a8"
             ],
             [
              0.3333333333333333,
              "#9c179e"
             ],
             [
              0.4444444444444444,
              "#bd3786"
             ],
             [
              0.5555555555555556,
              "#d8576b"
             ],
             [
              0.6666666666666666,
              "#ed7953"
             ],
             [
              0.7777777777777778,
              "#fb9f3a"
             ],
             [
              0.8888888888888888,
              "#fdca26"
             ],
             [
              1,
              "#f0f921"
             ]
            ],
            "type": "heatmap"
           }
          ],
          "heatmapgl": [
           {
            "colorbar": {
             "outlinewidth": 0,
             "ticks": ""
            },
            "colorscale": [
             [
              0,
              "#0d0887"
             ],
             [
              0.1111111111111111,
              "#46039f"
             ],
             [
              0.2222222222222222,
              "#7201a8"
             ],
             [
              0.3333333333333333,
              "#9c179e"
             ],
             [
              0.4444444444444444,
              "#bd3786"
             ],
             [
              0.5555555555555556,
              "#d8576b"
             ],
             [
              0.6666666666666666,
              "#ed7953"
             ],
             [
              0.7777777777777778,
              "#fb9f3a"
             ],
             [
              0.8888888888888888,
              "#fdca26"
             ],
             [
              1,
              "#f0f921"
             ]
            ],
            "type": "heatmapgl"
           }
          ],
          "histogram": [
           {
            "marker": {
             "colorbar": {
              "outlinewidth": 0,
              "ticks": ""
             }
            },
            "type": "histogram"
           }
          ],
          "histogram2d": [
           {
            "colorbar": {
             "outlinewidth": 0,
             "ticks": ""
            },
            "colorscale": [
             [
              0,
              "#0d0887"
             ],
             [
              0.1111111111111111,
              "#46039f"
             ],
             [
              0.2222222222222222,
              "#7201a8"
             ],
             [
              0.3333333333333333,
              "#9c179e"
             ],
             [
              0.4444444444444444,
              "#bd3786"
             ],
             [
              0.5555555555555556,
              "#d8576b"
             ],
             [
              0.6666666666666666,
              "#ed7953"
             ],
             [
              0.7777777777777778,
              "#fb9f3a"
             ],
             [
              0.8888888888888888,
              "#fdca26"
             ],
             [
              1,
              "#f0f921"
             ]
            ],
            "type": "histogram2d"
           }
          ],
          "histogram2dcontour": [
           {
            "colorbar": {
             "outlinewidth": 0,
             "ticks": ""
            },
            "colorscale": [
             [
              0,
              "#0d0887"
             ],
             [
              0.1111111111111111,
              "#46039f"
             ],
             [
              0.2222222222222222,
              "#7201a8"
             ],
             [
              0.3333333333333333,
              "#9c179e"
             ],
             [
              0.4444444444444444,
              "#bd3786"
             ],
             [
              0.5555555555555556,
              "#d8576b"
             ],
             [
              0.6666666666666666,
              "#ed7953"
             ],
             [
              0.7777777777777778,
              "#fb9f3a"
             ],
             [
              0.8888888888888888,
              "#fdca26"
             ],
             [
              1,
              "#f0f921"
             ]
            ],
            "type": "histogram2dcontour"
           }
          ],
          "mesh3d": [
           {
            "colorbar": {
             "outlinewidth": 0,
             "ticks": ""
            },
            "type": "mesh3d"
           }
          ],
          "parcoords": [
           {
            "line": {
             "colorbar": {
              "outlinewidth": 0,
              "ticks": ""
             }
            },
            "type": "parcoords"
           }
          ],
          "pie": [
           {
            "automargin": true,
            "type": "pie"
           }
          ],
          "scatter": [
           {
            "marker": {
             "colorbar": {
              "outlinewidth": 0,
              "ticks": ""
             }
            },
            "type": "scatter"
           }
          ],
          "scatter3d": [
           {
            "line": {
             "colorbar": {
              "outlinewidth": 0,
              "ticks": ""
             }
            },
            "marker": {
             "colorbar": {
              "outlinewidth": 0,
              "ticks": ""
             }
            },
            "type": "scatter3d"
           }
          ],
          "scattercarpet": [
           {
            "marker": {
             "colorbar": {
              "outlinewidth": 0,
              "ticks": ""
             }
            },
            "type": "scattercarpet"
           }
          ],
          "scattergeo": [
           {
            "marker": {
             "colorbar": {
              "outlinewidth": 0,
              "ticks": ""
             }
            },
            "type": "scattergeo"
           }
          ],
          "scattergl": [
           {
            "marker": {
             "colorbar": {
              "outlinewidth": 0,
              "ticks": ""
             }
            },
            "type": "scattergl"
           }
          ],
          "scattermapbox": [
           {
            "marker": {
             "colorbar": {
              "outlinewidth": 0,
              "ticks": ""
             }
            },
            "type": "scattermapbox"
           }
          ],
          "scatterpolar": [
           {
            "marker": {
             "colorbar": {
              "outlinewidth": 0,
              "ticks": ""
             }
            },
            "type": "scatterpolar"
           }
          ],
          "scatterpolargl": [
           {
            "marker": {
             "colorbar": {
              "outlinewidth": 0,
              "ticks": ""
             }
            },
            "type": "scatterpolargl"
           }
          ],
          "scatterternary": [
           {
            "marker": {
             "colorbar": {
              "outlinewidth": 0,
              "ticks": ""
             }
            },
            "type": "scatterternary"
           }
          ],
          "surface": [
           {
            "colorbar": {
             "outlinewidth": 0,
             "ticks": ""
            },
            "colorscale": [
             [
              0,
              "#0d0887"
             ],
             [
              0.1111111111111111,
              "#46039f"
             ],
             [
              0.2222222222222222,
              "#7201a8"
             ],
             [
              0.3333333333333333,
              "#9c179e"
             ],
             [
              0.4444444444444444,
              "#bd3786"
             ],
             [
              0.5555555555555556,
              "#d8576b"
             ],
             [
              0.6666666666666666,
              "#ed7953"
             ],
             [
              0.7777777777777778,
              "#fb9f3a"
             ],
             [
              0.8888888888888888,
              "#fdca26"
             ],
             [
              1,
              "#f0f921"
             ]
            ],
            "type": "surface"
           }
          ],
          "table": [
           {
            "cells": {
             "fill": {
              "color": "#EBF0F8"
             },
             "line": {
              "color": "white"
             }
            },
            "header": {
             "fill": {
              "color": "#C8D4E3"
             },
             "line": {
              "color": "white"
             }
            },
            "type": "table"
           }
          ]
         },
         "layout": {
          "annotationdefaults": {
           "arrowcolor": "#2a3f5f",
           "arrowhead": 0,
           "arrowwidth": 1
          },
          "autotypenumbers": "strict",
          "coloraxis": {
           "colorbar": {
            "outlinewidth": 0,
            "ticks": ""
           }
          },
          "colorscale": {
           "diverging": [
            [
             0,
             "#8e0152"
            ],
            [
             0.1,
             "#c51b7d"
            ],
            [
             0.2,
             "#de77ae"
            ],
            [
             0.3,
             "#f1b6da"
            ],
            [
             0.4,
             "#fde0ef"
            ],
            [
             0.5,
             "#f7f7f7"
            ],
            [
             0.6,
             "#e6f5d0"
            ],
            [
             0.7,
             "#b8e186"
            ],
            [
             0.8,
             "#7fbc41"
            ],
            [
             0.9,
             "#4d9221"
            ],
            [
             1,
             "#276419"
            ]
           ],
           "sequential": [
            [
             0,
             "#0d0887"
            ],
            [
             0.1111111111111111,
             "#46039f"
            ],
            [
             0.2222222222222222,
             "#7201a8"
            ],
            [
             0.3333333333333333,
             "#9c179e"
            ],
            [
             0.4444444444444444,
             "#bd3786"
            ],
            [
             0.5555555555555556,
             "#d8576b"
            ],
            [
             0.6666666666666666,
             "#ed7953"
            ],
            [
             0.7777777777777778,
             "#fb9f3a"
            ],
            [
             0.8888888888888888,
             "#fdca26"
            ],
            [
             1,
             "#f0f921"
            ]
           ],
           "sequentialminus": [
            [
             0,
             "#0d0887"
            ],
            [
             0.1111111111111111,
             "#46039f"
            ],
            [
             0.2222222222222222,
             "#7201a8"
            ],
            [
             0.3333333333333333,
             "#9c179e"
            ],
            [
             0.4444444444444444,
             "#bd3786"
            ],
            [
             0.5555555555555556,
             "#d8576b"
            ],
            [
             0.6666666666666666,
             "#ed7953"
            ],
            [
             0.7777777777777778,
             "#fb9f3a"
            ],
            [
             0.8888888888888888,
             "#fdca26"
            ],
            [
             1,
             "#f0f921"
            ]
           ]
          },
          "colorway": [
           "#636efa",
           "#EF553B",
           "#00cc96",
           "#ab63fa",
           "#FFA15A",
           "#19d3f3",
           "#FF6692",
           "#B6E880",
           "#FF97FF",
           "#FECB52"
          ],
          "font": {
           "color": "#2a3f5f"
          },
          "geo": {
           "bgcolor": "white",
           "lakecolor": "white",
           "landcolor": "#E5ECF6",
           "showlakes": true,
           "showland": true,
           "subunitcolor": "white"
          },
          "hoverlabel": {
           "align": "left"
          },
          "hovermode": "closest",
          "mapbox": {
           "style": "light"
          },
          "paper_bgcolor": "white",
          "plot_bgcolor": "#E5ECF6",
          "polar": {
           "angularaxis": {
            "gridcolor": "white",
            "linecolor": "white",
            "ticks": ""
           },
           "bgcolor": "#E5ECF6",
           "radialaxis": {
            "gridcolor": "white",
            "linecolor": "white",
            "ticks": ""
           }
          },
          "scene": {
           "xaxis": {
            "backgroundcolor": "#E5ECF6",
            "gridcolor": "white",
            "gridwidth": 2,
            "linecolor": "white",
            "showbackground": true,
            "ticks": "",
            "zerolinecolor": "white"
           },
           "yaxis": {
            "backgroundcolor": "#E5ECF6",
            "gridcolor": "white",
            "gridwidth": 2,
            "linecolor": "white",
            "showbackground": true,
            "ticks": "",
            "zerolinecolor": "white"
           },
           "zaxis": {
            "backgroundcolor": "#E5ECF6",
            "gridcolor": "white",
            "gridwidth": 2,
            "linecolor": "white",
            "showbackground": true,
            "ticks": "",
            "zerolinecolor": "white"
           }
          },
          "shapedefaults": {
           "line": {
            "color": "#2a3f5f"
           }
          },
          "ternary": {
           "aaxis": {
            "gridcolor": "white",
            "linecolor": "white",
            "ticks": ""
           },
           "baxis": {
            "gridcolor": "white",
            "linecolor": "white",
            "ticks": ""
           },
           "bgcolor": "#E5ECF6",
           "caxis": {
            "gridcolor": "white",
            "linecolor": "white",
            "ticks": ""
           }
          },
          "title": {
           "x": 0.05
          },
          "xaxis": {
           "automargin": true,
           "gridcolor": "white",
           "linecolor": "white",
           "ticks": "",
           "title": {
            "standoff": 15
           },
           "zerolinecolor": "white",
           "zerolinewidth": 2
          },
          "yaxis": {
           "automargin": true,
           "gridcolor": "white",
           "linecolor": "white",
           "ticks": "",
           "title": {
            "standoff": 15
           },
           "zerolinecolor": "white",
           "zerolinewidth": 2
          }
         }
        },
        "title": {
         "text": "Воронка событий в интернет-магазине по группам A/B-теста",
         "x": 0.5,
         "xanchor": "center",
         "y": 0.9,
         "yanchor": "top"
        }
       }
      },
      "text/html": [
       "<div>                            <div id=\"f4084029-972b-478a-a4ad-73361975b933\" class=\"plotly-graph-div\" style=\"height:525px; width:100%;\"></div>            <script type=\"text/javascript\">                require([\"plotly\"], function(Plotly) {                    window.PLOTLYENV=window.PLOTLYENV || {};                                    if (document.getElementById(\"f4084029-972b-478a-a4ad-73361975b933\")) {                    Plotly.newPlot(                        \"f4084029-972b-478a-a4ad-73361975b933\",                        [{\"hoverinfo\": \"x+y+percent initial+percent previous\", \"name\": \"\\u0433\\u0440\\u0443\\u043f\\u043f\\u0430 A\", \"textinfo\": \"value+percent initial\", \"type\": \"funnel\", \"x\": [1922, 1257, 613, 589], \"y\": [\"login\", \"product_page\", \"purchase\", \"product_cart\"]}, {\"hoverinfo\": \"x+y+percent initial+percent previous\", \"name\": \"\\u0433\\u0440\\u0443\\u043f\\u043f\\u0430 B\", \"orientation\": \"h\", \"textinfo\": \"value+percent initial\", \"textposition\": \"inside\", \"type\": \"funnel\", \"x\": [648, 365, 190, 184], \"y\": [\"login\", \"product_page\", \"purchase\", \"product_cart\"]}],                        {\"template\": {\"data\": {\"bar\": [{\"error_x\": {\"color\": \"#2a3f5f\"}, \"error_y\": {\"color\": \"#2a3f5f\"}, \"marker\": {\"line\": {\"color\": \"#E5ECF6\", \"width\": 0.5}}, \"type\": \"bar\"}], \"barpolar\": [{\"marker\": {\"line\": {\"color\": \"#E5ECF6\", \"width\": 0.5}}, \"type\": \"barpolar\"}], \"carpet\": [{\"aaxis\": {\"endlinecolor\": \"#2a3f5f\", \"gridcolor\": \"white\", \"linecolor\": \"white\", \"minorgridcolor\": \"white\", \"startlinecolor\": \"#2a3f5f\"}, \"baxis\": {\"endlinecolor\": \"#2a3f5f\", \"gridcolor\": \"white\", \"linecolor\": \"white\", \"minorgridcolor\": \"white\", \"startlinecolor\": \"#2a3f5f\"}, \"type\": \"carpet\"}], \"choropleth\": [{\"colorbar\": {\"outlinewidth\": 0, \"ticks\": \"\"}, \"type\": \"choropleth\"}], \"contour\": [{\"colorbar\": {\"outlinewidth\": 0, \"ticks\": \"\"}, \"colorscale\": [[0.0, \"#0d0887\"], [0.1111111111111111, \"#46039f\"], [0.2222222222222222, \"#7201a8\"], [0.3333333333333333, \"#9c179e\"], [0.4444444444444444, \"#bd3786\"], [0.5555555555555556, \"#d8576b\"], [0.6666666666666666, \"#ed7953\"], [0.7777777777777778, \"#fb9f3a\"], [0.8888888888888888, \"#fdca26\"], [1.0, \"#f0f921\"]], \"type\": \"contour\"}], \"contourcarpet\": [{\"colorbar\": {\"outlinewidth\": 0, \"ticks\": \"\"}, \"type\": \"contourcarpet\"}], \"heatmap\": [{\"colorbar\": {\"outlinewidth\": 0, \"ticks\": \"\"}, \"colorscale\": [[0.0, \"#0d0887\"], [0.1111111111111111, \"#46039f\"], [0.2222222222222222, \"#7201a8\"], [0.3333333333333333, \"#9c179e\"], [0.4444444444444444, \"#bd3786\"], [0.5555555555555556, \"#d8576b\"], [0.6666666666666666, \"#ed7953\"], [0.7777777777777778, \"#fb9f3a\"], [0.8888888888888888, \"#fdca26\"], [1.0, \"#f0f921\"]], \"type\": \"heatmap\"}], \"heatmapgl\": [{\"colorbar\": {\"outlinewidth\": 0, \"ticks\": \"\"}, \"colorscale\": [[0.0, \"#0d0887\"], [0.1111111111111111, \"#46039f\"], [0.2222222222222222, \"#7201a8\"], [0.3333333333333333, \"#9c179e\"], [0.4444444444444444, \"#bd3786\"], [0.5555555555555556, \"#d8576b\"], [0.6666666666666666, \"#ed7953\"], [0.7777777777777778, \"#fb9f3a\"], [0.8888888888888888, \"#fdca26\"], [1.0, \"#f0f921\"]], \"type\": \"heatmapgl\"}], \"histogram\": [{\"marker\": {\"colorbar\": {\"outlinewidth\": 0, \"ticks\": \"\"}}, \"type\": \"histogram\"}], \"histogram2d\": [{\"colorbar\": {\"outlinewidth\": 0, \"ticks\": \"\"}, \"colorscale\": [[0.0, \"#0d0887\"], [0.1111111111111111, \"#46039f\"], [0.2222222222222222, \"#7201a8\"], [0.3333333333333333, \"#9c179e\"], [0.4444444444444444, \"#bd3786\"], [0.5555555555555556, \"#d8576b\"], [0.6666666666666666, \"#ed7953\"], [0.7777777777777778, \"#fb9f3a\"], [0.8888888888888888, \"#fdca26\"], [1.0, \"#f0f921\"]], \"type\": \"histogram2d\"}], \"histogram2dcontour\": [{\"colorbar\": {\"outlinewidth\": 0, \"ticks\": \"\"}, \"colorscale\": [[0.0, \"#0d0887\"], [0.1111111111111111, \"#46039f\"], [0.2222222222222222, \"#7201a8\"], [0.3333333333333333, \"#9c179e\"], [0.4444444444444444, \"#bd3786\"], [0.5555555555555556, \"#d8576b\"], [0.6666666666666666, \"#ed7953\"], [0.7777777777777778, \"#fb9f3a\"], [0.8888888888888888, \"#fdca26\"], [1.0, \"#f0f921\"]], \"type\": \"histogram2dcontour\"}], \"mesh3d\": [{\"colorbar\": {\"outlinewidth\": 0, \"ticks\": \"\"}, \"type\": \"mesh3d\"}], \"parcoords\": [{\"line\": {\"colorbar\": {\"outlinewidth\": 0, \"ticks\": \"\"}}, \"type\": \"parcoords\"}], \"pie\": [{\"automargin\": true, \"type\": \"pie\"}], \"scatter\": [{\"marker\": {\"colorbar\": {\"outlinewidth\": 0, \"ticks\": \"\"}}, \"type\": \"scatter\"}], \"scatter3d\": [{\"line\": {\"colorbar\": {\"outlinewidth\": 0, \"ticks\": \"\"}}, \"marker\": {\"colorbar\": {\"outlinewidth\": 0, \"ticks\": \"\"}}, \"type\": \"scatter3d\"}], \"scattercarpet\": [{\"marker\": {\"colorbar\": {\"outlinewidth\": 0, \"ticks\": \"\"}}, \"type\": \"scattercarpet\"}], \"scattergeo\": [{\"marker\": {\"colorbar\": {\"outlinewidth\": 0, \"ticks\": \"\"}}, \"type\": \"scattergeo\"}], \"scattergl\": [{\"marker\": {\"colorbar\": {\"outlinewidth\": 0, \"ticks\": \"\"}}, \"type\": \"scattergl\"}], \"scattermapbox\": [{\"marker\": {\"colorbar\": {\"outlinewidth\": 0, \"ticks\": \"\"}}, \"type\": \"scattermapbox\"}], \"scatterpolar\": [{\"marker\": {\"colorbar\": {\"outlinewidth\": 0, \"ticks\": \"\"}}, \"type\": \"scatterpolar\"}], \"scatterpolargl\": [{\"marker\": {\"colorbar\": {\"outlinewidth\": 0, \"ticks\": \"\"}}, \"type\": \"scatterpolargl\"}], \"scatterternary\": [{\"marker\": {\"colorbar\": {\"outlinewidth\": 0, \"ticks\": \"\"}}, \"type\": \"scatterternary\"}], \"surface\": [{\"colorbar\": {\"outlinewidth\": 0, \"ticks\": \"\"}, \"colorscale\": [[0.0, \"#0d0887\"], [0.1111111111111111, \"#46039f\"], [0.2222222222222222, \"#7201a8\"], [0.3333333333333333, \"#9c179e\"], [0.4444444444444444, \"#bd3786\"], [0.5555555555555556, \"#d8576b\"], [0.6666666666666666, \"#ed7953\"], [0.7777777777777778, \"#fb9f3a\"], [0.8888888888888888, \"#fdca26\"], [1.0, \"#f0f921\"]], \"type\": \"surface\"}], \"table\": [{\"cells\": {\"fill\": {\"color\": \"#EBF0F8\"}, \"line\": {\"color\": \"white\"}}, \"header\": {\"fill\": {\"color\": \"#C8D4E3\"}, \"line\": {\"color\": \"white\"}}, \"type\": \"table\"}]}, \"layout\": {\"annotationdefaults\": {\"arrowcolor\": \"#2a3f5f\", \"arrowhead\": 0, \"arrowwidth\": 1}, \"autotypenumbers\": \"strict\", \"coloraxis\": {\"colorbar\": {\"outlinewidth\": 0, \"ticks\": \"\"}}, \"colorscale\": {\"diverging\": [[0, \"#8e0152\"], [0.1, \"#c51b7d\"], [0.2, \"#de77ae\"], [0.3, \"#f1b6da\"], [0.4, \"#fde0ef\"], [0.5, \"#f7f7f7\"], [0.6, \"#e6f5d0\"], [0.7, \"#b8e186\"], [0.8, \"#7fbc41\"], [0.9, \"#4d9221\"], [1, \"#276419\"]], \"sequential\": [[0.0, \"#0d0887\"], [0.1111111111111111, \"#46039f\"], [0.2222222222222222, \"#7201a8\"], [0.3333333333333333, \"#9c179e\"], [0.4444444444444444, \"#bd3786\"], [0.5555555555555556, \"#d8576b\"], [0.6666666666666666, \"#ed7953\"], [0.7777777777777778, \"#fb9f3a\"], [0.8888888888888888, \"#fdca26\"], [1.0, \"#f0f921\"]], \"sequentialminus\": [[0.0, \"#0d0887\"], [0.1111111111111111, \"#46039f\"], [0.2222222222222222, \"#7201a8\"], [0.3333333333333333, \"#9c179e\"], [0.4444444444444444, \"#bd3786\"], [0.5555555555555556, \"#d8576b\"], [0.6666666666666666, \"#ed7953\"], [0.7777777777777778, \"#fb9f3a\"], [0.8888888888888888, \"#fdca26\"], [1.0, \"#f0f921\"]]}, \"colorway\": [\"#636efa\", \"#EF553B\", \"#00cc96\", \"#ab63fa\", \"#FFA15A\", \"#19d3f3\", \"#FF6692\", \"#B6E880\", \"#FF97FF\", \"#FECB52\"], \"font\": {\"color\": \"#2a3f5f\"}, \"geo\": {\"bgcolor\": \"white\", \"lakecolor\": \"white\", \"landcolor\": \"#E5ECF6\", \"showlakes\": true, \"showland\": true, \"subunitcolor\": \"white\"}, \"hoverlabel\": {\"align\": \"left\"}, \"hovermode\": \"closest\", \"mapbox\": {\"style\": \"light\"}, \"paper_bgcolor\": \"white\", \"plot_bgcolor\": \"#E5ECF6\", \"polar\": {\"angularaxis\": {\"gridcolor\": \"white\", \"linecolor\": \"white\", \"ticks\": \"\"}, \"bgcolor\": \"#E5ECF6\", \"radialaxis\": {\"gridcolor\": \"white\", \"linecolor\": \"white\", \"ticks\": \"\"}}, \"scene\": {\"xaxis\": {\"backgroundcolor\": \"#E5ECF6\", \"gridcolor\": \"white\", \"gridwidth\": 2, \"linecolor\": \"white\", \"showbackground\": true, \"ticks\": \"\", \"zerolinecolor\": \"white\"}, \"yaxis\": {\"backgroundcolor\": \"#E5ECF6\", \"gridcolor\": \"white\", \"gridwidth\": 2, \"linecolor\": \"white\", \"showbackground\": true, \"ticks\": \"\", \"zerolinecolor\": \"white\"}, \"zaxis\": {\"backgroundcolor\": \"#E5ECF6\", \"gridcolor\": \"white\", \"gridwidth\": 2, \"linecolor\": \"white\", \"showbackground\": true, \"ticks\": \"\", \"zerolinecolor\": \"white\"}}, \"shapedefaults\": {\"line\": {\"color\": \"#2a3f5f\"}}, \"ternary\": {\"aaxis\": {\"gridcolor\": \"white\", \"linecolor\": \"white\", \"ticks\": \"\"}, \"baxis\": {\"gridcolor\": \"white\", \"linecolor\": \"white\", \"ticks\": \"\"}, \"bgcolor\": \"#E5ECF6\", \"caxis\": {\"gridcolor\": \"white\", \"linecolor\": \"white\", \"ticks\": \"\"}}, \"title\": {\"x\": 0.05}, \"xaxis\": {\"automargin\": true, \"gridcolor\": \"white\", \"linecolor\": \"white\", \"ticks\": \"\", \"title\": {\"standoff\": 15}, \"zerolinecolor\": \"white\", \"zerolinewidth\": 2}, \"yaxis\": {\"automargin\": true, \"gridcolor\": \"white\", \"linecolor\": \"white\", \"ticks\": \"\", \"title\": {\"standoff\": 15}, \"zerolinecolor\": \"white\", \"zerolinewidth\": 2}}}, \"title\": {\"text\": \"\\u0412\\u043e\\u0440\\u043e\\u043d\\u043a\\u0430 \\u0441\\u043e\\u0431\\u044b\\u0442\\u0438\\u0439 \\u0432 \\u0438\\u043d\\u0442\\u0435\\u0440\\u043d\\u0435\\u0442-\\u043c\\u0430\\u0433\\u0430\\u0437\\u0438\\u043d\\u0435 \\u043f\\u043e \\u0433\\u0440\\u0443\\u043f\\u043f\\u0430\\u043c A/B-\\u0442\\u0435\\u0441\\u0442\\u0430\", \"x\": 0.5, \"xanchor\": \"center\", \"y\": 0.9, \"yanchor\": \"top\"}},                        {\"responsive\": true}                    ).then(function(){\n",
       "                            \n",
       "var gd = document.getElementById('f4084029-972b-478a-a4ad-73361975b933');\n",
       "var x = new MutationObserver(function (mutations, observer) {{\n",
       "        var display = window.getComputedStyle(gd).display;\n",
       "        if (!display || display === 'none') {{\n",
       "            console.log([gd, 'removed!']);\n",
       "            Plotly.purge(gd);\n",
       "            observer.disconnect();\n",
       "        }}\n",
       "}});\n",
       "\n",
       "// Listen for the removal of the full notebook cells\n",
       "var notebookContainer = gd.closest('#notebook-container');\n",
       "if (notebookContainer) {{\n",
       "    x.observe(notebookContainer, {childList: true});\n",
       "}}\n",
       "\n",
       "// Listen for the clearing of the current output cell\n",
       "var outputEl = gd.closest('.output');\n",
       "if (outputEl) {{\n",
       "    x.observe(outputEl, {childList: true});\n",
       "}}\n",
       "\n",
       "                        })                };                });            </script>        </div>"
      ]
     },
     "metadata": {},
     "output_type": "display_data"
    }
   ],
   "source": [
    "fig = go.Figure()\n",
    "\n",
    "fig.add_trace(go.Funnel(\n",
    "    name = 'группа A',\n",
    "    y = event_user_a['event_name'].to_list(),\n",
    "    x = event_user_a['user_id'].to_list(),\n",
    "    textinfo = \"value+percent initial\",\n",
    "    hoverinfo='x+y+percent initial+percent previous'))\n",
    "\n",
    "fig.add_trace(go.Funnel(\n",
    "    name = 'группа B',\n",
    "    orientation = \"h\",\n",
    "    y = event_user_b['event_name'].to_list(),\n",
    "    x = event_user_b['user_id'].to_list(),\n",
    "    textposition = \"inside\",\n",
    "    textinfo = \"value+percent initial\",\n",
    "    hoverinfo='x+y+percent initial+percent previous'))\n",
    "\n",
    "\n",
    "\n",
    "fig.update_layout(\n",
    "    title={\n",
    "        'text': \"Воронка событий в интернет-магазине по группам A/B-теста\",\n",
    "        'y':0.9,\n",
    "        'x':0.5,\n",
    "        'xanchor': 'center',\n",
    "        'yanchor': 'top'}\n",
    ")\n",
    "\n",
    "\n",
    "fig.show()"
   ]
  },
  {
   "cell_type": "markdown",
   "metadata": {},
   "source": [
    "- На графике видно, что численность пользователей в группе А на всех этапах конверсии больше, чем в группе В - это **нарушение условия равномерного разделения пользователей на группы при А/В-тестировании**.\n",
    "- Для каждой из групп характерна общая тенденция о том, что пользователи часто используют функцию быстрой оплаты товаров в обход корзины.\n",
    "- В процентных соотношениях доли перехода на этапы воронки в обеих группах похожи.\n",
    "- По 30% пользователей из обеих групп, которые авторизировались на платформе, оплатили покупки."
   ]
  },
  {
   "cell_type": "markdown",
   "metadata": {},
   "source": [
    "<div id='id-section23'/>\n",
    "\n",
    "### [Исследуем распределение количества событий на пользователя в выборках](#id-section24)\n",
    "\n",
    "Для двух групп построим рядом гистограммы распределения количества событий на пользователя."
   ]
  },
  {
   "cell_type": "code",
   "execution_count": 75,
   "metadata": {
    "scrolled": true
   },
   "outputs": [
    {
     "data": {
      "image/png": "[encoded data removed]",
      "text/plain": [
       "<Figure size 1080x360 with 2 Axes>"
      ]
     },
     "metadata": {
      "needs_background": "light"
     },
     "output_type": "display_data"
    }
   ],
   "source": [
    "fig, (a, b) = plt.subplots(1, 2, figsize = (15, 5))     \n",
    "sns.distplot(final_ab_events.query('group == \"A\"').groupby('user_id')['event_name'].count(), bins = 100, color = 'blue', ax = a)\n",
    "a.set_xlabel('количество событий')\n",
    "a.set_ylabel('частота')\n",
    "a.set_title(f'Распределение количества событий на пользователя \\nдля группы А')\n",
    "a.grid()\n",
    "sns.despine()\n",
    "    \n",
    "sns.distplot(final_ab_events.query('group == \"B\"').groupby('user_id')['event_name'].count(), bins = 100, color = 'red', ax = b)\n",
    "b.set_xlabel('количество событий')\n",
    "b.set_ylabel('частота')\n",
    "b.set_title(f'Распределение количества событий на пользователя \\nдля группы B')\n",
    "b.grid()\n",
    "sns.despine()"
   ]
  },
  {
   "cell_type": "markdown",
   "metadata": {},
   "source": [
    "- На первый взгляд, распределение количества событий на пользователя в двух группах выглядит похожим.\n",
    "- В группе А больше пользователей, которые совершали много событий (от 10 до 16).\n",
    "- В группе В больше пользователей, которые совершали мало событий (от 1 до 5)."
   ]
  },
  {
   "cell_type": "markdown",
   "metadata": {},
   "source": [
    "<div id='id-section25'/>\n",
    "\n",
    "### [Посмотрим на число событий по дням в выборках](#id-section26)\n",
    "\n",
    "Для двух групп построим рядом графики числа событий по дням.\n",
    "\n",
    "Для удобного отображения создадим столбец только с датой, без времени."
   ]
  },
  {
   "cell_type": "code",
   "execution_count": 76,
   "metadata": {},
   "outputs": [],
   "source": [
    "final_ab_events['event_date'] = final_ab_events['event_dt'].dt.date"
   ]
  },
  {
   "cell_type": "code",
   "execution_count": 77,
   "metadata": {},
   "outputs": [
    {
     "data": {
      "image/png": "[encoded data removed]",
      "text/plain": [
       "<Figure size 1080x360 with 2 Axes>"
      ]
     },
     "metadata": {
      "needs_background": "light"
     },
     "output_type": "display_data"
    }
   ],
   "source": [
    "fig, (ax1, ax2) = plt.subplots(1, 2, figsize = (15, 5))\n",
    "plt.subplots_adjust(left=None, bottom=None, right=None, top=None, wspace=0.5, hspace=0.5)\n",
    "\n",
    "final_ab_events.query('group == \"A\"').groupby('event_date')['event_name'].count().plot(kind = 'bar', title = \\\n",
    "    'Число событий по дням в группе A', grid = True, ax = ax1)\n",
    "ax1.set_xlabel('дни')\n",
    "ax1.set_ylabel('число событий')\n",
    "\n",
    "\n",
    "final_ab_events.query('group == \"B\"').groupby('event_date')['event_name'].count().plot(kind = 'bar', title = \\\n",
    "    'Число событий по дням в группе B', grid = True, ax = ax2)\n",
    "ax2.set_xlabel('дни')\n",
    "ax2.set_ylabel('число событий')\n",
    "plt.show()"
   ]
  },
  {
   "cell_type": "markdown",
   "metadata": {},
   "source": [
    "- Группа А значительно превосходит группу В по числу событий по дням. **Это также может свидетельствовать о некорректном разделении пользователей на две группы**.\n",
    "- Особенно виден резкий скачок в количестве событий в группе А, начиная с 14 декабря. Данное явление может говорить о влиянии на пользователей из группы А какого-то события, которого не было в календаре маркетинговых событий за год. **Этот аспект тоже говорит о возможном нарушении методики тестирования.**\n",
    "- В группе В такого резкого разрыва в числе событий не наблюдается. Меньше всего событий произошло 13 декабря.\n",
    "- В обеих группах максимальное количество событий произошло 21 декабря. На это мог повлиять какой-то внешний фактор, который также говорит **не в пользу проведенного А/В-тестирования.**"
   ]
  },
  {
   "cell_type": "markdown",
   "metadata": {},
   "source": [
    "<div id='id-section27'/>\n",
    "\n",
    "### [Вывод](#id-section28)\n",
    "\n",
    "Исследовательский анализ данных привел нас к следующим результатам:\n",
    "\n",
    "- В данных присутствовали 9% пользователей (достаточно большое значение), которые попали в две группы A/B-теста и в 2 разных теста. Значит, **при делении пользователей не соблюдались требования к A/B-тестированию о том, что одни и те же пользователи не должны попадать в 2 разные группы одного теста, а также одновременно участвовать в конкурирующих тестах (их вообще не стоит проводить)**. \n",
    "\n",
    "- Уже на этапе объединения таблиц `final_ab_new_users` (все пользователи, зарегистрировавшиеся в интернет-магазине в период с 7 по 21 декабря 2020 г.) и `final_ab_participants` (5099 пользователей, которые участвовали только в тесте `recommender_system_test` и попали либо в группу А, либо в B) мы обнаружили, что **уже на данном этапе условие технического задания о том, что ожидаемое количество участников теста равно 6000, не соблюдается.** У нас осталось только 4749 пользователей, которые пришли в период с 7 по 21 декабря 2020 г. из региона EU, участвовали только в тесте `recommender_system_test` и попали либо в группу А, либо B.\n",
    "\n",
    "- При вычислении доли новых пользователей из региона EU в разных группах в зависимости от типа устройства и даты регистрации мы увидели, что **условие технического задания о том, что аудитория теста - 15% новых пользователей из региона EU, не соблюдается.** В реальности с каждого устройства и в каждый день набора пользователейв группу В попадало примерно 40% новых пользователей из EU.\n",
    "\n",
    "- При объединении таблиц `final_ab_events` (все события всех новых пользователей в период с 7 декабря 2020 по 4 января 2021 года) и `final_ab_new_users` (пользователи, которые пришли с 7 по 21 декабря 2020 года из региона EU, участвовали только в тесте `recommender_system_test` и попали либо в группу А, либо B) мы заметили, что есть такие пользователи, которые были набраны с 7 по 21 декабря 2020 года, но не совершали никаких действий на платформе. **Возможно, А/В-тест был настроен неправильно, и ему не нужно было захватывать пользователей, которые не совершили хотя бы одного события.**\n",
    "\n",
    "- Временной период в данных зафиксирован с 2020-12-07 по 2020-12-30. Это значит, что **условие из технического задания с датой остановки теста 2021-01-04 не соблюдается для пользователей, которые пришли с 7 по 21 декабря 2020 года из региона EU, участвовали только в тесте `recommender_system_test`, попали либо в группу А, либо B, а также совершили действия на платформе.** Для таких пользователей потеряно 5 дней.\n",
    "\n",
    "- Вероятно, до 2021-01-04 фиксировались действия тех пользователей, которые попали в конкурирующий тест, либо пришли из других регионов, либо попали сразу в 2 группы A/B-теста - то есть те пользователи, которых мы удалили из данных как неподходящих для анализа.\n",
    "\n",
    "- Было 2 маркетинговых события из календаря, которые совпали с действиями пользователей (`Christmas&New Year Promo` и `CIS New Year Gift Lottery`) - это указывает на **некорректные сроки проведения A/B-теста - так как он не должен совпадать с маркетинговыми событиями, чтобы исключить влияние на действия пользователей и не исказить результаты тестирования.**\n",
    "\n",
    "- После очищения данных у нас осталось только 2587 пользователей, которые пришли с 7 по 21 декабря 2020 года из региона EU, участвовали только в тесте `recommender_system_test`, попали либо в группу А, либо B, совершили действия на платформе, которые по времени не совпали ни с какими с маркетинговыми событиями. Следовательно, **условие технического задания о том, что ожидаемое количество участников теста равно 6000, не соблюдается.**\n",
    "\n",
    "---\n",
    "На очищенных мы обнаружили такие закономерности:\n",
    "\n",
    "- Самое часто встречающееся событие для пользователей - `login`, авторизированный вход на платформу интернет-магазина.\n",
    "- Самое редкое событие - `purchase`, оплата покупки.\n",
    "- Судя по данным, практически всегда после перехода в корзину пользователь оплачивает товары.\n",
    "\n",
    "---\n",
    "- Количество покупателей, которые оплачивают покупки, больше, чем тех, кто сначала переходит в корзину с товарами.\n",
    "- Это говорит о том, что на платформе интернет-магазина реализована функция быстрой оплаты товаров в обход корзины, и пользователи часто используют эту функцию.\n",
    "\n",
    "---\n",
    "Построение воронки событий на очищенных данных показало:\n",
    "- 31% от авторизовавшихся покупателей доходит до оплаты покупки.\n",
    "- Это довольно оптимистичное значение, но мы не можем считать его объективным, так как данные по пользователям были собраны с многочисленными нарушениями.\n",
    "\n",
    "\n",
    "На графике воронки событий по разным группам A/B-теста видно:\n",
    "- Численность пользователей в группе А на всех этапах конверсии больше, чем в группе В - это **нарушение условия равномерного разделения пользователей на группы при А/В-тестировании.**\n",
    "- Для каждой из групп характерна общая тенденция о том, что пользователи часто используют функцию быстрой оплаты товаров в обход корзины.\n",
    "- В процентных соотношениях доли перехода на этапы воронки в обеих группах похожи.\n",
    "- По 30% пользователей из обеих групп, которые авторизировались на платформе, оплатили покупки.\n",
    "\n",
    "---\n",
    "Анализ распределения количества событий на пользователя показал:\n",
    "- В группе А больше пользователей, которые совершали много событий (от 10 до 16).\n",
    "- В группе В больше пользователей, которые совершали мало событий (от 1 до 5).\n",
    "\n",
    "\n",
    "Анализ числа событий по дням в выборках показал:\n",
    "- Группа А значительно превосходит группу В по числу событий по дням. Это также может свидетельствовать о **некорректном разделении пользователей на две группы.**\n",
    "- Особенно виден резкий скачок в количестве событий в группе А, начиная с 14 декабря. Данное явление может говорить о **влиянии на пользователей из группы А какого-то события, которого не было в календаре маркетинговых событий за год. Этот аспект тоже говорит о возможном нарушении методики тестирования.**\n",
    "- В группе В такого резкого разрыва в числе событий не наблюдается. Меньше всего событий произошло 13 декабря.\n",
    "- В обеих группах максимальное количество событий произошло 21 декабря. На это мог **повлиять какой-то внешний фактор, который также говорит не в пользу проведенного А/В-тестирования.**\n"
   ]
  },
  {
   "cell_type": "markdown",
   "metadata": {},
   "source": [
    "<div id='id-section29'/>\n",
    "\n",
    "## [Шаг 4. Изучим результаты эксперимента](#id-section30)\n"
   ]
  },
  {
   "cell_type": "markdown",
   "metadata": {},
   "source": [
    "<div id='id-section31'/>\n",
    "\n",
    "### [Проведем оценку результатов A/B-тестирования](#id-section32)\n",
    "\n",
    "Все выделенные нами выше факторы указывают на то, что А/В-тестирование было проведено **некорректно, с нарушением методологии.**\n",
    "- Результаты A/B-теста очень чувствительны к качеству сбора данных, а оно было низким.\n",
    "- Количество пользователей в группах различается.\n",
    "- Общее количество пользователей-участников А/В-тестирования небольшое (2587), а для оценки результатов A/B-теста данных должно быть много, выборки должны быть не только верно сформированными, но и большими, чтобы максимально стремиться к объективности.\n",
    "- Попавший в одну из групп посетитель не остается в этой группе до конца теста. А если пользователь видит разные версии исследуемой страницы в ходе одного исследования, неизвестно, какая именно повлияла на его решения. Значит, и результаты такого теста нельзя интерпретировать однозначно.\n",
    "- Одновременно проводилось 2 теста, в которых участвовали одни и те же пользователи.\n",
    "- Время проведения А/В-тестирования совпало с маркетинговыми событиями, также обнаружилось влияние события, которого не было в календаре. \n",
    "- А/В-тестирование не соответствует заявленному техническому заданию.\n",
    "\n",
    "Соответственно, **результаты проведенного A/B-тестирования  нерепрезентативны и не помогут нам определить, существуют ли изменения, связанные с внедрением улучшенной рекомендательной системы.** Никакой практической пользы это тестирование принести не может.\n",
    "\n",
    "---\n",
    "Дальнейшая проверка гипотез будет проведена лишь в **исследовательских целях**. \n",
    "- Результаты этой проверки могут быть использованы после проведения нового (корректного) A/B-теста, исключительно для иллюстрации того, как сильно некачественно собранные данные искажают результаты эксперимента. "
   ]
  },
  {
   "cell_type": "markdown",
   "metadata": {},
   "source": [
    "<div id='id-section33'/>\n",
    "\n",
    "### [Проведем z-тест для проверки гипотезы о равенстве долей](#id-section34)\n",
    "\n",
    "Проверим, находят ли статистические критерии разницу между группами А (контрольная группа) и В (тестовая группа, где на пользователях тестировались изменения, связанные с внедрением улучшенной рекомендательной системы).\n",
    "\n",
    "Для этого посчитаем число уникальных пользователей, попавших в каждую группу, и долю пользователей, совершивших каждое событие в каждой из групп. \n",
    "\n",
    "- **Гипотезу H₀ сформулируем так:** доли пользователей, совершивших событие в каждой группе, равны (группы не различаются).\n",
    "- **Гипотеза H₁:** доли пользователей, совершивших событие в каждой группе, не равны (разницы между долями достаточно, чтобы говорить о статистически значимом различии групп).\n",
    "\n",
    "Для проверки гипотезы **H₀** мы **проведем z-тест** из библиотеки `scipy.stats`, куда передадим два среза данных с долями пользователей, совершивших событие в каждой группе. Таким образом, при помощи z-теста мы проверим, будет ли отличие между долями (и, как следствие, группами) статистически достоверным.\n",
    "\n",
    "**Критический уровень статистической значимости** зададим значением 0.05 (5%). Однако в нашем случае происходит множественная проверка гипотез, поэтому мы **применяем поправку Бонферрони** - поделим принятый уровень значимости на число сравнений групп друг с другом (4). \n",
    "\n",
    "- Если наблюдаемое на выборках значение `pvalue` попадет в эту зону, у нас будет основание отвергнуть нулевую гипотезу.\n",
    "\n",
    "- Если значение `pvalue` попадет в зону «Не получилось отвергнуть нулевую гипотезу, нет оснований считать доли разными», то оснований отвергать нулевую гипотезу нет. Будем считать, что эмпирически полученные данные не противоречат H₀.\n",
    "\n",
    "Подсчет числа уникальных пользователей, попавших в каждую группу, и доли пользователей, совершивших каждое событие в каждой из групп, а также проведение z-теста автоматизировано при помощи **функций**."
   ]
  },
  {
   "cell_type": "code",
   "execution_count": 78,
   "metadata": {
    "scrolled": false
   },
   "outputs": [
    {
     "name": "stdout",
     "output_type": "stream",
     "text": [
      "Событие: login\n",
      "Группа A, \n",
      "всего пользователей в группе: 1932, \n",
      "совершили событие: 1922, \n",
      "доля пользователей, сов. событие: 0.994824016563147\n",
      "Группа B, \n",
      "всего пользователей в группе: 655, \n",
      "совершили событие: 648, \n",
      "доля пользователей, сов. событие: 0.9893129770992366\n",
      "p-значение:  0.13140918777447497\n",
      "Не получилось отвергнуть нулевую гипотезу, нет оснований считать доли разными\n",
      "\n",
      "Событие: product_page\n",
      "Группа A, \n",
      "всего пользователей в группе: 1932, \n",
      "совершили событие: 1257, \n",
      "доля пользователей, сов. событие: 0.6506211180124224\n",
      "Группа B, \n",
      "всего пользователей в группе: 655, \n",
      "совершили событие: 365, \n",
      "доля пользователей, сов. событие: 0.5572519083969466\n",
      "p-значение:  1.953941251153779e-05\n",
      "Отвергаем нулевую гипотезу: между долями есть значимая разница\n",
      "\n",
      "Событие: purchase\n",
      "Группа A, \n",
      "всего пользователей в группе: 1932, \n",
      "совершили событие: 613, \n",
      "доля пользователей, сов. событие: 0.317287784679089\n",
      "Группа B, \n",
      "всего пользователей в группе: 655, \n",
      "совершили событие: 190, \n",
      "доля пользователей, сов. событие: 0.2900763358778626\n",
      "p-значение:  0.19331834400483427\n",
      "Не получилось отвергнуть нулевую гипотезу, нет оснований считать доли разными\n",
      "\n",
      "Событие: product_cart\n",
      "Группа A, \n",
      "всего пользователей в группе: 1932, \n",
      "совершили событие: 589, \n",
      "доля пользователей, сов. событие: 0.3048654244306418\n",
      "Группа B, \n",
      "всего пользователей в группе: 655, \n",
      "совершили событие: 184, \n",
      "доля пользователей, сов. событие: 0.28091603053435116\n",
      "p-значение:  0.24719050646654894\n",
      "Не получилось отвергнуть нулевую гипотезу, нет оснований считать доли разными\n",
      "\n"
     ]
    }
   ],
   "source": [
    "# Функция для выведения числа пользователей, попавших в группу, а также доли пользователей, которые \n",
    "# совершили какое-либо событие в группе. Эти два числа записываются в список.\n",
    "# Для вывода на экран используем print вместо display, потому что так получается более читабельно\n",
    "\n",
    "def to_slice(slice_group, group_name, event):\n",
    "    users_in_group = slice_group['user_id'].nunique()\n",
    "    event_in_group = slice_group.query(f'event_name == \"{event}\"')\n",
    "    users_event_in_group = event_in_group['user_id'].nunique()\n",
    "    print(f'Группа {group_name}, \\nвсего пользователей в группе: {users_in_group}, \\nсовершили событие: {users_event_in_group}, \\nдоля пользователей, сов. событие: {users_event_in_group/users_in_group}')\n",
    "    return [users_in_group, users_event_in_group]\n",
    "\n",
    "\n",
    "# Функция для проведения z-теста\n",
    "\n",
    "def z_test(group1_name, group2_name, df_g1, df_g2, event, alpha):\n",
    "    print (f'Событие: {event}')\n",
    "    g1 = to_slice(df_g1, group1_name, event)\n",
    "    g2 = to_slice(df_g2, group2_name, event)\n",
    "    \n",
    "    # \"успехи\" в каждой группе - это число пользователей, совершивших событие в каждой группе, \n",
    "    # \"попытки\" - это общее число пользователей, попавших в каждую группу\n",
    "    successes = np.array([g1[1], g2[1]])\n",
    "    trials = np.array([g1[0], g2[0]])\n",
    "    \n",
    "    # пропорция \"успехов\" в первой группе (то есть -- число пользователей, совершивших событие в группе, \n",
    "    # деленное на общее число пользователей в группе):\n",
    "    p1 = successes[0]/trials[0]\n",
    "\n",
    "    # пропорция \"успехов\" во второй группе:\n",
    "    p2 = successes[1]/trials[1]\n",
    "\n",
    "    # пропорция \"успехов\" в комбинированном датасете:\n",
    "    p_combined = (successes[0] + successes[1]) / (trials[0] + trials[1])\n",
    "\n",
    "    # разница пропорций в датасетах\n",
    "    difference = p1 - p2 \n",
    "    \n",
    "    # считаем статистику в ст.отклонениях стандартного нормального распределения\n",
    "    z_value = difference / mth.sqrt(p_combined * (1 - p_combined) * (1/trials[0] + 1/trials[1]))\n",
    "    \n",
    "    # задаем стандартное нормальное распределение (среднее 0, ст.отклонение 1)\n",
    "    distr = st.norm(0, 1)\n",
    "    \n",
    "    # вызовем метод cdf(). Саму статистику возьмем по модулю методом abs() — чтобы получить правильный \n",
    "    # результат независимо от ее знака (тест двусторонний). По этой же причине удваиваем результат    \n",
    "    p_value = (1 - distr.cdf(abs(z_value))) * 2\n",
    "    \n",
    "    print('p-значение: ', p_value)\n",
    "\n",
    "    if (p_value < alpha):\n",
    "        print(\"Отвергаем нулевую гипотезу: между долями есть значимая разница\")\n",
    "    else:\n",
    "        print(\"Не получилось отвергнуть нулевую гипотезу, нет оснований считать доли разными\")\n",
    "    print('')    \n",
    "\n",
    "\n",
    "# собираем в список все события из воронки событий event_user, а также названия групп из общей таблицы \n",
    "# с данными final_ab_events\n",
    "events = event_user['event_name'].to_list()\n",
    "groups = final_ab_events['group'].unique()\n",
    "\n",
    "\n",
    "# для каждого события и группы запускаем z_test. Но так, чтобы одна и та же группа не сравнивалась сама с собой, \n",
    "# и чтобы повторяющихся пар групп не было\n",
    "\n",
    "for event in events:\n",
    "    for i in range(0, len(groups)):\n",
    "        for j in range(i+1, len(groups)):\n",
    "            slice_group1 = final_ab_events.query(f'group == \"{groups[i]}\"')\n",
    "            slice_group2 = final_ab_events.query(f'group == \"{groups[j]}\"')\n",
    "            z_test(groups[i], groups[j], slice_group1, slice_group2, event, 0.05/4)    "
   ]
  },
  {
   "cell_type": "markdown",
   "metadata": {},
   "source": [
    "<div id='id-section35'/>\n",
    "\n",
    "### [Вывод](#id-section36)\n",
    "\n",
    "Проверка статистических гипотез в ходе z-теста показала следующие результаты. \n",
    "\n",
    "- Полученные значения p-value **при сравнениях групп друг с другом при совершении событий `login`, `purchase`, `product_cart` явно показали, что существует слишком большая вероятность, чтобы делать вывод о значимом различии между группами A/B-теста.**\n",
    "- Таким образом, эмпирически полученные **данные не противоречат гипотезе H₀**, и мы можем считать, что доли пользователей, совершивших события `login`, `purchase`, `product_cart` в каждой группе, равны (то есть группы A/B-теста по данным метрикам не различаются).\n",
    "- Этот вывод подкрепляется и числовыми значениями долей для пользователей, совершавших события `login`, `purchase`, `product_cart` в каждой группе, - даже визуально все значения очень близки друг другу, поэтому z-тест и не выявил статистически значимое различие.\n",
    "- Следовательно, **заявленный в техническом задании ожидаемый эффект об улучшении метрик не менее, чем на 10%, не достигнут.**\n",
    "- По событию `login` видна интересная особенность: в обеих группах доля авторизованных пользователей ниже, чем общее число пользователей. Это значит, что 1% пользователей в группе А и 2% в группе В делают покупки в интернет-магазине без авторизации. \n",
    "\n",
    "**Сравнение тестовой группы В с улучшенной рекомендательной системой с группой А по событию `product_page` дало нам статистически значимое различие между группами**. \n",
    "- Это свидетельствует о том, что внедрение улучшенной рекомендательной системы могло повлиять на то, какая доля пользователей просматривает карточки товаров.\n",
    "- Судя по значению долей, в группе В меньше доля пользователей, которые просматривали карточки товаров, по сравнению с контрольной группой А (0.55 против 0.65). В данном случае ожидаемый эффект от A/B-теста нельзя считать оправданным (метрика ухудшилась на 10%, а должна была улучшиться).\n",
    "- Вероятно, это связано с тем, что улучшенная рекомендательная система не работает достаточно хорошо и не показывает пользователям из группы В подходящие товары.\n",
    "- Об успехе A/B-теста говорить нельзя еще и потому, что внедрение улучшенной рекомендательной системы не повлияло на остальные метрики (и особенно на долю покупок товаров - а скорее всего, цель заключалась именно в этом), **ожидаемый эффект об улучшении каждой метрики не менее, чем на 10%, не достигнут**. \n",
    "- При условии качественного A/B-теста мы могли бы констатировать, что принятых мер было недостаточно, и нужно еще больше улучшать рекомендательную систему."
   ]
  },
  {
   "cell_type": "markdown",
   "metadata": {},
   "source": [
    "<div id='id-section37'/>\n",
    "\n",
    "## [Шаг 5. Общий вывод](#id-section38)\n",
    "\n",
    "Для оценки качества проведенного эксперимента мы провели исследовательский анализ данных, который привел нас к следующим неутешительным результатам:\n",
    "\n",
    "- В данных присутствовали 9% пользователей (достаточно большое значение), которые попали в две группы A/B-теста и в 2 разных теста. Значит, **при делении пользователей не соблюдались требования к A/B-тестированию о том, что одни и те же пользователи не должны попадать в 2 разные группы одного теста, а также одновременно участвовать в конкурирующих тестах (их вообще не стоит проводить)**. \n",
    "\n",
    "- Уже на этапе объединения таблиц `final_ab_new_users` (все пользователи, зарегистрировавшиеся в интернет-магазине в период с 7 по 21 декабря 2020 г.) и `final_ab_participants` (5099 пользователей, которые участвовали только в тесте `recommender_system_test` и попали либо в группу А, либо в B) мы обнаружили, что **уже на данном этапе условие технического задания о том, что ожидаемое количество участников теста равно 6000, не соблюдается.** У нас осталось только 4749 пользователей, которые пришли в период с 7 по 21 декабря 2020 г. из региона EU, участвовали только в тесте `recommender_system_test` и попали либо в группу А, либо B.\n",
    "\n",
    "- При вычислении доли новых пользователей из региона EU в разных группах в зависимости от типа устройства и даты регистрации мы увидели, что **условие технического задания о том, что аудитория теста - 15% новых пользователей из региона EU, не соблюдается.** В реальности с каждого устройства и в каждый день набора пользователейв группу В попадало примерно 40% новых пользователей из EU.\n",
    "\n",
    "- При объединении таблиц `final_ab_events` (все события всех новых пользователей в период с 7 декабря 2020 по 4 января 2021 года) и `final_ab_new_users` (пользователи, которые пришли с 7 по 21 декабря 2020 года из региона EU, участвовали только в тесте `recommender_system_test` и попали либо в группу А, либо B) мы заметили, что есть такие пользователи, которые были набраны с 7 по 21 декабря 2020 года, но не совершали никаких действий на платформе. **Возможно, А/В-тест был настроен неправильно, и ему не нужно было захватывать пользователей, которые не совершили хотя бы одного события.**\n",
    "\n",
    "- Временной период в данных зафиксирован с 2020-12-07 по 2020-12-30. Это значит, что **условие из технического задания с датой остановки теста 2021-01-04 не соблюдается для пользователей, которые пришли с 7 по 21 декабря 2020 года из региона EU, участвовали только в тесте `recommender_system_test`, попали либо в группу А, либо B, а также совершили действия на платформе.** Для таких пользователей потеряно 5 дней.\n",
    "\n",
    "- Вероятно, до 2021-01-04 фиксировались действия тех пользователей, которые попали в конкурирующий тест, либо пришли из других регионов, либо попали сразу в 2 группы A/B-теста - то есть те пользователи, которых мы удалили из данных как неподходящих для анализа.\n",
    "\n",
    "- Было 2 маркетинговых события из календаря, которые совпали с действиями пользователей (`Christmas&New Year Promo` и `CIS New Year Gift Lottery`) - это указывает на **некорректные сроки проведения A/B-теста - так как он не должен совпадать с маркетинговыми событиями, чтобы исключить влияние на действия пользователей и не исказить результаты тестирования.**\n",
    "\n",
    "- После очищения данных у нас осталось только 2587 пользователей, которые пришли с 7 по 21 декабря 2020 года из региона EU, участвовали только в тесте `recommender_system_test`, попали либо в группу А, либо B, совершили действия на платформе, которые по времени не совпали ни с какими с маркетинговыми событиями. Следовательно, **условие технического задания о том, что ожидаемое количество участников теста равно 6000, не соблюдается.**\n",
    "\n",
    "---\n",
    "На очищенных мы обнаружили такие закономерности:\n",
    "\n",
    "- Самое часто встречающееся событие для пользователей - `login`, авторизированный вход на платформу интернет-магазина.\n",
    "- Самое редкое событие - `purchase`, оплата покупки.\n",
    "- Судя по данным, практически всегда после перехода в корзину пользователь оплачивает товары.\n",
    "\n",
    "---\n",
    "- Количество покупателей, которые оплачивают покупки, больше, чем тех, кто сначала переходит в корзину с товарами.\n",
    "- Это говорит о том, что на платформе интернет-магазина реализована функция быстрой оплаты товаров в обход корзины, и пользователи часто используют эту функцию.\n",
    "\n",
    "---\n",
    "Построение воронки событий на очищенных данных показало:\n",
    "- 31% от авторизовавшихся покупателей доходит до оплаты покупки.\n",
    "- Это довольно оптимистичное значение, но мы не можем считать его объективным, так как данные по пользователям были собраны с многочисленными нарушениями.\n",
    "\n",
    "\n",
    "На графике воронки событий по разным группам A/B-теста видно:\n",
    "- Численность пользователей в группе А на всех этапах конверсии больше, чем в группе В - это **нарушение условия равномерного разделения пользователей на группы при А/В-тестировании.**\n",
    "- Для каждой из групп характерна общая тенденция о том, что пользователи часто используют функцию быстрой оплаты товаров в обход корзины.\n",
    "- В процентных соотношениях доли перехода на этапы воронки в обеих группах похожи.\n",
    "- По 30% пользователей из обеих групп, которые авторизировались на платформе, оплатили покупки.\n",
    "\n",
    "---\n",
    "Анализ распределения количества событий на пользователя показал:\n",
    "- В группе А больше пользователей, которые совершали много событий (от 10 до 16).\n",
    "- В группе В больше пользователей, которые совершали мало событий (от 1 до 5).\n",
    "\n",
    "\n",
    "Анализ числа событий по дням в выборках показал:\n",
    "- Группа А значительно превосходит группу В по числу событий по дням. Это также может свидетельствовать о **некорректном разделении пользователей на две группы.**\n",
    "- Особенно виден резкий скачок в количестве событий в группе А, начиная с 14 декабря. Данное явление может говорить о **влиянии на пользователей из группы А какого-то события, которого не было в календаре маркетинговых событий за год. Этот аспект тоже говорит о возможном нарушении методики тестирования.**\n",
    "- В группе В такого резкого разрыва в числе событий не наблюдается. Меньше всего событий произошло 13 декабря.\n",
    "- В обеих группах максимальное количество событий произошло 21 декабря. На это мог **повлиять какой-то внешний фактор, который также говорит не в пользу проведенного А/В-тестирования.**\n",
    "\n",
    "---\n",
    "Проверка статистических гипотез в ходе z-теста показала следующие результаты:\n",
    "\n",
    "- Полученные значения p-value **при сравнениях групп друг с другом при совершении событий `login`, `purchase`, `product_cart` явно показали, что существует слишком большая вероятность, чтобы делать вывод о значимом различии между группами A/B-теста.**\n",
    "- Таким образом, эмпирически полученные **данные не противоречат гипотезе H₀**, и мы можем считать, что доли пользователей, совершивших события `login`, `purchase`, `product_cart` в каждой группе, равны (то есть группы A/B-теста по данным метрикам не различаются).\n",
    "- Этот вывод подкрепляется и числовыми значениями долей для пользователей, совершавших события `login`, `purchase`, `product_cart` в каждой группе, - даже визуально все значения очень близки друг другу, поэтому z-тест и не выявил статистически значимое различие.\n",
    "- Следовательно, **заявленный в техническом задании ожидаемый эффект об улучшении метрик не менее, чем на 10%, не достигнут.**\n",
    "- По событию `login` видна интересная особенность: в обеих группах доля авторизованных пользователей ниже, чем общее число пользователей. Это значит, что 1% пользователей в группе А и 2% в группе В делают покупки в интернет-магазине без авторизации. \n",
    "\n",
    "**Сравнение тестовой группы В с улучшенной рекомендательной системой с группой А по событию `product_page` дало нам статистически значимое различие между группами**. \n",
    "- Это свидетельствует о том, что внедрение улучшенной рекомендательной системы могло повлиять на то, какая доля пользователей просматривает карточки товаров.\n",
    "- Судя по значению долей, в группе В меньше доля пользователей, которые просматривали карточки товаров, по сравнению с контрольной группой А (0.55 против 0.65). В данном случае ожидаемый эффект от A/B-теста нельзя считать оправданным (метрика ухудшилась на 10%, а должна была улучшиться).\n",
    "- Вероятно, это связано с тем, что улучшенная рекомендательная система не работает достаточно хорошо и не показывает пользователям из группы В подходящие товары.\n",
    "- Об успехе A/B-теста говорить нельзя еще и потому, что внедрение улучшенной рекомендательной системы не повлияло на остальные метрики (и особенно на долю покупок товаров - а скорее всего, цель заключалась именно в этом), **ожидаемый эффект об улучшении каждой метрики не менее, чем на 10%, не достигнут**. \n",
    "- При условии качественного A/B-теста мы могли бы констатировать, что принятых мер было недостаточно, и нужно еще больше улучшать рекомендательную систему.\n",
    "\n",
    "---\n",
    "Все выделенные нами выше факторы указывают на то, что А/В-тестирование было проведено **некорректно, с нарушением методологии.**\n",
    "- Результаты A/B-теста очень чувствительны к качеству сбора данных, а оно было низким.\n",
    "- Количество пользователей в группах различается.\n",
    "- Общее количество пользователей-участников А/В-тестирования небольшое (2587), а для оценки результатов A/B-теста данных должно быть много, выборки должны быть не только верно сформированными, но и большими, чтобы максимально стремиться к объективности.\n",
    "- Попавший в одну из групп посетитель не остается в этой группе до конца теста. А если пользователь видит разные версии исследуемой страницы в ходе одного исследования, неизвестно, какая именно повлияла на его решения. Значит, и результаты такого теста нельзя интерпретировать однозначно.\n",
    "- Одновременно проводилось 2 теста, в которых участвовали одни и те же пользователи.\n",
    "- Время проведения А/В-тестирования совпало с маркетинговыми событиями, также обнаружилось влияние события, которого не было в календаре. \n",
    "- А/В-тестирование не соответствует заявленному техническому заданию.\n",
    "\n",
    "Следовательно, **результаты проведенного A/B-тестирования нерепрезентативны и не помогут нам определить, существуют ли изменения, связанные с внедрением улучшенной рекомендательной системы.** Никакой практической пользы это тестирование принести не может.\n",
    "\n",
    "---\n",
    "Проверка гипотез была выполнена лишь в **исследовательских целях**. \n",
    "- Результаты этой проверки могут быть использованы после проведения нового (корректного) A/B-теста, исключительно для иллюстрации того, как сильно некачественно собранные данные искажают результаты эксперимента. "
   ]
  }
 ],
 "metadata": {
  "kernelspec": {
   "display_name": "Python 3",
   "language": "python",
   "name": "python3"
  },
  "language_info": {
   "codemirror_mode": {
    "name": "ipython",
    "version": 3
   },
   "file_extension": ".py",
   "mimetype": "text/x-python",
   "name": "python",
   "nbconvert_exporter": "python",
   "pygments_lexer": "ipython3",
   "version": "3.8.3"
  },
  "toc": {
   "base_numbering": 1,
   "nav_menu": {},
   "number_sections": true,
   "sideBar": true,
   "skip_h1_title": true,
   "title_cell": "Table of Contents",
   "title_sidebar": "Contents",
   "toc_cell": false,
   "toc_position": {},
   "toc_section_display": true,
   "toc_window_display": false
  }
 },
 "nbformat": 4,
 "nbformat_minor": 2
}
