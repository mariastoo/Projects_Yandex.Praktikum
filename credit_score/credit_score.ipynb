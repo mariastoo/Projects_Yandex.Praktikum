{
 "cells": [
  {
   "cell_type": "markdown",
   "metadata": {},
   "source": [
    "## **Оглавление**:\n",
    "- [Шаг 1. Откроем файл с данными и изучим общую информацию](#id-section1)<div id='id-section2'/>\n",
    "- [Вывод](#id-section3)<div id='id-section4'/>\n",
    "\n",
    "\n",
    "- [Шаг 2. Предобработка данных](#id-section5)<div id='id-section6'/>\n",
    "- [Обработка пропусков](#id-section7)<div id='id-section8'/>\n",
    "- [Вывод](#id-section9)<div id='id-section10'/>\n",
    "- [Замена типа данных](#id-section11)<div id='id-section12'/>\n",
    "- [Вывод](#id-section13)<div id='id-section14'/>\n",
    "- [Обработка дубликатов](#id-section15)<div id='id-section16'/>\n",
    "- [Вывод](#id-section17)<div id='id-section18'/>\n",
    "- [Лемматизация](#id-section19)<div id='id-section20'/>\n",
    "- [Вывод](#id-section21)<div id='id-section22'/>\n",
    "- [Категоризация данных](#id-section23)<div id='id-section24'/>\n",
    "- [Вывод](#id-section25)<div id='id-section26'/>\n",
    "- [Работа с артефактами](#id-section27)<div id='id-section28'/>\n",
    "- [Вывод](#id-section29)<div id='id-section30'/>\n",
    "\n",
    "\n",
    "- [Шаг 3. Проанализируем данные о клиентах](#id-section31)<div id='id-section32'/>\n",
    "- [Изучим, есть ли зависимость между наличием детей и возвратом кредита в срок](#id-section33)<div id='id-section34'/>\n",
    "- [Вывод](#id-section35)<div id='id-section36'/>\n",
    "- [Изучим, есть ли зависимость между семейным положением и возвратом кредита в срок](#id-section37)<div id='id-section38'/>\n",
    "- [Вывод](#id-section39)<div id='id-section40'/>\n",
    "- [Изучим, есть ли зависимость между уровнем дохода и возвратом кредита в срок](#id-section41)<div id='id-section42'/>\n",
    "- [Вывод](#id-section43)<div id='id-section44'/>\n",
    "- [Узнаем, как разные цели кредита влияют на его возврат в срок](#id-section45)<div id='id-section46'/>\n",
    "- [Вывод](#id-section47)<div id='id-section48'/>\n",
    "\n",
    "\n",
    "- [Шаг 4. Общий вывод](#id-section49)<div id='id-section50'/>\n"
   ]
  },
  {
   "cell_type": "markdown",
   "metadata": {},
   "source": [
    "<div id='id-section1'/>\n",
    "\n",
    "## [Шаг 1. Откроем файл с данными и изучим общую информацию](#id-section2)\n",
    "\n",
    "Чтобы не выводить на экран большую таблицу `data` целиком, применим методы `head()` и `tail()` и выведем только часть данных - первые и последние 5 строк."
   ]
  },
  {
   "cell_type": "code",
   "execution_count": 1,
   "metadata": {},
   "outputs": [
    {
     "data": {
      "text/html": [
       "<div>\n",
       "<style scoped>\n",
       "    .dataframe tbody tr th:only-of-type {\n",
       "        vertical-align: middle;\n",
       "    }\n",
       "\n",
       "    .dataframe tbody tr th {\n",
       "        vertical-align: top;\n",
       "    }\n",
       "\n",
       "    .dataframe thead th {\n",
       "        text-align: right;\n",
       "    }\n",
       "</style>\n",
       "<table border=\"1\" class=\"dataframe\">\n",
       "  <thead>\n",
       "    <tr style=\"text-align: right;\">\n",
       "      <th></th>\n",
       "      <th>children</th>\n",
       "      <th>days_employed</th>\n",
       "      <th>dob_years</th>\n",
       "      <th>education</th>\n",
       "      <th>education_id</th>\n",
       "      <th>family_status</th>\n",
       "      <th>family_status_id</th>\n",
       "      <th>gender</th>\n",
       "      <th>income_type</th>\n",
       "      <th>debt</th>\n",
       "      <th>total_income</th>\n",
       "      <th>purpose</th>\n",
       "    </tr>\n",
       "  </thead>\n",
       "  <tbody>\n",
       "    <tr>\n",
       "      <td>0</td>\n",
       "      <td>1</td>\n",
       "      <td>-8437.673028</td>\n",
       "      <td>42</td>\n",
       "      <td>высшее</td>\n",
       "      <td>0</td>\n",
       "      <td>женат / замужем</td>\n",
       "      <td>0</td>\n",
       "      <td>F</td>\n",
       "      <td>сотрудник</td>\n",
       "      <td>0</td>\n",
       "      <td>253875.639453</td>\n",
       "      <td>покупка жилья</td>\n",
       "    </tr>\n",
       "    <tr>\n",
       "      <td>1</td>\n",
       "      <td>1</td>\n",
       "      <td>-4024.803754</td>\n",
       "      <td>36</td>\n",
       "      <td>среднее</td>\n",
       "      <td>1</td>\n",
       "      <td>женат / замужем</td>\n",
       "      <td>0</td>\n",
       "      <td>F</td>\n",
       "      <td>сотрудник</td>\n",
       "      <td>0</td>\n",
       "      <td>112080.014102</td>\n",
       "      <td>приобретение автомобиля</td>\n",
       "    </tr>\n",
       "    <tr>\n",
       "      <td>2</td>\n",
       "      <td>0</td>\n",
       "      <td>-5623.422610</td>\n",
       "      <td>33</td>\n",
       "      <td>Среднее</td>\n",
       "      <td>1</td>\n",
       "      <td>женат / замужем</td>\n",
       "      <td>0</td>\n",
       "      <td>M</td>\n",
       "      <td>сотрудник</td>\n",
       "      <td>0</td>\n",
       "      <td>145885.952297</td>\n",
       "      <td>покупка жилья</td>\n",
       "    </tr>\n",
       "    <tr>\n",
       "      <td>3</td>\n",
       "      <td>3</td>\n",
       "      <td>-4124.747207</td>\n",
       "      <td>32</td>\n",
       "      <td>среднее</td>\n",
       "      <td>1</td>\n",
       "      <td>женат / замужем</td>\n",
       "      <td>0</td>\n",
       "      <td>M</td>\n",
       "      <td>сотрудник</td>\n",
       "      <td>0</td>\n",
       "      <td>267628.550329</td>\n",
       "      <td>дополнительное образование</td>\n",
       "    </tr>\n",
       "    <tr>\n",
       "      <td>4</td>\n",
       "      <td>0</td>\n",
       "      <td>340266.072047</td>\n",
       "      <td>53</td>\n",
       "      <td>среднее</td>\n",
       "      <td>1</td>\n",
       "      <td>гражданский брак</td>\n",
       "      <td>1</td>\n",
       "      <td>F</td>\n",
       "      <td>пенсионер</td>\n",
       "      <td>0</td>\n",
       "      <td>158616.077870</td>\n",
       "      <td>сыграть свадьбу</td>\n",
       "    </tr>\n",
       "  </tbody>\n",
       "</table>\n",
       "</div>"
      ],
      "text/plain": [
       "   children  days_employed  dob_years education  education_id  \\\n",
       "0         1   -8437.673028         42    высшее             0   \n",
       "1         1   -4024.803754         36   среднее             1   \n",
       "2         0   -5623.422610         33   Среднее             1   \n",
       "3         3   -4124.747207         32   среднее             1   \n",
       "4         0  340266.072047         53   среднее             1   \n",
       "\n",
       "      family_status  family_status_id gender income_type  debt   total_income  \\\n",
       "0   женат / замужем                 0      F   сотрудник     0  253875.639453   \n",
       "1   женат / замужем                 0      F   сотрудник     0  112080.014102   \n",
       "2   женат / замужем                 0      M   сотрудник     0  145885.952297   \n",
       "3   женат / замужем                 0      M   сотрудник     0  267628.550329   \n",
       "4  гражданский брак                 1      F   пенсионер     0  158616.077870   \n",
       "\n",
       "                      purpose  \n",
       "0               покупка жилья  \n",
       "1     приобретение автомобиля  \n",
       "2               покупка жилья  \n",
       "3  дополнительное образование  \n",
       "4             сыграть свадьбу  "
      ]
     },
     "metadata": {},
     "output_type": "display_data"
    },
    {
     "data": {
      "text/html": [
       "<div>\n",
       "<style scoped>\n",
       "    .dataframe tbody tr th:only-of-type {\n",
       "        vertical-align: middle;\n",
       "    }\n",
       "\n",
       "    .dataframe tbody tr th {\n",
       "        vertical-align: top;\n",
       "    }\n",
       "\n",
       "    .dataframe thead th {\n",
       "        text-align: right;\n",
       "    }\n",
       "</style>\n",
       "<table border=\"1\" class=\"dataframe\">\n",
       "  <thead>\n",
       "    <tr style=\"text-align: right;\">\n",
       "      <th></th>\n",
       "      <th>children</th>\n",
       "      <th>days_employed</th>\n",
       "      <th>dob_years</th>\n",
       "      <th>education</th>\n",
       "      <th>education_id</th>\n",
       "      <th>family_status</th>\n",
       "      <th>family_status_id</th>\n",
       "      <th>gender</th>\n",
       "      <th>income_type</th>\n",
       "      <th>debt</th>\n",
       "      <th>total_income</th>\n",
       "      <th>purpose</th>\n",
       "    </tr>\n",
       "  </thead>\n",
       "  <tbody>\n",
       "    <tr>\n",
       "      <td>21520</td>\n",
       "      <td>1</td>\n",
       "      <td>-4529.316663</td>\n",
       "      <td>43</td>\n",
       "      <td>среднее</td>\n",
       "      <td>1</td>\n",
       "      <td>гражданский брак</td>\n",
       "      <td>1</td>\n",
       "      <td>F</td>\n",
       "      <td>компаньон</td>\n",
       "      <td>0</td>\n",
       "      <td>224791.862382</td>\n",
       "      <td>операции с жильем</td>\n",
       "    </tr>\n",
       "    <tr>\n",
       "      <td>21521</td>\n",
       "      <td>0</td>\n",
       "      <td>343937.404131</td>\n",
       "      <td>67</td>\n",
       "      <td>среднее</td>\n",
       "      <td>1</td>\n",
       "      <td>женат / замужем</td>\n",
       "      <td>0</td>\n",
       "      <td>F</td>\n",
       "      <td>пенсионер</td>\n",
       "      <td>0</td>\n",
       "      <td>155999.806512</td>\n",
       "      <td>сделка с автомобилем</td>\n",
       "    </tr>\n",
       "    <tr>\n",
       "      <td>21522</td>\n",
       "      <td>1</td>\n",
       "      <td>-2113.346888</td>\n",
       "      <td>38</td>\n",
       "      <td>среднее</td>\n",
       "      <td>1</td>\n",
       "      <td>гражданский брак</td>\n",
       "      <td>1</td>\n",
       "      <td>M</td>\n",
       "      <td>сотрудник</td>\n",
       "      <td>1</td>\n",
       "      <td>89672.561153</td>\n",
       "      <td>недвижимость</td>\n",
       "    </tr>\n",
       "    <tr>\n",
       "      <td>21523</td>\n",
       "      <td>3</td>\n",
       "      <td>-3112.481705</td>\n",
       "      <td>38</td>\n",
       "      <td>среднее</td>\n",
       "      <td>1</td>\n",
       "      <td>женат / замужем</td>\n",
       "      <td>0</td>\n",
       "      <td>M</td>\n",
       "      <td>сотрудник</td>\n",
       "      <td>1</td>\n",
       "      <td>244093.050500</td>\n",
       "      <td>на покупку своего автомобиля</td>\n",
       "    </tr>\n",
       "    <tr>\n",
       "      <td>21524</td>\n",
       "      <td>2</td>\n",
       "      <td>-1984.507589</td>\n",
       "      <td>40</td>\n",
       "      <td>среднее</td>\n",
       "      <td>1</td>\n",
       "      <td>женат / замужем</td>\n",
       "      <td>0</td>\n",
       "      <td>F</td>\n",
       "      <td>сотрудник</td>\n",
       "      <td>0</td>\n",
       "      <td>82047.418899</td>\n",
       "      <td>на покупку автомобиля</td>\n",
       "    </tr>\n",
       "  </tbody>\n",
       "</table>\n",
       "</div>"
      ],
      "text/plain": [
       "       children  days_employed  dob_years education  education_id  \\\n",
       "21520         1   -4529.316663         43   среднее             1   \n",
       "21521         0  343937.404131         67   среднее             1   \n",
       "21522         1   -2113.346888         38   среднее             1   \n",
       "21523         3   -3112.481705         38   среднее             1   \n",
       "21524         2   -1984.507589         40   среднее             1   \n",
       "\n",
       "          family_status  family_status_id gender income_type  debt  \\\n",
       "21520  гражданский брак                 1      F   компаньон     0   \n",
       "21521   женат / замужем                 0      F   пенсионер     0   \n",
       "21522  гражданский брак                 1      M   сотрудник     1   \n",
       "21523   женат / замужем                 0      M   сотрудник     1   \n",
       "21524   женат / замужем                 0      F   сотрудник     0   \n",
       "\n",
       "        total_income                       purpose  \n",
       "21520  224791.862382             операции с жильем  \n",
       "21521  155999.806512          сделка с автомобилем  \n",
       "21522   89672.561153                  недвижимость  \n",
       "21523  244093.050500  на покупку своего автомобиля  \n",
       "21524   82047.418899         на покупку автомобиля  "
      ]
     },
     "metadata": {},
     "output_type": "display_data"
    }
   ],
   "source": [
    "from IPython.display import display\n",
    "\n",
    "import pandas as pd\n",
    "from pymystem3 import Mystem\n",
    "m = Mystem()\n",
    "from collections import Counter\n",
    "\n",
    "data = pd.read_csv('data.csv')\n",
    "display(data.head())\n",
    "display(data.tail())"
   ]
  },
  {
   "cell_type": "markdown",
   "metadata": {},
   "source": [
    "Посмотрим, какие типы данных хранятся в каждом столбце таблицы `data`, воспользуемся методом `info()`."
   ]
  },
  {
   "cell_type": "code",
   "execution_count": 2,
   "metadata": {},
   "outputs": [
    {
     "name": "stdout",
     "output_type": "stream",
     "text": [
      "<class 'pandas.core.frame.DataFrame'>\n",
      "RangeIndex: 21525 entries, 0 to 21524\n",
      "Data columns (total 12 columns):\n",
      "children            21525 non-null int64\n",
      "days_employed       19351 non-null float64\n",
      "dob_years           21525 non-null int64\n",
      "education           21525 non-null object\n",
      "education_id        21525 non-null int64\n",
      "family_status       21525 non-null object\n",
      "family_status_id    21525 non-null int64\n",
      "gender              21525 non-null object\n",
      "income_type         21525 non-null object\n",
      "debt                21525 non-null int64\n",
      "total_income        19351 non-null float64\n",
      "purpose             21525 non-null object\n",
      "dtypes: float64(2), int64(5), object(5)\n",
      "memory usage: 2.0+ MB\n"
     ]
    }
   ],
   "source": [
    "data.info()"
   ]
  },
  {
   "cell_type": "markdown",
   "metadata": {},
   "source": [
    "<div id='id-section3'/>\n",
    "\n",
    "### [Вывод](#id-section4)\n",
    "\n",
    "Наша таблица `data` - это объемный массив данных, в нем хранится более 21 тыс. строк. \n",
    "\n",
    "В столбцах присутствуют типы данных `int64` и `float64` (для количественных переменных, например: количество детей у заемщика, количество дней трудового стажа, возраст, для логической переменной: задолженность по кредиту, для категориальных переменных-идентификаторов), а также `object` (для категориальных переменных, например: уровень образования, семейное положение, пол, тип занятости, цель получения кредита).  \n",
    "\n",
    "В столбце `days_employed` полно данных с отрицательными значениями (артефактов), это обязательно надо будет обработать."
   ]
  },
  {
   "cell_type": "markdown",
   "metadata": {},
   "source": [
    "<div id='id-section5'/>\n",
    "\n",
    "## [Шаг 2. Предобработка данных](#id-section6)"
   ]
  },
  {
   "cell_type": "markdown",
   "metadata": {},
   "source": [
    "<div id='id-section7'/>\n",
    "\n",
    "### [Обработка пропусков](#id-section8)\n",
    "\n",
    "Найдем пропущенные значения по каждому столбцу в таблице `data`, для этого используем метод `isnull().sum()`. "
   ]
  },
  {
   "cell_type": "code",
   "execution_count": 3,
   "metadata": {},
   "outputs": [
    {
     "data": {
      "text/plain": [
       "children               0\n",
       "days_employed       2174\n",
       "dob_years              0\n",
       "education              0\n",
       "education_id           0\n",
       "family_status          0\n",
       "family_status_id       0\n",
       "gender                 0\n",
       "income_type            0\n",
       "debt                   0\n",
       "total_income        2174\n",
       "purpose                0\n",
       "dtype: int64"
      ]
     },
     "metadata": {},
     "output_type": "display_data"
    }
   ],
   "source": [
    "display(data.isnull().sum())"
   ]
  },
  {
   "cell_type": "markdown",
   "metadata": {},
   "source": [
    "Итак, в нашей таблице `data` нашлись пропуски в столбцах, в которых собраны количественные переменные (столбцы про трудовой стаж `days_employed` (значения исчисляются в днях) и ежемесячный доход `total_income` (значения исчисляются в рублях). \n",
    "\n",
    "Считаем, что возникновение одинакового количества пропусков в этих двух столбцах объясняется вполне логичной и закономерной причиной - ведь человек, заполняющий форму-анкету, явно указывает, что он не работает (оставляет графу про трудовой стаж пустой), а значит, не имеет дохода (также оставляет эту графу пустой). "
   ]
  },
  {
   "cell_type": "markdown",
   "metadata": {},
   "source": [
    "Заполним найденные пропуски в столбцах `days_employed` и `total_income` нулевыми значениями методом `fillna` с аргументом `value=0`. \n",
    "\n",
    "Мы полагаем, что медианное значение для заполнения пропусков брать некорректно, так как клиенты без трудового стажа и ежемесячного дохода - это самостоятельная социальная категория, и если мы заполним пропуски чем-то еще, кроме нулей, мы тем самым уничтожим в базе данных `data` целую социальную категорию клиентов. Это плохо отразится на репрезентативности."
   ]
  },
  {
   "cell_type": "code",
   "execution_count": 4,
   "metadata": {},
   "outputs": [],
   "source": [
    "data['days_employed'] = data['days_employed'].fillna(value=0)\n",
    "data['total_income'] = data['total_income'].fillna(value=0)"
   ]
  },
  {
   "cell_type": "markdown",
   "metadata": {},
   "source": [
    "Проверим, что пропущенных значений больше нет, снова вызываем метод `isnull().sum()`."
   ]
  },
  {
   "cell_type": "code",
   "execution_count": 5,
   "metadata": {},
   "outputs": [
    {
     "data": {
      "text/plain": [
       "children            0\n",
       "days_employed       0\n",
       "dob_years           0\n",
       "education           0\n",
       "education_id        0\n",
       "family_status       0\n",
       "family_status_id    0\n",
       "gender              0\n",
       "income_type         0\n",
       "debt                0\n",
       "total_income        0\n",
       "purpose             0\n",
       "dtype: int64"
      ]
     },
     "metadata": {},
     "output_type": "display_data"
    }
   ],
   "source": [
    "display(data.isnull().sum())"
   ]
  },
  {
   "cell_type": "markdown",
   "metadata": {},
   "source": [
    "<div id='id-section9'/>\n",
    "\n",
    "### [Вывод](#id-section10)\n",
    "\n",
    "Мы нашли в таблице `data` пропуски в двух столбцах `days_employed` и `total_income`, заполнили пропуски нулевыми значениями и проверили, что пропущенных значений не осталось."
   ]
  },
  {
   "cell_type": "markdown",
   "metadata": {},
   "source": [
    "<div id='id-section11'/>\n",
    "\n",
    "### [Замена типа данных](#id-section12)\n",
    "\n",
    "Заменим вещественный тип данных на целочисленный. Для удобства снова вызовем метод `info()` и посмотрим, какие типы данных есть в каждом столбце таблицы `data`."
   ]
  },
  {
   "cell_type": "code",
   "execution_count": 6,
   "metadata": {},
   "outputs": [
    {
     "name": "stdout",
     "output_type": "stream",
     "text": [
      "<class 'pandas.core.frame.DataFrame'>\n",
      "RangeIndex: 21525 entries, 0 to 21524\n",
      "Data columns (total 12 columns):\n",
      "children            21525 non-null int64\n",
      "days_employed       21525 non-null float64\n",
      "dob_years           21525 non-null int64\n",
      "education           21525 non-null object\n",
      "education_id        21525 non-null int64\n",
      "family_status       21525 non-null object\n",
      "family_status_id    21525 non-null int64\n",
      "gender              21525 non-null object\n",
      "income_type         21525 non-null object\n",
      "debt                21525 non-null int64\n",
      "total_income        21525 non-null float64\n",
      "purpose             21525 non-null object\n",
      "dtypes: float64(2), int64(5), object(5)\n",
      "memory usage: 2.0+ MB\n"
     ]
    }
   ],
   "source": [
    "data.info()"
   ]
  },
  {
   "cell_type": "markdown",
   "metadata": {},
   "source": [
    "Нас интересует вещественный тип данных - `float64` - в столбцах про трудовой стаж `days_employed` и ежемесячный доход `total_income`. Надо заменить этот тип данных на `int64`, так как это означает целое число.\n",
    "\n",
    "\n",
    "Используем метод для изменения типа данных `astype()` с аргументом `int64`."
   ]
  },
  {
   "cell_type": "code",
   "execution_count": 7,
   "metadata": {},
   "outputs": [],
   "source": [
    "data['days_employed'] = data['days_employed'].astype('int64')\n",
    "data['total_income'] = data['total_income'].astype('int64')"
   ]
  },
  {
   "cell_type": "markdown",
   "metadata": {},
   "source": [
    "Методом `info()` проверяем, произошла ли замена."
   ]
  },
  {
   "cell_type": "code",
   "execution_count": 8,
   "metadata": {},
   "outputs": [
    {
     "name": "stdout",
     "output_type": "stream",
     "text": [
      "<class 'pandas.core.frame.DataFrame'>\n",
      "RangeIndex: 21525 entries, 0 to 21524\n",
      "Data columns (total 12 columns):\n",
      "children            21525 non-null int64\n",
      "days_employed       21525 non-null int64\n",
      "dob_years           21525 non-null int64\n",
      "education           21525 non-null object\n",
      "education_id        21525 non-null int64\n",
      "family_status       21525 non-null object\n",
      "family_status_id    21525 non-null int64\n",
      "gender              21525 non-null object\n",
      "income_type         21525 non-null object\n",
      "debt                21525 non-null int64\n",
      "total_income        21525 non-null int64\n",
      "purpose             21525 non-null object\n",
      "dtypes: int64(7), object(5)\n",
      "memory usage: 2.0+ MB\n"
     ]
    }
   ],
   "source": [
    "data.info()"
   ]
  },
  {
   "cell_type": "markdown",
   "metadata": {},
   "source": [
    "<div id='id-section13'/>\n",
    "\n",
    "### [Вывод](#id-section14)\n",
    "\n",
    "Мы заменили вещественный тип данных на целочисленный в двух столбцах `days_employed` и `total_income` и проверили, что замена произошла."
   ]
  },
  {
   "cell_type": "markdown",
   "metadata": {},
   "source": [
    "<div id='id-section15'/>\n",
    "\n",
    "### [Обработка дубликатов](#id-section16)\n",
    "\n",
    "Найдем дубликаты в данных методом `duplicated().sum()`, что позволит нам посчитать общее количество дубликатов в таблице `data`."
   ]
  },
  {
   "cell_type": "code",
   "execution_count": 9,
   "metadata": {},
   "outputs": [
    {
     "data": {
      "text/plain": [
       "54"
      ]
     },
     "metadata": {},
     "output_type": "display_data"
    }
   ],
   "source": [
    "display(data.duplicated().sum())"
   ]
  },
  {
   "cell_type": "markdown",
   "metadata": {},
   "source": [
    "Дубликатов нашлось 54 шт. \n",
    "\n",
    "Возможные факторы их появления - технические либо человеческие, когда форма-анкета \"зависала\", и клиенты или сотрудники банка заполняли ее еще раз, при этом ранее введенная ими информация сохранялась."
   ]
  },
  {
   "cell_type": "markdown",
   "metadata": {},
   "source": [
    "Удалим дубликаты методом `drop_duplicates().reset_index` с аргументом `drop=True`. Это позволит нам получить таблицу, очищенную от дубликатов, с новой индексацией."
   ]
  },
  {
   "cell_type": "code",
   "execution_count": 10,
   "metadata": {},
   "outputs": [],
   "source": [
    "data = data.drop_duplicates().reset_index(drop=True)"
   ]
  },
  {
   "cell_type": "markdown",
   "metadata": {},
   "source": [
    "Проверим, что все дубликаты удалились, опять вызовем метод `duplicated().sum()`."
   ]
  },
  {
   "cell_type": "code",
   "execution_count": 11,
   "metadata": {},
   "outputs": [
    {
     "data": {
      "text/plain": [
       "0"
      ]
     },
     "metadata": {},
     "output_type": "display_data"
    }
   ],
   "source": [
    "display(data.duplicated().sum())"
   ]
  },
  {
   "cell_type": "markdown",
   "metadata": {},
   "source": [
    "<div id='id-section17'/>\n",
    "\n",
    "### [Вывод](#id-section18)\n",
    "\n",
    "Мы нашли 54 дубликата, удалили их и получили таблицу `data`, очищенную от дубликатов, с новой индексацией, а также проконтролировали наши действия проверкой."
   ]
  },
  {
   "cell_type": "markdown",
   "metadata": {},
   "source": [
    "<div id='id-section19'/>\n",
    "\n",
    "### [Лемматизация](#id-section20)\n",
    "\n",
    "Для анализа данных, содержащихся в столбце с целями получения кредита `purpose`, нам необходимо выделить категории (главные слова-индикаторы), которые коротко опишут, для чего каждый клиент взял кредит."
   ]
  },
  {
   "cell_type": "markdown",
   "metadata": {},
   "source": [
    "Отберем все уникальные значения столбца `purpose` и \"склеим\" их в одну огромную строку."
   ]
  },
  {
   "cell_type": "code",
   "execution_count": 13,
   "metadata": {},
   "outputs": [],
   "source": [
    "long_string = ' '.join(data['purpose'].unique())"
   ]
  },
  {
   "cell_type": "markdown",
   "metadata": {},
   "source": [
    "Пролемматизируем эту строку методом `m.lemmatize` и сохраним результат в переменной `lemmas`."
   ]
  },
  {
   "cell_type": "code",
   "execution_count": 14,
   "metadata": {},
   "outputs": [],
   "source": [
    "lemmas = m.lemmatize(long_string)"
   ]
  },
  {
   "cell_type": "markdown",
   "metadata": {},
   "source": [
    "Методом `Counter` посчитаем, сколько лемм нашлось, посмотрим на них и определим для себя самые главные - то есть будущие категории целей кредита."
   ]
  },
  {
   "cell_type": "code",
   "execution_count": 15,
   "metadata": {},
   "outputs": [
    {
     "data": {
      "text/plain": [
       "Counter({'покупка': 10,\n",
       "         ' ': 96,\n",
       "         'жилье': 7,\n",
       "         'приобретение': 1,\n",
       "         'автомобиль': 9,\n",
       "         'дополнительный': 2,\n",
       "         'образование': 9,\n",
       "         'сыграть': 1,\n",
       "         'свадьба': 3,\n",
       "         'операция': 4,\n",
       "         'с': 5,\n",
       "         'на': 4,\n",
       "         'проведение': 1,\n",
       "         'для': 2,\n",
       "         'семья': 1,\n",
       "         'недвижимость': 10,\n",
       "         'коммерческий': 2,\n",
       "         'жилой': 2,\n",
       "         'строительство': 3,\n",
       "         'собственный': 1,\n",
       "         'подержать': 2,\n",
       "         'свой': 4,\n",
       "         'со': 1,\n",
       "         'заниматься': 2,\n",
       "         'сделка': 2,\n",
       "         'получение': 3,\n",
       "         'высокий': 3,\n",
       "         'профильный': 1,\n",
       "         'сдача': 1,\n",
       "         'ремонт': 1,\n",
       "         '\\n': 1})"
      ]
     },
     "metadata": {},
     "output_type": "display_data"
    }
   ],
   "source": [
    "count = Counter(lemmas)\n",
    "display(count)"
   ]
  },
  {
   "cell_type": "markdown",
   "metadata": {},
   "source": [
    "Мы выбрали такие категории целей кредита: \n",
    "- недвижимость,\n",
    "- автомобиль, \n",
    "- образование, \n",
    "- операция,\n",
    "- свадьба,\n",
    "- другое (на случай, если мы что-то важное не учли).\n",
    "\n",
    "Но отдельно отметим слово *жилье* - это тоже попадает в категорию *недвижимость*."
   ]
  },
  {
   "cell_type": "markdown",
   "metadata": {},
   "source": [
    "<div id='id-section21'/>\n",
    "\n",
    "### [Вывод](#id-section22)\n",
    "\n",
    "С помощью лемматизации уникальных значений из столбца `purpose` нам удалось выделить основные категории (главные слова-индикаторы), которые коротко описывают, для чего каждый клиент взял кредит."
   ]
  },
  {
   "cell_type": "markdown",
   "metadata": {},
   "source": [
    "<div id='id-section23'/>\n",
    "\n",
    "### [Категоризация данных](#id-section24)"
   ]
  },
  {
   "cell_type": "markdown",
   "metadata": {},
   "source": [
    "Проводить лемматизацию и последующую категоризацию целей кредита на нашей большой таблице `data` будет проблематично, ведь в ней более 21 тыс. строк, и на эти процессы уйдут годы...\n",
    "\n",
    "Поэтому для экономии наших лет жизни мы соберем маленькую табличку-словарик `dict_category`, в которой первый столбец `purpose` будет взят из `data` - там будут все уникальные строки с целями кредита."
   ]
  },
  {
   "cell_type": "code",
   "execution_count": 16,
   "metadata": {},
   "outputs": [],
   "source": [
    "a = data['purpose'].unique()\n",
    "b = ['purpose']\n",
    "dict_category = pd.DataFrame(data = a, columns = b)"
   ]
  },
  {
   "cell_type": "markdown",
   "metadata": {},
   "source": [
    "Добавим к словарику второй столбец с леммами от первого столбца (для этого применим к столбцу `purpose` функцию `apply` с аргументом `m.lemmatize`) и посмотрим, что получилось. \n",
    "\n",
    "Выведем первые 5 строк."
   ]
  },
  {
   "cell_type": "code",
   "execution_count": 17,
   "metadata": {},
   "outputs": [
    {
     "data": {
      "text/html": [
       "<div>\n",
       "<style scoped>\n",
       "    .dataframe tbody tr th:only-of-type {\n",
       "        vertical-align: middle;\n",
       "    }\n",
       "\n",
       "    .dataframe tbody tr th {\n",
       "        vertical-align: top;\n",
       "    }\n",
       "\n",
       "    .dataframe thead th {\n",
       "        text-align: right;\n",
       "    }\n",
       "</style>\n",
       "<table border=\"1\" class=\"dataframe\">\n",
       "  <thead>\n",
       "    <tr style=\"text-align: right;\">\n",
       "      <th></th>\n",
       "      <th>purpose</th>\n",
       "      <th>lemmas</th>\n",
       "    </tr>\n",
       "  </thead>\n",
       "  <tbody>\n",
       "    <tr>\n",
       "      <td>0</td>\n",
       "      <td>покупка жилья</td>\n",
       "      <td>[покупка,  , жилье, \\n]</td>\n",
       "    </tr>\n",
       "    <tr>\n",
       "      <td>1</td>\n",
       "      <td>приобретение автомобиля</td>\n",
       "      <td>[приобретение,  , автомобиль, \\n]</td>\n",
       "    </tr>\n",
       "    <tr>\n",
       "      <td>2</td>\n",
       "      <td>дополнительное образование</td>\n",
       "      <td>[дополнительный,  , образование, \\n]</td>\n",
       "    </tr>\n",
       "    <tr>\n",
       "      <td>3</td>\n",
       "      <td>сыграть свадьбу</td>\n",
       "      <td>[сыграть,  , свадьба, \\n]</td>\n",
       "    </tr>\n",
       "    <tr>\n",
       "      <td>4</td>\n",
       "      <td>операции с жильем</td>\n",
       "      <td>[операция,  , с,  , жилье, \\n]</td>\n",
       "    </tr>\n",
       "  </tbody>\n",
       "</table>\n",
       "</div>"
      ],
      "text/plain": [
       "                      purpose                                lemmas\n",
       "0               покупка жилья               [покупка,  , жилье, \\n]\n",
       "1     приобретение автомобиля     [приобретение,  , автомобиль, \\n]\n",
       "2  дополнительное образование  [дополнительный,  , образование, \\n]\n",
       "3             сыграть свадьбу             [сыграть,  , свадьба, \\n]\n",
       "4           операции с жильем        [операция,  , с,  , жилье, \\n]"
      ]
     },
     "metadata": {},
     "output_type": "display_data"
    }
   ],
   "source": [
    "dict_category['lemmas'] = dict_category['purpose'].apply(m.lemmatize)\n",
    "display(dict_category.head())"
   ]
  },
  {
   "cell_type": "markdown",
   "metadata": {},
   "source": [
    "Теперь напишем функцию, которая будет перебирать в словарике значения в стобце с леммами `lemmas`, а возвращать названия категорий (их мы получили раньше на этапе метода `Count`).\n",
    "\n",
    "Вспоминаем про слово *жилье*, которое должно попасть в категорию *недвижимость*."
   ]
  },
  {
   "cell_type": "code",
   "execution_count": 18,
   "metadata": {},
   "outputs": [],
   "source": [
    "def purpose_into_category(lemmas):\n",
    "    if 'недвижимость' in lemmas:\n",
    "        return 'недвижимость'\n",
    "    if 'жилье' in lemmas:\n",
    "        return 'недвижимость'\n",
    "    if 'автомобиль' in lemmas:\n",
    "        return 'автомобиль'\n",
    "    if 'образование' in lemmas:\n",
    "        return 'образование'\n",
    "    if 'операция' in lemmas:\n",
    "        return 'операция'\n",
    "    if 'свадьба' in lemmas:\n",
    "        return 'свадьба'\n",
    "    return 'другое'"
   ]
  },
  {
   "cell_type": "markdown",
   "metadata": {},
   "source": [
    "Добавим в словарик третий столбец `purpose_category` с категориями, который получится благодаря прогону второго слолбца с леммами через написанную нами функцию методом `apply()`.\n",
    "\n",
    "\n",
    "Проверим результат. Выведем первые 5 строк словарика. "
   ]
  },
  {
   "cell_type": "code",
   "execution_count": 19,
   "metadata": {},
   "outputs": [
    {
     "data": {
      "text/html": [
       "<div>\n",
       "<style scoped>\n",
       "    .dataframe tbody tr th:only-of-type {\n",
       "        vertical-align: middle;\n",
       "    }\n",
       "\n",
       "    .dataframe tbody tr th {\n",
       "        vertical-align: top;\n",
       "    }\n",
       "\n",
       "    .dataframe thead th {\n",
       "        text-align: right;\n",
       "    }\n",
       "</style>\n",
       "<table border=\"1\" class=\"dataframe\">\n",
       "  <thead>\n",
       "    <tr style=\"text-align: right;\">\n",
       "      <th></th>\n",
       "      <th>purpose</th>\n",
       "      <th>lemmas</th>\n",
       "      <th>purpose_category</th>\n",
       "    </tr>\n",
       "  </thead>\n",
       "  <tbody>\n",
       "    <tr>\n",
       "      <td>0</td>\n",
       "      <td>покупка жилья</td>\n",
       "      <td>[покупка,  , жилье, \\n]</td>\n",
       "      <td>недвижимость</td>\n",
       "    </tr>\n",
       "    <tr>\n",
       "      <td>1</td>\n",
       "      <td>приобретение автомобиля</td>\n",
       "      <td>[приобретение,  , автомобиль, \\n]</td>\n",
       "      <td>автомобиль</td>\n",
       "    </tr>\n",
       "    <tr>\n",
       "      <td>2</td>\n",
       "      <td>дополнительное образование</td>\n",
       "      <td>[дополнительный,  , образование, \\n]</td>\n",
       "      <td>образование</td>\n",
       "    </tr>\n",
       "    <tr>\n",
       "      <td>3</td>\n",
       "      <td>сыграть свадьбу</td>\n",
       "      <td>[сыграть,  , свадьба, \\n]</td>\n",
       "      <td>свадьба</td>\n",
       "    </tr>\n",
       "    <tr>\n",
       "      <td>4</td>\n",
       "      <td>операции с жильем</td>\n",
       "      <td>[операция,  , с,  , жилье, \\n]</td>\n",
       "      <td>недвижимость</td>\n",
       "    </tr>\n",
       "  </tbody>\n",
       "</table>\n",
       "</div>"
      ],
      "text/plain": [
       "                      purpose                                lemmas  \\\n",
       "0               покупка жилья               [покупка,  , жилье, \\n]   \n",
       "1     приобретение автомобиля     [приобретение,  , автомобиль, \\n]   \n",
       "2  дополнительное образование  [дополнительный,  , образование, \\n]   \n",
       "3             сыграть свадьбу             [сыграть,  , свадьба, \\n]   \n",
       "4           операции с жильем        [операция,  , с,  , жилье, \\n]   \n",
       "\n",
       "  purpose_category  \n",
       "0     недвижимость  \n",
       "1       автомобиль  \n",
       "2      образование  \n",
       "3          свадьба  \n",
       "4     недвижимость  "
      ]
     },
     "metadata": {},
     "output_type": "display_data"
    }
   ],
   "source": [
    "dict_category['purpose_category'] = dict_category['lemmas'].apply(purpose_into_category)\n",
    "display(dict_category.head())"
   ]
  },
  {
   "cell_type": "markdown",
   "metadata": {},
   "source": [
    "Результат нашей работы со словариком надо применить к большой таблице `data`, чтобы в ней для каждой строки с целями кредита появилась строка с соответствующей категорией. \n",
    "\n",
    "Чтобы так сделать, наложим наш словарик `dict_category` на большую таблицу `data` по их общему столбцу `purpose` методом `merge()`.\n",
    "\n",
    "Проверим результат, выведем первые 5 строк из `data`."
   ]
  },
  {
   "cell_type": "code",
   "execution_count": 20,
   "metadata": {},
   "outputs": [
    {
     "data": {
      "text/html": [
       "<div>\n",
       "<style scoped>\n",
       "    .dataframe tbody tr th:only-of-type {\n",
       "        vertical-align: middle;\n",
       "    }\n",
       "\n",
       "    .dataframe tbody tr th {\n",
       "        vertical-align: top;\n",
       "    }\n",
       "\n",
       "    .dataframe thead th {\n",
       "        text-align: right;\n",
       "    }\n",
       "</style>\n",
       "<table border=\"1\" class=\"dataframe\">\n",
       "  <thead>\n",
       "    <tr style=\"text-align: right;\">\n",
       "      <th></th>\n",
       "      <th>children</th>\n",
       "      <th>days_employed</th>\n",
       "      <th>dob_years</th>\n",
       "      <th>education</th>\n",
       "      <th>education_id</th>\n",
       "      <th>family_status</th>\n",
       "      <th>family_status_id</th>\n",
       "      <th>gender</th>\n",
       "      <th>income_type</th>\n",
       "      <th>debt</th>\n",
       "      <th>total_income</th>\n",
       "      <th>purpose</th>\n",
       "      <th>lemmas</th>\n",
       "      <th>purpose_category</th>\n",
       "    </tr>\n",
       "  </thead>\n",
       "  <tbody>\n",
       "    <tr>\n",
       "      <td>0</td>\n",
       "      <td>1</td>\n",
       "      <td>-8437</td>\n",
       "      <td>42</td>\n",
       "      <td>высшее</td>\n",
       "      <td>0</td>\n",
       "      <td>женат / замужем</td>\n",
       "      <td>0</td>\n",
       "      <td>F</td>\n",
       "      <td>сотрудник</td>\n",
       "      <td>0</td>\n",
       "      <td>253875</td>\n",
       "      <td>покупка жилья</td>\n",
       "      <td>[покупка,  , жилье, \\n]</td>\n",
       "      <td>недвижимость</td>\n",
       "    </tr>\n",
       "    <tr>\n",
       "      <td>1</td>\n",
       "      <td>1</td>\n",
       "      <td>-4024</td>\n",
       "      <td>36</td>\n",
       "      <td>среднее</td>\n",
       "      <td>1</td>\n",
       "      <td>женат / замужем</td>\n",
       "      <td>0</td>\n",
       "      <td>F</td>\n",
       "      <td>сотрудник</td>\n",
       "      <td>0</td>\n",
       "      <td>112080</td>\n",
       "      <td>приобретение автомобиля</td>\n",
       "      <td>[приобретение,  , автомобиль, \\n]</td>\n",
       "      <td>автомобиль</td>\n",
       "    </tr>\n",
       "    <tr>\n",
       "      <td>2</td>\n",
       "      <td>0</td>\n",
       "      <td>-5623</td>\n",
       "      <td>33</td>\n",
       "      <td>Среднее</td>\n",
       "      <td>1</td>\n",
       "      <td>женат / замужем</td>\n",
       "      <td>0</td>\n",
       "      <td>M</td>\n",
       "      <td>сотрудник</td>\n",
       "      <td>0</td>\n",
       "      <td>145885</td>\n",
       "      <td>покупка жилья</td>\n",
       "      <td>[покупка,  , жилье, \\n]</td>\n",
       "      <td>недвижимость</td>\n",
       "    </tr>\n",
       "    <tr>\n",
       "      <td>3</td>\n",
       "      <td>3</td>\n",
       "      <td>-4124</td>\n",
       "      <td>32</td>\n",
       "      <td>среднее</td>\n",
       "      <td>1</td>\n",
       "      <td>женат / замужем</td>\n",
       "      <td>0</td>\n",
       "      <td>M</td>\n",
       "      <td>сотрудник</td>\n",
       "      <td>0</td>\n",
       "      <td>267628</td>\n",
       "      <td>дополнительное образование</td>\n",
       "      <td>[дополнительный,  , образование, \\n]</td>\n",
       "      <td>образование</td>\n",
       "    </tr>\n",
       "    <tr>\n",
       "      <td>4</td>\n",
       "      <td>0</td>\n",
       "      <td>340266</td>\n",
       "      <td>53</td>\n",
       "      <td>среднее</td>\n",
       "      <td>1</td>\n",
       "      <td>гражданский брак</td>\n",
       "      <td>1</td>\n",
       "      <td>F</td>\n",
       "      <td>пенсионер</td>\n",
       "      <td>0</td>\n",
       "      <td>158616</td>\n",
       "      <td>сыграть свадьбу</td>\n",
       "      <td>[сыграть,  , свадьба, \\n]</td>\n",
       "      <td>свадьба</td>\n",
       "    </tr>\n",
       "  </tbody>\n",
       "</table>\n",
       "</div>"
      ],
      "text/plain": [
       "   children  days_employed  dob_years education  education_id  \\\n",
       "0         1          -8437         42    высшее             0   \n",
       "1         1          -4024         36   среднее             1   \n",
       "2         0          -5623         33   Среднее             1   \n",
       "3         3          -4124         32   среднее             1   \n",
       "4         0         340266         53   среднее             1   \n",
       "\n",
       "      family_status  family_status_id gender income_type  debt  total_income  \\\n",
       "0   женат / замужем                 0      F   сотрудник     0        253875   \n",
       "1   женат / замужем                 0      F   сотрудник     0        112080   \n",
       "2   женат / замужем                 0      M   сотрудник     0        145885   \n",
       "3   женат / замужем                 0      M   сотрудник     0        267628   \n",
       "4  гражданский брак                 1      F   пенсионер     0        158616   \n",
       "\n",
       "                      purpose                                lemmas  \\\n",
       "0               покупка жилья               [покупка,  , жилье, \\n]   \n",
       "1     приобретение автомобиля     [приобретение,  , автомобиль, \\n]   \n",
       "2               покупка жилья               [покупка,  , жилье, \\n]   \n",
       "3  дополнительное образование  [дополнительный,  , образование, \\n]   \n",
       "4             сыграть свадьбу             [сыграть,  , свадьба, \\n]   \n",
       "\n",
       "  purpose_category  \n",
       "0     недвижимость  \n",
       "1       автомобиль  \n",
       "2     недвижимость  \n",
       "3      образование  \n",
       "4          свадьба  "
      ]
     },
     "metadata": {},
     "output_type": "display_data"
    }
   ],
   "source": [
    "data = data.merge(dict_category, on='purpose', how='left')\n",
    "display(data.head())"
   ]
  },
  {
   "cell_type": "markdown",
   "metadata": {},
   "source": [
    "<div id='id-section25'/>\n",
    "\n",
    "### [Вывод](#id-section26)"
   ]
  },
  {
   "cell_type": "markdown",
   "metadata": {},
   "source": [
    "Мы добились своего, теперь в базе данных `data` появился столбец `purpose_category` с категориями целей кредита. Это поможет нам в дальнейшем анализе. \n",
    "\n",
    "Как бонус, появился еще и столбец с леммами `lemmas`, но он нам больше не пригодится."
   ]
  },
  {
   "cell_type": "markdown",
   "metadata": {},
   "source": [
    "<div id='id-section27'/>\n",
    "\n",
    "### [Работа с артефактами](#id-section28)\n",
    "\n",
    "В самом начале исследования при просмотре данных мы заметили артефакты — значения, которые не отражают действительность. В нашем случае это отрицательное количество дней трудового стажа. \n",
    "\n",
    "Причиной их возникновения считаем то, что при заполнении графы про трудовой стаж клиенты или сотрудники банка использовали знак \"тире\", а в базе данных `data` это превратилось в \"минус\".\n",
    "\n",
    "Напишем функцию, которая поможет превратить отрицательные значения в столбце с трудовым стажем в положительные. А те положительные значения, которые уже там есть, останутся без изменений."
   ]
  },
  {
   "cell_type": "code",
   "execution_count": 21,
   "metadata": {},
   "outputs": [],
   "source": [
    "def minus_into_plus(element):\n",
    "    if element < 0:\n",
    "        element_with_plus = element * (-1)\n",
    "        return element_with_plus\n",
    "    else:\n",
    "        return element"
   ]
  },
  {
   "cell_type": "markdown",
   "metadata": {},
   "source": [
    "Поменяем в столбце с трудовым стажем отрицательные значения на положительные. Применим написанную нами функцию на столбец `days_employed` методом `apply()`."
   ]
  },
  {
   "cell_type": "code",
   "execution_count": 22,
   "metadata": {},
   "outputs": [],
   "source": [
    "data['days_employed'] = data['days_employed'].apply(minus_into_plus)"
   ]
  },
  {
   "cell_type": "markdown",
   "metadata": {},
   "source": [
    "Проверим, получилась ли замена минусов на плюсы. Методом `min()` выведем на экран самое минимальное значение из всех, которые теперь есть в стоблце `days_employed`."
   ]
  },
  {
   "cell_type": "code",
   "execution_count": 23,
   "metadata": {},
   "outputs": [
    {
     "data": {
      "text/plain": [
       "0"
      ]
     },
     "metadata": {},
     "output_type": "display_data"
    }
   ],
   "source": [
    "display(data['days_employed'].min())"
   ]
  },
  {
   "cell_type": "markdown",
   "metadata": {},
   "source": [
    "Сработало, теперь самым маленьким значением в столбце является только 0, а значений с минусами больше нет. "
   ]
  },
  {
   "cell_type": "markdown",
   "metadata": {},
   "source": [
    "<div id='id-section29'/>\n",
    "\n",
    "### [Вывод](#id-section30)"
   ]
  },
  {
   "cell_type": "markdown",
   "metadata": {},
   "source": [
    "Нам удалось очистить столбец `days_employed` от отрицательных значений, больше артефактов нет."
   ]
  },
  {
   "cell_type": "markdown",
   "metadata": {},
   "source": [
    "<div id='id-section31'/>\n",
    "\n",
    "## [Шаг 3. Проанализируем данные о клиентах](#id-section32)"
   ]
  },
  {
   "cell_type": "markdown",
   "metadata": {},
   "source": [
    "<div id='id-section33'/>\n",
    "\n",
    "### [Изучим, есть ли зависимость между наличием детей и возвратом кредита в срок](#id-section34)"
   ]
  },
  {
   "cell_type": "markdown",
   "metadata": {},
   "source": [
    "Сначала методом `value_counts()` узнаем, какие вообще значения указаны в столбце с количеством детей `children`, вдруг там будет что-то необычное. "
   ]
  },
  {
   "cell_type": "code",
   "execution_count": 24,
   "metadata": {},
   "outputs": [
    {
     "data": {
      "text/plain": [
       " 0     14107\n",
       " 1      4809\n",
       " 2      2052\n",
       " 3       330\n",
       " 20       76\n",
       "-1        47\n",
       " 4        41\n",
       " 5         9\n",
       "Name: children, dtype: int64"
      ]
     },
     "metadata": {},
     "output_type": "display_data"
    }
   ],
   "source": [
    "display(data['children'].value_counts())"
   ]
  },
  {
   "cell_type": "markdown",
   "metadata": {},
   "source": [
    "Нашлись два странных значения: 20 и -1. Столько детей не может быть. \n",
    "\n",
    "Мы полагаем, что здесь снова вмешалась человеческая природа, и вместо 20 должно быть указано 2 (при заполнении графы могли ошибиться и вместо \"02\" отправить ответ \"20\"). Вместо -1 должно быть указано 1 (поставили \"дефис\", который база данных приняла за \"минус\")."
   ]
  },
  {
   "cell_type": "markdown",
   "metadata": {},
   "source": [
    "Заменим в столбце `children` 20 на 2, а -1 на 1 методом `replace()`. Кавычки в аргументах метода не ставим, так как в стобце `children` содержатся числовые значения, и заменяем мы их также на числа."
   ]
  },
  {
   "cell_type": "code",
   "execution_count": 25,
   "metadata": {},
   "outputs": [],
   "source": [
    "data['children'] = data['children'].replace(20, 2)\n",
    "data['children'] = data['children'].replace(-1, 1)"
   ]
  },
  {
   "cell_type": "markdown",
   "metadata": {},
   "source": [
    "Проверим, получилась ли замена, методом `value_counts()`. "
   ]
  },
  {
   "cell_type": "code",
   "execution_count": 26,
   "metadata": {},
   "outputs": [
    {
     "data": {
      "text/plain": [
       "0    14107\n",
       "1     4856\n",
       "2     2128\n",
       "3      330\n",
       "4       41\n",
       "5        9\n",
       "Name: children, dtype: int64"
      ]
     },
     "metadata": {},
     "output_type": "display_data"
    }
   ],
   "source": [
    "display(data['children'].value_counts())"
   ]
  },
  {
   "cell_type": "markdown",
   "metadata": {},
   "source": [
    "Итак, значений 20 и -1 больше нет."
   ]
  },
  {
   "cell_type": "markdown",
   "metadata": {},
   "source": [
    "Напишем функцию, которая разделит всех клиентов на категории: \n",
    "- без детей, \n",
    "- с 1 ребенком, \n",
    "- с 2 детьми, \n",
    "- многодетный. \n",
    "\n",
    "С такими категориями будет легче и нагляднее представить результат анализа."
   ]
  },
  {
   "cell_type": "code",
   "execution_count": 27,
   "metadata": {},
   "outputs": [],
   "source": [
    "def children_into_category(children):\n",
    "    if children == 0:\n",
    "        return 'без детей'\n",
    "    if children == 1:\n",
    "        return 'с 1 ребенком'\n",
    "    if children == 2:\n",
    "        return 'с 2 детьми'\n",
    "    else:\n",
    "        return 'многодетный'"
   ]
  },
  {
   "cell_type": "markdown",
   "metadata": {},
   "source": [
    "Создадим в базе данных `data` новый столбец `children_category`, в котором будут вышеназванные категории клиетов. Для этого применим написанную нами функцию на столбец `children` методом `apply()`."
   ]
  },
  {
   "cell_type": "code",
   "execution_count": 28,
   "metadata": {},
   "outputs": [],
   "source": [
    "data['children_category'] = data['children'].apply(children_into_category)"
   ]
  },
  {
   "cell_type": "markdown",
   "metadata": {},
   "source": [
    "Проверим работу функции. Методом `value_counts` найдем и посчитаем в новом столбце `children_category` все значения."
   ]
  },
  {
   "cell_type": "code",
   "execution_count": 29,
   "metadata": {},
   "outputs": [
    {
     "data": {
      "text/plain": [
       "без детей       14107\n",
       "с 1 ребенком     4856\n",
       "с 2 детьми       2128\n",
       "многодетный       380\n",
       "Name: children_category, dtype: int64"
      ]
     },
     "metadata": {},
     "output_type": "display_data"
    }
   ],
   "source": [
    "display(data['children_category'].value_counts())"
   ]
  },
  {
   "cell_type": "markdown",
   "metadata": {},
   "source": [
    "Все клиенты с детьми и без разбились на 4 удобные категории."
   ]
  },
  {
   "cell_type": "markdown",
   "metadata": {},
   "source": [
    "Для дальнейшего анализа сделаем новую сводную таблицу, сгруппированную по столбцам `children_category` и `debt`, где по каждой категории будет отражено общее количество клиентов, взявших кредит (`count`), и количество их долгов по кредитам (ведь в столбце `debt` все *нули* означают своевременное погашение кредита, а *единицы* - долги, поэтому их суммирование с помощью `sum` даст нам количество должников).\n",
    "\n",
    "Используем метод `agg()`."
   ]
  },
  {
   "cell_type": "code",
   "execution_count": 30,
   "metadata": {},
   "outputs": [],
   "source": [
    "data_grouped_by_children_category = data.groupby('children_category').agg({'debt': ['count', 'sum']})"
   ]
  },
  {
   "cell_type": "markdown",
   "metadata": {},
   "source": [
    "Cмотрим на сводную таблицу."
   ]
  },
  {
   "cell_type": "code",
   "execution_count": 31,
   "metadata": {},
   "outputs": [
    {
     "data": {
      "text/html": [
       "<div>\n",
       "<style scoped>\n",
       "    .dataframe tbody tr th:only-of-type {\n",
       "        vertical-align: middle;\n",
       "    }\n",
       "\n",
       "    .dataframe tbody tr th {\n",
       "        vertical-align: top;\n",
       "    }\n",
       "\n",
       "    .dataframe thead tr th {\n",
       "        text-align: left;\n",
       "    }\n",
       "\n",
       "    .dataframe thead tr:last-of-type th {\n",
       "        text-align: right;\n",
       "    }\n",
       "</style>\n",
       "<table border=\"1\" class=\"dataframe\">\n",
       "  <thead>\n",
       "    <tr>\n",
       "      <th></th>\n",
       "      <th colspan=\"2\" halign=\"left\">debt</th>\n",
       "    </tr>\n",
       "    <tr>\n",
       "      <th></th>\n",
       "      <th>count</th>\n",
       "      <th>sum</th>\n",
       "    </tr>\n",
       "    <tr>\n",
       "      <th>children_category</th>\n",
       "      <th></th>\n",
       "      <th></th>\n",
       "    </tr>\n",
       "  </thead>\n",
       "  <tbody>\n",
       "    <tr>\n",
       "      <td>без детей</td>\n",
       "      <td>14107</td>\n",
       "      <td>1063</td>\n",
       "    </tr>\n",
       "    <tr>\n",
       "      <td>многодетный</td>\n",
       "      <td>380</td>\n",
       "      <td>31</td>\n",
       "    </tr>\n",
       "    <tr>\n",
       "      <td>с 1 ребенком</td>\n",
       "      <td>4856</td>\n",
       "      <td>445</td>\n",
       "    </tr>\n",
       "    <tr>\n",
       "      <td>с 2 детьми</td>\n",
       "      <td>2128</td>\n",
       "      <td>202</td>\n",
       "    </tr>\n",
       "  </tbody>\n",
       "</table>\n",
       "</div>"
      ],
      "text/plain": [
       "                    debt      \n",
       "                   count   sum\n",
       "children_category             \n",
       "без детей          14107  1063\n",
       "многодетный          380    31\n",
       "с 1 ребенком        4856   445\n",
       "с 2 детьми          2128   202"
      ]
     },
     "metadata": {},
     "output_type": "display_data"
    }
   ],
   "source": [
    "display(data_grouped_by_children_category)"
   ]
  },
  {
   "cell_type": "markdown",
   "metadata": {},
   "source": [
    "Добавим в сводную таблицу столбец `conversion`, где будет конверсия по должникам: сумму должников разделим на общее количество клиентов в каждой категории. "
   ]
  },
  {
   "cell_type": "code",
   "execution_count": 32,
   "metadata": {},
   "outputs": [],
   "source": [
    "data_grouped_by_children_category['conversion'] = data_grouped_by_children_category['debt']['sum'] / data_grouped_by_children_category['debt']['count']"
   ]
  },
  {
   "cell_type": "markdown",
   "metadata": {},
   "source": [
    "Чтобы вывести под свет софитов самых неблагонадежных товарищей-должников, отсортируем сводную таблицу методом `sort_values()` по столбцу `conversion` по убыванию (`ascending = False`) и посмотрим на результат."
   ]
  },
  {
   "cell_type": "code",
   "execution_count": 33,
   "metadata": {},
   "outputs": [
    {
     "data": {
      "text/html": [
       "<div>\n",
       "<style scoped>\n",
       "    .dataframe tbody tr th:only-of-type {\n",
       "        vertical-align: middle;\n",
       "    }\n",
       "\n",
       "    .dataframe tbody tr th {\n",
       "        vertical-align: top;\n",
       "    }\n",
       "\n",
       "    .dataframe thead tr th {\n",
       "        text-align: left;\n",
       "    }\n",
       "\n",
       "    .dataframe thead tr:last-of-type th {\n",
       "        text-align: right;\n",
       "    }\n",
       "</style>\n",
       "<table border=\"1\" class=\"dataframe\">\n",
       "  <thead>\n",
       "    <tr>\n",
       "      <th></th>\n",
       "      <th colspan=\"2\" halign=\"left\">debt</th>\n",
       "      <th>conversion</th>\n",
       "    </tr>\n",
       "    <tr>\n",
       "      <th></th>\n",
       "      <th>count</th>\n",
       "      <th>sum</th>\n",
       "      <th></th>\n",
       "    </tr>\n",
       "    <tr>\n",
       "      <th>children_category</th>\n",
       "      <th></th>\n",
       "      <th></th>\n",
       "      <th></th>\n",
       "    </tr>\n",
       "  </thead>\n",
       "  <tbody>\n",
       "    <tr>\n",
       "      <td>с 2 детьми</td>\n",
       "      <td>2128</td>\n",
       "      <td>202</td>\n",
       "      <td>0.094925</td>\n",
       "    </tr>\n",
       "    <tr>\n",
       "      <td>с 1 ребенком</td>\n",
       "      <td>4856</td>\n",
       "      <td>445</td>\n",
       "      <td>0.091639</td>\n",
       "    </tr>\n",
       "    <tr>\n",
       "      <td>многодетный</td>\n",
       "      <td>380</td>\n",
       "      <td>31</td>\n",
       "      <td>0.081579</td>\n",
       "    </tr>\n",
       "    <tr>\n",
       "      <td>без детей</td>\n",
       "      <td>14107</td>\n",
       "      <td>1063</td>\n",
       "      <td>0.075353</td>\n",
       "    </tr>\n",
       "  </tbody>\n",
       "</table>\n",
       "</div>"
      ],
      "text/plain": [
       "                    debt       conversion\n",
       "                   count   sum           \n",
       "children_category                        \n",
       "с 2 детьми          2128   202   0.094925\n",
       "с 1 ребенком        4856   445   0.091639\n",
       "многодетный          380    31   0.081579\n",
       "без детей          14107  1063   0.075353"
      ]
     },
     "metadata": {},
     "output_type": "display_data"
    }
   ],
   "source": [
    "display(data_grouped_by_children_category.sort_values(by = 'conversion', ascending = False))"
   ]
  },
  {
   "cell_type": "markdown",
   "metadata": {},
   "source": [
    "<div id='id-section35'/>\n",
    "\n",
    "### [Вывод](#id-section36)"
   ]
  },
  {
   "cell_type": "markdown",
   "metadata": {},
   "source": [
    "Зависимость между наличием детей и возвратом кредита в срок существует.\n",
    "\n",
    "Мы видим, что самые надежные заемщики - это клиенты *без детей* (только 7,5% из них имеют задолженность). Это объясняется тем, что у данной категории клиентов отсутствуют дополнительные финансовые обязательства в отношении детей, и они имеют в своем личном распоряжении больше денежных средств, чем остальные клиенты, а значит, у них имеется больше возможностей вовремя погашать взятый кредит.\n",
    "\n",
    "Далее по степени надежности идут *многодетные* клиенты (задолженность имеют 8%). На наш взгляд, так происходит потому, что в семьях с большим количеством детей родители вынуждены обладать развитой финансовой грамотностью, контролем и дисциплиной, чтобы распределять имеющиеся ресурсы. На взятый кредит платежная дисциплина распространяется тоже. Кроме того, многодетные семьи поддерживаются государством и получают денежные пособия и субсидии.\n",
    "\n",
    "Клиенты с *1 ребенком* и *2 детьми* имеют практически одинаковый процент по уровню задолженности (9% и 9,5% соответственно), причем самый высокий по сравнению с другими категориями. Вероятно, такие клиенты не успели развить платежную дисциплину, жизненные обстоятельства не подталкивают их к жесткому распределению и контролю за финансовыми ресурсами. Короче говоря, жизнь еще ничему их не научила."
   ]
  },
  {
   "cell_type": "markdown",
   "metadata": {},
   "source": [
    "<div id='id-section37'/>\n",
    "\n",
    "### [Изучим, есть ли зависимость между семейным положением и возвратом кредита в срок](#id-section38)"
   ]
  },
  {
   "cell_type": "markdown",
   "metadata": {},
   "source": [
    "Сначала методом `value_counts()` узнаем, какие вообще значения указаны в столбце с семейным положением, вдруг там будет что-то необычное, от чего мы захотим избавиться."
   ]
  },
  {
   "cell_type": "code",
   "execution_count": 34,
   "metadata": {},
   "outputs": [
    {
     "data": {
      "text/plain": [
       "женат / замужем          12344\n",
       "гражданский брак          4163\n",
       "Не женат / не замужем     2810\n",
       "в разводе                 1195\n",
       "вдовец / вдова             959\n",
       "Name: family_status, dtype: int64"
      ]
     },
     "metadata": {},
     "output_type": "display_data"
    }
   ],
   "source": [
    "display(data['family_status'].value_counts())"
   ]
  },
  {
   "cell_type": "markdown",
   "metadata": {},
   "source": [
    "Необычных значений нет, все категории выглядят приличными и пригодными для анализа. "
   ]
  },
  {
   "cell_type": "markdown",
   "metadata": {},
   "source": [
    "По аналогии с предыдущим анализом про количество детей, создадим новую сводную таблицу, сгруппированную по столбцам `family_status` и `debt`, где по каждой категории будет отражено общее количество клиентов, взявших кредит (`count`), и количество их долгов по кредитам (`sum`).\n",
    "\n",
    "Используем метод `agg()`."
   ]
  },
  {
   "cell_type": "code",
   "execution_count": 35,
   "metadata": {},
   "outputs": [],
   "source": [
    "data_grouped_by_family_status = data.groupby('family_status').agg({'debt': ['count', 'sum']})"
   ]
  },
  {
   "cell_type": "markdown",
   "metadata": {},
   "source": [
    "Cмотрим на сводную таблицу."
   ]
  },
  {
   "cell_type": "code",
   "execution_count": 36,
   "metadata": {},
   "outputs": [
    {
     "data": {
      "text/html": [
       "<div>\n",
       "<style scoped>\n",
       "    .dataframe tbody tr th:only-of-type {\n",
       "        vertical-align: middle;\n",
       "    }\n",
       "\n",
       "    .dataframe tbody tr th {\n",
       "        vertical-align: top;\n",
       "    }\n",
       "\n",
       "    .dataframe thead tr th {\n",
       "        text-align: left;\n",
       "    }\n",
       "\n",
       "    .dataframe thead tr:last-of-type th {\n",
       "        text-align: right;\n",
       "    }\n",
       "</style>\n",
       "<table border=\"1\" class=\"dataframe\">\n",
       "  <thead>\n",
       "    <tr>\n",
       "      <th></th>\n",
       "      <th colspan=\"2\" halign=\"left\">debt</th>\n",
       "    </tr>\n",
       "    <tr>\n",
       "      <th></th>\n",
       "      <th>count</th>\n",
       "      <th>sum</th>\n",
       "    </tr>\n",
       "    <tr>\n",
       "      <th>family_status</th>\n",
       "      <th></th>\n",
       "      <th></th>\n",
       "    </tr>\n",
       "  </thead>\n",
       "  <tbody>\n",
       "    <tr>\n",
       "      <td>Не женат / не замужем</td>\n",
       "      <td>2810</td>\n",
       "      <td>274</td>\n",
       "    </tr>\n",
       "    <tr>\n",
       "      <td>в разводе</td>\n",
       "      <td>1195</td>\n",
       "      <td>85</td>\n",
       "    </tr>\n",
       "    <tr>\n",
       "      <td>вдовец / вдова</td>\n",
       "      <td>959</td>\n",
       "      <td>63</td>\n",
       "    </tr>\n",
       "    <tr>\n",
       "      <td>гражданский брак</td>\n",
       "      <td>4163</td>\n",
       "      <td>388</td>\n",
       "    </tr>\n",
       "    <tr>\n",
       "      <td>женат / замужем</td>\n",
       "      <td>12344</td>\n",
       "      <td>931</td>\n",
       "    </tr>\n",
       "  </tbody>\n",
       "</table>\n",
       "</div>"
      ],
      "text/plain": [
       "                        debt     \n",
       "                       count  sum\n",
       "family_status                    \n",
       "Не женат / не замужем   2810  274\n",
       "в разводе               1195   85\n",
       "вдовец / вдова           959   63\n",
       "гражданский брак        4163  388\n",
       "женат / замужем        12344  931"
      ]
     },
     "metadata": {},
     "output_type": "display_data"
    }
   ],
   "source": [
    "display(data_grouped_by_family_status)"
   ]
  },
  {
   "cell_type": "markdown",
   "metadata": {},
   "source": [
    "Добавим в сводную таблицу столбец `conversion`, где будет конверсия по должникам: количество должников разделим на общее количество клиентов в каждой категории."
   ]
  },
  {
   "cell_type": "code",
   "execution_count": 37,
   "metadata": {},
   "outputs": [],
   "source": [
    "data_grouped_by_family_status['conversion'] = data_grouped_by_family_status['debt']['sum'] / data_grouped_by_family_status['debt']['count']"
   ]
  },
  {
   "cell_type": "markdown",
   "metadata": {},
   "source": [
    "Отсортируем сводную таблицу методом `sort_values()` по столбцу `conversion` по убыванию (`ascending = False`) и посмотрим на результат."
   ]
  },
  {
   "cell_type": "code",
   "execution_count": 38,
   "metadata": {},
   "outputs": [
    {
     "data": {
      "text/html": [
       "<div>\n",
       "<style scoped>\n",
       "    .dataframe tbody tr th:only-of-type {\n",
       "        vertical-align: middle;\n",
       "    }\n",
       "\n",
       "    .dataframe tbody tr th {\n",
       "        vertical-align: top;\n",
       "    }\n",
       "\n",
       "    .dataframe thead tr th {\n",
       "        text-align: left;\n",
       "    }\n",
       "\n",
       "    .dataframe thead tr:last-of-type th {\n",
       "        text-align: right;\n",
       "    }\n",
       "</style>\n",
       "<table border=\"1\" class=\"dataframe\">\n",
       "  <thead>\n",
       "    <tr>\n",
       "      <th></th>\n",
       "      <th colspan=\"2\" halign=\"left\">debt</th>\n",
       "      <th>conversion</th>\n",
       "    </tr>\n",
       "    <tr>\n",
       "      <th></th>\n",
       "      <th>count</th>\n",
       "      <th>sum</th>\n",
       "      <th></th>\n",
       "    </tr>\n",
       "    <tr>\n",
       "      <th>family_status</th>\n",
       "      <th></th>\n",
       "      <th></th>\n",
       "      <th></th>\n",
       "    </tr>\n",
       "  </thead>\n",
       "  <tbody>\n",
       "    <tr>\n",
       "      <td>Не женат / не замужем</td>\n",
       "      <td>2810</td>\n",
       "      <td>274</td>\n",
       "      <td>0.097509</td>\n",
       "    </tr>\n",
       "    <tr>\n",
       "      <td>гражданский брак</td>\n",
       "      <td>4163</td>\n",
       "      <td>388</td>\n",
       "      <td>0.093202</td>\n",
       "    </tr>\n",
       "    <tr>\n",
       "      <td>женат / замужем</td>\n",
       "      <td>12344</td>\n",
       "      <td>931</td>\n",
       "      <td>0.075421</td>\n",
       "    </tr>\n",
       "    <tr>\n",
       "      <td>в разводе</td>\n",
       "      <td>1195</td>\n",
       "      <td>85</td>\n",
       "      <td>0.071130</td>\n",
       "    </tr>\n",
       "    <tr>\n",
       "      <td>вдовец / вдова</td>\n",
       "      <td>959</td>\n",
       "      <td>63</td>\n",
       "      <td>0.065693</td>\n",
       "    </tr>\n",
       "  </tbody>\n",
       "</table>\n",
       "</div>"
      ],
      "text/plain": [
       "                        debt      conversion\n",
       "                       count  sum           \n",
       "family_status                               \n",
       "Не женат / не замужем   2810  274   0.097509\n",
       "гражданский брак        4163  388   0.093202\n",
       "женат / замужем        12344  931   0.075421\n",
       "в разводе               1195   85   0.071130\n",
       "вдовец / вдова           959   63   0.065693"
      ]
     },
     "metadata": {},
     "output_type": "display_data"
    }
   ],
   "source": [
    "display(data_grouped_by_family_status.sort_values(by = 'conversion', ascending = False))"
   ]
  },
  {
   "cell_type": "markdown",
   "metadata": {},
   "source": [
    "<div id='id-section39'/>\n",
    "\n",
    "### [Вывод](#id-section40)"
   ]
  },
  {
   "cell_type": "markdown",
   "metadata": {},
   "source": [
    "Зависимость между семейным положением и возвратом кредита в срок есть.\n",
    "\n",
    "Самые ненадежные заемщики с наибольшим процентом по задолженности (9% и почти 10%) - это \"неостепенившиеся\" клиенты, живущие в *гражданском браке* или *не имеющие мужей / жен*. Эти клиенты еще не имеют опыта ведения семейного бюджета и не всегда грамотно могут распределять финансовые ресурсы.\n",
    "\n",
    "*Вдовцы* и *вдовы* показывают себя как надежные заемщики, так как, во-первых, это преимущественно поколение пожилых людей, которые очень не любят иметь долги, и всегда избавляются от них в первую очередь. Во-вторых, эти люди имеют опыт проживания с супругом(-ой), что научило их составлять и вести семейный бюджет. Финансовая дисциплина в сочетании с поколенческими чертами характера сформировала ответственных заемщиков.\n",
    "\n",
    "Клиенты, живущие в *семьях* или состоящие *в разводе*, имеют примерно одинаковый процент по задолженности. Это объясняется тем, что в семье у них сформировалась финансовая дисциплина и ответственность, которая помогает им в повседневной жизни и погашении кредита."
   ]
  },
  {
   "cell_type": "markdown",
   "metadata": {},
   "source": [
    "<div id='id-section41'/>\n",
    "\n",
    "### [Изучим, есть ли зависимость между уровнем дохода и возвратом кредита в срок](#id-section42)"
   ]
  },
  {
   "cell_type": "markdown",
   "metadata": {},
   "source": [
    "Мы помним, что в начале нашего исследования мы обратили внимание на то, что в столбце с трудовым стажем были отрицательные значения, это явно бросалось в глаза. Мы решили эту проблему.\n",
    "\n",
    "На всякий случай проверим, есть ли в столбце с доходом `total_income` отрицательные значения. Найдем самое минимальное из всех значений и посмотрим на него."
   ]
  },
  {
   "cell_type": "code",
   "execution_count": 39,
   "metadata": {},
   "outputs": [
    {
     "data": {
      "text/plain": [
       "0"
      ]
     },
     "metadata": {},
     "output_type": "display_data"
    }
   ],
   "source": [
    "display(data['total_income'].min())"
   ]
  },
  {
   "cell_type": "markdown",
   "metadata": {},
   "source": [
    "Все отлично, из минимальных вернулся только 0, а отрицательных значений нет."
   ]
  },
  {
   "cell_type": "markdown",
   "metadata": {},
   "source": [
    "Чтобы оценить разброс в доходах клиентов, теперь посмотрим на максимальный возможный доход."
   ]
  },
  {
   "cell_type": "code",
   "execution_count": 40,
   "metadata": {},
   "outputs": [
    {
     "data": {
      "text/plain": [
       "2265604"
      ]
     },
     "metadata": {},
     "output_type": "display_data"
    }
   ],
   "source": [
    "display(data['total_income'].max())"
   ]
  },
  {
   "cell_type": "markdown",
   "metadata": {},
   "source": [
    "Посмотрим на медианный уровень доходов клиентов. \n",
    "\n",
    "Среднее значение брать некорректно, так как выдающиеся значения отдельных клиентов (например, полученный на этапе выше доход 2 млн.руб.!) исказят картину по доходам для всех остальных, и получится \"средняя температура по больнице\"."
   ]
  },
  {
   "cell_type": "code",
   "execution_count": 41,
   "metadata": {},
   "outputs": [
    {
     "data": {
      "text/plain": [
       "135716.0"
      ]
     },
     "metadata": {},
     "output_type": "display_data"
    }
   ],
   "source": [
    "display(data['total_income'].median())"
   ]
  },
  {
   "cell_type": "markdown",
   "metadata": {},
   "source": [
    "Напишем функцию, которая разделит всех клиентов на категории:\n",
    "\n",
    "- без доходов,\n",
    "- низкий доход,\n",
    "- средний доход (сюда должна войти медиана, равная 135716 руб.),\n",
    "- высокий доход,\n",
    "- очень высокий доход.\n",
    "\n",
    "С такими категориями будет легче и нагляднее представить результат анализа."
   ]
  },
  {
   "cell_type": "code",
   "execution_count": 42,
   "metadata": {},
   "outputs": [],
   "source": [
    "def total_income_into_category(total_income):\n",
    "    if total_income == 0:\n",
    "        return 'без доходов'\n",
    "    if total_income != 0 and total_income <= 40000:\n",
    "        return 'очень низкий доход'\n",
    "    if total_income > 40000 and total_income <= 70000:\n",
    "        return 'низкий доход'\n",
    "    if total_income > 70000 and total_income <= 120000:\n",
    "        return 'доход ниже среднего'\n",
    "    if total_income > 120000 and total_income <= 150000:\n",
    "        return 'средний доход'\n",
    "    if total_income > 150000 and total_income <= 400000:\n",
    "        return 'высокий доход'\n",
    "    else:\n",
    "        return 'очень высокий доход'"
   ]
  },
  {
   "cell_type": "markdown",
   "metadata": {},
   "source": [
    "Создадим в базе данных `data` новый столбец `total_income_category`, в котором будут вышеназванные категории клиетов. Для этого применим написанную нами функцию на столбец `total_income` методом `apply()`."
   ]
  },
  {
   "cell_type": "code",
   "execution_count": 43,
   "metadata": {},
   "outputs": [],
   "source": [
    "data['total_income_category'] = data['total_income'].apply(total_income_into_category)"
   ]
  },
  {
   "cell_type": "markdown",
   "metadata": {},
   "source": [
    "Проверим работу функции. Методом `value_counts` выведем в новом столбце `total_income_category` все получившиеся значения."
   ]
  },
  {
   "cell_type": "code",
   "execution_count": 44,
   "metadata": {},
   "outputs": [
    {
     "data": {
      "text/plain": [
       "высокий доход          8656\n",
       "доход ниже среднего    5371\n",
       "средний доход          3322\n",
       "без доходов            2120\n",
       "низкий доход           1349\n",
       "очень высокий доход     528\n",
       "очень низкий доход      125\n",
       "Name: total_income_category, dtype: int64"
      ]
     },
     "metadata": {},
     "output_type": "display_data"
    }
   ],
   "source": [
    "display(data['total_income_category'].value_counts())"
   ]
  },
  {
   "cell_type": "markdown",
   "metadata": {},
   "source": [
    "Итак, все клиенты с доходами и без разбились на 7 удобных для анализа категорий."
   ]
  },
  {
   "cell_type": "markdown",
   "metadata": {},
   "source": [
    "По аналогии с предыдущими анализами про количество детей и семейное положение, создадим новую сводную таблицу, сгруппированную по столбцам `total_income_category` и `debt`, где по каждой категории будет отражено общее количество клиентов, взявших кредит (`count`), и количество их долгов по кредитам (`sum`).\n",
    "\n",
    "Используем метод `agg()`."
   ]
  },
  {
   "cell_type": "code",
   "execution_count": 45,
   "metadata": {},
   "outputs": [],
   "source": [
    "data_grouped_by_total_income_category = data.groupby('total_income_category').agg({'debt': ['count', 'sum']})"
   ]
  },
  {
   "cell_type": "markdown",
   "metadata": {},
   "source": [
    "Посмотрим на сводную таблицу."
   ]
  },
  {
   "cell_type": "code",
   "execution_count": 46,
   "metadata": {},
   "outputs": [
    {
     "data": {
      "text/html": [
       "<div>\n",
       "<style scoped>\n",
       "    .dataframe tbody tr th:only-of-type {\n",
       "        vertical-align: middle;\n",
       "    }\n",
       "\n",
       "    .dataframe tbody tr th {\n",
       "        vertical-align: top;\n",
       "    }\n",
       "\n",
       "    .dataframe thead tr th {\n",
       "        text-align: left;\n",
       "    }\n",
       "\n",
       "    .dataframe thead tr:last-of-type th {\n",
       "        text-align: right;\n",
       "    }\n",
       "</style>\n",
       "<table border=\"1\" class=\"dataframe\">\n",
       "  <thead>\n",
       "    <tr>\n",
       "      <th></th>\n",
       "      <th colspan=\"2\" halign=\"left\">debt</th>\n",
       "    </tr>\n",
       "    <tr>\n",
       "      <th></th>\n",
       "      <th>count</th>\n",
       "      <th>sum</th>\n",
       "    </tr>\n",
       "    <tr>\n",
       "      <th>total_income_category</th>\n",
       "      <th></th>\n",
       "      <th></th>\n",
       "    </tr>\n",
       "  </thead>\n",
       "  <tbody>\n",
       "    <tr>\n",
       "      <td>без доходов</td>\n",
       "      <td>2120</td>\n",
       "      <td>170</td>\n",
       "    </tr>\n",
       "    <tr>\n",
       "      <td>высокий доход</td>\n",
       "      <td>8656</td>\n",
       "      <td>695</td>\n",
       "    </tr>\n",
       "    <tr>\n",
       "      <td>доход ниже среднего</td>\n",
       "      <td>5371</td>\n",
       "      <td>450</td>\n",
       "    </tr>\n",
       "    <tr>\n",
       "      <td>низкий доход</td>\n",
       "      <td>1349</td>\n",
       "      <td>91</td>\n",
       "    </tr>\n",
       "    <tr>\n",
       "      <td>очень высокий доход</td>\n",
       "      <td>528</td>\n",
       "      <td>31</td>\n",
       "    </tr>\n",
       "    <tr>\n",
       "      <td>очень низкий доход</td>\n",
       "      <td>125</td>\n",
       "      <td>10</td>\n",
       "    </tr>\n",
       "    <tr>\n",
       "      <td>средний доход</td>\n",
       "      <td>3322</td>\n",
       "      <td>294</td>\n",
       "    </tr>\n",
       "  </tbody>\n",
       "</table>\n",
       "</div>"
      ],
      "text/plain": [
       "                       debt     \n",
       "                      count  sum\n",
       "total_income_category           \n",
       "без доходов            2120  170\n",
       "высокий доход          8656  695\n",
       "доход ниже среднего    5371  450\n",
       "низкий доход           1349   91\n",
       "очень высокий доход     528   31\n",
       "очень низкий доход      125   10\n",
       "средний доход          3322  294"
      ]
     },
     "metadata": {},
     "output_type": "display_data"
    }
   ],
   "source": [
    "display(data_grouped_by_total_income_category)"
   ]
  },
  {
   "cell_type": "markdown",
   "metadata": {},
   "source": [
    "Добавим в сводную таблицу столбец `conversion`, где будет конверсия по должникам: количество должников разделим на общее количество клиентов в каждой категории."
   ]
  },
  {
   "cell_type": "code",
   "execution_count": 47,
   "metadata": {},
   "outputs": [],
   "source": [
    "data_grouped_by_total_income_category['conversion'] = data_grouped_by_total_income_category['debt']['sum'] / data_grouped_by_total_income_category['debt']['count']"
   ]
  },
  {
   "cell_type": "markdown",
   "metadata": {},
   "source": [
    "Отсортируем сводную таблицу методом `sort_values()` по столбцу `conversion` по убыванию (`ascending = False`) и посмотрим на результат."
   ]
  },
  {
   "cell_type": "code",
   "execution_count": 48,
   "metadata": {},
   "outputs": [
    {
     "data": {
      "text/html": [
       "<div>\n",
       "<style scoped>\n",
       "    .dataframe tbody tr th:only-of-type {\n",
       "        vertical-align: middle;\n",
       "    }\n",
       "\n",
       "    .dataframe tbody tr th {\n",
       "        vertical-align: top;\n",
       "    }\n",
       "\n",
       "    .dataframe thead tr th {\n",
       "        text-align: left;\n",
       "    }\n",
       "\n",
       "    .dataframe thead tr:last-of-type th {\n",
       "        text-align: right;\n",
       "    }\n",
       "</style>\n",
       "<table border=\"1\" class=\"dataframe\">\n",
       "  <thead>\n",
       "    <tr>\n",
       "      <th></th>\n",
       "      <th colspan=\"2\" halign=\"left\">debt</th>\n",
       "      <th>conversion</th>\n",
       "    </tr>\n",
       "    <tr>\n",
       "      <th></th>\n",
       "      <th>count</th>\n",
       "      <th>sum</th>\n",
       "      <th></th>\n",
       "    </tr>\n",
       "    <tr>\n",
       "      <th>total_income_category</th>\n",
       "      <th></th>\n",
       "      <th></th>\n",
       "      <th></th>\n",
       "    </tr>\n",
       "  </thead>\n",
       "  <tbody>\n",
       "    <tr>\n",
       "      <td>средний доход</td>\n",
       "      <td>3322</td>\n",
       "      <td>294</td>\n",
       "      <td>0.088501</td>\n",
       "    </tr>\n",
       "    <tr>\n",
       "      <td>доход ниже среднего</td>\n",
       "      <td>5371</td>\n",
       "      <td>450</td>\n",
       "      <td>0.083783</td>\n",
       "    </tr>\n",
       "    <tr>\n",
       "      <td>высокий доход</td>\n",
       "      <td>8656</td>\n",
       "      <td>695</td>\n",
       "      <td>0.080291</td>\n",
       "    </tr>\n",
       "    <tr>\n",
       "      <td>без доходов</td>\n",
       "      <td>2120</td>\n",
       "      <td>170</td>\n",
       "      <td>0.080189</td>\n",
       "    </tr>\n",
       "    <tr>\n",
       "      <td>очень низкий доход</td>\n",
       "      <td>125</td>\n",
       "      <td>10</td>\n",
       "      <td>0.080000</td>\n",
       "    </tr>\n",
       "    <tr>\n",
       "      <td>низкий доход</td>\n",
       "      <td>1349</td>\n",
       "      <td>91</td>\n",
       "      <td>0.067457</td>\n",
       "    </tr>\n",
       "    <tr>\n",
       "      <td>очень высокий доход</td>\n",
       "      <td>528</td>\n",
       "      <td>31</td>\n",
       "      <td>0.058712</td>\n",
       "    </tr>\n",
       "  </tbody>\n",
       "</table>\n",
       "</div>"
      ],
      "text/plain": [
       "                       debt      conversion\n",
       "                      count  sum           \n",
       "total_income_category                      \n",
       "средний доход          3322  294   0.088501\n",
       "доход ниже среднего    5371  450   0.083783\n",
       "высокий доход          8656  695   0.080291\n",
       "без доходов            2120  170   0.080189\n",
       "очень низкий доход      125   10   0.080000\n",
       "низкий доход           1349   91   0.067457\n",
       "очень высокий доход     528   31   0.058712"
      ]
     },
     "metadata": {},
     "output_type": "display_data"
    }
   ],
   "source": [
    "display(data_grouped_by_total_income_category.sort_values(by = 'conversion', ascending = False))"
   ]
  },
  {
   "cell_type": "markdown",
   "metadata": {},
   "source": [
    "<div id='id-section43'/>\n",
    "\n",
    "### [Вывод](#id-section44)"
   ]
  },
  {
   "cell_type": "markdown",
   "metadata": {},
   "source": [
    "Вывод и логичный, и удивительный одновременно. Зависимость между уровнем дохода и возвратом кредита в срок, безусловно, существует.\n",
    "\n",
    "Самые надежные заемщики - клиенты с *очень высоким* уровнем дохода. Это понятно, ведь когда у тебя в распоряжении много денег, ты без проблем и вовремя выполняешь все свои финансовые обязательства. \n",
    "\n",
    "Но далее по степени надежности идут клиенты с *низким доходом*. Думаем, это все благодаря их дисциплине и стремлению поскорее избавиться от долга, чтобы сбросить с себя этот груз и \"вздохнуть свободно\".\n",
    "\n",
    "Все остальные категории клиентов (включая и тех, кто вообще *без доходов*) имеют примерно одинаковый процент задолженности. Мы полагаем, что клиенты, которые не имеют дохода, обращаются за помощью в погашении кредита к третьим лицам.  "
   ]
  },
  {
   "cell_type": "markdown",
   "metadata": {},
   "source": [
    "<div id='id-section45'/>\n",
    "\n",
    "### [Узнаем, как разные цели кредита влияют на его возврат в срок](#id-section46)"
   ]
  },
  {
   "cell_type": "markdown",
   "metadata": {},
   "source": [
    "Ранее с помощью лемматизации, категоризации и наложения словарика `dict_category` на большую базу данных `data` мы уже получили отдельный столбец `purpose_category`, в котором каждой цели кредита присвоена категория.\n",
    "\n",
    "По аналогии с предыдущими анализами про количество детей, семейное положение и уровень дохода создадим новую сводную таблицу, сгруппированную по столбцам `purpose_category` и `debt`, где по каждой категории будет отражено общее количество клиентов, взявших кредит (`count`), и количество их долгов по кредитам (`sum`).\n",
    "\n",
    "Используем метод `agg()`."
   ]
  },
  {
   "cell_type": "code",
   "execution_count": 49,
   "metadata": {},
   "outputs": [],
   "source": [
    "data_grouped_by_purpose_category = data.groupby('purpose_category').agg({'debt': ['count', 'sum']})"
   ]
  },
  {
   "cell_type": "markdown",
   "metadata": {},
   "source": [
    "Посмотрим на сводную таблицу."
   ]
  },
  {
   "cell_type": "code",
   "execution_count": 50,
   "metadata": {},
   "outputs": [
    {
     "data": {
      "text/html": [
       "<div>\n",
       "<style scoped>\n",
       "    .dataframe tbody tr th:only-of-type {\n",
       "        vertical-align: middle;\n",
       "    }\n",
       "\n",
       "    .dataframe tbody tr th {\n",
       "        vertical-align: top;\n",
       "    }\n",
       "\n",
       "    .dataframe thead tr th {\n",
       "        text-align: left;\n",
       "    }\n",
       "\n",
       "    .dataframe thead tr:last-of-type th {\n",
       "        text-align: right;\n",
       "    }\n",
       "</style>\n",
       "<table border=\"1\" class=\"dataframe\">\n",
       "  <thead>\n",
       "    <tr>\n",
       "      <th></th>\n",
       "      <th colspan=\"2\" halign=\"left\">debt</th>\n",
       "    </tr>\n",
       "    <tr>\n",
       "      <th></th>\n",
       "      <th>count</th>\n",
       "      <th>sum</th>\n",
       "    </tr>\n",
       "    <tr>\n",
       "      <th>purpose_category</th>\n",
       "      <th></th>\n",
       "      <th></th>\n",
       "    </tr>\n",
       "  </thead>\n",
       "  <tbody>\n",
       "    <tr>\n",
       "      <td>автомобиль</td>\n",
       "      <td>4308</td>\n",
       "      <td>403</td>\n",
       "    </tr>\n",
       "    <tr>\n",
       "      <td>недвижимость</td>\n",
       "      <td>10814</td>\n",
       "      <td>782</td>\n",
       "    </tr>\n",
       "    <tr>\n",
       "      <td>образование</td>\n",
       "      <td>4014</td>\n",
       "      <td>370</td>\n",
       "    </tr>\n",
       "    <tr>\n",
       "      <td>свадьба</td>\n",
       "      <td>2335</td>\n",
       "      <td>186</td>\n",
       "    </tr>\n",
       "  </tbody>\n",
       "</table>\n",
       "</div>"
      ],
      "text/plain": [
       "                   debt     \n",
       "                  count  sum\n",
       "purpose_category            \n",
       "автомобиль         4308  403\n",
       "недвижимость      10814  782\n",
       "образование        4014  370\n",
       "свадьба            2335  186"
      ]
     },
     "metadata": {},
     "output_type": "display_data"
    }
   ],
   "source": [
    "display(data_grouped_by_purpose_category)"
   ]
  },
  {
   "cell_type": "markdown",
   "metadata": {},
   "source": [
    "Добавим в сводную таблицу столбец `conversion`, где будет конверсия по должникам: количество должников разделим на общее количество клиентов в каждой категории."
   ]
  },
  {
   "cell_type": "code",
   "execution_count": 51,
   "metadata": {},
   "outputs": [],
   "source": [
    "data_grouped_by_purpose_category['conversion'] = data_grouped_by_purpose_category['debt']['sum'] / data_grouped_by_purpose_category['debt']['count']"
   ]
  },
  {
   "cell_type": "markdown",
   "metadata": {},
   "source": [
    "Отсортируем сводную таблицу методом `sort_values()` по столбцу `conversion` по убыванию (`ascending = False`) и посмотрим на результат."
   ]
  },
  {
   "cell_type": "code",
   "execution_count": 52,
   "metadata": {},
   "outputs": [
    {
     "data": {
      "text/html": [
       "<div>\n",
       "<style scoped>\n",
       "    .dataframe tbody tr th:only-of-type {\n",
       "        vertical-align: middle;\n",
       "    }\n",
       "\n",
       "    .dataframe tbody tr th {\n",
       "        vertical-align: top;\n",
       "    }\n",
       "\n",
       "    .dataframe thead tr th {\n",
       "        text-align: left;\n",
       "    }\n",
       "\n",
       "    .dataframe thead tr:last-of-type th {\n",
       "        text-align: right;\n",
       "    }\n",
       "</style>\n",
       "<table border=\"1\" class=\"dataframe\">\n",
       "  <thead>\n",
       "    <tr>\n",
       "      <th></th>\n",
       "      <th colspan=\"2\" halign=\"left\">debt</th>\n",
       "      <th>conversion</th>\n",
       "    </tr>\n",
       "    <tr>\n",
       "      <th></th>\n",
       "      <th>count</th>\n",
       "      <th>sum</th>\n",
       "      <th></th>\n",
       "    </tr>\n",
       "    <tr>\n",
       "      <th>purpose_category</th>\n",
       "      <th></th>\n",
       "      <th></th>\n",
       "      <th></th>\n",
       "    </tr>\n",
       "  </thead>\n",
       "  <tbody>\n",
       "    <tr>\n",
       "      <td>автомобиль</td>\n",
       "      <td>4308</td>\n",
       "      <td>403</td>\n",
       "      <td>0.093547</td>\n",
       "    </tr>\n",
       "    <tr>\n",
       "      <td>образование</td>\n",
       "      <td>4014</td>\n",
       "      <td>370</td>\n",
       "      <td>0.092177</td>\n",
       "    </tr>\n",
       "    <tr>\n",
       "      <td>свадьба</td>\n",
       "      <td>2335</td>\n",
       "      <td>186</td>\n",
       "      <td>0.079657</td>\n",
       "    </tr>\n",
       "    <tr>\n",
       "      <td>недвижимость</td>\n",
       "      <td>10814</td>\n",
       "      <td>782</td>\n",
       "      <td>0.072314</td>\n",
       "    </tr>\n",
       "  </tbody>\n",
       "</table>\n",
       "</div>"
      ],
      "text/plain": [
       "                   debt      conversion\n",
       "                  count  sum           \n",
       "purpose_category                       \n",
       "автомобиль         4308  403   0.093547\n",
       "образование        4014  370   0.092177\n",
       "свадьба            2335  186   0.079657\n",
       "недвижимость      10814  782   0.072314"
      ]
     },
     "metadata": {},
     "output_type": "display_data"
    }
   ],
   "source": [
    "display(data_grouped_by_purpose_category.sort_values(by = 'conversion', ascending = False))"
   ]
  },
  {
   "cell_type": "markdown",
   "metadata": {},
   "source": [
    "<div id='id-section47'/>\n",
    "\n",
    "### [Вывод](#id-section48)"
   ]
  },
  {
   "cell_type": "markdown",
   "metadata": {},
   "source": [
    "Разные цели кредита по-разному влияют на его возврат в срок.\n",
    "\n",
    "Мы увидели, что самая надежная категория клиентов, у которых меньше всего процент по задолженности, - это те клиенты, которые взяли кредит на *недвижимость* и *свадьбу*. Эти цели фундаментальны, они требуют от клиентов осмысленного решения, предварительного совета с членами семьи (например, на свадьбу взять кредит, не заручившись согласием будущего супруга(-и), практически невозможно). И раз уж клиент все взвесил и решил взять кредит на эти цели, но он впоследствии ответственно его погашает.\n",
    "\n",
    "Более высокий процент по задолженности для кредитов, взятых на *автомобиль* и *образование*, может быть связан с импульсивными решениями клиентов. Они не очень хорошо осмысливают, так ли им нужен дорогой автомобиль или диплом известного ВУЗа, достаточно ли финансовых ресурсов для погашения кредита - вследствие чего, они не всегда исправно отдают долги. "
   ]
  },
  {
   "cell_type": "code",
   "execution_count": 64,
   "metadata": {},
   "outputs": [
    {
     "data": {
      "text/plain": [
       "<matplotlib.axes._subplots.AxesSubplot at 0x7ff9e73a1b50>"
      ]
     },
     "execution_count": 64,
     "metadata": {},
     "output_type": "execute_result"
    },
    {
     "data": {
      "image/png": "[encoded data removed]",
      "text/plain": [
       "<Figure size 1080x576 with 1 Axes>"
      ]
     },
     "metadata": {
      "needs_background": "light"
     },
     "output_type": "display_data"
    }
   ],
   "source": [
    "data_grouped_by_purpose_category['conversion'].plot(kind='bar', figsize=(15,8), \n",
    "                                                    title='Категории целей кредитов')"
   ]
  },
  {
   "cell_type": "markdown",
   "metadata": {},
   "source": [
    "<div id='id-section49'/>\n",
    "\n",
    "## [Шаг 4. Общий вывод](#id-section50)"
   ]
  },
  {
   "cell_type": "markdown",
   "metadata": {},
   "source": [
    "Исследование позволило нам сформулировать, по каким критериям можно определить *самых надежных* заемщиков (то есть тех клиентов, которые взяли кредит и вовремя его погасили, редко допуская просрочки):\n",
    "- у них нет детей,\n",
    "- овдовевшие,\n",
    "- с очень высоким уровнем дохода (больше 400 тыс.руб. в месяц), \n",
    "- берут кредит для проведения операций с недвижимостью или для организации свадьбы.\n",
    "\n",
    "\n",
    "Заемщики, которые чаще допускают просрочки по выплате кредита, соответствуют таким критериям:\n",
    "- у них 1 ребенок или 2 детей,\n",
    "- не состоят в официальном браке,\n",
    "- берут кредит на автомобиль или образование."
   ]
  }
 ],
 "metadata": {
  "kernelspec": {
   "display_name": "Python 3",
   "language": "python",
   "name": "python3"
  },
  "language_info": {
   "codemirror_mode": {
    "name": "ipython",
    "version": 3
   },
   "file_extension": ".py",
   "mimetype": "text/x-python",
   "name": "python",
   "nbconvert_exporter": "python",
   "pygments_lexer": "ipython3",
   "version": "3.8.3"
  }
 },
 "nbformat": 4,
 "nbformat_minor": 2
}
